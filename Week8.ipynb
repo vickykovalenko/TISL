{
 "cells": [
  {
   "cell_type": "code",
   "execution_count": 13,
   "id": "59d65687",
   "metadata": {},
   "outputs": [
    {
     "name": "stdout",
     "output_type": "stream",
     "text": [
      "1483\n"
     ]
    }
   ],
   "source": [
    "import os\n",
    "\n",
    "print(len(os.listdir(r\"/home/igor/Desktop/Victoria/tisl/tisl_localization_22s_copy-main/3rscan\")))"
   ]
  },
  {
   "cell_type": "code",
   "execution_count": 1,
   "id": "9985e60e",
   "metadata": {},
   "outputs": [],
   "source": [
    "from __future__ import print_function\n",
    "import random\n",
    "from os.path import join, isfile\n",
    "\n",
    "import torch\n",
    "import torch.nn as nn\n",
    "import torchvision.transforms as transforms\n",
    "from PIL import Image\n",
    "import torchvision.models as models\n",
    "import numpy as np\n",
    "import netvlad\n",
    "import os\n",
    "\n",
    "import pickle as pk\n",
    "\n",
    "from PIL import Image"
   ]
  },
  {
   "cell_type": "code",
   "execution_count": 2,
   "id": "1629372b",
   "metadata": {},
   "outputs": [],
   "source": [
    "import os\n",
    "import itertools\n",
    "from zipfile import ZipFile\n",
    "from pathlib import Path\n",
    "import random"
   ]
  },
  {
   "cell_type": "code",
   "execution_count": 3,
   "id": "44eeda9d",
   "metadata": {},
   "outputs": [],
   "source": [
    "def VLAD_for_single_image(img):\n",
    "    cuda = False\n",
    "    if cuda and not torch.cuda.is_available():\n",
    "        raise Exception(\"No GPU found, please run with --nocuda\")\n",
    "\n",
    "    device = torch.device(\"cuda\" if cuda else \"cpu\")\n",
    "\n",
    "    default_seed = 123\n",
    "    random.seed(default_seed)\n",
    "    np.random.seed(default_seed)\n",
    "    torch.manual_seed(default_seed)\n",
    "    if cuda:\n",
    "        torch.cuda.manual_seed(default_seed)\n",
    "\n",
    "    print('===> Loading data')\n",
    "    preprocess = transforms.Compose([\n",
    "        transforms.ToTensor(),\n",
    "        transforms.Normalize(mean=[0.485, 0.456, 0.406],\n",
    "                               std=[0.229, 0.224, 0.225]),\n",
    "    ])\n",
    "    input = preprocess(img)\n",
    "    input = input.unsqueeze(0)\n",
    "    print('Input image shape: {}'.format(input.shape))\n",
    "\n",
    "    print('===> Building model')\n",
    "\n",
    "    pretrained = True\n",
    "\n",
    "    encoder_dim = 512\n",
    "    encoder = models.vgg16(pretrained=pretrained)\n",
    "    # capture only feature part and remove last relu and maxpool\n",
    "    layers = list(encoder.features.children())[:-2]\n",
    "\n",
    "    if pretrained:\n",
    "        # if using pretrained then only train conv5_1, conv5_2, and conv5_3\n",
    "        for l in layers[:-5]: \n",
    "            for p in l.parameters():\n",
    "                p.requires_grad = False\n",
    "\n",
    "\n",
    "    encoder = nn.Sequential(*layers)\n",
    "    model = nn.Module() \n",
    "    model.add_module('encoder', encoder)\n",
    "\n",
    "    default_num_clusters = 64\n",
    "    defauly_vladv2 = False\n",
    "    print('NetVLAD setting:\\nnum_clusters: {} dim: {} vladv2: {}'.format(default_num_clusters, encoder_dim, defauly_vladv2))\n",
    "    net_vlad = netvlad.NetVLAD(num_clusters=default_num_clusters, dim=encoder_dim, vladv2=defauly_vladv2)\n",
    "    model.add_module('pool', net_vlad)\n",
    "\n",
    "    checkpoint_path = 'vgg16_netvlad_checkpoint'\n",
    "    resume_ckpt = join(checkpoint_path, 'checkpoints', 'checkpoint.pth.tar')\n",
    "\n",
    "    if isfile(resume_ckpt):\n",
    "        print(\"=> loading checkpoint '{}'\".format(resume_ckpt))\n",
    "        checkpoint = torch.load(resume_ckpt, map_location=lambda storage, loc: storage)\n",
    "        start_epoch = checkpoint['epoch']\n",
    "        best_metric = checkpoint['best_score']\n",
    "        model.load_state_dict(checkpoint['state_dict'])\n",
    "        model = model.to(device)\n",
    "        print(\"=> loaded checkpoint '{}' (epoch {})\"\n",
    "                .format(resume_ckpt, checkpoint['epoch']))\n",
    "    else:\n",
    "        print(\"=> no checkpoint found at '{}'\".format(resume_ckpt))\n",
    "\n",
    "    print('===> Running evaluation step')\n",
    "    model.eval()\n",
    "    with torch.no_grad():\n",
    "        input = input.to(device)\n",
    "        image_encoding = model.encoder(input)\n",
    "        vlad_encoding = model.pool(image_encoding) \n",
    "    print('VLAD encoding: {}'.format(vlad_encoding))\n",
    "    print('VLAD encoding shape: {}'.format(vlad_encoding.shape))\n",
    "    return vlad_encoding"
   ]
  },
  {
   "cell_type": "code",
   "execution_count": 4,
   "id": "c9e119a8",
   "metadata": {},
   "outputs": [],
   "source": [
    "def get_subdirectories_names_list(path_to_directory):\n",
    "    subdirectories_names_list = []\n",
    "    for root, subdirectories, files in os.walk(path_to_directory):\n",
    "        for image_subdirectory in subdirectories:\n",
    "            subdirectories_names_list.append(image_subdirectory)\n",
    "    return subdirectories_names_list"
   ]
  },
  {
   "cell_type": "code",
   "execution_count": 5,
   "id": "b67df19d",
   "metadata": {},
   "outputs": [],
   "source": [
    "def get_corresponding_position_file_path_to_a_frame_path(path_to_random_frame):\n",
    "    frame_name_with_extension = os.path.basename(path_to_random_frame)\n",
    "    frame_name_without_extension = os.path.splitext(frame_name_with_extension)[0]\n",
    "    frame_number = os.path.splitext(frame_name_without_extension)[0]\n",
    "    dir_name_to_frame = os.path.dirname(path_to_random_frame)\n",
    "    position_file_path = dir_name_to_frame + \"/\" + frame_number + \".pose.txt\"\n",
    "    return position_file_path"
   ]
  },
  {
   "cell_type": "code",
   "execution_count": 6,
   "id": "28c93258",
   "metadata": {},
   "outputs": [],
   "source": [
    "def get_pathes_to_random_frames(image_directory):\n",
    "    path_to_frames_list = []\n",
    "    for image_root, image_subdirectories, image_files in os.walk(image_directory):\n",
    "        image_files.sort()\n",
    "        for image_file in image_files:\n",
    "            if 'jpg' in image_file:\n",
    "                path_to_the_frame = image_directory + \"/\" + image_file\n",
    "                path_to_frames_list.append(path_to_the_frame)\n",
    "    number_of_random_frames = 50\n",
    "    if len(path_to_frames_list)>50:\n",
    "        pathes_to_random_frames = random.sample(path_to_frames_list, number_of_random_frames)\n",
    "        return pathes_to_random_frames\n",
    "    else:\n",
    "        return path_to_frames_list"
   ]
  },
  {
   "cell_type": "code",
   "execution_count": 7,
   "id": "2abd6e58",
   "metadata": {},
   "outputs": [],
   "source": [
    "def write_into_txt_file_frame_position_and_frame_embedding(path_to_directory, path_to_random_frame, pca_reload):\n",
    "    path_to_frame_position = get_corresponding_position_file_path_to_a_frame_path(path_to_random_frame)\n",
    "    image_subdirectory = path_to_random_frame.split(\"/\")[-2]\n",
    "    embedding_path = path_to_directory + \"/\" + f\"{image_subdirectory}.txt\"\n",
    "    embedding_file = open(embedding_path,'a')\n",
    "    position_matrix = np.loadtxt(path_to_frame_position)\n",
    "    position = torch.from_numpy(position_matrix[0:3, -1])\n",
    "    frame_position_numpy = position.cpu().detach().numpy()\n",
    "    np.savetxt(embedding_file, frame_position_numpy, fmt='%1.8f', newline = \" \")\n",
    "    print(\"Saved frame_position_numpy to embedding_file: \", embedding_file)\n",
    "    frame = Image.open(path_to_random_frame)\n",
    "    frame_vlad_embedding = VLAD_for_single_image(frame)\n",
    "    frame_vlad_embedding_pca = pca_reload.transform(frame_vlad_embedding)\n",
    "    np.savetxt(embedding_file, frame_vlad_embedding_pca, fmt='%1.8f', delimiter=' ')\n",
    "    print(\"Saved frame_vlad_embedding_pca to embedding_file: \", embedding_file)\n",
    "    embedding_file.close()"
   ]
  },
  {
   "cell_type": "code",
   "execution_count": 8,
   "id": "3667cb18",
   "metadata": {},
   "outputs": [],
   "source": [
    "def write_into_txt_file_all_files(path_to_directory):\n",
    "    pca_reload = pk.load(open(\"pca2.pkl\",'rb'))\n",
    "    rscan_subdirectories_list = get_subdirectories_names_list(path_to_directory)\n",
    "    #rscan_subdirectories_list_train = rscan_subdirectories_list[:1]\n",
    "    count = 0\n",
    "    for rscan_subdirectory in rscan_subdirectories_list:\n",
    "        print(f'processing {count}/{len(rscan_subdirectories_list)}')\n",
    "        image_subdirectory = path_to_directory + \"/\" + rscan_subdirectory\n",
    "        pathes_to_random_frames = get_pathes_to_random_frames(image_subdirectory)\n",
    "        pathes_to_random_frames.sort()\n",
    "        for path_to_random_frame in pathes_to_random_frames:\n",
    "            print('path_to_random_frame: ', path_to_random_frame)\n",
    "            write_into_txt_file_frame_position_and_frame_embedding(path_to_directory, path_to_random_frame, pca_reload)\n",
    "    return pathes_to_random_frames"
   ]
  },
  {
   "cell_type": "code",
   "execution_count": 9,
   "id": "57896355",
   "metadata": {},
   "outputs": [
    {
     "name": "stdout",
     "output_type": "stream",
     "text": [
      "processing 0/8\n",
      "path_to_random_frame:  /home/igor/Desktop/Victoria/tisl/tisl_localization_22s_copy-main/rscan_test/02b33df9-be2b-2d54-9062-1253be3ce186/frame-000002.color.jpg\n",
      "Saved frame_position_numpy to embedding_file:  <_io.TextIOWrapper name='/home/igor/Desktop/Victoria/tisl/tisl_localization_22s_copy-main/rscan_test/02b33df9-be2b-2d54-9062-1253be3ce186.txt' mode='a' encoding='UTF-8'>\n",
      "===> Loading data\n",
      "Input image shape: torch.Size([1, 3, 540, 960])\n",
      "===> Building model\n"
     ]
    },
    {
     "name": "stderr",
     "output_type": "stream",
     "text": [
      "/home/igor/anaconda3/lib/python3.9/site-packages/torchvision/models/_utils.py:208: UserWarning: The parameter 'pretrained' is deprecated since 0.13 and will be removed in 0.15, please use 'weights' instead.\n",
      "  warnings.warn(\n",
      "/home/igor/anaconda3/lib/python3.9/site-packages/torchvision/models/_utils.py:223: UserWarning: Arguments other than a weight enum or `None` for 'weights' are deprecated since 0.13 and will be removed in 0.15. The current behavior is equivalent to passing `weights=VGG16_Weights.IMAGENET1K_V1`. You can also use `weights=VGG16_Weights.DEFAULT` to get the most up-to-date weights.\n",
      "  warnings.warn(msg)\n"
     ]
    },
    {
     "name": "stdout",
     "output_type": "stream",
     "text": [
      "NetVLAD setting:\n",
      "num_clusters: 64 dim: 512 vladv2: False\n",
      "=> loading checkpoint 'vgg16_netvlad_checkpoint/checkpoints/checkpoint.pth.tar'\n",
      "=> loaded checkpoint 'vgg16_netvlad_checkpoint/checkpoints/checkpoint.pth.tar' (epoch 25)\n",
      "===> Running evaluation step\n",
      "VLAD encoding: tensor([[ 0.0021,  0.0045,  0.0033,  ...,  0.0126,  0.0114, -0.0016]])\n",
      "VLAD encoding shape: torch.Size([1, 32768])\n",
      "Saved frame_vlad_embedding_pca to embedding_file:  <_io.TextIOWrapper name='/home/igor/Desktop/Victoria/tisl/tisl_localization_22s_copy-main/rscan_test/02b33df9-be2b-2d54-9062-1253be3ce186.txt' mode='a' encoding='UTF-8'>\n",
      "path_to_random_frame:  /home/igor/Desktop/Victoria/tisl/tisl_localization_22s_copy-main/rscan_test/02b33df9-be2b-2d54-9062-1253be3ce186/frame-000003.color.jpg\n",
      "Saved frame_position_numpy to embedding_file:  <_io.TextIOWrapper name='/home/igor/Desktop/Victoria/tisl/tisl_localization_22s_copy-main/rscan_test/02b33df9-be2b-2d54-9062-1253be3ce186.txt' mode='a' encoding='UTF-8'>\n",
      "===> Loading data\n",
      "Input image shape: torch.Size([1, 3, 540, 960])\n",
      "===> Building model\n"
     ]
    },
    {
     "name": "stderr",
     "output_type": "stream",
     "text": [
      "/home/igor/anaconda3/lib/python3.9/site-packages/torchvision/models/_utils.py:208: UserWarning: The parameter 'pretrained' is deprecated since 0.13 and will be removed in 0.15, please use 'weights' instead.\n",
      "  warnings.warn(\n",
      "/home/igor/anaconda3/lib/python3.9/site-packages/torchvision/models/_utils.py:223: UserWarning: Arguments other than a weight enum or `None` for 'weights' are deprecated since 0.13 and will be removed in 0.15. The current behavior is equivalent to passing `weights=VGG16_Weights.IMAGENET1K_V1`. You can also use `weights=VGG16_Weights.DEFAULT` to get the most up-to-date weights.\n",
      "  warnings.warn(msg)\n"
     ]
    },
    {
     "name": "stdout",
     "output_type": "stream",
     "text": [
      "NetVLAD setting:\n",
      "num_clusters: 64 dim: 512 vladv2: False\n",
      "=> loading checkpoint 'vgg16_netvlad_checkpoint/checkpoints/checkpoint.pth.tar'\n",
      "=> loaded checkpoint 'vgg16_netvlad_checkpoint/checkpoints/checkpoint.pth.tar' (epoch 25)\n",
      "===> Running evaluation step\n",
      "VLAD encoding: tensor([[-0.0011,  0.0006,  0.0032,  ...,  0.0108,  0.0090,  0.0009]])\n",
      "VLAD encoding shape: torch.Size([1, 32768])\n",
      "Saved frame_vlad_embedding_pca to embedding_file:  <_io.TextIOWrapper name='/home/igor/Desktop/Victoria/tisl/tisl_localization_22s_copy-main/rscan_test/02b33df9-be2b-2d54-9062-1253be3ce186.txt' mode='a' encoding='UTF-8'>\n",
      "path_to_random_frame:  /home/igor/Desktop/Victoria/tisl/tisl_localization_22s_copy-main/rscan_test/02b33df9-be2b-2d54-9062-1253be3ce186/frame-000005.color.jpg\n",
      "Saved frame_position_numpy to embedding_file:  <_io.TextIOWrapper name='/home/igor/Desktop/Victoria/tisl/tisl_localization_22s_copy-main/rscan_test/02b33df9-be2b-2d54-9062-1253be3ce186.txt' mode='a' encoding='UTF-8'>\n",
      "===> Loading data\n",
      "Input image shape: torch.Size([1, 3, 540, 960])\n",
      "===> Building model\n"
     ]
    },
    {
     "name": "stderr",
     "output_type": "stream",
     "text": [
      "/home/igor/anaconda3/lib/python3.9/site-packages/torchvision/models/_utils.py:208: UserWarning: The parameter 'pretrained' is deprecated since 0.13 and will be removed in 0.15, please use 'weights' instead.\n",
      "  warnings.warn(\n",
      "/home/igor/anaconda3/lib/python3.9/site-packages/torchvision/models/_utils.py:223: UserWarning: Arguments other than a weight enum or `None` for 'weights' are deprecated since 0.13 and will be removed in 0.15. The current behavior is equivalent to passing `weights=VGG16_Weights.IMAGENET1K_V1`. You can also use `weights=VGG16_Weights.DEFAULT` to get the most up-to-date weights.\n",
      "  warnings.warn(msg)\n"
     ]
    },
    {
     "name": "stdout",
     "output_type": "stream",
     "text": [
      "NetVLAD setting:\n",
      "num_clusters: 64 dim: 512 vladv2: False\n",
      "=> loading checkpoint 'vgg16_netvlad_checkpoint/checkpoints/checkpoint.pth.tar'\n",
      "=> loaded checkpoint 'vgg16_netvlad_checkpoint/checkpoints/checkpoint.pth.tar' (epoch 25)\n",
      "===> Running evaluation step\n",
      "VLAD encoding: tensor([[ 0.0014, -0.0003,  0.0039,  ...,  0.0084,  0.0038, -0.0042]])\n",
      "VLAD encoding shape: torch.Size([1, 32768])\n",
      "Saved frame_vlad_embedding_pca to embedding_file:  <_io.TextIOWrapper name='/home/igor/Desktop/Victoria/tisl/tisl_localization_22s_copy-main/rscan_test/02b33df9-be2b-2d54-9062-1253be3ce186.txt' mode='a' encoding='UTF-8'>\n",
      "path_to_random_frame:  /home/igor/Desktop/Victoria/tisl/tisl_localization_22s_copy-main/rscan_test/02b33df9-be2b-2d54-9062-1253be3ce186/frame-000007.color.jpg\n",
      "Saved frame_position_numpy to embedding_file:  <_io.TextIOWrapper name='/home/igor/Desktop/Victoria/tisl/tisl_localization_22s_copy-main/rscan_test/02b33df9-be2b-2d54-9062-1253be3ce186.txt' mode='a' encoding='UTF-8'>\n",
      "===> Loading data\n",
      "Input image shape: torch.Size([1, 3, 540, 960])\n",
      "===> Building model\n"
     ]
    },
    {
     "name": "stderr",
     "output_type": "stream",
     "text": [
      "/home/igor/anaconda3/lib/python3.9/site-packages/torchvision/models/_utils.py:208: UserWarning: The parameter 'pretrained' is deprecated since 0.13 and will be removed in 0.15, please use 'weights' instead.\n",
      "  warnings.warn(\n",
      "/home/igor/anaconda3/lib/python3.9/site-packages/torchvision/models/_utils.py:223: UserWarning: Arguments other than a weight enum or `None` for 'weights' are deprecated since 0.13 and will be removed in 0.15. The current behavior is equivalent to passing `weights=VGG16_Weights.IMAGENET1K_V1`. You can also use `weights=VGG16_Weights.DEFAULT` to get the most up-to-date weights.\n",
      "  warnings.warn(msg)\n"
     ]
    },
    {
     "name": "stdout",
     "output_type": "stream",
     "text": [
      "NetVLAD setting:\n",
      "num_clusters: 64 dim: 512 vladv2: False\n",
      "=> loading checkpoint 'vgg16_netvlad_checkpoint/checkpoints/checkpoint.pth.tar'\n",
      "=> loaded checkpoint 'vgg16_netvlad_checkpoint/checkpoints/checkpoint.pth.tar' (epoch 25)\n",
      "===> Running evaluation step\n",
      "VLAD encoding: tensor([[ 0.0029, -0.0010,  0.0061,  ...,  0.0110,  0.0052, -0.0051]])\n",
      "VLAD encoding shape: torch.Size([1, 32768])\n",
      "Saved frame_vlad_embedding_pca to embedding_file:  <_io.TextIOWrapper name='/home/igor/Desktop/Victoria/tisl/tisl_localization_22s_copy-main/rscan_test/02b33df9-be2b-2d54-9062-1253be3ce186.txt' mode='a' encoding='UTF-8'>\n",
      "path_to_random_frame:  /home/igor/Desktop/Victoria/tisl/tisl_localization_22s_copy-main/rscan_test/02b33df9-be2b-2d54-9062-1253be3ce186/frame-000010.color.jpg\n",
      "Saved frame_position_numpy to embedding_file:  <_io.TextIOWrapper name='/home/igor/Desktop/Victoria/tisl/tisl_localization_22s_copy-main/rscan_test/02b33df9-be2b-2d54-9062-1253be3ce186.txt' mode='a' encoding='UTF-8'>\n",
      "===> Loading data\n",
      "Input image shape: torch.Size([1, 3, 540, 960])\n",
      "===> Building model\n"
     ]
    },
    {
     "name": "stderr",
     "output_type": "stream",
     "text": [
      "/home/igor/anaconda3/lib/python3.9/site-packages/torchvision/models/_utils.py:208: UserWarning: The parameter 'pretrained' is deprecated since 0.13 and will be removed in 0.15, please use 'weights' instead.\n",
      "  warnings.warn(\n",
      "/home/igor/anaconda3/lib/python3.9/site-packages/torchvision/models/_utils.py:223: UserWarning: Arguments other than a weight enum or `None` for 'weights' are deprecated since 0.13 and will be removed in 0.15. The current behavior is equivalent to passing `weights=VGG16_Weights.IMAGENET1K_V1`. You can also use `weights=VGG16_Weights.DEFAULT` to get the most up-to-date weights.\n",
      "  warnings.warn(msg)\n"
     ]
    },
    {
     "name": "stdout",
     "output_type": "stream",
     "text": [
      "NetVLAD setting:\n",
      "num_clusters: 64 dim: 512 vladv2: False\n",
      "=> loading checkpoint 'vgg16_netvlad_checkpoint/checkpoints/checkpoint.pth.tar'\n",
      "=> loaded checkpoint 'vgg16_netvlad_checkpoint/checkpoints/checkpoint.pth.tar' (epoch 25)\n",
      "===> Running evaluation step\n",
      "VLAD encoding: tensor([[ 0.0060,  0.0001,  0.0063,  ...,  0.0095,  0.0024, -0.0020]])\n",
      "VLAD encoding shape: torch.Size([1, 32768])\n",
      "Saved frame_vlad_embedding_pca to embedding_file:  <_io.TextIOWrapper name='/home/igor/Desktop/Victoria/tisl/tisl_localization_22s_copy-main/rscan_test/02b33df9-be2b-2d54-9062-1253be3ce186.txt' mode='a' encoding='UTF-8'>\n",
      "path_to_random_frame:  /home/igor/Desktop/Victoria/tisl/tisl_localization_22s_copy-main/rscan_test/02b33df9-be2b-2d54-9062-1253be3ce186/frame-000013.color.jpg\n",
      "Saved frame_position_numpy to embedding_file:  <_io.TextIOWrapper name='/home/igor/Desktop/Victoria/tisl/tisl_localization_22s_copy-main/rscan_test/02b33df9-be2b-2d54-9062-1253be3ce186.txt' mode='a' encoding='UTF-8'>\n",
      "===> Loading data\n",
      "Input image shape: torch.Size([1, 3, 540, 960])\n",
      "===> Building model\n"
     ]
    },
    {
     "name": "stderr",
     "output_type": "stream",
     "text": [
      "/home/igor/anaconda3/lib/python3.9/site-packages/torchvision/models/_utils.py:208: UserWarning: The parameter 'pretrained' is deprecated since 0.13 and will be removed in 0.15, please use 'weights' instead.\n",
      "  warnings.warn(\n",
      "/home/igor/anaconda3/lib/python3.9/site-packages/torchvision/models/_utils.py:223: UserWarning: Arguments other than a weight enum or `None` for 'weights' are deprecated since 0.13 and will be removed in 0.15. The current behavior is equivalent to passing `weights=VGG16_Weights.IMAGENET1K_V1`. You can also use `weights=VGG16_Weights.DEFAULT` to get the most up-to-date weights.\n",
      "  warnings.warn(msg)\n"
     ]
    },
    {
     "name": "stdout",
     "output_type": "stream",
     "text": [
      "NetVLAD setting:\n",
      "num_clusters: 64 dim: 512 vladv2: False\n",
      "=> loading checkpoint 'vgg16_netvlad_checkpoint/checkpoints/checkpoint.pth.tar'\n",
      "=> loaded checkpoint 'vgg16_netvlad_checkpoint/checkpoints/checkpoint.pth.tar' (epoch 25)\n",
      "===> Running evaluation step\n",
      "VLAD encoding: tensor([[ 0.0016, -0.0041,  0.0055,  ...,  0.0094,  0.0045, -0.0005]])\n",
      "VLAD encoding shape: torch.Size([1, 32768])\n",
      "Saved frame_vlad_embedding_pca to embedding_file:  <_io.TextIOWrapper name='/home/igor/Desktop/Victoria/tisl/tisl_localization_22s_copy-main/rscan_test/02b33df9-be2b-2d54-9062-1253be3ce186.txt' mode='a' encoding='UTF-8'>\n",
      "path_to_random_frame:  /home/igor/Desktop/Victoria/tisl/tisl_localization_22s_copy-main/rscan_test/02b33df9-be2b-2d54-9062-1253be3ce186/frame-000016.color.jpg\n",
      "Saved frame_position_numpy to embedding_file:  <_io.TextIOWrapper name='/home/igor/Desktop/Victoria/tisl/tisl_localization_22s_copy-main/rscan_test/02b33df9-be2b-2d54-9062-1253be3ce186.txt' mode='a' encoding='UTF-8'>\n",
      "===> Loading data\n",
      "Input image shape: torch.Size([1, 3, 540, 960])\n",
      "===> Building model\n"
     ]
    },
    {
     "name": "stderr",
     "output_type": "stream",
     "text": [
      "/home/igor/anaconda3/lib/python3.9/site-packages/torchvision/models/_utils.py:208: UserWarning: The parameter 'pretrained' is deprecated since 0.13 and will be removed in 0.15, please use 'weights' instead.\n",
      "  warnings.warn(\n",
      "/home/igor/anaconda3/lib/python3.9/site-packages/torchvision/models/_utils.py:223: UserWarning: Arguments other than a weight enum or `None` for 'weights' are deprecated since 0.13 and will be removed in 0.15. The current behavior is equivalent to passing `weights=VGG16_Weights.IMAGENET1K_V1`. You can also use `weights=VGG16_Weights.DEFAULT` to get the most up-to-date weights.\n",
      "  warnings.warn(msg)\n"
     ]
    },
    {
     "name": "stdout",
     "output_type": "stream",
     "text": [
      "NetVLAD setting:\n",
      "num_clusters: 64 dim: 512 vladv2: False\n",
      "=> loading checkpoint 'vgg16_netvlad_checkpoint/checkpoints/checkpoint.pth.tar'\n",
      "=> loaded checkpoint 'vgg16_netvlad_checkpoint/checkpoints/checkpoint.pth.tar' (epoch 25)\n",
      "===> Running evaluation step\n",
      "VLAD encoding: tensor([[-0.0002, -0.0075,  0.0107,  ...,  0.0015,  0.0072,  0.0015]])\n",
      "VLAD encoding shape: torch.Size([1, 32768])\n",
      "Saved frame_vlad_embedding_pca to embedding_file:  <_io.TextIOWrapper name='/home/igor/Desktop/Victoria/tisl/tisl_localization_22s_copy-main/rscan_test/02b33df9-be2b-2d54-9062-1253be3ce186.txt' mode='a' encoding='UTF-8'>\n",
      "path_to_random_frame:  /home/igor/Desktop/Victoria/tisl/tisl_localization_22s_copy-main/rscan_test/02b33df9-be2b-2d54-9062-1253be3ce186/frame-000017.color.jpg\n",
      "Saved frame_position_numpy to embedding_file:  <_io.TextIOWrapper name='/home/igor/Desktop/Victoria/tisl/tisl_localization_22s_copy-main/rscan_test/02b33df9-be2b-2d54-9062-1253be3ce186.txt' mode='a' encoding='UTF-8'>\n",
      "===> Loading data\n",
      "Input image shape: torch.Size([1, 3, 540, 960])\n",
      "===> Building model\n"
     ]
    },
    {
     "name": "stderr",
     "output_type": "stream",
     "text": [
      "/home/igor/anaconda3/lib/python3.9/site-packages/torchvision/models/_utils.py:208: UserWarning: The parameter 'pretrained' is deprecated since 0.13 and will be removed in 0.15, please use 'weights' instead.\n",
      "  warnings.warn(\n",
      "/home/igor/anaconda3/lib/python3.9/site-packages/torchvision/models/_utils.py:223: UserWarning: Arguments other than a weight enum or `None` for 'weights' are deprecated since 0.13 and will be removed in 0.15. The current behavior is equivalent to passing `weights=VGG16_Weights.IMAGENET1K_V1`. You can also use `weights=VGG16_Weights.DEFAULT` to get the most up-to-date weights.\n",
      "  warnings.warn(msg)\n"
     ]
    },
    {
     "name": "stdout",
     "output_type": "stream",
     "text": [
      "NetVLAD setting:\n",
      "num_clusters: 64 dim: 512 vladv2: False\n",
      "=> loading checkpoint 'vgg16_netvlad_checkpoint/checkpoints/checkpoint.pth.tar'\n",
      "=> loaded checkpoint 'vgg16_netvlad_checkpoint/checkpoints/checkpoint.pth.tar' (epoch 25)\n",
      "===> Running evaluation step\n",
      "VLAD encoding: tensor([[ 0.0004, -0.0031,  0.0050,  ...,  0.0003,  0.0071,  0.0040]])\n",
      "VLAD encoding shape: torch.Size([1, 32768])\n",
      "Saved frame_vlad_embedding_pca to embedding_file:  <_io.TextIOWrapper name='/home/igor/Desktop/Victoria/tisl/tisl_localization_22s_copy-main/rscan_test/02b33df9-be2b-2d54-9062-1253be3ce186.txt' mode='a' encoding='UTF-8'>\n",
      "path_to_random_frame:  /home/igor/Desktop/Victoria/tisl/tisl_localization_22s_copy-main/rscan_test/02b33df9-be2b-2d54-9062-1253be3ce186/frame-000019.color.jpg\n",
      "Saved frame_position_numpy to embedding_file:  <_io.TextIOWrapper name='/home/igor/Desktop/Victoria/tisl/tisl_localization_22s_copy-main/rscan_test/02b33df9-be2b-2d54-9062-1253be3ce186.txt' mode='a' encoding='UTF-8'>\n",
      "===> Loading data\n",
      "Input image shape: torch.Size([1, 3, 540, 960])\n",
      "===> Building model\n"
     ]
    },
    {
     "name": "stderr",
     "output_type": "stream",
     "text": [
      "/home/igor/anaconda3/lib/python3.9/site-packages/torchvision/models/_utils.py:208: UserWarning: The parameter 'pretrained' is deprecated since 0.13 and will be removed in 0.15, please use 'weights' instead.\n",
      "  warnings.warn(\n",
      "/home/igor/anaconda3/lib/python3.9/site-packages/torchvision/models/_utils.py:223: UserWarning: Arguments other than a weight enum or `None` for 'weights' are deprecated since 0.13 and will be removed in 0.15. The current behavior is equivalent to passing `weights=VGG16_Weights.IMAGENET1K_V1`. You can also use `weights=VGG16_Weights.DEFAULT` to get the most up-to-date weights.\n",
      "  warnings.warn(msg)\n"
     ]
    },
    {
     "name": "stdout",
     "output_type": "stream",
     "text": [
      "NetVLAD setting:\n",
      "num_clusters: 64 dim: 512 vladv2: False\n",
      "=> loading checkpoint 'vgg16_netvlad_checkpoint/checkpoints/checkpoint.pth.tar'\n",
      "=> loaded checkpoint 'vgg16_netvlad_checkpoint/checkpoints/checkpoint.pth.tar' (epoch 25)\n",
      "===> Running evaluation step\n",
      "VLAD encoding: tensor([[ 0.0007, -0.0048,  0.0063,  ...,  0.0162,  0.0051, -0.0060]])\n",
      "VLAD encoding shape: torch.Size([1, 32768])\n",
      "Saved frame_vlad_embedding_pca to embedding_file:  <_io.TextIOWrapper name='/home/igor/Desktop/Victoria/tisl/tisl_localization_22s_copy-main/rscan_test/02b33df9-be2b-2d54-9062-1253be3ce186.txt' mode='a' encoding='UTF-8'>\n",
      "path_to_random_frame:  /home/igor/Desktop/Victoria/tisl/tisl_localization_22s_copy-main/rscan_test/02b33df9-be2b-2d54-9062-1253be3ce186/frame-000020.color.jpg\n",
      "Saved frame_position_numpy to embedding_file:  <_io.TextIOWrapper name='/home/igor/Desktop/Victoria/tisl/tisl_localization_22s_copy-main/rscan_test/02b33df9-be2b-2d54-9062-1253be3ce186.txt' mode='a' encoding='UTF-8'>\n",
      "===> Loading data\n",
      "Input image shape: torch.Size([1, 3, 540, 960])\n",
      "===> Building model\n"
     ]
    },
    {
     "name": "stderr",
     "output_type": "stream",
     "text": [
      "/home/igor/anaconda3/lib/python3.9/site-packages/torchvision/models/_utils.py:208: UserWarning: The parameter 'pretrained' is deprecated since 0.13 and will be removed in 0.15, please use 'weights' instead.\n",
      "  warnings.warn(\n",
      "/home/igor/anaconda3/lib/python3.9/site-packages/torchvision/models/_utils.py:223: UserWarning: Arguments other than a weight enum or `None` for 'weights' are deprecated since 0.13 and will be removed in 0.15. The current behavior is equivalent to passing `weights=VGG16_Weights.IMAGENET1K_V1`. You can also use `weights=VGG16_Weights.DEFAULT` to get the most up-to-date weights.\n",
      "  warnings.warn(msg)\n"
     ]
    },
    {
     "name": "stdout",
     "output_type": "stream",
     "text": [
      "NetVLAD setting:\n",
      "num_clusters: 64 dim: 512 vladv2: False\n",
      "=> loading checkpoint 'vgg16_netvlad_checkpoint/checkpoints/checkpoint.pth.tar'\n",
      "=> loaded checkpoint 'vgg16_netvlad_checkpoint/checkpoints/checkpoint.pth.tar' (epoch 25)\n",
      "===> Running evaluation step\n",
      "VLAD encoding: tensor([[-0.0033, -0.0027,  0.0026,  ...,  0.0212,  0.0037, -0.0058]])\n",
      "VLAD encoding shape: torch.Size([1, 32768])\n",
      "Saved frame_vlad_embedding_pca to embedding_file:  <_io.TextIOWrapper name='/home/igor/Desktop/Victoria/tisl/tisl_localization_22s_copy-main/rscan_test/02b33df9-be2b-2d54-9062-1253be3ce186.txt' mode='a' encoding='UTF-8'>\n",
      "path_to_random_frame:  /home/igor/Desktop/Victoria/tisl/tisl_localization_22s_copy-main/rscan_test/02b33df9-be2b-2d54-9062-1253be3ce186/frame-000021.color.jpg\n",
      "Saved frame_position_numpy to embedding_file:  <_io.TextIOWrapper name='/home/igor/Desktop/Victoria/tisl/tisl_localization_22s_copy-main/rscan_test/02b33df9-be2b-2d54-9062-1253be3ce186.txt' mode='a' encoding='UTF-8'>\n",
      "===> Loading data\n",
      "Input image shape: torch.Size([1, 3, 540, 960])\n",
      "===> Building model\n"
     ]
    },
    {
     "name": "stderr",
     "output_type": "stream",
     "text": [
      "/home/igor/anaconda3/lib/python3.9/site-packages/torchvision/models/_utils.py:208: UserWarning: The parameter 'pretrained' is deprecated since 0.13 and will be removed in 0.15, please use 'weights' instead.\n",
      "  warnings.warn(\n",
      "/home/igor/anaconda3/lib/python3.9/site-packages/torchvision/models/_utils.py:223: UserWarning: Arguments other than a weight enum or `None` for 'weights' are deprecated since 0.13 and will be removed in 0.15. The current behavior is equivalent to passing `weights=VGG16_Weights.IMAGENET1K_V1`. You can also use `weights=VGG16_Weights.DEFAULT` to get the most up-to-date weights.\n",
      "  warnings.warn(msg)\n"
     ]
    },
    {
     "name": "stdout",
     "output_type": "stream",
     "text": [
      "NetVLAD setting:\n",
      "num_clusters: 64 dim: 512 vladv2: False\n",
      "=> loading checkpoint 'vgg16_netvlad_checkpoint/checkpoints/checkpoint.pth.tar'\n",
      "=> loaded checkpoint 'vgg16_netvlad_checkpoint/checkpoints/checkpoint.pth.tar' (epoch 25)\n",
      "===> Running evaluation step\n",
      "VLAD encoding: tensor([[ 0.0010, -0.0034,  0.0040,  ...,  0.0194,  0.0030, -0.0041]])\n",
      "VLAD encoding shape: torch.Size([1, 32768])\n",
      "Saved frame_vlad_embedding_pca to embedding_file:  <_io.TextIOWrapper name='/home/igor/Desktop/Victoria/tisl/tisl_localization_22s_copy-main/rscan_test/02b33df9-be2b-2d54-9062-1253be3ce186.txt' mode='a' encoding='UTF-8'>\n",
      "path_to_random_frame:  /home/igor/Desktop/Victoria/tisl/tisl_localization_22s_copy-main/rscan_test/02b33df9-be2b-2d54-9062-1253be3ce186/frame-000022.color.jpg\n",
      "Saved frame_position_numpy to embedding_file:  <_io.TextIOWrapper name='/home/igor/Desktop/Victoria/tisl/tisl_localization_22s_copy-main/rscan_test/02b33df9-be2b-2d54-9062-1253be3ce186.txt' mode='a' encoding='UTF-8'>\n",
      "===> Loading data\n",
      "Input image shape: torch.Size([1, 3, 540, 960])\n",
      "===> Building model\n"
     ]
    },
    {
     "name": "stderr",
     "output_type": "stream",
     "text": [
      "/home/igor/anaconda3/lib/python3.9/site-packages/torchvision/models/_utils.py:208: UserWarning: The parameter 'pretrained' is deprecated since 0.13 and will be removed in 0.15, please use 'weights' instead.\n",
      "  warnings.warn(\n",
      "/home/igor/anaconda3/lib/python3.9/site-packages/torchvision/models/_utils.py:223: UserWarning: Arguments other than a weight enum or `None` for 'weights' are deprecated since 0.13 and will be removed in 0.15. The current behavior is equivalent to passing `weights=VGG16_Weights.IMAGENET1K_V1`. You can also use `weights=VGG16_Weights.DEFAULT` to get the most up-to-date weights.\n",
      "  warnings.warn(msg)\n"
     ]
    },
    {
     "name": "stdout",
     "output_type": "stream",
     "text": [
      "NetVLAD setting:\n",
      "num_clusters: 64 dim: 512 vladv2: False\n",
      "=> loading checkpoint 'vgg16_netvlad_checkpoint/checkpoints/checkpoint.pth.tar'\n",
      "=> loaded checkpoint 'vgg16_netvlad_checkpoint/checkpoints/checkpoint.pth.tar' (epoch 25)\n",
      "===> Running evaluation step\n",
      "VLAD encoding: tensor([[ 1.2214e-03, -2.9163e-05,  8.0687e-03,  ...,  2.0205e-02,\n",
      "         -1.1179e-03, -3.3367e-03]])\n",
      "VLAD encoding shape: torch.Size([1, 32768])\n",
      "Saved frame_vlad_embedding_pca to embedding_file:  <_io.TextIOWrapper name='/home/igor/Desktop/Victoria/tisl/tisl_localization_22s_copy-main/rscan_test/02b33df9-be2b-2d54-9062-1253be3ce186.txt' mode='a' encoding='UTF-8'>\n",
      "path_to_random_frame:  /home/igor/Desktop/Victoria/tisl/tisl_localization_22s_copy-main/rscan_test/02b33df9-be2b-2d54-9062-1253be3ce186/frame-000023.color.jpg\n",
      "Saved frame_position_numpy to embedding_file:  <_io.TextIOWrapper name='/home/igor/Desktop/Victoria/tisl/tisl_localization_22s_copy-main/rscan_test/02b33df9-be2b-2d54-9062-1253be3ce186.txt' mode='a' encoding='UTF-8'>\n",
      "===> Loading data\n",
      "Input image shape: torch.Size([1, 3, 540, 960])\n",
      "===> Building model\n"
     ]
    },
    {
     "name": "stderr",
     "output_type": "stream",
     "text": [
      "/home/igor/anaconda3/lib/python3.9/site-packages/torchvision/models/_utils.py:208: UserWarning: The parameter 'pretrained' is deprecated since 0.13 and will be removed in 0.15, please use 'weights' instead.\n",
      "  warnings.warn(\n",
      "/home/igor/anaconda3/lib/python3.9/site-packages/torchvision/models/_utils.py:223: UserWarning: Arguments other than a weight enum or `None` for 'weights' are deprecated since 0.13 and will be removed in 0.15. The current behavior is equivalent to passing `weights=VGG16_Weights.IMAGENET1K_V1`. You can also use `weights=VGG16_Weights.DEFAULT` to get the most up-to-date weights.\n",
      "  warnings.warn(msg)\n"
     ]
    },
    {
     "name": "stdout",
     "output_type": "stream",
     "text": [
      "NetVLAD setting:\n",
      "num_clusters: 64 dim: 512 vladv2: False\n",
      "=> loading checkpoint 'vgg16_netvlad_checkpoint/checkpoints/checkpoint.pth.tar'\n",
      "=> loaded checkpoint 'vgg16_netvlad_checkpoint/checkpoints/checkpoint.pth.tar' (epoch 25)\n",
      "===> Running evaluation step\n",
      "VLAD encoding: tensor([[-0.0026, -0.0077,  0.0036,  ...,  0.0156,  0.0044, -0.0009]])\n",
      "VLAD encoding shape: torch.Size([1, 32768])\n",
      "Saved frame_vlad_embedding_pca to embedding_file:  <_io.TextIOWrapper name='/home/igor/Desktop/Victoria/tisl/tisl_localization_22s_copy-main/rscan_test/02b33df9-be2b-2d54-9062-1253be3ce186.txt' mode='a' encoding='UTF-8'>\n",
      "path_to_random_frame:  /home/igor/Desktop/Victoria/tisl/tisl_localization_22s_copy-main/rscan_test/02b33df9-be2b-2d54-9062-1253be3ce186/frame-000024.color.jpg\n",
      "Saved frame_position_numpy to embedding_file:  <_io.TextIOWrapper name='/home/igor/Desktop/Victoria/tisl/tisl_localization_22s_copy-main/rscan_test/02b33df9-be2b-2d54-9062-1253be3ce186.txt' mode='a' encoding='UTF-8'>\n",
      "===> Loading data\n",
      "Input image shape: torch.Size([1, 3, 540, 960])\n",
      "===> Building model\n"
     ]
    },
    {
     "name": "stderr",
     "output_type": "stream",
     "text": [
      "/home/igor/anaconda3/lib/python3.9/site-packages/torchvision/models/_utils.py:208: UserWarning: The parameter 'pretrained' is deprecated since 0.13 and will be removed in 0.15, please use 'weights' instead.\n",
      "  warnings.warn(\n",
      "/home/igor/anaconda3/lib/python3.9/site-packages/torchvision/models/_utils.py:223: UserWarning: Arguments other than a weight enum or `None` for 'weights' are deprecated since 0.13 and will be removed in 0.15. The current behavior is equivalent to passing `weights=VGG16_Weights.IMAGENET1K_V1`. You can also use `weights=VGG16_Weights.DEFAULT` to get the most up-to-date weights.\n",
      "  warnings.warn(msg)\n"
     ]
    },
    {
     "name": "stdout",
     "output_type": "stream",
     "text": [
      "NetVLAD setting:\n",
      "num_clusters: 64 dim: 512 vladv2: False\n",
      "=> loading checkpoint 'vgg16_netvlad_checkpoint/checkpoints/checkpoint.pth.tar'\n",
      "=> loaded checkpoint 'vgg16_netvlad_checkpoint/checkpoints/checkpoint.pth.tar' (epoch 25)\n",
      "===> Running evaluation step\n",
      "VLAD encoding: tensor([[-1.1095e-05,  3.1978e-03,  4.5042e-03,  ...,  5.9430e-03,\n",
      "          3.4559e-03, -6.2128e-03]])\n",
      "VLAD encoding shape: torch.Size([1, 32768])\n",
      "Saved frame_vlad_embedding_pca to embedding_file:  <_io.TextIOWrapper name='/home/igor/Desktop/Victoria/tisl/tisl_localization_22s_copy-main/rscan_test/02b33df9-be2b-2d54-9062-1253be3ce186.txt' mode='a' encoding='UTF-8'>\n",
      "path_to_random_frame:  /home/igor/Desktop/Victoria/tisl/tisl_localization_22s_copy-main/rscan_test/02b33df9-be2b-2d54-9062-1253be3ce186/frame-000025.color.jpg\n",
      "Saved frame_position_numpy to embedding_file:  <_io.TextIOWrapper name='/home/igor/Desktop/Victoria/tisl/tisl_localization_22s_copy-main/rscan_test/02b33df9-be2b-2d54-9062-1253be3ce186.txt' mode='a' encoding='UTF-8'>\n",
      "===> Loading data\n",
      "Input image shape: torch.Size([1, 3, 540, 960])\n",
      "===> Building model\n"
     ]
    },
    {
     "name": "stderr",
     "output_type": "stream",
     "text": [
      "/home/igor/anaconda3/lib/python3.9/site-packages/torchvision/models/_utils.py:208: UserWarning: The parameter 'pretrained' is deprecated since 0.13 and will be removed in 0.15, please use 'weights' instead.\n",
      "  warnings.warn(\n",
      "/home/igor/anaconda3/lib/python3.9/site-packages/torchvision/models/_utils.py:223: UserWarning: Arguments other than a weight enum or `None` for 'weights' are deprecated since 0.13 and will be removed in 0.15. The current behavior is equivalent to passing `weights=VGG16_Weights.IMAGENET1K_V1`. You can also use `weights=VGG16_Weights.DEFAULT` to get the most up-to-date weights.\n",
      "  warnings.warn(msg)\n"
     ]
    },
    {
     "name": "stdout",
     "output_type": "stream",
     "text": [
      "NetVLAD setting:\n",
      "num_clusters: 64 dim: 512 vladv2: False\n",
      "=> loading checkpoint 'vgg16_netvlad_checkpoint/checkpoints/checkpoint.pth.tar'\n",
      "=> loaded checkpoint 'vgg16_netvlad_checkpoint/checkpoints/checkpoint.pth.tar' (epoch 25)\n",
      "===> Running evaluation step\n",
      "VLAD encoding: tensor([[ 0.0021, -0.0045,  0.0091,  ...,  0.0059,  0.0089, -0.0012]])\n",
      "VLAD encoding shape: torch.Size([1, 32768])\n",
      "Saved frame_vlad_embedding_pca to embedding_file:  <_io.TextIOWrapper name='/home/igor/Desktop/Victoria/tisl/tisl_localization_22s_copy-main/rscan_test/02b33df9-be2b-2d54-9062-1253be3ce186.txt' mode='a' encoding='UTF-8'>\n",
      "path_to_random_frame:  /home/igor/Desktop/Victoria/tisl/tisl_localization_22s_copy-main/rscan_test/02b33df9-be2b-2d54-9062-1253be3ce186/frame-000026.color.jpg\n",
      "Saved frame_position_numpy to embedding_file:  <_io.TextIOWrapper name='/home/igor/Desktop/Victoria/tisl/tisl_localization_22s_copy-main/rscan_test/02b33df9-be2b-2d54-9062-1253be3ce186.txt' mode='a' encoding='UTF-8'>\n",
      "===> Loading data\n",
      "Input image shape: torch.Size([1, 3, 540, 960])\n",
      "===> Building model\n"
     ]
    },
    {
     "name": "stderr",
     "output_type": "stream",
     "text": [
      "/home/igor/anaconda3/lib/python3.9/site-packages/torchvision/models/_utils.py:208: UserWarning: The parameter 'pretrained' is deprecated since 0.13 and will be removed in 0.15, please use 'weights' instead.\n",
      "  warnings.warn(\n",
      "/home/igor/anaconda3/lib/python3.9/site-packages/torchvision/models/_utils.py:223: UserWarning: Arguments other than a weight enum or `None` for 'weights' are deprecated since 0.13 and will be removed in 0.15. The current behavior is equivalent to passing `weights=VGG16_Weights.IMAGENET1K_V1`. You can also use `weights=VGG16_Weights.DEFAULT` to get the most up-to-date weights.\n",
      "  warnings.warn(msg)\n"
     ]
    },
    {
     "name": "stdout",
     "output_type": "stream",
     "text": [
      "NetVLAD setting:\n",
      "num_clusters: 64 dim: 512 vladv2: False\n",
      "=> loading checkpoint 'vgg16_netvlad_checkpoint/checkpoints/checkpoint.pth.tar'\n",
      "=> loaded checkpoint 'vgg16_netvlad_checkpoint/checkpoints/checkpoint.pth.tar' (epoch 25)\n",
      "===> Running evaluation step\n",
      "VLAD encoding: tensor([[-0.0014, -0.0069,  0.0029,  ...,  0.0096,  0.0023, -0.0064]])\n",
      "VLAD encoding shape: torch.Size([1, 32768])\n",
      "Saved frame_vlad_embedding_pca to embedding_file:  <_io.TextIOWrapper name='/home/igor/Desktop/Victoria/tisl/tisl_localization_22s_copy-main/rscan_test/02b33df9-be2b-2d54-9062-1253be3ce186.txt' mode='a' encoding='UTF-8'>\n",
      "path_to_random_frame:  /home/igor/Desktop/Victoria/tisl/tisl_localization_22s_copy-main/rscan_test/02b33df9-be2b-2d54-9062-1253be3ce186/frame-000031.color.jpg\n",
      "Saved frame_position_numpy to embedding_file:  <_io.TextIOWrapper name='/home/igor/Desktop/Victoria/tisl/tisl_localization_22s_copy-main/rscan_test/02b33df9-be2b-2d54-9062-1253be3ce186.txt' mode='a' encoding='UTF-8'>\n",
      "===> Loading data\n",
      "Input image shape: torch.Size([1, 3, 540, 960])\n",
      "===> Building model\n"
     ]
    },
    {
     "name": "stderr",
     "output_type": "stream",
     "text": [
      "/home/igor/anaconda3/lib/python3.9/site-packages/torchvision/models/_utils.py:208: UserWarning: The parameter 'pretrained' is deprecated since 0.13 and will be removed in 0.15, please use 'weights' instead.\n",
      "  warnings.warn(\n",
      "/home/igor/anaconda3/lib/python3.9/site-packages/torchvision/models/_utils.py:223: UserWarning: Arguments other than a weight enum or `None` for 'weights' are deprecated since 0.13 and will be removed in 0.15. The current behavior is equivalent to passing `weights=VGG16_Weights.IMAGENET1K_V1`. You can also use `weights=VGG16_Weights.DEFAULT` to get the most up-to-date weights.\n",
      "  warnings.warn(msg)\n"
     ]
    },
    {
     "name": "stdout",
     "output_type": "stream",
     "text": [
      "NetVLAD setting:\n",
      "num_clusters: 64 dim: 512 vladv2: False\n",
      "=> loading checkpoint 'vgg16_netvlad_checkpoint/checkpoints/checkpoint.pth.tar'\n",
      "=> loaded checkpoint 'vgg16_netvlad_checkpoint/checkpoints/checkpoint.pth.tar' (epoch 25)\n",
      "===> Running evaluation step\n",
      "VLAD encoding: tensor([[ 0.0020, -0.0065, -0.0028,  ...,  0.0004,  0.0117,  0.0025]])\n",
      "VLAD encoding shape: torch.Size([1, 32768])\n",
      "Saved frame_vlad_embedding_pca to embedding_file:  <_io.TextIOWrapper name='/home/igor/Desktop/Victoria/tisl/tisl_localization_22s_copy-main/rscan_test/02b33df9-be2b-2d54-9062-1253be3ce186.txt' mode='a' encoding='UTF-8'>\n",
      "path_to_random_frame:  /home/igor/Desktop/Victoria/tisl/tisl_localization_22s_copy-main/rscan_test/02b33df9-be2b-2d54-9062-1253be3ce186/frame-000033.color.jpg\n",
      "Saved frame_position_numpy to embedding_file:  <_io.TextIOWrapper name='/home/igor/Desktop/Victoria/tisl/tisl_localization_22s_copy-main/rscan_test/02b33df9-be2b-2d54-9062-1253be3ce186.txt' mode='a' encoding='UTF-8'>\n",
      "===> Loading data\n",
      "Input image shape: torch.Size([1, 3, 540, 960])\n",
      "===> Building model\n"
     ]
    },
    {
     "name": "stderr",
     "output_type": "stream",
     "text": [
      "/home/igor/anaconda3/lib/python3.9/site-packages/torchvision/models/_utils.py:208: UserWarning: The parameter 'pretrained' is deprecated since 0.13 and will be removed in 0.15, please use 'weights' instead.\n",
      "  warnings.warn(\n",
      "/home/igor/anaconda3/lib/python3.9/site-packages/torchvision/models/_utils.py:223: UserWarning: Arguments other than a weight enum or `None` for 'weights' are deprecated since 0.13 and will be removed in 0.15. The current behavior is equivalent to passing `weights=VGG16_Weights.IMAGENET1K_V1`. You can also use `weights=VGG16_Weights.DEFAULT` to get the most up-to-date weights.\n",
      "  warnings.warn(msg)\n"
     ]
    },
    {
     "name": "stdout",
     "output_type": "stream",
     "text": [
      "NetVLAD setting:\n",
      "num_clusters: 64 dim: 512 vladv2: False\n",
      "=> loading checkpoint 'vgg16_netvlad_checkpoint/checkpoints/checkpoint.pth.tar'\n",
      "=> loaded checkpoint 'vgg16_netvlad_checkpoint/checkpoints/checkpoint.pth.tar' (epoch 25)\n",
      "===> Running evaluation step\n",
      "VLAD encoding: tensor([[-0.0021, -0.0072,  0.0034,  ...,  0.0020,  0.0089, -0.0001]])\n",
      "VLAD encoding shape: torch.Size([1, 32768])\n",
      "Saved frame_vlad_embedding_pca to embedding_file:  <_io.TextIOWrapper name='/home/igor/Desktop/Victoria/tisl/tisl_localization_22s_copy-main/rscan_test/02b33df9-be2b-2d54-9062-1253be3ce186.txt' mode='a' encoding='UTF-8'>\n",
      "path_to_random_frame:  /home/igor/Desktop/Victoria/tisl/tisl_localization_22s_copy-main/rscan_test/02b33df9-be2b-2d54-9062-1253be3ce186/frame-000036.color.jpg\n",
      "Saved frame_position_numpy to embedding_file:  <_io.TextIOWrapper name='/home/igor/Desktop/Victoria/tisl/tisl_localization_22s_copy-main/rscan_test/02b33df9-be2b-2d54-9062-1253be3ce186.txt' mode='a' encoding='UTF-8'>\n",
      "===> Loading data\n",
      "Input image shape: torch.Size([1, 3, 540, 960])\n",
      "===> Building model\n"
     ]
    },
    {
     "name": "stderr",
     "output_type": "stream",
     "text": [
      "/home/igor/anaconda3/lib/python3.9/site-packages/torchvision/models/_utils.py:208: UserWarning: The parameter 'pretrained' is deprecated since 0.13 and will be removed in 0.15, please use 'weights' instead.\n",
      "  warnings.warn(\n",
      "/home/igor/anaconda3/lib/python3.9/site-packages/torchvision/models/_utils.py:223: UserWarning: Arguments other than a weight enum or `None` for 'weights' are deprecated since 0.13 and will be removed in 0.15. The current behavior is equivalent to passing `weights=VGG16_Weights.IMAGENET1K_V1`. You can also use `weights=VGG16_Weights.DEFAULT` to get the most up-to-date weights.\n",
      "  warnings.warn(msg)\n"
     ]
    },
    {
     "name": "stdout",
     "output_type": "stream",
     "text": [
      "NetVLAD setting:\n",
      "num_clusters: 64 dim: 512 vladv2: False\n",
      "=> loading checkpoint 'vgg16_netvlad_checkpoint/checkpoints/checkpoint.pth.tar'\n",
      "=> loaded checkpoint 'vgg16_netvlad_checkpoint/checkpoints/checkpoint.pth.tar' (epoch 25)\n",
      "===> Running evaluation step\n",
      "VLAD encoding: tensor([[-0.0065, -0.0062, -0.0008,  ...,  0.0015,  0.0096, -0.0005]])\n",
      "VLAD encoding shape: torch.Size([1, 32768])\n",
      "Saved frame_vlad_embedding_pca to embedding_file:  <_io.TextIOWrapper name='/home/igor/Desktop/Victoria/tisl/tisl_localization_22s_copy-main/rscan_test/02b33df9-be2b-2d54-9062-1253be3ce186.txt' mode='a' encoding='UTF-8'>\n",
      "path_to_random_frame:  /home/igor/Desktop/Victoria/tisl/tisl_localization_22s_copy-main/rscan_test/02b33df9-be2b-2d54-9062-1253be3ce186/frame-000037.color.jpg\n",
      "Saved frame_position_numpy to embedding_file:  <_io.TextIOWrapper name='/home/igor/Desktop/Victoria/tisl/tisl_localization_22s_copy-main/rscan_test/02b33df9-be2b-2d54-9062-1253be3ce186.txt' mode='a' encoding='UTF-8'>\n",
      "===> Loading data\n",
      "Input image shape: torch.Size([1, 3, 540, 960])\n",
      "===> Building model\n"
     ]
    },
    {
     "name": "stderr",
     "output_type": "stream",
     "text": [
      "/home/igor/anaconda3/lib/python3.9/site-packages/torchvision/models/_utils.py:208: UserWarning: The parameter 'pretrained' is deprecated since 0.13 and will be removed in 0.15, please use 'weights' instead.\n",
      "  warnings.warn(\n",
      "/home/igor/anaconda3/lib/python3.9/site-packages/torchvision/models/_utils.py:223: UserWarning: Arguments other than a weight enum or `None` for 'weights' are deprecated since 0.13 and will be removed in 0.15. The current behavior is equivalent to passing `weights=VGG16_Weights.IMAGENET1K_V1`. You can also use `weights=VGG16_Weights.DEFAULT` to get the most up-to-date weights.\n",
      "  warnings.warn(msg)\n"
     ]
    },
    {
     "name": "stdout",
     "output_type": "stream",
     "text": [
      "NetVLAD setting:\n",
      "num_clusters: 64 dim: 512 vladv2: False\n",
      "=> loading checkpoint 'vgg16_netvlad_checkpoint/checkpoints/checkpoint.pth.tar'\n",
      "=> loaded checkpoint 'vgg16_netvlad_checkpoint/checkpoints/checkpoint.pth.tar' (epoch 25)\n",
      "===> Running evaluation step\n",
      "VLAD encoding: tensor([[-0.0032, -0.0049,  0.0076,  ...,  0.0067,  0.0059, -0.0061]])\n",
      "VLAD encoding shape: torch.Size([1, 32768])\n",
      "Saved frame_vlad_embedding_pca to embedding_file:  <_io.TextIOWrapper name='/home/igor/Desktop/Victoria/tisl/tisl_localization_22s_copy-main/rscan_test/02b33df9-be2b-2d54-9062-1253be3ce186.txt' mode='a' encoding='UTF-8'>\n",
      "path_to_random_frame:  /home/igor/Desktop/Victoria/tisl/tisl_localization_22s_copy-main/rscan_test/02b33df9-be2b-2d54-9062-1253be3ce186/frame-000038.color.jpg\n",
      "Saved frame_position_numpy to embedding_file:  <_io.TextIOWrapper name='/home/igor/Desktop/Victoria/tisl/tisl_localization_22s_copy-main/rscan_test/02b33df9-be2b-2d54-9062-1253be3ce186.txt' mode='a' encoding='UTF-8'>\n",
      "===> Loading data\n",
      "Input image shape: torch.Size([1, 3, 540, 960])\n",
      "===> Building model\n"
     ]
    },
    {
     "name": "stderr",
     "output_type": "stream",
     "text": [
      "/home/igor/anaconda3/lib/python3.9/site-packages/torchvision/models/_utils.py:208: UserWarning: The parameter 'pretrained' is deprecated since 0.13 and will be removed in 0.15, please use 'weights' instead.\n",
      "  warnings.warn(\n",
      "/home/igor/anaconda3/lib/python3.9/site-packages/torchvision/models/_utils.py:223: UserWarning: Arguments other than a weight enum or `None` for 'weights' are deprecated since 0.13 and will be removed in 0.15. The current behavior is equivalent to passing `weights=VGG16_Weights.IMAGENET1K_V1`. You can also use `weights=VGG16_Weights.DEFAULT` to get the most up-to-date weights.\n",
      "  warnings.warn(msg)\n"
     ]
    },
    {
     "name": "stdout",
     "output_type": "stream",
     "text": [
      "NetVLAD setting:\n",
      "num_clusters: 64 dim: 512 vladv2: False\n",
      "=> loading checkpoint 'vgg16_netvlad_checkpoint/checkpoints/checkpoint.pth.tar'\n",
      "=> loaded checkpoint 'vgg16_netvlad_checkpoint/checkpoints/checkpoint.pth.tar' (epoch 25)\n",
      "===> Running evaluation step\n",
      "VLAD encoding: tensor([[-0.0025, -0.0033,  0.0006,  ...,  0.0071,  0.0067, -0.0061]])\n",
      "VLAD encoding shape: torch.Size([1, 32768])\n",
      "Saved frame_vlad_embedding_pca to embedding_file:  <_io.TextIOWrapper name='/home/igor/Desktop/Victoria/tisl/tisl_localization_22s_copy-main/rscan_test/02b33df9-be2b-2d54-9062-1253be3ce186.txt' mode='a' encoding='UTF-8'>\n",
      "path_to_random_frame:  /home/igor/Desktop/Victoria/tisl/tisl_localization_22s_copy-main/rscan_test/02b33df9-be2b-2d54-9062-1253be3ce186/frame-000040.color.jpg\n",
      "Saved frame_position_numpy to embedding_file:  <_io.TextIOWrapper name='/home/igor/Desktop/Victoria/tisl/tisl_localization_22s_copy-main/rscan_test/02b33df9-be2b-2d54-9062-1253be3ce186.txt' mode='a' encoding='UTF-8'>\n",
      "===> Loading data\n",
      "Input image shape: torch.Size([1, 3, 540, 960])\n",
      "===> Building model\n"
     ]
    },
    {
     "name": "stderr",
     "output_type": "stream",
     "text": [
      "/home/igor/anaconda3/lib/python3.9/site-packages/torchvision/models/_utils.py:208: UserWarning: The parameter 'pretrained' is deprecated since 0.13 and will be removed in 0.15, please use 'weights' instead.\n",
      "  warnings.warn(\n",
      "/home/igor/anaconda3/lib/python3.9/site-packages/torchvision/models/_utils.py:223: UserWarning: Arguments other than a weight enum or `None` for 'weights' are deprecated since 0.13 and will be removed in 0.15. The current behavior is equivalent to passing `weights=VGG16_Weights.IMAGENET1K_V1`. You can also use `weights=VGG16_Weights.DEFAULT` to get the most up-to-date weights.\n",
      "  warnings.warn(msg)\n"
     ]
    },
    {
     "name": "stdout",
     "output_type": "stream",
     "text": [
      "NetVLAD setting:\n",
      "num_clusters: 64 dim: 512 vladv2: False\n",
      "=> loading checkpoint 'vgg16_netvlad_checkpoint/checkpoints/checkpoint.pth.tar'\n",
      "=> loaded checkpoint 'vgg16_netvlad_checkpoint/checkpoints/checkpoint.pth.tar' (epoch 25)\n",
      "===> Running evaluation step\n",
      "VLAD encoding: tensor([[ 0.0009, -0.0107,  0.0097,  ..., -0.0040,  0.0085, -0.0033]])\n",
      "VLAD encoding shape: torch.Size([1, 32768])\n",
      "Saved frame_vlad_embedding_pca to embedding_file:  <_io.TextIOWrapper name='/home/igor/Desktop/Victoria/tisl/tisl_localization_22s_copy-main/rscan_test/02b33df9-be2b-2d54-9062-1253be3ce186.txt' mode='a' encoding='UTF-8'>\n",
      "path_to_random_frame:  /home/igor/Desktop/Victoria/tisl/tisl_localization_22s_copy-main/rscan_test/02b33df9-be2b-2d54-9062-1253be3ce186/frame-000047.color.jpg\n",
      "Saved frame_position_numpy to embedding_file:  <_io.TextIOWrapper name='/home/igor/Desktop/Victoria/tisl/tisl_localization_22s_copy-main/rscan_test/02b33df9-be2b-2d54-9062-1253be3ce186.txt' mode='a' encoding='UTF-8'>\n",
      "===> Loading data\n",
      "Input image shape: torch.Size([1, 3, 540, 960])\n",
      "===> Building model\n"
     ]
    },
    {
     "name": "stderr",
     "output_type": "stream",
     "text": [
      "/home/igor/anaconda3/lib/python3.9/site-packages/torchvision/models/_utils.py:208: UserWarning: The parameter 'pretrained' is deprecated since 0.13 and will be removed in 0.15, please use 'weights' instead.\n",
      "  warnings.warn(\n",
      "/home/igor/anaconda3/lib/python3.9/site-packages/torchvision/models/_utils.py:223: UserWarning: Arguments other than a weight enum or `None` for 'weights' are deprecated since 0.13 and will be removed in 0.15. The current behavior is equivalent to passing `weights=VGG16_Weights.IMAGENET1K_V1`. You can also use `weights=VGG16_Weights.DEFAULT` to get the most up-to-date weights.\n",
      "  warnings.warn(msg)\n"
     ]
    },
    {
     "name": "stdout",
     "output_type": "stream",
     "text": [
      "NetVLAD setting:\n",
      "num_clusters: 64 dim: 512 vladv2: False\n",
      "=> loading checkpoint 'vgg16_netvlad_checkpoint/checkpoints/checkpoint.pth.tar'\n",
      "=> loaded checkpoint 'vgg16_netvlad_checkpoint/checkpoints/checkpoint.pth.tar' (epoch 25)\n",
      "===> Running evaluation step\n",
      "VLAD encoding: tensor([[ 0.0019, -0.0062,  0.0018,  ...,  0.0065, -0.0010, -0.0090]])\n",
      "VLAD encoding shape: torch.Size([1, 32768])\n",
      "Saved frame_vlad_embedding_pca to embedding_file:  <_io.TextIOWrapper name='/home/igor/Desktop/Victoria/tisl/tisl_localization_22s_copy-main/rscan_test/02b33df9-be2b-2d54-9062-1253be3ce186.txt' mode='a' encoding='UTF-8'>\n",
      "path_to_random_frame:  /home/igor/Desktop/Victoria/tisl/tisl_localization_22s_copy-main/rscan_test/02b33df9-be2b-2d54-9062-1253be3ce186/frame-000052.color.jpg\n",
      "Saved frame_position_numpy to embedding_file:  <_io.TextIOWrapper name='/home/igor/Desktop/Victoria/tisl/tisl_localization_22s_copy-main/rscan_test/02b33df9-be2b-2d54-9062-1253be3ce186.txt' mode='a' encoding='UTF-8'>\n",
      "===> Loading data\n",
      "Input image shape: torch.Size([1, 3, 540, 960])\n",
      "===> Building model\n"
     ]
    },
    {
     "name": "stderr",
     "output_type": "stream",
     "text": [
      "/home/igor/anaconda3/lib/python3.9/site-packages/torchvision/models/_utils.py:208: UserWarning: The parameter 'pretrained' is deprecated since 0.13 and will be removed in 0.15, please use 'weights' instead.\n",
      "  warnings.warn(\n",
      "/home/igor/anaconda3/lib/python3.9/site-packages/torchvision/models/_utils.py:223: UserWarning: Arguments other than a weight enum or `None` for 'weights' are deprecated since 0.13 and will be removed in 0.15. The current behavior is equivalent to passing `weights=VGG16_Weights.IMAGENET1K_V1`. You can also use `weights=VGG16_Weights.DEFAULT` to get the most up-to-date weights.\n",
      "  warnings.warn(msg)\n"
     ]
    },
    {
     "name": "stdout",
     "output_type": "stream",
     "text": [
      "NetVLAD setting:\n",
      "num_clusters: 64 dim: 512 vladv2: False\n",
      "=> loading checkpoint 'vgg16_netvlad_checkpoint/checkpoints/checkpoint.pth.tar'\n",
      "=> loaded checkpoint 'vgg16_netvlad_checkpoint/checkpoints/checkpoint.pth.tar' (epoch 25)\n",
      "===> Running evaluation step\n",
      "VLAD encoding: tensor([[-3.6532e-03,  1.5231e-03,  7.0099e-04,  ...,  2.1261e-03,\n",
      "         -5.9533e-05, -3.8319e-03]])\n",
      "VLAD encoding shape: torch.Size([1, 32768])\n",
      "Saved frame_vlad_embedding_pca to embedding_file:  <_io.TextIOWrapper name='/home/igor/Desktop/Victoria/tisl/tisl_localization_22s_copy-main/rscan_test/02b33df9-be2b-2d54-9062-1253be3ce186.txt' mode='a' encoding='UTF-8'>\n",
      "path_to_random_frame:  /home/igor/Desktop/Victoria/tisl/tisl_localization_22s_copy-main/rscan_test/02b33df9-be2b-2d54-9062-1253be3ce186/frame-000056.color.jpg\n",
      "Saved frame_position_numpy to embedding_file:  <_io.TextIOWrapper name='/home/igor/Desktop/Victoria/tisl/tisl_localization_22s_copy-main/rscan_test/02b33df9-be2b-2d54-9062-1253be3ce186.txt' mode='a' encoding='UTF-8'>\n",
      "===> Loading data\n",
      "Input image shape: torch.Size([1, 3, 540, 960])\n",
      "===> Building model\n"
     ]
    },
    {
     "name": "stderr",
     "output_type": "stream",
     "text": [
      "/home/igor/anaconda3/lib/python3.9/site-packages/torchvision/models/_utils.py:208: UserWarning: The parameter 'pretrained' is deprecated since 0.13 and will be removed in 0.15, please use 'weights' instead.\n",
      "  warnings.warn(\n",
      "/home/igor/anaconda3/lib/python3.9/site-packages/torchvision/models/_utils.py:223: UserWarning: Arguments other than a weight enum or `None` for 'weights' are deprecated since 0.13 and will be removed in 0.15. The current behavior is equivalent to passing `weights=VGG16_Weights.IMAGENET1K_V1`. You can also use `weights=VGG16_Weights.DEFAULT` to get the most up-to-date weights.\n",
      "  warnings.warn(msg)\n"
     ]
    },
    {
     "name": "stdout",
     "output_type": "stream",
     "text": [
      "NetVLAD setting:\n",
      "num_clusters: 64 dim: 512 vladv2: False\n",
      "=> loading checkpoint 'vgg16_netvlad_checkpoint/checkpoints/checkpoint.pth.tar'\n",
      "=> loaded checkpoint 'vgg16_netvlad_checkpoint/checkpoints/checkpoint.pth.tar' (epoch 25)\n",
      "===> Running evaluation step\n",
      "VLAD encoding: tensor([[ 0.0035, -0.0092,  0.0061,  ...,  0.0093,  0.0081, -0.0008]])\n",
      "VLAD encoding shape: torch.Size([1, 32768])\n",
      "Saved frame_vlad_embedding_pca to embedding_file:  <_io.TextIOWrapper name='/home/igor/Desktop/Victoria/tisl/tisl_localization_22s_copy-main/rscan_test/02b33df9-be2b-2d54-9062-1253be3ce186.txt' mode='a' encoding='UTF-8'>\n",
      "path_to_random_frame:  /home/igor/Desktop/Victoria/tisl/tisl_localization_22s_copy-main/rscan_test/02b33df9-be2b-2d54-9062-1253be3ce186/frame-000061.color.jpg\n",
      "Saved frame_position_numpy to embedding_file:  <_io.TextIOWrapper name='/home/igor/Desktop/Victoria/tisl/tisl_localization_22s_copy-main/rscan_test/02b33df9-be2b-2d54-9062-1253be3ce186.txt' mode='a' encoding='UTF-8'>\n",
      "===> Loading data\n",
      "Input image shape: torch.Size([1, 3, 540, 960])\n",
      "===> Building model\n"
     ]
    },
    {
     "name": "stderr",
     "output_type": "stream",
     "text": [
      "/home/igor/anaconda3/lib/python3.9/site-packages/torchvision/models/_utils.py:208: UserWarning: The parameter 'pretrained' is deprecated since 0.13 and will be removed in 0.15, please use 'weights' instead.\n",
      "  warnings.warn(\n",
      "/home/igor/anaconda3/lib/python3.9/site-packages/torchvision/models/_utils.py:223: UserWarning: Arguments other than a weight enum or `None` for 'weights' are deprecated since 0.13 and will be removed in 0.15. The current behavior is equivalent to passing `weights=VGG16_Weights.IMAGENET1K_V1`. You can also use `weights=VGG16_Weights.DEFAULT` to get the most up-to-date weights.\n",
      "  warnings.warn(msg)\n"
     ]
    },
    {
     "name": "stdout",
     "output_type": "stream",
     "text": [
      "NetVLAD setting:\n",
      "num_clusters: 64 dim: 512 vladv2: False\n",
      "=> loading checkpoint 'vgg16_netvlad_checkpoint/checkpoints/checkpoint.pth.tar'\n",
      "=> loaded checkpoint 'vgg16_netvlad_checkpoint/checkpoints/checkpoint.pth.tar' (epoch 25)\n",
      "===> Running evaluation step\n",
      "VLAD encoding: tensor([[ 0.0028, -0.0017,  0.0020,  ...,  0.0018, -0.0003, -0.0031]])\n",
      "VLAD encoding shape: torch.Size([1, 32768])\n",
      "Saved frame_vlad_embedding_pca to embedding_file:  <_io.TextIOWrapper name='/home/igor/Desktop/Victoria/tisl/tisl_localization_22s_copy-main/rscan_test/02b33df9-be2b-2d54-9062-1253be3ce186.txt' mode='a' encoding='UTF-8'>\n",
      "path_to_random_frame:  /home/igor/Desktop/Victoria/tisl/tisl_localization_22s_copy-main/rscan_test/02b33df9-be2b-2d54-9062-1253be3ce186/frame-000068.color.jpg\n",
      "Saved frame_position_numpy to embedding_file:  <_io.TextIOWrapper name='/home/igor/Desktop/Victoria/tisl/tisl_localization_22s_copy-main/rscan_test/02b33df9-be2b-2d54-9062-1253be3ce186.txt' mode='a' encoding='UTF-8'>\n",
      "===> Loading data\n",
      "Input image shape: torch.Size([1, 3, 540, 960])\n",
      "===> Building model\n"
     ]
    },
    {
     "name": "stderr",
     "output_type": "stream",
     "text": [
      "/home/igor/anaconda3/lib/python3.9/site-packages/torchvision/models/_utils.py:208: UserWarning: The parameter 'pretrained' is deprecated since 0.13 and will be removed in 0.15, please use 'weights' instead.\n",
      "  warnings.warn(\n",
      "/home/igor/anaconda3/lib/python3.9/site-packages/torchvision/models/_utils.py:223: UserWarning: Arguments other than a weight enum or `None` for 'weights' are deprecated since 0.13 and will be removed in 0.15. The current behavior is equivalent to passing `weights=VGG16_Weights.IMAGENET1K_V1`. You can also use `weights=VGG16_Weights.DEFAULT` to get the most up-to-date weights.\n",
      "  warnings.warn(msg)\n"
     ]
    },
    {
     "name": "stdout",
     "output_type": "stream",
     "text": [
      "NetVLAD setting:\n",
      "num_clusters: 64 dim: 512 vladv2: False\n",
      "=> loading checkpoint 'vgg16_netvlad_checkpoint/checkpoints/checkpoint.pth.tar'\n",
      "=> loaded checkpoint 'vgg16_netvlad_checkpoint/checkpoints/checkpoint.pth.tar' (epoch 25)\n",
      "===> Running evaluation step\n",
      "VLAD encoding: tensor([[ 0.0065,  0.0027, -0.0056,  ...,  0.0149,  0.0015, -0.0011]])\n",
      "VLAD encoding shape: torch.Size([1, 32768])\n",
      "Saved frame_vlad_embedding_pca to embedding_file:  <_io.TextIOWrapper name='/home/igor/Desktop/Victoria/tisl/tisl_localization_22s_copy-main/rscan_test/02b33df9-be2b-2d54-9062-1253be3ce186.txt' mode='a' encoding='UTF-8'>\n",
      "path_to_random_frame:  /home/igor/Desktop/Victoria/tisl/tisl_localization_22s_copy-main/rscan_test/02b33df9-be2b-2d54-9062-1253be3ce186/frame-000071.color.jpg\n",
      "Saved frame_position_numpy to embedding_file:  <_io.TextIOWrapper name='/home/igor/Desktop/Victoria/tisl/tisl_localization_22s_copy-main/rscan_test/02b33df9-be2b-2d54-9062-1253be3ce186.txt' mode='a' encoding='UTF-8'>\n",
      "===> Loading data\n",
      "Input image shape: torch.Size([1, 3, 540, 960])\n",
      "===> Building model\n"
     ]
    },
    {
     "name": "stderr",
     "output_type": "stream",
     "text": [
      "/home/igor/anaconda3/lib/python3.9/site-packages/torchvision/models/_utils.py:208: UserWarning: The parameter 'pretrained' is deprecated since 0.13 and will be removed in 0.15, please use 'weights' instead.\n",
      "  warnings.warn(\n",
      "/home/igor/anaconda3/lib/python3.9/site-packages/torchvision/models/_utils.py:223: UserWarning: Arguments other than a weight enum or `None` for 'weights' are deprecated since 0.13 and will be removed in 0.15. The current behavior is equivalent to passing `weights=VGG16_Weights.IMAGENET1K_V1`. You can also use `weights=VGG16_Weights.DEFAULT` to get the most up-to-date weights.\n",
      "  warnings.warn(msg)\n"
     ]
    },
    {
     "name": "stdout",
     "output_type": "stream",
     "text": [
      "NetVLAD setting:\n",
      "num_clusters: 64 dim: 512 vladv2: False\n",
      "=> loading checkpoint 'vgg16_netvlad_checkpoint/checkpoints/checkpoint.pth.tar'\n",
      "=> loaded checkpoint 'vgg16_netvlad_checkpoint/checkpoints/checkpoint.pth.tar' (epoch 25)\n",
      "===> Running evaluation step\n",
      "VLAD encoding: tensor([[-5.2761e-03, -7.2195e-06,  4.6417e-03,  ...,  6.0475e-03,\n",
      "          2.4286e-03, -3.7433e-03]])\n",
      "VLAD encoding shape: torch.Size([1, 32768])\n",
      "Saved frame_vlad_embedding_pca to embedding_file:  <_io.TextIOWrapper name='/home/igor/Desktop/Victoria/tisl/tisl_localization_22s_copy-main/rscan_test/02b33df9-be2b-2d54-9062-1253be3ce186.txt' mode='a' encoding='UTF-8'>\n",
      "path_to_random_frame:  /home/igor/Desktop/Victoria/tisl/tisl_localization_22s_copy-main/rscan_test/02b33df9-be2b-2d54-9062-1253be3ce186/frame-000075.color.jpg\n",
      "Saved frame_position_numpy to embedding_file:  <_io.TextIOWrapper name='/home/igor/Desktop/Victoria/tisl/tisl_localization_22s_copy-main/rscan_test/02b33df9-be2b-2d54-9062-1253be3ce186.txt' mode='a' encoding='UTF-8'>\n",
      "===> Loading data\n",
      "Input image shape: torch.Size([1, 3, 540, 960])\n",
      "===> Building model\n"
     ]
    },
    {
     "name": "stderr",
     "output_type": "stream",
     "text": [
      "/home/igor/anaconda3/lib/python3.9/site-packages/torchvision/models/_utils.py:208: UserWarning: The parameter 'pretrained' is deprecated since 0.13 and will be removed in 0.15, please use 'weights' instead.\n",
      "  warnings.warn(\n",
      "/home/igor/anaconda3/lib/python3.9/site-packages/torchvision/models/_utils.py:223: UserWarning: Arguments other than a weight enum or `None` for 'weights' are deprecated since 0.13 and will be removed in 0.15. The current behavior is equivalent to passing `weights=VGG16_Weights.IMAGENET1K_V1`. You can also use `weights=VGG16_Weights.DEFAULT` to get the most up-to-date weights.\n",
      "  warnings.warn(msg)\n"
     ]
    },
    {
     "name": "stdout",
     "output_type": "stream",
     "text": [
      "NetVLAD setting:\n",
      "num_clusters: 64 dim: 512 vladv2: False\n",
      "=> loading checkpoint 'vgg16_netvlad_checkpoint/checkpoints/checkpoint.pth.tar'\n",
      "=> loaded checkpoint 'vgg16_netvlad_checkpoint/checkpoints/checkpoint.pth.tar' (epoch 25)\n",
      "===> Running evaluation step\n",
      "VLAD encoding: tensor([[ 0.0025, -0.0013,  0.0027,  ...,  0.0151,  0.0084, -0.0071]])\n",
      "VLAD encoding shape: torch.Size([1, 32768])\n",
      "Saved frame_vlad_embedding_pca to embedding_file:  <_io.TextIOWrapper name='/home/igor/Desktop/Victoria/tisl/tisl_localization_22s_copy-main/rscan_test/02b33df9-be2b-2d54-9062-1253be3ce186.txt' mode='a' encoding='UTF-8'>\n",
      "path_to_random_frame:  /home/igor/Desktop/Victoria/tisl/tisl_localization_22s_copy-main/rscan_test/02b33df9-be2b-2d54-9062-1253be3ce186/frame-000076.color.jpg\n",
      "Saved frame_position_numpy to embedding_file:  <_io.TextIOWrapper name='/home/igor/Desktop/Victoria/tisl/tisl_localization_22s_copy-main/rscan_test/02b33df9-be2b-2d54-9062-1253be3ce186.txt' mode='a' encoding='UTF-8'>\n",
      "===> Loading data\n",
      "Input image shape: torch.Size([1, 3, 540, 960])\n",
      "===> Building model\n"
     ]
    },
    {
     "name": "stderr",
     "output_type": "stream",
     "text": [
      "/home/igor/anaconda3/lib/python3.9/site-packages/torchvision/models/_utils.py:208: UserWarning: The parameter 'pretrained' is deprecated since 0.13 and will be removed in 0.15, please use 'weights' instead.\n",
      "  warnings.warn(\n",
      "/home/igor/anaconda3/lib/python3.9/site-packages/torchvision/models/_utils.py:223: UserWarning: Arguments other than a weight enum or `None` for 'weights' are deprecated since 0.13 and will be removed in 0.15. The current behavior is equivalent to passing `weights=VGG16_Weights.IMAGENET1K_V1`. You can also use `weights=VGG16_Weights.DEFAULT` to get the most up-to-date weights.\n",
      "  warnings.warn(msg)\n"
     ]
    },
    {
     "name": "stdout",
     "output_type": "stream",
     "text": [
      "NetVLAD setting:\n",
      "num_clusters: 64 dim: 512 vladv2: False\n",
      "=> loading checkpoint 'vgg16_netvlad_checkpoint/checkpoints/checkpoint.pth.tar'\n",
      "=> loaded checkpoint 'vgg16_netvlad_checkpoint/checkpoints/checkpoint.pth.tar' (epoch 25)\n",
      "===> Running evaluation step\n",
      "VLAD encoding: tensor([[ 0.0003,  0.0005,  0.0083,  ...,  0.0102,  0.0055, -0.0049]])\n",
      "VLAD encoding shape: torch.Size([1, 32768])\n",
      "Saved frame_vlad_embedding_pca to embedding_file:  <_io.TextIOWrapper name='/home/igor/Desktop/Victoria/tisl/tisl_localization_22s_copy-main/rscan_test/02b33df9-be2b-2d54-9062-1253be3ce186.txt' mode='a' encoding='UTF-8'>\n",
      "path_to_random_frame:  /home/igor/Desktop/Victoria/tisl/tisl_localization_22s_copy-main/rscan_test/02b33df9-be2b-2d54-9062-1253be3ce186/frame-000078.color.jpg\n",
      "Saved frame_position_numpy to embedding_file:  <_io.TextIOWrapper name='/home/igor/Desktop/Victoria/tisl/tisl_localization_22s_copy-main/rscan_test/02b33df9-be2b-2d54-9062-1253be3ce186.txt' mode='a' encoding='UTF-8'>\n",
      "===> Loading data\n",
      "Input image shape: torch.Size([1, 3, 540, 960])\n",
      "===> Building model\n"
     ]
    },
    {
     "name": "stderr",
     "output_type": "stream",
     "text": [
      "/home/igor/anaconda3/lib/python3.9/site-packages/torchvision/models/_utils.py:208: UserWarning: The parameter 'pretrained' is deprecated since 0.13 and will be removed in 0.15, please use 'weights' instead.\n",
      "  warnings.warn(\n",
      "/home/igor/anaconda3/lib/python3.9/site-packages/torchvision/models/_utils.py:223: UserWarning: Arguments other than a weight enum or `None` for 'weights' are deprecated since 0.13 and will be removed in 0.15. The current behavior is equivalent to passing `weights=VGG16_Weights.IMAGENET1K_V1`. You can also use `weights=VGG16_Weights.DEFAULT` to get the most up-to-date weights.\n",
      "  warnings.warn(msg)\n"
     ]
    },
    {
     "name": "stdout",
     "output_type": "stream",
     "text": [
      "NetVLAD setting:\n",
      "num_clusters: 64 dim: 512 vladv2: False\n",
      "=> loading checkpoint 'vgg16_netvlad_checkpoint/checkpoints/checkpoint.pth.tar'\n",
      "=> loaded checkpoint 'vgg16_netvlad_checkpoint/checkpoints/checkpoint.pth.tar' (epoch 25)\n",
      "===> Running evaluation step\n",
      "VLAD encoding: tensor([[ 0.0093,  0.0094,  0.0004,  ...,  0.0060,  0.0044, -0.0035]])\n",
      "VLAD encoding shape: torch.Size([1, 32768])\n",
      "Saved frame_vlad_embedding_pca to embedding_file:  <_io.TextIOWrapper name='/home/igor/Desktop/Victoria/tisl/tisl_localization_22s_copy-main/rscan_test/02b33df9-be2b-2d54-9062-1253be3ce186.txt' mode='a' encoding='UTF-8'>\n",
      "path_to_random_frame:  /home/igor/Desktop/Victoria/tisl/tisl_localization_22s_copy-main/rscan_test/02b33df9-be2b-2d54-9062-1253be3ce186/frame-000079.color.jpg\n",
      "Saved frame_position_numpy to embedding_file:  <_io.TextIOWrapper name='/home/igor/Desktop/Victoria/tisl/tisl_localization_22s_copy-main/rscan_test/02b33df9-be2b-2d54-9062-1253be3ce186.txt' mode='a' encoding='UTF-8'>\n",
      "===> Loading data\n",
      "Input image shape: torch.Size([1, 3, 540, 960])\n",
      "===> Building model\n"
     ]
    },
    {
     "name": "stderr",
     "output_type": "stream",
     "text": [
      "/home/igor/anaconda3/lib/python3.9/site-packages/torchvision/models/_utils.py:208: UserWarning: The parameter 'pretrained' is deprecated since 0.13 and will be removed in 0.15, please use 'weights' instead.\n",
      "  warnings.warn(\n",
      "/home/igor/anaconda3/lib/python3.9/site-packages/torchvision/models/_utils.py:223: UserWarning: Arguments other than a weight enum or `None` for 'weights' are deprecated since 0.13 and will be removed in 0.15. The current behavior is equivalent to passing `weights=VGG16_Weights.IMAGENET1K_V1`. You can also use `weights=VGG16_Weights.DEFAULT` to get the most up-to-date weights.\n",
      "  warnings.warn(msg)\n"
     ]
    },
    {
     "name": "stdout",
     "output_type": "stream",
     "text": [
      "NetVLAD setting:\n",
      "num_clusters: 64 dim: 512 vladv2: False\n",
      "=> loading checkpoint 'vgg16_netvlad_checkpoint/checkpoints/checkpoint.pth.tar'\n",
      "=> loaded checkpoint 'vgg16_netvlad_checkpoint/checkpoints/checkpoint.pth.tar' (epoch 25)\n",
      "===> Running evaluation step\n",
      "VLAD encoding: tensor([[ 0.0015, -0.0021,  0.0020,  ...,  0.0071,  0.0077,  0.0021]])\n",
      "VLAD encoding shape: torch.Size([1, 32768])\n",
      "Saved frame_vlad_embedding_pca to embedding_file:  <_io.TextIOWrapper name='/home/igor/Desktop/Victoria/tisl/tisl_localization_22s_copy-main/rscan_test/02b33df9-be2b-2d54-9062-1253be3ce186.txt' mode='a' encoding='UTF-8'>\n",
      "path_to_random_frame:  /home/igor/Desktop/Victoria/tisl/tisl_localization_22s_copy-main/rscan_test/02b33df9-be2b-2d54-9062-1253be3ce186/frame-000080.color.jpg\n",
      "Saved frame_position_numpy to embedding_file:  <_io.TextIOWrapper name='/home/igor/Desktop/Victoria/tisl/tisl_localization_22s_copy-main/rscan_test/02b33df9-be2b-2d54-9062-1253be3ce186.txt' mode='a' encoding='UTF-8'>\n",
      "===> Loading data\n",
      "Input image shape: torch.Size([1, 3, 540, 960])\n",
      "===> Building model\n"
     ]
    },
    {
     "name": "stderr",
     "output_type": "stream",
     "text": [
      "/home/igor/anaconda3/lib/python3.9/site-packages/torchvision/models/_utils.py:208: UserWarning: The parameter 'pretrained' is deprecated since 0.13 and will be removed in 0.15, please use 'weights' instead.\n",
      "  warnings.warn(\n",
      "/home/igor/anaconda3/lib/python3.9/site-packages/torchvision/models/_utils.py:223: UserWarning: Arguments other than a weight enum or `None` for 'weights' are deprecated since 0.13 and will be removed in 0.15. The current behavior is equivalent to passing `weights=VGG16_Weights.IMAGENET1K_V1`. You can also use `weights=VGG16_Weights.DEFAULT` to get the most up-to-date weights.\n",
      "  warnings.warn(msg)\n"
     ]
    },
    {
     "name": "stdout",
     "output_type": "stream",
     "text": [
      "NetVLAD setting:\n",
      "num_clusters: 64 dim: 512 vladv2: False\n",
      "=> loading checkpoint 'vgg16_netvlad_checkpoint/checkpoints/checkpoint.pth.tar'\n",
      "=> loaded checkpoint 'vgg16_netvlad_checkpoint/checkpoints/checkpoint.pth.tar' (epoch 25)\n",
      "===> Running evaluation step\n",
      "VLAD encoding: tensor([[ 0.0074, -0.0003,  0.0093,  ...,  0.0086,  0.0003, -0.0035]])\n",
      "VLAD encoding shape: torch.Size([1, 32768])\n",
      "Saved frame_vlad_embedding_pca to embedding_file:  <_io.TextIOWrapper name='/home/igor/Desktop/Victoria/tisl/tisl_localization_22s_copy-main/rscan_test/02b33df9-be2b-2d54-9062-1253be3ce186.txt' mode='a' encoding='UTF-8'>\n",
      "path_to_random_frame:  /home/igor/Desktop/Victoria/tisl/tisl_localization_22s_copy-main/rscan_test/02b33df9-be2b-2d54-9062-1253be3ce186/frame-000082.color.jpg\n",
      "Saved frame_position_numpy to embedding_file:  <_io.TextIOWrapper name='/home/igor/Desktop/Victoria/tisl/tisl_localization_22s_copy-main/rscan_test/02b33df9-be2b-2d54-9062-1253be3ce186.txt' mode='a' encoding='UTF-8'>\n",
      "===> Loading data\n",
      "Input image shape: torch.Size([1, 3, 540, 960])\n",
      "===> Building model\n"
     ]
    },
    {
     "name": "stderr",
     "output_type": "stream",
     "text": [
      "/home/igor/anaconda3/lib/python3.9/site-packages/torchvision/models/_utils.py:208: UserWarning: The parameter 'pretrained' is deprecated since 0.13 and will be removed in 0.15, please use 'weights' instead.\n",
      "  warnings.warn(\n",
      "/home/igor/anaconda3/lib/python3.9/site-packages/torchvision/models/_utils.py:223: UserWarning: Arguments other than a weight enum or `None` for 'weights' are deprecated since 0.13 and will be removed in 0.15. The current behavior is equivalent to passing `weights=VGG16_Weights.IMAGENET1K_V1`. You can also use `weights=VGG16_Weights.DEFAULT` to get the most up-to-date weights.\n",
      "  warnings.warn(msg)\n"
     ]
    },
    {
     "name": "stdout",
     "output_type": "stream",
     "text": [
      "NetVLAD setting:\n",
      "num_clusters: 64 dim: 512 vladv2: False\n",
      "=> loading checkpoint 'vgg16_netvlad_checkpoint/checkpoints/checkpoint.pth.tar'\n",
      "=> loaded checkpoint 'vgg16_netvlad_checkpoint/checkpoints/checkpoint.pth.tar' (epoch 25)\n",
      "===> Running evaluation step\n",
      "VLAD encoding: tensor([[-0.0010, -0.0009,  0.0009,  ...,  0.0100,  0.0104, -0.0026]])\n",
      "VLAD encoding shape: torch.Size([1, 32768])\n",
      "Saved frame_vlad_embedding_pca to embedding_file:  <_io.TextIOWrapper name='/home/igor/Desktop/Victoria/tisl/tisl_localization_22s_copy-main/rscan_test/02b33df9-be2b-2d54-9062-1253be3ce186.txt' mode='a' encoding='UTF-8'>\n",
      "path_to_random_frame:  /home/igor/Desktop/Victoria/tisl/tisl_localization_22s_copy-main/rscan_test/02b33df9-be2b-2d54-9062-1253be3ce186/frame-000084.color.jpg\n",
      "Saved frame_position_numpy to embedding_file:  <_io.TextIOWrapper name='/home/igor/Desktop/Victoria/tisl/tisl_localization_22s_copy-main/rscan_test/02b33df9-be2b-2d54-9062-1253be3ce186.txt' mode='a' encoding='UTF-8'>\n",
      "===> Loading data\n",
      "Input image shape: torch.Size([1, 3, 540, 960])\n",
      "===> Building model\n"
     ]
    },
    {
     "name": "stderr",
     "output_type": "stream",
     "text": [
      "/home/igor/anaconda3/lib/python3.9/site-packages/torchvision/models/_utils.py:208: UserWarning: The parameter 'pretrained' is deprecated since 0.13 and will be removed in 0.15, please use 'weights' instead.\n",
      "  warnings.warn(\n",
      "/home/igor/anaconda3/lib/python3.9/site-packages/torchvision/models/_utils.py:223: UserWarning: Arguments other than a weight enum or `None` for 'weights' are deprecated since 0.13 and will be removed in 0.15. The current behavior is equivalent to passing `weights=VGG16_Weights.IMAGENET1K_V1`. You can also use `weights=VGG16_Weights.DEFAULT` to get the most up-to-date weights.\n",
      "  warnings.warn(msg)\n"
     ]
    },
    {
     "name": "stdout",
     "output_type": "stream",
     "text": [
      "NetVLAD setting:\n",
      "num_clusters: 64 dim: 512 vladv2: False\n",
      "=> loading checkpoint 'vgg16_netvlad_checkpoint/checkpoints/checkpoint.pth.tar'\n",
      "=> loaded checkpoint 'vgg16_netvlad_checkpoint/checkpoints/checkpoint.pth.tar' (epoch 25)\n",
      "===> Running evaluation step\n",
      "VLAD encoding: tensor([[-0.0006, -0.0093,  0.0002,  ...,  0.0192,  0.0048, -0.0048]])\n",
      "VLAD encoding shape: torch.Size([1, 32768])\n",
      "Saved frame_vlad_embedding_pca to embedding_file:  <_io.TextIOWrapper name='/home/igor/Desktop/Victoria/tisl/tisl_localization_22s_copy-main/rscan_test/02b33df9-be2b-2d54-9062-1253be3ce186.txt' mode='a' encoding='UTF-8'>\n",
      "path_to_random_frame:  /home/igor/Desktop/Victoria/tisl/tisl_localization_22s_copy-main/rscan_test/02b33df9-be2b-2d54-9062-1253be3ce186/frame-000085.color.jpg\n",
      "Saved frame_position_numpy to embedding_file:  <_io.TextIOWrapper name='/home/igor/Desktop/Victoria/tisl/tisl_localization_22s_copy-main/rscan_test/02b33df9-be2b-2d54-9062-1253be3ce186.txt' mode='a' encoding='UTF-8'>\n",
      "===> Loading data\n",
      "Input image shape: torch.Size([1, 3, 540, 960])\n",
      "===> Building model\n"
     ]
    },
    {
     "name": "stderr",
     "output_type": "stream",
     "text": [
      "/home/igor/anaconda3/lib/python3.9/site-packages/torchvision/models/_utils.py:208: UserWarning: The parameter 'pretrained' is deprecated since 0.13 and will be removed in 0.15, please use 'weights' instead.\n",
      "  warnings.warn(\n",
      "/home/igor/anaconda3/lib/python3.9/site-packages/torchvision/models/_utils.py:223: UserWarning: Arguments other than a weight enum or `None` for 'weights' are deprecated since 0.13 and will be removed in 0.15. The current behavior is equivalent to passing `weights=VGG16_Weights.IMAGENET1K_V1`. You can also use `weights=VGG16_Weights.DEFAULT` to get the most up-to-date weights.\n",
      "  warnings.warn(msg)\n"
     ]
    },
    {
     "name": "stdout",
     "output_type": "stream",
     "text": [
      "NetVLAD setting:\n",
      "num_clusters: 64 dim: 512 vladv2: False\n",
      "=> loading checkpoint 'vgg16_netvlad_checkpoint/checkpoints/checkpoint.pth.tar'\n",
      "=> loaded checkpoint 'vgg16_netvlad_checkpoint/checkpoints/checkpoint.pth.tar' (epoch 25)\n",
      "===> Running evaluation step\n",
      "VLAD encoding: tensor([[-0.0007, -0.0030,  0.0010,  ...,  0.0135,  0.0054, -0.0007]])\n",
      "VLAD encoding shape: torch.Size([1, 32768])\n",
      "Saved frame_vlad_embedding_pca to embedding_file:  <_io.TextIOWrapper name='/home/igor/Desktop/Victoria/tisl/tisl_localization_22s_copy-main/rscan_test/02b33df9-be2b-2d54-9062-1253be3ce186.txt' mode='a' encoding='UTF-8'>\n",
      "path_to_random_frame:  /home/igor/Desktop/Victoria/tisl/tisl_localization_22s_copy-main/rscan_test/02b33df9-be2b-2d54-9062-1253be3ce186/frame-000086.color.jpg\n",
      "Saved frame_position_numpy to embedding_file:  <_io.TextIOWrapper name='/home/igor/Desktop/Victoria/tisl/tisl_localization_22s_copy-main/rscan_test/02b33df9-be2b-2d54-9062-1253be3ce186.txt' mode='a' encoding='UTF-8'>\n",
      "===> Loading data\n",
      "Input image shape: torch.Size([1, 3, 540, 960])\n",
      "===> Building model\n"
     ]
    },
    {
     "name": "stderr",
     "output_type": "stream",
     "text": [
      "/home/igor/anaconda3/lib/python3.9/site-packages/torchvision/models/_utils.py:208: UserWarning: The parameter 'pretrained' is deprecated since 0.13 and will be removed in 0.15, please use 'weights' instead.\n",
      "  warnings.warn(\n",
      "/home/igor/anaconda3/lib/python3.9/site-packages/torchvision/models/_utils.py:223: UserWarning: Arguments other than a weight enum or `None` for 'weights' are deprecated since 0.13 and will be removed in 0.15. The current behavior is equivalent to passing `weights=VGG16_Weights.IMAGENET1K_V1`. You can also use `weights=VGG16_Weights.DEFAULT` to get the most up-to-date weights.\n",
      "  warnings.warn(msg)\n"
     ]
    },
    {
     "name": "stdout",
     "output_type": "stream",
     "text": [
      "NetVLAD setting:\n",
      "num_clusters: 64 dim: 512 vladv2: False\n",
      "=> loading checkpoint 'vgg16_netvlad_checkpoint/checkpoints/checkpoint.pth.tar'\n",
      "=> loaded checkpoint 'vgg16_netvlad_checkpoint/checkpoints/checkpoint.pth.tar' (epoch 25)\n",
      "===> Running evaluation step\n",
      "VLAD encoding: tensor([[-0.0006, -0.0018, -0.0041,  ...,  0.0114,  0.0066, -0.0035]])\n",
      "VLAD encoding shape: torch.Size([1, 32768])\n",
      "Saved frame_vlad_embedding_pca to embedding_file:  <_io.TextIOWrapper name='/home/igor/Desktop/Victoria/tisl/tisl_localization_22s_copy-main/rscan_test/02b33df9-be2b-2d54-9062-1253be3ce186.txt' mode='a' encoding='UTF-8'>\n",
      "path_to_random_frame:  /home/igor/Desktop/Victoria/tisl/tisl_localization_22s_copy-main/rscan_test/02b33df9-be2b-2d54-9062-1253be3ce186/frame-000090.color.jpg\n",
      "Saved frame_position_numpy to embedding_file:  <_io.TextIOWrapper name='/home/igor/Desktop/Victoria/tisl/tisl_localization_22s_copy-main/rscan_test/02b33df9-be2b-2d54-9062-1253be3ce186.txt' mode='a' encoding='UTF-8'>\n",
      "===> Loading data\n",
      "Input image shape: torch.Size([1, 3, 540, 960])\n",
      "===> Building model\n"
     ]
    },
    {
     "name": "stderr",
     "output_type": "stream",
     "text": [
      "/home/igor/anaconda3/lib/python3.9/site-packages/torchvision/models/_utils.py:208: UserWarning: The parameter 'pretrained' is deprecated since 0.13 and will be removed in 0.15, please use 'weights' instead.\n",
      "  warnings.warn(\n",
      "/home/igor/anaconda3/lib/python3.9/site-packages/torchvision/models/_utils.py:223: UserWarning: Arguments other than a weight enum or `None` for 'weights' are deprecated since 0.13 and will be removed in 0.15. The current behavior is equivalent to passing `weights=VGG16_Weights.IMAGENET1K_V1`. You can also use `weights=VGG16_Weights.DEFAULT` to get the most up-to-date weights.\n",
      "  warnings.warn(msg)\n"
     ]
    },
    {
     "name": "stdout",
     "output_type": "stream",
     "text": [
      "NetVLAD setting:\n",
      "num_clusters: 64 dim: 512 vladv2: False\n",
      "=> loading checkpoint 'vgg16_netvlad_checkpoint/checkpoints/checkpoint.pth.tar'\n",
      "=> loaded checkpoint 'vgg16_netvlad_checkpoint/checkpoints/checkpoint.pth.tar' (epoch 25)\n",
      "===> Running evaluation step\n",
      "VLAD encoding: tensor([[1.2995e-03, 4.8098e-05, 1.0485e-03,  ..., 6.8457e-03, 5.1752e-03,\n",
      "         1.7891e-04]])\n",
      "VLAD encoding shape: torch.Size([1, 32768])\n",
      "Saved frame_vlad_embedding_pca to embedding_file:  <_io.TextIOWrapper name='/home/igor/Desktop/Victoria/tisl/tisl_localization_22s_copy-main/rscan_test/02b33df9-be2b-2d54-9062-1253be3ce186.txt' mode='a' encoding='UTF-8'>\n",
      "path_to_random_frame:  /home/igor/Desktop/Victoria/tisl/tisl_localization_22s_copy-main/rscan_test/02b33df9-be2b-2d54-9062-1253be3ce186/frame-000091.color.jpg\n",
      "Saved frame_position_numpy to embedding_file:  <_io.TextIOWrapper name='/home/igor/Desktop/Victoria/tisl/tisl_localization_22s_copy-main/rscan_test/02b33df9-be2b-2d54-9062-1253be3ce186.txt' mode='a' encoding='UTF-8'>\n",
      "===> Loading data\n",
      "Input image shape: torch.Size([1, 3, 540, 960])\n",
      "===> Building model\n"
     ]
    },
    {
     "name": "stderr",
     "output_type": "stream",
     "text": [
      "/home/igor/anaconda3/lib/python3.9/site-packages/torchvision/models/_utils.py:208: UserWarning: The parameter 'pretrained' is deprecated since 0.13 and will be removed in 0.15, please use 'weights' instead.\n",
      "  warnings.warn(\n",
      "/home/igor/anaconda3/lib/python3.9/site-packages/torchvision/models/_utils.py:223: UserWarning: Arguments other than a weight enum or `None` for 'weights' are deprecated since 0.13 and will be removed in 0.15. The current behavior is equivalent to passing `weights=VGG16_Weights.IMAGENET1K_V1`. You can also use `weights=VGG16_Weights.DEFAULT` to get the most up-to-date weights.\n",
      "  warnings.warn(msg)\n"
     ]
    },
    {
     "name": "stdout",
     "output_type": "stream",
     "text": [
      "NetVLAD setting:\n",
      "num_clusters: 64 dim: 512 vladv2: False\n",
      "=> loading checkpoint 'vgg16_netvlad_checkpoint/checkpoints/checkpoint.pth.tar'\n",
      "=> loaded checkpoint 'vgg16_netvlad_checkpoint/checkpoints/checkpoint.pth.tar' (epoch 25)\n",
      "===> Running evaluation step\n",
      "VLAD encoding: tensor([[ 0.0022,  0.0004,  0.0024,  ...,  0.0072,  0.0052, -0.0025]])\n",
      "VLAD encoding shape: torch.Size([1, 32768])\n",
      "Saved frame_vlad_embedding_pca to embedding_file:  <_io.TextIOWrapper name='/home/igor/Desktop/Victoria/tisl/tisl_localization_22s_copy-main/rscan_test/02b33df9-be2b-2d54-9062-1253be3ce186.txt' mode='a' encoding='UTF-8'>\n",
      "path_to_random_frame:  /home/igor/Desktop/Victoria/tisl/tisl_localization_22s_copy-main/rscan_test/02b33df9-be2b-2d54-9062-1253be3ce186/frame-000093.color.jpg\n",
      "Saved frame_position_numpy to embedding_file:  <_io.TextIOWrapper name='/home/igor/Desktop/Victoria/tisl/tisl_localization_22s_copy-main/rscan_test/02b33df9-be2b-2d54-9062-1253be3ce186.txt' mode='a' encoding='UTF-8'>\n",
      "===> Loading data\n",
      "Input image shape: torch.Size([1, 3, 540, 960])\n",
      "===> Building model\n"
     ]
    },
    {
     "name": "stderr",
     "output_type": "stream",
     "text": [
      "/home/igor/anaconda3/lib/python3.9/site-packages/torchvision/models/_utils.py:208: UserWarning: The parameter 'pretrained' is deprecated since 0.13 and will be removed in 0.15, please use 'weights' instead.\n",
      "  warnings.warn(\n",
      "/home/igor/anaconda3/lib/python3.9/site-packages/torchvision/models/_utils.py:223: UserWarning: Arguments other than a weight enum or `None` for 'weights' are deprecated since 0.13 and will be removed in 0.15. The current behavior is equivalent to passing `weights=VGG16_Weights.IMAGENET1K_V1`. You can also use `weights=VGG16_Weights.DEFAULT` to get the most up-to-date weights.\n",
      "  warnings.warn(msg)\n"
     ]
    },
    {
     "name": "stdout",
     "output_type": "stream",
     "text": [
      "NetVLAD setting:\n",
      "num_clusters: 64 dim: 512 vladv2: False\n",
      "=> loading checkpoint 'vgg16_netvlad_checkpoint/checkpoints/checkpoint.pth.tar'\n",
      "=> loaded checkpoint 'vgg16_netvlad_checkpoint/checkpoints/checkpoint.pth.tar' (epoch 25)\n",
      "===> Running evaluation step\n",
      "VLAD encoding: tensor([[-0.0006, -0.0069,  0.0006,  ...,  0.0071,  0.0055, -0.0028]])\n",
      "VLAD encoding shape: torch.Size([1, 32768])\n",
      "Saved frame_vlad_embedding_pca to embedding_file:  <_io.TextIOWrapper name='/home/igor/Desktop/Victoria/tisl/tisl_localization_22s_copy-main/rscan_test/02b33df9-be2b-2d54-9062-1253be3ce186.txt' mode='a' encoding='UTF-8'>\n",
      "path_to_random_frame:  /home/igor/Desktop/Victoria/tisl/tisl_localization_22s_copy-main/rscan_test/02b33df9-be2b-2d54-9062-1253be3ce186/frame-000095.color.jpg\n",
      "Saved frame_position_numpy to embedding_file:  <_io.TextIOWrapper name='/home/igor/Desktop/Victoria/tisl/tisl_localization_22s_copy-main/rscan_test/02b33df9-be2b-2d54-9062-1253be3ce186.txt' mode='a' encoding='UTF-8'>\n",
      "===> Loading data\n",
      "Input image shape: torch.Size([1, 3, 540, 960])\n",
      "===> Building model\n"
     ]
    },
    {
     "name": "stderr",
     "output_type": "stream",
     "text": [
      "/home/igor/anaconda3/lib/python3.9/site-packages/torchvision/models/_utils.py:208: UserWarning: The parameter 'pretrained' is deprecated since 0.13 and will be removed in 0.15, please use 'weights' instead.\n",
      "  warnings.warn(\n",
      "/home/igor/anaconda3/lib/python3.9/site-packages/torchvision/models/_utils.py:223: UserWarning: Arguments other than a weight enum or `None` for 'weights' are deprecated since 0.13 and will be removed in 0.15. The current behavior is equivalent to passing `weights=VGG16_Weights.IMAGENET1K_V1`. You can also use `weights=VGG16_Weights.DEFAULT` to get the most up-to-date weights.\n",
      "  warnings.warn(msg)\n"
     ]
    },
    {
     "name": "stdout",
     "output_type": "stream",
     "text": [
      "NetVLAD setting:\n",
      "num_clusters: 64 dim: 512 vladv2: False\n",
      "=> loading checkpoint 'vgg16_netvlad_checkpoint/checkpoints/checkpoint.pth.tar'\n",
      "=> loaded checkpoint 'vgg16_netvlad_checkpoint/checkpoints/checkpoint.pth.tar' (epoch 25)\n",
      "===> Running evaluation step\n",
      "VLAD encoding: tensor([[ 0.0049, -0.0064,  0.0069,  ...,  0.0146,  0.0062,  0.0006]])\n",
      "VLAD encoding shape: torch.Size([1, 32768])\n",
      "Saved frame_vlad_embedding_pca to embedding_file:  <_io.TextIOWrapper name='/home/igor/Desktop/Victoria/tisl/tisl_localization_22s_copy-main/rscan_test/02b33df9-be2b-2d54-9062-1253be3ce186.txt' mode='a' encoding='UTF-8'>\n",
      "path_to_random_frame:  /home/igor/Desktop/Victoria/tisl/tisl_localization_22s_copy-main/rscan_test/02b33df9-be2b-2d54-9062-1253be3ce186/frame-000097.color.jpg\n",
      "Saved frame_position_numpy to embedding_file:  <_io.TextIOWrapper name='/home/igor/Desktop/Victoria/tisl/tisl_localization_22s_copy-main/rscan_test/02b33df9-be2b-2d54-9062-1253be3ce186.txt' mode='a' encoding='UTF-8'>\n",
      "===> Loading data\n",
      "Input image shape: torch.Size([1, 3, 540, 960])\n",
      "===> Building model\n"
     ]
    },
    {
     "name": "stderr",
     "output_type": "stream",
     "text": [
      "/home/igor/anaconda3/lib/python3.9/site-packages/torchvision/models/_utils.py:208: UserWarning: The parameter 'pretrained' is deprecated since 0.13 and will be removed in 0.15, please use 'weights' instead.\n",
      "  warnings.warn(\n",
      "/home/igor/anaconda3/lib/python3.9/site-packages/torchvision/models/_utils.py:223: UserWarning: Arguments other than a weight enum or `None` for 'weights' are deprecated since 0.13 and will be removed in 0.15. The current behavior is equivalent to passing `weights=VGG16_Weights.IMAGENET1K_V1`. You can also use `weights=VGG16_Weights.DEFAULT` to get the most up-to-date weights.\n",
      "  warnings.warn(msg)\n"
     ]
    },
    {
     "name": "stdout",
     "output_type": "stream",
     "text": [
      "NetVLAD setting:\n",
      "num_clusters: 64 dim: 512 vladv2: False\n",
      "=> loading checkpoint 'vgg16_netvlad_checkpoint/checkpoints/checkpoint.pth.tar'\n",
      "=> loaded checkpoint 'vgg16_netvlad_checkpoint/checkpoints/checkpoint.pth.tar' (epoch 25)\n",
      "===> Running evaluation step\n",
      "VLAD encoding: tensor([[ 0.0022, -0.0158,  0.0058,  ...,  0.0129,  0.0060, -0.0018]])\n",
      "VLAD encoding shape: torch.Size([1, 32768])\n",
      "Saved frame_vlad_embedding_pca to embedding_file:  <_io.TextIOWrapper name='/home/igor/Desktop/Victoria/tisl/tisl_localization_22s_copy-main/rscan_test/02b33df9-be2b-2d54-9062-1253be3ce186.txt' mode='a' encoding='UTF-8'>\n",
      "path_to_random_frame:  /home/igor/Desktop/Victoria/tisl/tisl_localization_22s_copy-main/rscan_test/02b33df9-be2b-2d54-9062-1253be3ce186/frame-000099.color.jpg\n",
      "Saved frame_position_numpy to embedding_file:  <_io.TextIOWrapper name='/home/igor/Desktop/Victoria/tisl/tisl_localization_22s_copy-main/rscan_test/02b33df9-be2b-2d54-9062-1253be3ce186.txt' mode='a' encoding='UTF-8'>\n",
      "===> Loading data\n",
      "Input image shape: torch.Size([1, 3, 540, 960])\n",
      "===> Building model\n"
     ]
    },
    {
     "name": "stderr",
     "output_type": "stream",
     "text": [
      "/home/igor/anaconda3/lib/python3.9/site-packages/torchvision/models/_utils.py:208: UserWarning: The parameter 'pretrained' is deprecated since 0.13 and will be removed in 0.15, please use 'weights' instead.\n",
      "  warnings.warn(\n",
      "/home/igor/anaconda3/lib/python3.9/site-packages/torchvision/models/_utils.py:223: UserWarning: Arguments other than a weight enum or `None` for 'weights' are deprecated since 0.13 and will be removed in 0.15. The current behavior is equivalent to passing `weights=VGG16_Weights.IMAGENET1K_V1`. You can also use `weights=VGG16_Weights.DEFAULT` to get the most up-to-date weights.\n",
      "  warnings.warn(msg)\n"
     ]
    },
    {
     "name": "stdout",
     "output_type": "stream",
     "text": [
      "NetVLAD setting:\n",
      "num_clusters: 64 dim: 512 vladv2: False\n",
      "=> loading checkpoint 'vgg16_netvlad_checkpoint/checkpoints/checkpoint.pth.tar'\n",
      "=> loaded checkpoint 'vgg16_netvlad_checkpoint/checkpoints/checkpoint.pth.tar' (epoch 25)\n",
      "===> Running evaluation step\n",
      "VLAD encoding: tensor([[ 0.0024, -0.0008,  0.0009,  ...,  0.0127,  0.0058, -0.0032]])\n",
      "VLAD encoding shape: torch.Size([1, 32768])\n",
      "Saved frame_vlad_embedding_pca to embedding_file:  <_io.TextIOWrapper name='/home/igor/Desktop/Victoria/tisl/tisl_localization_22s_copy-main/rscan_test/02b33df9-be2b-2d54-9062-1253be3ce186.txt' mode='a' encoding='UTF-8'>\n",
      "path_to_random_frame:  /home/igor/Desktop/Victoria/tisl/tisl_localization_22s_copy-main/rscan_test/02b33df9-be2b-2d54-9062-1253be3ce186/frame-000102.color.jpg\n",
      "Saved frame_position_numpy to embedding_file:  <_io.TextIOWrapper name='/home/igor/Desktop/Victoria/tisl/tisl_localization_22s_copy-main/rscan_test/02b33df9-be2b-2d54-9062-1253be3ce186.txt' mode='a' encoding='UTF-8'>\n",
      "===> Loading data\n",
      "Input image shape: torch.Size([1, 3, 540, 960])\n",
      "===> Building model\n"
     ]
    },
    {
     "name": "stderr",
     "output_type": "stream",
     "text": [
      "/home/igor/anaconda3/lib/python3.9/site-packages/torchvision/models/_utils.py:208: UserWarning: The parameter 'pretrained' is deprecated since 0.13 and will be removed in 0.15, please use 'weights' instead.\n",
      "  warnings.warn(\n",
      "/home/igor/anaconda3/lib/python3.9/site-packages/torchvision/models/_utils.py:223: UserWarning: Arguments other than a weight enum or `None` for 'weights' are deprecated since 0.13 and will be removed in 0.15. The current behavior is equivalent to passing `weights=VGG16_Weights.IMAGENET1K_V1`. You can also use `weights=VGG16_Weights.DEFAULT` to get the most up-to-date weights.\n",
      "  warnings.warn(msg)\n"
     ]
    },
    {
     "name": "stdout",
     "output_type": "stream",
     "text": [
      "NetVLAD setting:\n",
      "num_clusters: 64 dim: 512 vladv2: False\n",
      "=> loading checkpoint 'vgg16_netvlad_checkpoint/checkpoints/checkpoint.pth.tar'\n",
      "=> loaded checkpoint 'vgg16_netvlad_checkpoint/checkpoints/checkpoint.pth.tar' (epoch 25)\n",
      "===> Running evaluation step\n",
      "VLAD encoding: tensor([[-0.0037, -0.0043,  0.0098,  ...,  0.0092,  0.0038,  0.0019]])\n",
      "VLAD encoding shape: torch.Size([1, 32768])\n",
      "Saved frame_vlad_embedding_pca to embedding_file:  <_io.TextIOWrapper name='/home/igor/Desktop/Victoria/tisl/tisl_localization_22s_copy-main/rscan_test/02b33df9-be2b-2d54-9062-1253be3ce186.txt' mode='a' encoding='UTF-8'>\n",
      "path_to_random_frame:  /home/igor/Desktop/Victoria/tisl/tisl_localization_22s_copy-main/rscan_test/02b33df9-be2b-2d54-9062-1253be3ce186/frame-000103.color.jpg\n",
      "Saved frame_position_numpy to embedding_file:  <_io.TextIOWrapper name='/home/igor/Desktop/Victoria/tisl/tisl_localization_22s_copy-main/rscan_test/02b33df9-be2b-2d54-9062-1253be3ce186.txt' mode='a' encoding='UTF-8'>\n",
      "===> Loading data\n",
      "Input image shape: torch.Size([1, 3, 540, 960])\n",
      "===> Building model\n"
     ]
    },
    {
     "name": "stderr",
     "output_type": "stream",
     "text": [
      "/home/igor/anaconda3/lib/python3.9/site-packages/torchvision/models/_utils.py:208: UserWarning: The parameter 'pretrained' is deprecated since 0.13 and will be removed in 0.15, please use 'weights' instead.\n",
      "  warnings.warn(\n",
      "/home/igor/anaconda3/lib/python3.9/site-packages/torchvision/models/_utils.py:223: UserWarning: Arguments other than a weight enum or `None` for 'weights' are deprecated since 0.13 and will be removed in 0.15. The current behavior is equivalent to passing `weights=VGG16_Weights.IMAGENET1K_V1`. You can also use `weights=VGG16_Weights.DEFAULT` to get the most up-to-date weights.\n",
      "  warnings.warn(msg)\n"
     ]
    },
    {
     "name": "stdout",
     "output_type": "stream",
     "text": [
      "NetVLAD setting:\n",
      "num_clusters: 64 dim: 512 vladv2: False\n",
      "=> loading checkpoint 'vgg16_netvlad_checkpoint/checkpoints/checkpoint.pth.tar'\n",
      "=> loaded checkpoint 'vgg16_netvlad_checkpoint/checkpoints/checkpoint.pth.tar' (epoch 25)\n",
      "===> Running evaluation step\n",
      "VLAD encoding: tensor([[-0.0034, -0.0088,  0.0086,  ...,  0.0102,  0.0036,  0.0022]])\n",
      "VLAD encoding shape: torch.Size([1, 32768])\n",
      "Saved frame_vlad_embedding_pca to embedding_file:  <_io.TextIOWrapper name='/home/igor/Desktop/Victoria/tisl/tisl_localization_22s_copy-main/rscan_test/02b33df9-be2b-2d54-9062-1253be3ce186.txt' mode='a' encoding='UTF-8'>\n",
      "path_to_random_frame:  /home/igor/Desktop/Victoria/tisl/tisl_localization_22s_copy-main/rscan_test/02b33df9-be2b-2d54-9062-1253be3ce186/frame-000107.color.jpg\n",
      "Saved frame_position_numpy to embedding_file:  <_io.TextIOWrapper name='/home/igor/Desktop/Victoria/tisl/tisl_localization_22s_copy-main/rscan_test/02b33df9-be2b-2d54-9062-1253be3ce186.txt' mode='a' encoding='UTF-8'>\n",
      "===> Loading data\n",
      "Input image shape: torch.Size([1, 3, 540, 960])\n",
      "===> Building model\n"
     ]
    },
    {
     "name": "stderr",
     "output_type": "stream",
     "text": [
      "/home/igor/anaconda3/lib/python3.9/site-packages/torchvision/models/_utils.py:208: UserWarning: The parameter 'pretrained' is deprecated since 0.13 and will be removed in 0.15, please use 'weights' instead.\n",
      "  warnings.warn(\n",
      "/home/igor/anaconda3/lib/python3.9/site-packages/torchvision/models/_utils.py:223: UserWarning: Arguments other than a weight enum or `None` for 'weights' are deprecated since 0.13 and will be removed in 0.15. The current behavior is equivalent to passing `weights=VGG16_Weights.IMAGENET1K_V1`. You can also use `weights=VGG16_Weights.DEFAULT` to get the most up-to-date weights.\n",
      "  warnings.warn(msg)\n"
     ]
    },
    {
     "name": "stdout",
     "output_type": "stream",
     "text": [
      "NetVLAD setting:\n",
      "num_clusters: 64 dim: 512 vladv2: False\n",
      "=> loading checkpoint 'vgg16_netvlad_checkpoint/checkpoints/checkpoint.pth.tar'\n",
      "=> loaded checkpoint 'vgg16_netvlad_checkpoint/checkpoints/checkpoint.pth.tar' (epoch 25)\n",
      "===> Running evaluation step\n",
      "VLAD encoding: tensor([[ 0.0008, -0.0098,  0.0044,  ...,  0.0149,  0.0063, -0.0044]])\n",
      "VLAD encoding shape: torch.Size([1, 32768])\n",
      "Saved frame_vlad_embedding_pca to embedding_file:  <_io.TextIOWrapper name='/home/igor/Desktop/Victoria/tisl/tisl_localization_22s_copy-main/rscan_test/02b33df9-be2b-2d54-9062-1253be3ce186.txt' mode='a' encoding='UTF-8'>\n",
      "path_to_random_frame:  /home/igor/Desktop/Victoria/tisl/tisl_localization_22s_copy-main/rscan_test/02b33df9-be2b-2d54-9062-1253be3ce186/frame-000109.color.jpg\n",
      "Saved frame_position_numpy to embedding_file:  <_io.TextIOWrapper name='/home/igor/Desktop/Victoria/tisl/tisl_localization_22s_copy-main/rscan_test/02b33df9-be2b-2d54-9062-1253be3ce186.txt' mode='a' encoding='UTF-8'>\n",
      "===> Loading data\n",
      "Input image shape: torch.Size([1, 3, 540, 960])\n",
      "===> Building model\n"
     ]
    },
    {
     "name": "stderr",
     "output_type": "stream",
     "text": [
      "/home/igor/anaconda3/lib/python3.9/site-packages/torchvision/models/_utils.py:208: UserWarning: The parameter 'pretrained' is deprecated since 0.13 and will be removed in 0.15, please use 'weights' instead.\n",
      "  warnings.warn(\n",
      "/home/igor/anaconda3/lib/python3.9/site-packages/torchvision/models/_utils.py:223: UserWarning: Arguments other than a weight enum or `None` for 'weights' are deprecated since 0.13 and will be removed in 0.15. The current behavior is equivalent to passing `weights=VGG16_Weights.IMAGENET1K_V1`. You can also use `weights=VGG16_Weights.DEFAULT` to get the most up-to-date weights.\n",
      "  warnings.warn(msg)\n"
     ]
    },
    {
     "name": "stdout",
     "output_type": "stream",
     "text": [
      "NetVLAD setting:\n",
      "num_clusters: 64 dim: 512 vladv2: False\n",
      "=> loading checkpoint 'vgg16_netvlad_checkpoint/checkpoints/checkpoint.pth.tar'\n",
      "=> loaded checkpoint 'vgg16_netvlad_checkpoint/checkpoints/checkpoint.pth.tar' (epoch 25)\n",
      "===> Running evaluation step\n",
      "VLAD encoding: tensor([[-0.0039, -0.0069,  0.0006,  ...,  0.0126,  0.0071, -0.0059]])\n",
      "VLAD encoding shape: torch.Size([1, 32768])\n",
      "Saved frame_vlad_embedding_pca to embedding_file:  <_io.TextIOWrapper name='/home/igor/Desktop/Victoria/tisl/tisl_localization_22s_copy-main/rscan_test/02b33df9-be2b-2d54-9062-1253be3ce186.txt' mode='a' encoding='UTF-8'>\n",
      "path_to_random_frame:  /home/igor/Desktop/Victoria/tisl/tisl_localization_22s_copy-main/rscan_test/02b33df9-be2b-2d54-9062-1253be3ce186/frame-000110.color.jpg\n",
      "Saved frame_position_numpy to embedding_file:  <_io.TextIOWrapper name='/home/igor/Desktop/Victoria/tisl/tisl_localization_22s_copy-main/rscan_test/02b33df9-be2b-2d54-9062-1253be3ce186.txt' mode='a' encoding='UTF-8'>\n",
      "===> Loading data\n",
      "Input image shape: torch.Size([1, 3, 540, 960])\n",
      "===> Building model\n"
     ]
    },
    {
     "name": "stderr",
     "output_type": "stream",
     "text": [
      "/home/igor/anaconda3/lib/python3.9/site-packages/torchvision/models/_utils.py:208: UserWarning: The parameter 'pretrained' is deprecated since 0.13 and will be removed in 0.15, please use 'weights' instead.\n",
      "  warnings.warn(\n",
      "/home/igor/anaconda3/lib/python3.9/site-packages/torchvision/models/_utils.py:223: UserWarning: Arguments other than a weight enum or `None` for 'weights' are deprecated since 0.13 and will be removed in 0.15. The current behavior is equivalent to passing `weights=VGG16_Weights.IMAGENET1K_V1`. You can also use `weights=VGG16_Weights.DEFAULT` to get the most up-to-date weights.\n",
      "  warnings.warn(msg)\n"
     ]
    },
    {
     "name": "stdout",
     "output_type": "stream",
     "text": [
      "NetVLAD setting:\n",
      "num_clusters: 64 dim: 512 vladv2: False\n",
      "=> loading checkpoint 'vgg16_netvlad_checkpoint/checkpoints/checkpoint.pth.tar'\n",
      "=> loaded checkpoint 'vgg16_netvlad_checkpoint/checkpoints/checkpoint.pth.tar' (epoch 25)\n",
      "===> Running evaluation step\n",
      "VLAD encoding: tensor([[-0.0053, -0.0099,  0.0029,  ...,  0.0133,  0.0064, -0.0039]])\n",
      "VLAD encoding shape: torch.Size([1, 32768])\n",
      "Saved frame_vlad_embedding_pca to embedding_file:  <_io.TextIOWrapper name='/home/igor/Desktop/Victoria/tisl/tisl_localization_22s_copy-main/rscan_test/02b33df9-be2b-2d54-9062-1253be3ce186.txt' mode='a' encoding='UTF-8'>\n",
      "path_to_random_frame:  /home/igor/Desktop/Victoria/tisl/tisl_localization_22s_copy-main/rscan_test/02b33df9-be2b-2d54-9062-1253be3ce186/frame-000111.color.jpg\n",
      "Saved frame_position_numpy to embedding_file:  <_io.TextIOWrapper name='/home/igor/Desktop/Victoria/tisl/tisl_localization_22s_copy-main/rscan_test/02b33df9-be2b-2d54-9062-1253be3ce186.txt' mode='a' encoding='UTF-8'>\n",
      "===> Loading data\n",
      "Input image shape: torch.Size([1, 3, 540, 960])\n",
      "===> Building model\n"
     ]
    },
    {
     "name": "stderr",
     "output_type": "stream",
     "text": [
      "/home/igor/anaconda3/lib/python3.9/site-packages/torchvision/models/_utils.py:208: UserWarning: The parameter 'pretrained' is deprecated since 0.13 and will be removed in 0.15, please use 'weights' instead.\n",
      "  warnings.warn(\n",
      "/home/igor/anaconda3/lib/python3.9/site-packages/torchvision/models/_utils.py:223: UserWarning: Arguments other than a weight enum or `None` for 'weights' are deprecated since 0.13 and will be removed in 0.15. The current behavior is equivalent to passing `weights=VGG16_Weights.IMAGENET1K_V1`. You can also use `weights=VGG16_Weights.DEFAULT` to get the most up-to-date weights.\n",
      "  warnings.warn(msg)\n"
     ]
    },
    {
     "name": "stdout",
     "output_type": "stream",
     "text": [
      "NetVLAD setting:\n",
      "num_clusters: 64 dim: 512 vladv2: False\n",
      "=> loading checkpoint 'vgg16_netvlad_checkpoint/checkpoints/checkpoint.pth.tar'\n",
      "=> loaded checkpoint 'vgg16_netvlad_checkpoint/checkpoints/checkpoint.pth.tar' (epoch 25)\n",
      "===> Running evaluation step\n",
      "VLAD encoding: tensor([[-0.0020, -0.0048,  0.0067,  ...,  0.0096,  0.0058, -0.0053]])\n",
      "VLAD encoding shape: torch.Size([1, 32768])\n",
      "Saved frame_vlad_embedding_pca to embedding_file:  <_io.TextIOWrapper name='/home/igor/Desktop/Victoria/tisl/tisl_localization_22s_copy-main/rscan_test/02b33df9-be2b-2d54-9062-1253be3ce186.txt' mode='a' encoding='UTF-8'>\n",
      "path_to_random_frame:  /home/igor/Desktop/Victoria/tisl/tisl_localization_22s_copy-main/rscan_test/02b33df9-be2b-2d54-9062-1253be3ce186/frame-000113.color.jpg\n",
      "Saved frame_position_numpy to embedding_file:  <_io.TextIOWrapper name='/home/igor/Desktop/Victoria/tisl/tisl_localization_22s_copy-main/rscan_test/02b33df9-be2b-2d54-9062-1253be3ce186.txt' mode='a' encoding='UTF-8'>\n",
      "===> Loading data\n",
      "Input image shape: torch.Size([1, 3, 540, 960])\n",
      "===> Building model\n"
     ]
    },
    {
     "name": "stderr",
     "output_type": "stream",
     "text": [
      "/home/igor/anaconda3/lib/python3.9/site-packages/torchvision/models/_utils.py:208: UserWarning: The parameter 'pretrained' is deprecated since 0.13 and will be removed in 0.15, please use 'weights' instead.\n",
      "  warnings.warn(\n",
      "/home/igor/anaconda3/lib/python3.9/site-packages/torchvision/models/_utils.py:223: UserWarning: Arguments other than a weight enum or `None` for 'weights' are deprecated since 0.13 and will be removed in 0.15. The current behavior is equivalent to passing `weights=VGG16_Weights.IMAGENET1K_V1`. You can also use `weights=VGG16_Weights.DEFAULT` to get the most up-to-date weights.\n",
      "  warnings.warn(msg)\n"
     ]
    },
    {
     "name": "stdout",
     "output_type": "stream",
     "text": [
      "NetVLAD setting:\n",
      "num_clusters: 64 dim: 512 vladv2: False\n",
      "=> loading checkpoint 'vgg16_netvlad_checkpoint/checkpoints/checkpoint.pth.tar'\n",
      "=> loaded checkpoint 'vgg16_netvlad_checkpoint/checkpoints/checkpoint.pth.tar' (epoch 25)\n",
      "===> Running evaluation step\n",
      "VLAD encoding: tensor([[ 0.0033, -0.0011,  0.0017,  ...,  0.0133,  0.0092, -0.0057]])\n",
      "VLAD encoding shape: torch.Size([1, 32768])\n",
      "Saved frame_vlad_embedding_pca to embedding_file:  <_io.TextIOWrapper name='/home/igor/Desktop/Victoria/tisl/tisl_localization_22s_copy-main/rscan_test/02b33df9-be2b-2d54-9062-1253be3ce186.txt' mode='a' encoding='UTF-8'>\n",
      "processing 0/8\n",
      "path_to_random_frame:  /home/igor/Desktop/Victoria/tisl/tisl_localization_22s_copy-main/rscan_test/02b33dfb-be2b-2d54-92d2-cd012b2b3c40/frame-000000.color.jpg\n",
      "Saved frame_position_numpy to embedding_file:  <_io.TextIOWrapper name='/home/igor/Desktop/Victoria/tisl/tisl_localization_22s_copy-main/rscan_test/02b33dfb-be2b-2d54-92d2-cd012b2b3c40.txt' mode='a' encoding='UTF-8'>\n",
      "===> Loading data\n",
      "Input image shape: torch.Size([1, 3, 540, 960])\n",
      "===> Building model\n"
     ]
    },
    {
     "name": "stderr",
     "output_type": "stream",
     "text": [
      "/home/igor/anaconda3/lib/python3.9/site-packages/torchvision/models/_utils.py:208: UserWarning: The parameter 'pretrained' is deprecated since 0.13 and will be removed in 0.15, please use 'weights' instead.\n",
      "  warnings.warn(\n",
      "/home/igor/anaconda3/lib/python3.9/site-packages/torchvision/models/_utils.py:223: UserWarning: Arguments other than a weight enum or `None` for 'weights' are deprecated since 0.13 and will be removed in 0.15. The current behavior is equivalent to passing `weights=VGG16_Weights.IMAGENET1K_V1`. You can also use `weights=VGG16_Weights.DEFAULT` to get the most up-to-date weights.\n",
      "  warnings.warn(msg)\n"
     ]
    },
    {
     "name": "stdout",
     "output_type": "stream",
     "text": [
      "NetVLAD setting:\n",
      "num_clusters: 64 dim: 512 vladv2: False\n",
      "=> loading checkpoint 'vgg16_netvlad_checkpoint/checkpoints/checkpoint.pth.tar'\n",
      "=> loaded checkpoint 'vgg16_netvlad_checkpoint/checkpoints/checkpoint.pth.tar' (epoch 25)\n",
      "===> Running evaluation step\n",
      "VLAD encoding: tensor([[-0.0043,  0.0018,  0.0055,  ...,  0.0187,  0.0061, -0.0031]])\n",
      "VLAD encoding shape: torch.Size([1, 32768])\n",
      "Saved frame_vlad_embedding_pca to embedding_file:  <_io.TextIOWrapper name='/home/igor/Desktop/Victoria/tisl/tisl_localization_22s_copy-main/rscan_test/02b33dfb-be2b-2d54-92d2-cd012b2b3c40.txt' mode='a' encoding='UTF-8'>\n",
      "path_to_random_frame:  /home/igor/Desktop/Victoria/tisl/tisl_localization_22s_copy-main/rscan_test/02b33dfb-be2b-2d54-92d2-cd012b2b3c40/frame-000002.color.jpg\n",
      "Saved frame_position_numpy to embedding_file:  <_io.TextIOWrapper name='/home/igor/Desktop/Victoria/tisl/tisl_localization_22s_copy-main/rscan_test/02b33dfb-be2b-2d54-92d2-cd012b2b3c40.txt' mode='a' encoding='UTF-8'>\n",
      "===> Loading data\n",
      "Input image shape: torch.Size([1, 3, 540, 960])\n",
      "===> Building model\n"
     ]
    },
    {
     "name": "stderr",
     "output_type": "stream",
     "text": [
      "/home/igor/anaconda3/lib/python3.9/site-packages/torchvision/models/_utils.py:208: UserWarning: The parameter 'pretrained' is deprecated since 0.13 and will be removed in 0.15, please use 'weights' instead.\n",
      "  warnings.warn(\n",
      "/home/igor/anaconda3/lib/python3.9/site-packages/torchvision/models/_utils.py:223: UserWarning: Arguments other than a weight enum or `None` for 'weights' are deprecated since 0.13 and will be removed in 0.15. The current behavior is equivalent to passing `weights=VGG16_Weights.IMAGENET1K_V1`. You can also use `weights=VGG16_Weights.DEFAULT` to get the most up-to-date weights.\n",
      "  warnings.warn(msg)\n"
     ]
    },
    {
     "name": "stdout",
     "output_type": "stream",
     "text": [
      "NetVLAD setting:\n",
      "num_clusters: 64 dim: 512 vladv2: False\n",
      "=> loading checkpoint 'vgg16_netvlad_checkpoint/checkpoints/checkpoint.pth.tar'\n",
      "=> loaded checkpoint 'vgg16_netvlad_checkpoint/checkpoints/checkpoint.pth.tar' (epoch 25)\n",
      "===> Running evaluation step\n",
      "VLAD encoding: tensor([[ 0.0011, -0.0030,  0.0048,  ...,  0.0135,  0.0052, -0.0016]])\n",
      "VLAD encoding shape: torch.Size([1, 32768])\n",
      "Saved frame_vlad_embedding_pca to embedding_file:  <_io.TextIOWrapper name='/home/igor/Desktop/Victoria/tisl/tisl_localization_22s_copy-main/rscan_test/02b33dfb-be2b-2d54-92d2-cd012b2b3c40.txt' mode='a' encoding='UTF-8'>\n",
      "path_to_random_frame:  /home/igor/Desktop/Victoria/tisl/tisl_localization_22s_copy-main/rscan_test/02b33dfb-be2b-2d54-92d2-cd012b2b3c40/frame-000004.color.jpg\n",
      "Saved frame_position_numpy to embedding_file:  <_io.TextIOWrapper name='/home/igor/Desktop/Victoria/tisl/tisl_localization_22s_copy-main/rscan_test/02b33dfb-be2b-2d54-92d2-cd012b2b3c40.txt' mode='a' encoding='UTF-8'>\n",
      "===> Loading data\n",
      "Input image shape: torch.Size([1, 3, 540, 960])\n",
      "===> Building model\n"
     ]
    },
    {
     "name": "stderr",
     "output_type": "stream",
     "text": [
      "/home/igor/anaconda3/lib/python3.9/site-packages/torchvision/models/_utils.py:208: UserWarning: The parameter 'pretrained' is deprecated since 0.13 and will be removed in 0.15, please use 'weights' instead.\n",
      "  warnings.warn(\n",
      "/home/igor/anaconda3/lib/python3.9/site-packages/torchvision/models/_utils.py:223: UserWarning: Arguments other than a weight enum or `None` for 'weights' are deprecated since 0.13 and will be removed in 0.15. The current behavior is equivalent to passing `weights=VGG16_Weights.IMAGENET1K_V1`. You can also use `weights=VGG16_Weights.DEFAULT` to get the most up-to-date weights.\n",
      "  warnings.warn(msg)\n"
     ]
    },
    {
     "name": "stdout",
     "output_type": "stream",
     "text": [
      "NetVLAD setting:\n",
      "num_clusters: 64 dim: 512 vladv2: False\n",
      "=> loading checkpoint 'vgg16_netvlad_checkpoint/checkpoints/checkpoint.pth.tar'\n",
      "=> loaded checkpoint 'vgg16_netvlad_checkpoint/checkpoints/checkpoint.pth.tar' (epoch 25)\n",
      "===> Running evaluation step\n",
      "VLAD encoding: tensor([[ 0.0044, -0.0059,  0.0007,  ...,  0.0060,  0.0032, -0.0035]])\n",
      "VLAD encoding shape: torch.Size([1, 32768])\n",
      "Saved frame_vlad_embedding_pca to embedding_file:  <_io.TextIOWrapper name='/home/igor/Desktop/Victoria/tisl/tisl_localization_22s_copy-main/rscan_test/02b33dfb-be2b-2d54-92d2-cd012b2b3c40.txt' mode='a' encoding='UTF-8'>\n",
      "path_to_random_frame:  /home/igor/Desktop/Victoria/tisl/tisl_localization_22s_copy-main/rscan_test/02b33dfb-be2b-2d54-92d2-cd012b2b3c40/frame-000005.color.jpg\n",
      "Saved frame_position_numpy to embedding_file:  <_io.TextIOWrapper name='/home/igor/Desktop/Victoria/tisl/tisl_localization_22s_copy-main/rscan_test/02b33dfb-be2b-2d54-92d2-cd012b2b3c40.txt' mode='a' encoding='UTF-8'>\n",
      "===> Loading data\n",
      "Input image shape: torch.Size([1, 3, 540, 960])\n",
      "===> Building model\n"
     ]
    },
    {
     "name": "stderr",
     "output_type": "stream",
     "text": [
      "/home/igor/anaconda3/lib/python3.9/site-packages/torchvision/models/_utils.py:208: UserWarning: The parameter 'pretrained' is deprecated since 0.13 and will be removed in 0.15, please use 'weights' instead.\n",
      "  warnings.warn(\n",
      "/home/igor/anaconda3/lib/python3.9/site-packages/torchvision/models/_utils.py:223: UserWarning: Arguments other than a weight enum or `None` for 'weights' are deprecated since 0.13 and will be removed in 0.15. The current behavior is equivalent to passing `weights=VGG16_Weights.IMAGENET1K_V1`. You can also use `weights=VGG16_Weights.DEFAULT` to get the most up-to-date weights.\n",
      "  warnings.warn(msg)\n"
     ]
    },
    {
     "name": "stdout",
     "output_type": "stream",
     "text": [
      "NetVLAD setting:\n",
      "num_clusters: 64 dim: 512 vladv2: False\n",
      "=> loading checkpoint 'vgg16_netvlad_checkpoint/checkpoints/checkpoint.pth.tar'\n",
      "=> loaded checkpoint 'vgg16_netvlad_checkpoint/checkpoints/checkpoint.pth.tar' (epoch 25)\n",
      "===> Running evaluation step\n",
      "VLAD encoding: tensor([[-1.7153e-05, -7.5994e-03, -3.1595e-03,  ...,  1.2532e-02,\n",
      "          6.2679e-03, -4.8054e-03]])\n",
      "VLAD encoding shape: torch.Size([1, 32768])\n",
      "Saved frame_vlad_embedding_pca to embedding_file:  <_io.TextIOWrapper name='/home/igor/Desktop/Victoria/tisl/tisl_localization_22s_copy-main/rscan_test/02b33dfb-be2b-2d54-92d2-cd012b2b3c40.txt' mode='a' encoding='UTF-8'>\n",
      "path_to_random_frame:  /home/igor/Desktop/Victoria/tisl/tisl_localization_22s_copy-main/rscan_test/02b33dfb-be2b-2d54-92d2-cd012b2b3c40/frame-000008.color.jpg\n",
      "Saved frame_position_numpy to embedding_file:  <_io.TextIOWrapper name='/home/igor/Desktop/Victoria/tisl/tisl_localization_22s_copy-main/rscan_test/02b33dfb-be2b-2d54-92d2-cd012b2b3c40.txt' mode='a' encoding='UTF-8'>\n",
      "===> Loading data\n",
      "Input image shape: torch.Size([1, 3, 540, 960])\n",
      "===> Building model\n"
     ]
    },
    {
     "name": "stderr",
     "output_type": "stream",
     "text": [
      "/home/igor/anaconda3/lib/python3.9/site-packages/torchvision/models/_utils.py:208: UserWarning: The parameter 'pretrained' is deprecated since 0.13 and will be removed in 0.15, please use 'weights' instead.\n",
      "  warnings.warn(\n",
      "/home/igor/anaconda3/lib/python3.9/site-packages/torchvision/models/_utils.py:223: UserWarning: Arguments other than a weight enum or `None` for 'weights' are deprecated since 0.13 and will be removed in 0.15. The current behavior is equivalent to passing `weights=VGG16_Weights.IMAGENET1K_V1`. You can also use `weights=VGG16_Weights.DEFAULT` to get the most up-to-date weights.\n",
      "  warnings.warn(msg)\n"
     ]
    },
    {
     "name": "stdout",
     "output_type": "stream",
     "text": [
      "NetVLAD setting:\n",
      "num_clusters: 64 dim: 512 vladv2: False\n",
      "=> loading checkpoint 'vgg16_netvlad_checkpoint/checkpoints/checkpoint.pth.tar'\n",
      "=> loaded checkpoint 'vgg16_netvlad_checkpoint/checkpoints/checkpoint.pth.tar' (epoch 25)\n",
      "===> Running evaluation step\n",
      "VLAD encoding: tensor([[-0.0011, -0.0041,  0.0028,  ...,  0.0141,  0.0055,  0.0037]])\n",
      "VLAD encoding shape: torch.Size([1, 32768])\n",
      "Saved frame_vlad_embedding_pca to embedding_file:  <_io.TextIOWrapper name='/home/igor/Desktop/Victoria/tisl/tisl_localization_22s_copy-main/rscan_test/02b33dfb-be2b-2d54-92d2-cd012b2b3c40.txt' mode='a' encoding='UTF-8'>\n",
      "path_to_random_frame:  /home/igor/Desktop/Victoria/tisl/tisl_localization_22s_copy-main/rscan_test/02b33dfb-be2b-2d54-92d2-cd012b2b3c40/frame-000009.color.jpg\n",
      "Saved frame_position_numpy to embedding_file:  <_io.TextIOWrapper name='/home/igor/Desktop/Victoria/tisl/tisl_localization_22s_copy-main/rscan_test/02b33dfb-be2b-2d54-92d2-cd012b2b3c40.txt' mode='a' encoding='UTF-8'>\n",
      "===> Loading data\n",
      "Input image shape: torch.Size([1, 3, 540, 960])\n",
      "===> Building model\n"
     ]
    },
    {
     "name": "stderr",
     "output_type": "stream",
     "text": [
      "/home/igor/anaconda3/lib/python3.9/site-packages/torchvision/models/_utils.py:208: UserWarning: The parameter 'pretrained' is deprecated since 0.13 and will be removed in 0.15, please use 'weights' instead.\n",
      "  warnings.warn(\n",
      "/home/igor/anaconda3/lib/python3.9/site-packages/torchvision/models/_utils.py:223: UserWarning: Arguments other than a weight enum or `None` for 'weights' are deprecated since 0.13 and will be removed in 0.15. The current behavior is equivalent to passing `weights=VGG16_Weights.IMAGENET1K_V1`. You can also use `weights=VGG16_Weights.DEFAULT` to get the most up-to-date weights.\n",
      "  warnings.warn(msg)\n"
     ]
    },
    {
     "name": "stdout",
     "output_type": "stream",
     "text": [
      "NetVLAD setting:\n",
      "num_clusters: 64 dim: 512 vladv2: False\n",
      "=> loading checkpoint 'vgg16_netvlad_checkpoint/checkpoints/checkpoint.pth.tar'\n",
      "=> loaded checkpoint 'vgg16_netvlad_checkpoint/checkpoints/checkpoint.pth.tar' (epoch 25)\n",
      "===> Running evaluation step\n",
      "VLAD encoding: tensor([[-0.0039, -0.0023,  0.0021,  ...,  0.0114,  0.0020, -0.0074]])\n",
      "VLAD encoding shape: torch.Size([1, 32768])\n",
      "Saved frame_vlad_embedding_pca to embedding_file:  <_io.TextIOWrapper name='/home/igor/Desktop/Victoria/tisl/tisl_localization_22s_copy-main/rscan_test/02b33dfb-be2b-2d54-92d2-cd012b2b3c40.txt' mode='a' encoding='UTF-8'>\n",
      "path_to_random_frame:  /home/igor/Desktop/Victoria/tisl/tisl_localization_22s_copy-main/rscan_test/02b33dfb-be2b-2d54-92d2-cd012b2b3c40/frame-000011.color.jpg\n",
      "Saved frame_position_numpy to embedding_file:  <_io.TextIOWrapper name='/home/igor/Desktop/Victoria/tisl/tisl_localization_22s_copy-main/rscan_test/02b33dfb-be2b-2d54-92d2-cd012b2b3c40.txt' mode='a' encoding='UTF-8'>\n",
      "===> Loading data\n",
      "Input image shape: torch.Size([1, 3, 540, 960])\n",
      "===> Building model\n"
     ]
    },
    {
     "name": "stderr",
     "output_type": "stream",
     "text": [
      "/home/igor/anaconda3/lib/python3.9/site-packages/torchvision/models/_utils.py:208: UserWarning: The parameter 'pretrained' is deprecated since 0.13 and will be removed in 0.15, please use 'weights' instead.\n",
      "  warnings.warn(\n",
      "/home/igor/anaconda3/lib/python3.9/site-packages/torchvision/models/_utils.py:223: UserWarning: Arguments other than a weight enum or `None` for 'weights' are deprecated since 0.13 and will be removed in 0.15. The current behavior is equivalent to passing `weights=VGG16_Weights.IMAGENET1K_V1`. You can also use `weights=VGG16_Weights.DEFAULT` to get the most up-to-date weights.\n",
      "  warnings.warn(msg)\n"
     ]
    },
    {
     "name": "stdout",
     "output_type": "stream",
     "text": [
      "NetVLAD setting:\n",
      "num_clusters: 64 dim: 512 vladv2: False\n",
      "=> loading checkpoint 'vgg16_netvlad_checkpoint/checkpoints/checkpoint.pth.tar'\n",
      "=> loaded checkpoint 'vgg16_netvlad_checkpoint/checkpoints/checkpoint.pth.tar' (epoch 25)\n",
      "===> Running evaluation step\n",
      "VLAD encoding: tensor([[-0.0009, -0.0004,  0.0004,  ...,  0.0115,  0.0043, -0.0009]])\n",
      "VLAD encoding shape: torch.Size([1, 32768])\n",
      "Saved frame_vlad_embedding_pca to embedding_file:  <_io.TextIOWrapper name='/home/igor/Desktop/Victoria/tisl/tisl_localization_22s_copy-main/rscan_test/02b33dfb-be2b-2d54-92d2-cd012b2b3c40.txt' mode='a' encoding='UTF-8'>\n",
      "path_to_random_frame:  /home/igor/Desktop/Victoria/tisl/tisl_localization_22s_copy-main/rscan_test/02b33dfb-be2b-2d54-92d2-cd012b2b3c40/frame-000013.color.jpg\n",
      "Saved frame_position_numpy to embedding_file:  <_io.TextIOWrapper name='/home/igor/Desktop/Victoria/tisl/tisl_localization_22s_copy-main/rscan_test/02b33dfb-be2b-2d54-92d2-cd012b2b3c40.txt' mode='a' encoding='UTF-8'>\n",
      "===> Loading data\n",
      "Input image shape: torch.Size([1, 3, 540, 960])\n",
      "===> Building model\n"
     ]
    },
    {
     "name": "stderr",
     "output_type": "stream",
     "text": [
      "/home/igor/anaconda3/lib/python3.9/site-packages/torchvision/models/_utils.py:208: UserWarning: The parameter 'pretrained' is deprecated since 0.13 and will be removed in 0.15, please use 'weights' instead.\n",
      "  warnings.warn(\n",
      "/home/igor/anaconda3/lib/python3.9/site-packages/torchvision/models/_utils.py:223: UserWarning: Arguments other than a weight enum or `None` for 'weights' are deprecated since 0.13 and will be removed in 0.15. The current behavior is equivalent to passing `weights=VGG16_Weights.IMAGENET1K_V1`. You can also use `weights=VGG16_Weights.DEFAULT` to get the most up-to-date weights.\n",
      "  warnings.warn(msg)\n"
     ]
    },
    {
     "name": "stdout",
     "output_type": "stream",
     "text": [
      "NetVLAD setting:\n",
      "num_clusters: 64 dim: 512 vladv2: False\n",
      "=> loading checkpoint 'vgg16_netvlad_checkpoint/checkpoints/checkpoint.pth.tar'\n",
      "=> loaded checkpoint 'vgg16_netvlad_checkpoint/checkpoints/checkpoint.pth.tar' (epoch 25)\n",
      "===> Running evaluation step\n",
      "VLAD encoding: tensor([[-0.0015, -0.0049,  0.0055,  ...,  0.0105,  0.0049, -0.0044]])\n",
      "VLAD encoding shape: torch.Size([1, 32768])\n",
      "Saved frame_vlad_embedding_pca to embedding_file:  <_io.TextIOWrapper name='/home/igor/Desktop/Victoria/tisl/tisl_localization_22s_copy-main/rscan_test/02b33dfb-be2b-2d54-92d2-cd012b2b3c40.txt' mode='a' encoding='UTF-8'>\n",
      "path_to_random_frame:  /home/igor/Desktop/Victoria/tisl/tisl_localization_22s_copy-main/rscan_test/02b33dfb-be2b-2d54-92d2-cd012b2b3c40/frame-000016.color.jpg\n",
      "Saved frame_position_numpy to embedding_file:  <_io.TextIOWrapper name='/home/igor/Desktop/Victoria/tisl/tisl_localization_22s_copy-main/rscan_test/02b33dfb-be2b-2d54-92d2-cd012b2b3c40.txt' mode='a' encoding='UTF-8'>\n",
      "===> Loading data\n",
      "Input image shape: torch.Size([1, 3, 540, 960])\n",
      "===> Building model\n"
     ]
    },
    {
     "name": "stderr",
     "output_type": "stream",
     "text": [
      "/home/igor/anaconda3/lib/python3.9/site-packages/torchvision/models/_utils.py:208: UserWarning: The parameter 'pretrained' is deprecated since 0.13 and will be removed in 0.15, please use 'weights' instead.\n",
      "  warnings.warn(\n",
      "/home/igor/anaconda3/lib/python3.9/site-packages/torchvision/models/_utils.py:223: UserWarning: Arguments other than a weight enum or `None` for 'weights' are deprecated since 0.13 and will be removed in 0.15. The current behavior is equivalent to passing `weights=VGG16_Weights.IMAGENET1K_V1`. You can also use `weights=VGG16_Weights.DEFAULT` to get the most up-to-date weights.\n",
      "  warnings.warn(msg)\n"
     ]
    },
    {
     "name": "stdout",
     "output_type": "stream",
     "text": [
      "NetVLAD setting:\n",
      "num_clusters: 64 dim: 512 vladv2: False\n",
      "=> loading checkpoint 'vgg16_netvlad_checkpoint/checkpoints/checkpoint.pth.tar'\n",
      "=> loaded checkpoint 'vgg16_netvlad_checkpoint/checkpoints/checkpoint.pth.tar' (epoch 25)\n",
      "===> Running evaluation step\n",
      "VLAD encoding: tensor([[-0.0029, -0.0026, -0.0013,  ...,  0.0106,  0.0041, -0.0022]])\n",
      "VLAD encoding shape: torch.Size([1, 32768])\n",
      "Saved frame_vlad_embedding_pca to embedding_file:  <_io.TextIOWrapper name='/home/igor/Desktop/Victoria/tisl/tisl_localization_22s_copy-main/rscan_test/02b33dfb-be2b-2d54-92d2-cd012b2b3c40.txt' mode='a' encoding='UTF-8'>\n",
      "path_to_random_frame:  /home/igor/Desktop/Victoria/tisl/tisl_localization_22s_copy-main/rscan_test/02b33dfb-be2b-2d54-92d2-cd012b2b3c40/frame-000018.color.jpg\n",
      "Saved frame_position_numpy to embedding_file:  <_io.TextIOWrapper name='/home/igor/Desktop/Victoria/tisl/tisl_localization_22s_copy-main/rscan_test/02b33dfb-be2b-2d54-92d2-cd012b2b3c40.txt' mode='a' encoding='UTF-8'>\n",
      "===> Loading data\n",
      "Input image shape: torch.Size([1, 3, 540, 960])\n",
      "===> Building model\n"
     ]
    },
    {
     "name": "stderr",
     "output_type": "stream",
     "text": [
      "/home/igor/anaconda3/lib/python3.9/site-packages/torchvision/models/_utils.py:208: UserWarning: The parameter 'pretrained' is deprecated since 0.13 and will be removed in 0.15, please use 'weights' instead.\n",
      "  warnings.warn(\n",
      "/home/igor/anaconda3/lib/python3.9/site-packages/torchvision/models/_utils.py:223: UserWarning: Arguments other than a weight enum or `None` for 'weights' are deprecated since 0.13 and will be removed in 0.15. The current behavior is equivalent to passing `weights=VGG16_Weights.IMAGENET1K_V1`. You can also use `weights=VGG16_Weights.DEFAULT` to get the most up-to-date weights.\n",
      "  warnings.warn(msg)\n"
     ]
    },
    {
     "name": "stdout",
     "output_type": "stream",
     "text": [
      "NetVLAD setting:\n",
      "num_clusters: 64 dim: 512 vladv2: False\n",
      "=> loading checkpoint 'vgg16_netvlad_checkpoint/checkpoints/checkpoint.pth.tar'\n",
      "=> loaded checkpoint 'vgg16_netvlad_checkpoint/checkpoints/checkpoint.pth.tar' (epoch 25)\n",
      "===> Running evaluation step\n",
      "VLAD encoding: tensor([[ 0.0006, -0.0097,  0.0032,  ...,  0.0102,  0.0036, -0.0066]])\n",
      "VLAD encoding shape: torch.Size([1, 32768])\n",
      "Saved frame_vlad_embedding_pca to embedding_file:  <_io.TextIOWrapper name='/home/igor/Desktop/Victoria/tisl/tisl_localization_22s_copy-main/rscan_test/02b33dfb-be2b-2d54-92d2-cd012b2b3c40.txt' mode='a' encoding='UTF-8'>\n",
      "path_to_random_frame:  /home/igor/Desktop/Victoria/tisl/tisl_localization_22s_copy-main/rscan_test/02b33dfb-be2b-2d54-92d2-cd012b2b3c40/frame-000020.color.jpg\n",
      "Saved frame_position_numpy to embedding_file:  <_io.TextIOWrapper name='/home/igor/Desktop/Victoria/tisl/tisl_localization_22s_copy-main/rscan_test/02b33dfb-be2b-2d54-92d2-cd012b2b3c40.txt' mode='a' encoding='UTF-8'>\n",
      "===> Loading data\n",
      "Input image shape: torch.Size([1, 3, 540, 960])\n",
      "===> Building model\n"
     ]
    },
    {
     "name": "stderr",
     "output_type": "stream",
     "text": [
      "/home/igor/anaconda3/lib/python3.9/site-packages/torchvision/models/_utils.py:208: UserWarning: The parameter 'pretrained' is deprecated since 0.13 and will be removed in 0.15, please use 'weights' instead.\n",
      "  warnings.warn(\n",
      "/home/igor/anaconda3/lib/python3.9/site-packages/torchvision/models/_utils.py:223: UserWarning: Arguments other than a weight enum or `None` for 'weights' are deprecated since 0.13 and will be removed in 0.15. The current behavior is equivalent to passing `weights=VGG16_Weights.IMAGENET1K_V1`. You can also use `weights=VGG16_Weights.DEFAULT` to get the most up-to-date weights.\n",
      "  warnings.warn(msg)\n"
     ]
    },
    {
     "name": "stdout",
     "output_type": "stream",
     "text": [
      "NetVLAD setting:\n",
      "num_clusters: 64 dim: 512 vladv2: False\n",
      "=> loading checkpoint 'vgg16_netvlad_checkpoint/checkpoints/checkpoint.pth.tar'\n",
      "=> loaded checkpoint 'vgg16_netvlad_checkpoint/checkpoints/checkpoint.pth.tar' (epoch 25)\n",
      "===> Running evaluation step\n",
      "VLAD encoding: tensor([[-0.0034,  0.0028,  0.0016,  ...,  0.0209,  0.0029, -0.0068]])\n",
      "VLAD encoding shape: torch.Size([1, 32768])\n",
      "Saved frame_vlad_embedding_pca to embedding_file:  <_io.TextIOWrapper name='/home/igor/Desktop/Victoria/tisl/tisl_localization_22s_copy-main/rscan_test/02b33dfb-be2b-2d54-92d2-cd012b2b3c40.txt' mode='a' encoding='UTF-8'>\n",
      "path_to_random_frame:  /home/igor/Desktop/Victoria/tisl/tisl_localization_22s_copy-main/rscan_test/02b33dfb-be2b-2d54-92d2-cd012b2b3c40/frame-000022.color.jpg\n",
      "Saved frame_position_numpy to embedding_file:  <_io.TextIOWrapper name='/home/igor/Desktop/Victoria/tisl/tisl_localization_22s_copy-main/rscan_test/02b33dfb-be2b-2d54-92d2-cd012b2b3c40.txt' mode='a' encoding='UTF-8'>\n",
      "===> Loading data\n",
      "Input image shape: torch.Size([1, 3, 540, 960])\n",
      "===> Building model\n"
     ]
    },
    {
     "name": "stderr",
     "output_type": "stream",
     "text": [
      "/home/igor/anaconda3/lib/python3.9/site-packages/torchvision/models/_utils.py:208: UserWarning: The parameter 'pretrained' is deprecated since 0.13 and will be removed in 0.15, please use 'weights' instead.\n",
      "  warnings.warn(\n",
      "/home/igor/anaconda3/lib/python3.9/site-packages/torchvision/models/_utils.py:223: UserWarning: Arguments other than a weight enum or `None` for 'weights' are deprecated since 0.13 and will be removed in 0.15. The current behavior is equivalent to passing `weights=VGG16_Weights.IMAGENET1K_V1`. You can also use `weights=VGG16_Weights.DEFAULT` to get the most up-to-date weights.\n",
      "  warnings.warn(msg)\n"
     ]
    },
    {
     "name": "stdout",
     "output_type": "stream",
     "text": [
      "NetVLAD setting:\n",
      "num_clusters: 64 dim: 512 vladv2: False\n",
      "=> loading checkpoint 'vgg16_netvlad_checkpoint/checkpoints/checkpoint.pth.tar'\n",
      "=> loaded checkpoint 'vgg16_netvlad_checkpoint/checkpoints/checkpoint.pth.tar' (epoch 25)\n",
      "===> Running evaluation step\n",
      "VLAD encoding: tensor([[-0.0053, -0.0077,  0.0033,  ...,  0.0156,  0.0047,  0.0003]])\n",
      "VLAD encoding shape: torch.Size([1, 32768])\n",
      "Saved frame_vlad_embedding_pca to embedding_file:  <_io.TextIOWrapper name='/home/igor/Desktop/Victoria/tisl/tisl_localization_22s_copy-main/rscan_test/02b33dfb-be2b-2d54-92d2-cd012b2b3c40.txt' mode='a' encoding='UTF-8'>\n",
      "path_to_random_frame:  /home/igor/Desktop/Victoria/tisl/tisl_localization_22s_copy-main/rscan_test/02b33dfb-be2b-2d54-92d2-cd012b2b3c40/frame-000026.color.jpg\n",
      "Saved frame_position_numpy to embedding_file:  <_io.TextIOWrapper name='/home/igor/Desktop/Victoria/tisl/tisl_localization_22s_copy-main/rscan_test/02b33dfb-be2b-2d54-92d2-cd012b2b3c40.txt' mode='a' encoding='UTF-8'>\n",
      "===> Loading data\n",
      "Input image shape: torch.Size([1, 3, 540, 960])\n",
      "===> Building model\n"
     ]
    },
    {
     "name": "stderr",
     "output_type": "stream",
     "text": [
      "/home/igor/anaconda3/lib/python3.9/site-packages/torchvision/models/_utils.py:208: UserWarning: The parameter 'pretrained' is deprecated since 0.13 and will be removed in 0.15, please use 'weights' instead.\n",
      "  warnings.warn(\n",
      "/home/igor/anaconda3/lib/python3.9/site-packages/torchvision/models/_utils.py:223: UserWarning: Arguments other than a weight enum or `None` for 'weights' are deprecated since 0.13 and will be removed in 0.15. The current behavior is equivalent to passing `weights=VGG16_Weights.IMAGENET1K_V1`. You can also use `weights=VGG16_Weights.DEFAULT` to get the most up-to-date weights.\n",
      "  warnings.warn(msg)\n"
     ]
    },
    {
     "name": "stdout",
     "output_type": "stream",
     "text": [
      "NetVLAD setting:\n",
      "num_clusters: 64 dim: 512 vladv2: False\n",
      "=> loading checkpoint 'vgg16_netvlad_checkpoint/checkpoints/checkpoint.pth.tar'\n",
      "=> loaded checkpoint 'vgg16_netvlad_checkpoint/checkpoints/checkpoint.pth.tar' (epoch 25)\n",
      "===> Running evaluation step\n",
      "VLAD encoding: tensor([[ 0.0017, -0.0027,  0.0074,  ...,  0.0070,  0.0063,  0.0008]])\n",
      "VLAD encoding shape: torch.Size([1, 32768])\n",
      "Saved frame_vlad_embedding_pca to embedding_file:  <_io.TextIOWrapper name='/home/igor/Desktop/Victoria/tisl/tisl_localization_22s_copy-main/rscan_test/02b33dfb-be2b-2d54-92d2-cd012b2b3c40.txt' mode='a' encoding='UTF-8'>\n",
      "path_to_random_frame:  /home/igor/Desktop/Victoria/tisl/tisl_localization_22s_copy-main/rscan_test/02b33dfb-be2b-2d54-92d2-cd012b2b3c40/frame-000027.color.jpg\n",
      "Saved frame_position_numpy to embedding_file:  <_io.TextIOWrapper name='/home/igor/Desktop/Victoria/tisl/tisl_localization_22s_copy-main/rscan_test/02b33dfb-be2b-2d54-92d2-cd012b2b3c40.txt' mode='a' encoding='UTF-8'>\n",
      "===> Loading data\n",
      "Input image shape: torch.Size([1, 3, 540, 960])\n",
      "===> Building model\n"
     ]
    },
    {
     "name": "stderr",
     "output_type": "stream",
     "text": [
      "/home/igor/anaconda3/lib/python3.9/site-packages/torchvision/models/_utils.py:208: UserWarning: The parameter 'pretrained' is deprecated since 0.13 and will be removed in 0.15, please use 'weights' instead.\n",
      "  warnings.warn(\n",
      "/home/igor/anaconda3/lib/python3.9/site-packages/torchvision/models/_utils.py:223: UserWarning: Arguments other than a weight enum or `None` for 'weights' are deprecated since 0.13 and will be removed in 0.15. The current behavior is equivalent to passing `weights=VGG16_Weights.IMAGENET1K_V1`. You can also use `weights=VGG16_Weights.DEFAULT` to get the most up-to-date weights.\n",
      "  warnings.warn(msg)\n"
     ]
    },
    {
     "name": "stdout",
     "output_type": "stream",
     "text": [
      "NetVLAD setting:\n",
      "num_clusters: 64 dim: 512 vladv2: False\n",
      "=> loading checkpoint 'vgg16_netvlad_checkpoint/checkpoints/checkpoint.pth.tar'\n",
      "=> loaded checkpoint 'vgg16_netvlad_checkpoint/checkpoints/checkpoint.pth.tar' (epoch 25)\n",
      "===> Running evaluation step\n",
      "VLAD encoding: tensor([[ 0.0018,  0.0035, -0.0008,  ...,  0.0069,  0.0118, -0.0053]])\n",
      "VLAD encoding shape: torch.Size([1, 32768])\n",
      "Saved frame_vlad_embedding_pca to embedding_file:  <_io.TextIOWrapper name='/home/igor/Desktop/Victoria/tisl/tisl_localization_22s_copy-main/rscan_test/02b33dfb-be2b-2d54-92d2-cd012b2b3c40.txt' mode='a' encoding='UTF-8'>\n",
      "path_to_random_frame:  /home/igor/Desktop/Victoria/tisl/tisl_localization_22s_copy-main/rscan_test/02b33dfb-be2b-2d54-92d2-cd012b2b3c40/frame-000033.color.jpg\n",
      "Saved frame_position_numpy to embedding_file:  <_io.TextIOWrapper name='/home/igor/Desktop/Victoria/tisl/tisl_localization_22s_copy-main/rscan_test/02b33dfb-be2b-2d54-92d2-cd012b2b3c40.txt' mode='a' encoding='UTF-8'>\n",
      "===> Loading data\n",
      "Input image shape: torch.Size([1, 3, 540, 960])\n",
      "===> Building model\n"
     ]
    },
    {
     "name": "stderr",
     "output_type": "stream",
     "text": [
      "/home/igor/anaconda3/lib/python3.9/site-packages/torchvision/models/_utils.py:208: UserWarning: The parameter 'pretrained' is deprecated since 0.13 and will be removed in 0.15, please use 'weights' instead.\n",
      "  warnings.warn(\n",
      "/home/igor/anaconda3/lib/python3.9/site-packages/torchvision/models/_utils.py:223: UserWarning: Arguments other than a weight enum or `None` for 'weights' are deprecated since 0.13 and will be removed in 0.15. The current behavior is equivalent to passing `weights=VGG16_Weights.IMAGENET1K_V1`. You can also use `weights=VGG16_Weights.DEFAULT` to get the most up-to-date weights.\n",
      "  warnings.warn(msg)\n"
     ]
    },
    {
     "name": "stdout",
     "output_type": "stream",
     "text": [
      "NetVLAD setting:\n",
      "num_clusters: 64 dim: 512 vladv2: False\n",
      "=> loading checkpoint 'vgg16_netvlad_checkpoint/checkpoints/checkpoint.pth.tar'\n",
      "=> loaded checkpoint 'vgg16_netvlad_checkpoint/checkpoints/checkpoint.pth.tar' (epoch 25)\n",
      "===> Running evaluation step\n",
      "VLAD encoding: tensor([[ 0.0005, -0.0008,  0.0101,  ...,  0.0070,  0.0070,  0.0016]])\n",
      "VLAD encoding shape: torch.Size([1, 32768])\n",
      "Saved frame_vlad_embedding_pca to embedding_file:  <_io.TextIOWrapper name='/home/igor/Desktop/Victoria/tisl/tisl_localization_22s_copy-main/rscan_test/02b33dfb-be2b-2d54-92d2-cd012b2b3c40.txt' mode='a' encoding='UTF-8'>\n",
      "path_to_random_frame:  /home/igor/Desktop/Victoria/tisl/tisl_localization_22s_copy-main/rscan_test/02b33dfb-be2b-2d54-92d2-cd012b2b3c40/frame-000034.color.jpg\n",
      "Saved frame_position_numpy to embedding_file:  <_io.TextIOWrapper name='/home/igor/Desktop/Victoria/tisl/tisl_localization_22s_copy-main/rscan_test/02b33dfb-be2b-2d54-92d2-cd012b2b3c40.txt' mode='a' encoding='UTF-8'>\n",
      "===> Loading data\n",
      "Input image shape: torch.Size([1, 3, 540, 960])\n",
      "===> Building model\n"
     ]
    },
    {
     "name": "stderr",
     "output_type": "stream",
     "text": [
      "/home/igor/anaconda3/lib/python3.9/site-packages/torchvision/models/_utils.py:208: UserWarning: The parameter 'pretrained' is deprecated since 0.13 and will be removed in 0.15, please use 'weights' instead.\n",
      "  warnings.warn(\n",
      "/home/igor/anaconda3/lib/python3.9/site-packages/torchvision/models/_utils.py:223: UserWarning: Arguments other than a weight enum or `None` for 'weights' are deprecated since 0.13 and will be removed in 0.15. The current behavior is equivalent to passing `weights=VGG16_Weights.IMAGENET1K_V1`. You can also use `weights=VGG16_Weights.DEFAULT` to get the most up-to-date weights.\n",
      "  warnings.warn(msg)\n"
     ]
    },
    {
     "name": "stdout",
     "output_type": "stream",
     "text": [
      "NetVLAD setting:\n",
      "num_clusters: 64 dim: 512 vladv2: False\n",
      "=> loading checkpoint 'vgg16_netvlad_checkpoint/checkpoints/checkpoint.pth.tar'\n",
      "=> loaded checkpoint 'vgg16_netvlad_checkpoint/checkpoints/checkpoint.pth.tar' (epoch 25)\n",
      "===> Running evaluation step\n",
      "VLAD encoding: tensor([[-0.0047, -0.0064, -0.0023,  ...,  0.0051,  0.0061, -0.0051]])\n",
      "VLAD encoding shape: torch.Size([1, 32768])\n",
      "Saved frame_vlad_embedding_pca to embedding_file:  <_io.TextIOWrapper name='/home/igor/Desktop/Victoria/tisl/tisl_localization_22s_copy-main/rscan_test/02b33dfb-be2b-2d54-92d2-cd012b2b3c40.txt' mode='a' encoding='UTF-8'>\n",
      "path_to_random_frame:  /home/igor/Desktop/Victoria/tisl/tisl_localization_22s_copy-main/rscan_test/02b33dfb-be2b-2d54-92d2-cd012b2b3c40/frame-000037.color.jpg\n",
      "Saved frame_position_numpy to embedding_file:  <_io.TextIOWrapper name='/home/igor/Desktop/Victoria/tisl/tisl_localization_22s_copy-main/rscan_test/02b33dfb-be2b-2d54-92d2-cd012b2b3c40.txt' mode='a' encoding='UTF-8'>\n",
      "===> Loading data\n",
      "Input image shape: torch.Size([1, 3, 540, 960])\n",
      "===> Building model\n"
     ]
    },
    {
     "name": "stderr",
     "output_type": "stream",
     "text": [
      "/home/igor/anaconda3/lib/python3.9/site-packages/torchvision/models/_utils.py:208: UserWarning: The parameter 'pretrained' is deprecated since 0.13 and will be removed in 0.15, please use 'weights' instead.\n",
      "  warnings.warn(\n",
      "/home/igor/anaconda3/lib/python3.9/site-packages/torchvision/models/_utils.py:223: UserWarning: Arguments other than a weight enum or `None` for 'weights' are deprecated since 0.13 and will be removed in 0.15. The current behavior is equivalent to passing `weights=VGG16_Weights.IMAGENET1K_V1`. You can also use `weights=VGG16_Weights.DEFAULT` to get the most up-to-date weights.\n",
      "  warnings.warn(msg)\n"
     ]
    },
    {
     "name": "stdout",
     "output_type": "stream",
     "text": [
      "NetVLAD setting:\n",
      "num_clusters: 64 dim: 512 vladv2: False\n",
      "=> loading checkpoint 'vgg16_netvlad_checkpoint/checkpoints/checkpoint.pth.tar'\n",
      "=> loaded checkpoint 'vgg16_netvlad_checkpoint/checkpoints/checkpoint.pth.tar' (epoch 25)\n",
      "===> Running evaluation step\n",
      "VLAD encoding: tensor([[ 0.0035,  0.0063,  0.0051,  ...,  0.0128,  0.0062, -0.0049]])\n",
      "VLAD encoding shape: torch.Size([1, 32768])\n",
      "Saved frame_vlad_embedding_pca to embedding_file:  <_io.TextIOWrapper name='/home/igor/Desktop/Victoria/tisl/tisl_localization_22s_copy-main/rscan_test/02b33dfb-be2b-2d54-92d2-cd012b2b3c40.txt' mode='a' encoding='UTF-8'>\n",
      "path_to_random_frame:  /home/igor/Desktop/Victoria/tisl/tisl_localization_22s_copy-main/rscan_test/02b33dfb-be2b-2d54-92d2-cd012b2b3c40/frame-000039.color.jpg\n",
      "Saved frame_position_numpy to embedding_file:  <_io.TextIOWrapper name='/home/igor/Desktop/Victoria/tisl/tisl_localization_22s_copy-main/rscan_test/02b33dfb-be2b-2d54-92d2-cd012b2b3c40.txt' mode='a' encoding='UTF-8'>\n",
      "===> Loading data\n",
      "Input image shape: torch.Size([1, 3, 540, 960])\n",
      "===> Building model\n"
     ]
    },
    {
     "name": "stderr",
     "output_type": "stream",
     "text": [
      "/home/igor/anaconda3/lib/python3.9/site-packages/torchvision/models/_utils.py:208: UserWarning: The parameter 'pretrained' is deprecated since 0.13 and will be removed in 0.15, please use 'weights' instead.\n",
      "  warnings.warn(\n",
      "/home/igor/anaconda3/lib/python3.9/site-packages/torchvision/models/_utils.py:223: UserWarning: Arguments other than a weight enum or `None` for 'weights' are deprecated since 0.13 and will be removed in 0.15. The current behavior is equivalent to passing `weights=VGG16_Weights.IMAGENET1K_V1`. You can also use `weights=VGG16_Weights.DEFAULT` to get the most up-to-date weights.\n",
      "  warnings.warn(msg)\n"
     ]
    },
    {
     "name": "stdout",
     "output_type": "stream",
     "text": [
      "NetVLAD setting:\n",
      "num_clusters: 64 dim: 512 vladv2: False\n",
      "=> loading checkpoint 'vgg16_netvlad_checkpoint/checkpoints/checkpoint.pth.tar'\n",
      "=> loaded checkpoint 'vgg16_netvlad_checkpoint/checkpoints/checkpoint.pth.tar' (epoch 25)\n",
      "===> Running evaluation step\n",
      "VLAD encoding: tensor([[ 0.0076,  0.0062,  0.0005,  ...,  0.0079,  0.0052, -0.0021]])\n",
      "VLAD encoding shape: torch.Size([1, 32768])\n",
      "Saved frame_vlad_embedding_pca to embedding_file:  <_io.TextIOWrapper name='/home/igor/Desktop/Victoria/tisl/tisl_localization_22s_copy-main/rscan_test/02b33dfb-be2b-2d54-92d2-cd012b2b3c40.txt' mode='a' encoding='UTF-8'>\n",
      "path_to_random_frame:  /home/igor/Desktop/Victoria/tisl/tisl_localization_22s_copy-main/rscan_test/02b33dfb-be2b-2d54-92d2-cd012b2b3c40/frame-000040.color.jpg\n",
      "Saved frame_position_numpy to embedding_file:  <_io.TextIOWrapper name='/home/igor/Desktop/Victoria/tisl/tisl_localization_22s_copy-main/rscan_test/02b33dfb-be2b-2d54-92d2-cd012b2b3c40.txt' mode='a' encoding='UTF-8'>\n",
      "===> Loading data\n",
      "Input image shape: torch.Size([1, 3, 540, 960])\n",
      "===> Building model\n"
     ]
    },
    {
     "name": "stderr",
     "output_type": "stream",
     "text": [
      "/home/igor/anaconda3/lib/python3.9/site-packages/torchvision/models/_utils.py:208: UserWarning: The parameter 'pretrained' is deprecated since 0.13 and will be removed in 0.15, please use 'weights' instead.\n",
      "  warnings.warn(\n",
      "/home/igor/anaconda3/lib/python3.9/site-packages/torchvision/models/_utils.py:223: UserWarning: Arguments other than a weight enum or `None` for 'weights' are deprecated since 0.13 and will be removed in 0.15. The current behavior is equivalent to passing `weights=VGG16_Weights.IMAGENET1K_V1`. You can also use `weights=VGG16_Weights.DEFAULT` to get the most up-to-date weights.\n",
      "  warnings.warn(msg)\n"
     ]
    },
    {
     "name": "stdout",
     "output_type": "stream",
     "text": [
      "NetVLAD setting:\n",
      "num_clusters: 64 dim: 512 vladv2: False\n",
      "=> loading checkpoint 'vgg16_netvlad_checkpoint/checkpoints/checkpoint.pth.tar'\n",
      "=> loaded checkpoint 'vgg16_netvlad_checkpoint/checkpoints/checkpoint.pth.tar' (epoch 25)\n",
      "===> Running evaluation step\n",
      "VLAD encoding: tensor([[ 0.0050, -0.0013,  0.0003,  ...,  0.0073,  0.0050,  0.0008]])\n",
      "VLAD encoding shape: torch.Size([1, 32768])\n",
      "Saved frame_vlad_embedding_pca to embedding_file:  <_io.TextIOWrapper name='/home/igor/Desktop/Victoria/tisl/tisl_localization_22s_copy-main/rscan_test/02b33dfb-be2b-2d54-92d2-cd012b2b3c40.txt' mode='a' encoding='UTF-8'>\n",
      "path_to_random_frame:  /home/igor/Desktop/Victoria/tisl/tisl_localization_22s_copy-main/rscan_test/02b33dfb-be2b-2d54-92d2-cd012b2b3c40/frame-000043.color.jpg\n",
      "Saved frame_position_numpy to embedding_file:  <_io.TextIOWrapper name='/home/igor/Desktop/Victoria/tisl/tisl_localization_22s_copy-main/rscan_test/02b33dfb-be2b-2d54-92d2-cd012b2b3c40.txt' mode='a' encoding='UTF-8'>\n",
      "===> Loading data\n",
      "Input image shape: torch.Size([1, 3, 540, 960])\n",
      "===> Building model\n"
     ]
    },
    {
     "name": "stderr",
     "output_type": "stream",
     "text": [
      "/home/igor/anaconda3/lib/python3.9/site-packages/torchvision/models/_utils.py:208: UserWarning: The parameter 'pretrained' is deprecated since 0.13 and will be removed in 0.15, please use 'weights' instead.\n",
      "  warnings.warn(\n",
      "/home/igor/anaconda3/lib/python3.9/site-packages/torchvision/models/_utils.py:223: UserWarning: Arguments other than a weight enum or `None` for 'weights' are deprecated since 0.13 and will be removed in 0.15. The current behavior is equivalent to passing `weights=VGG16_Weights.IMAGENET1K_V1`. You can also use `weights=VGG16_Weights.DEFAULT` to get the most up-to-date weights.\n",
      "  warnings.warn(msg)\n"
     ]
    },
    {
     "name": "stdout",
     "output_type": "stream",
     "text": [
      "NetVLAD setting:\n",
      "num_clusters: 64 dim: 512 vladv2: False\n",
      "=> loading checkpoint 'vgg16_netvlad_checkpoint/checkpoints/checkpoint.pth.tar'\n",
      "=> loaded checkpoint 'vgg16_netvlad_checkpoint/checkpoints/checkpoint.pth.tar' (epoch 25)\n",
      "===> Running evaluation step\n",
      "VLAD encoding: tensor([[ 0.0033, -0.0051,  0.0014,  ...,  0.0117,  0.0118,  0.0005]])\n",
      "VLAD encoding shape: torch.Size([1, 32768])\n",
      "Saved frame_vlad_embedding_pca to embedding_file:  <_io.TextIOWrapper name='/home/igor/Desktop/Victoria/tisl/tisl_localization_22s_copy-main/rscan_test/02b33dfb-be2b-2d54-92d2-cd012b2b3c40.txt' mode='a' encoding='UTF-8'>\n",
      "path_to_random_frame:  /home/igor/Desktop/Victoria/tisl/tisl_localization_22s_copy-main/rscan_test/02b33dfb-be2b-2d54-92d2-cd012b2b3c40/frame-000048.color.jpg\n",
      "Saved frame_position_numpy to embedding_file:  <_io.TextIOWrapper name='/home/igor/Desktop/Victoria/tisl/tisl_localization_22s_copy-main/rscan_test/02b33dfb-be2b-2d54-92d2-cd012b2b3c40.txt' mode='a' encoding='UTF-8'>\n",
      "===> Loading data\n",
      "Input image shape: torch.Size([1, 3, 540, 960])\n",
      "===> Building model\n"
     ]
    },
    {
     "name": "stderr",
     "output_type": "stream",
     "text": [
      "/home/igor/anaconda3/lib/python3.9/site-packages/torchvision/models/_utils.py:208: UserWarning: The parameter 'pretrained' is deprecated since 0.13 and will be removed in 0.15, please use 'weights' instead.\n",
      "  warnings.warn(\n",
      "/home/igor/anaconda3/lib/python3.9/site-packages/torchvision/models/_utils.py:223: UserWarning: Arguments other than a weight enum or `None` for 'weights' are deprecated since 0.13 and will be removed in 0.15. The current behavior is equivalent to passing `weights=VGG16_Weights.IMAGENET1K_V1`. You can also use `weights=VGG16_Weights.DEFAULT` to get the most up-to-date weights.\n",
      "  warnings.warn(msg)\n"
     ]
    },
    {
     "name": "stdout",
     "output_type": "stream",
     "text": [
      "NetVLAD setting:\n",
      "num_clusters: 64 dim: 512 vladv2: False\n",
      "=> loading checkpoint 'vgg16_netvlad_checkpoint/checkpoints/checkpoint.pth.tar'\n",
      "=> loaded checkpoint 'vgg16_netvlad_checkpoint/checkpoints/checkpoint.pth.tar' (epoch 25)\n",
      "===> Running evaluation step\n",
      "VLAD encoding: tensor([[ 0.0019,  0.0070,  0.0032,  ...,  0.0102, -0.0007, -0.0005]])\n",
      "VLAD encoding shape: torch.Size([1, 32768])\n",
      "Saved frame_vlad_embedding_pca to embedding_file:  <_io.TextIOWrapper name='/home/igor/Desktop/Victoria/tisl/tisl_localization_22s_copy-main/rscan_test/02b33dfb-be2b-2d54-92d2-cd012b2b3c40.txt' mode='a' encoding='UTF-8'>\n",
      "path_to_random_frame:  /home/igor/Desktop/Victoria/tisl/tisl_localization_22s_copy-main/rscan_test/02b33dfb-be2b-2d54-92d2-cd012b2b3c40/frame-000055.color.jpg\n",
      "Saved frame_position_numpy to embedding_file:  <_io.TextIOWrapper name='/home/igor/Desktop/Victoria/tisl/tisl_localization_22s_copy-main/rscan_test/02b33dfb-be2b-2d54-92d2-cd012b2b3c40.txt' mode='a' encoding='UTF-8'>\n",
      "===> Loading data\n",
      "Input image shape: torch.Size([1, 3, 540, 960])\n",
      "===> Building model\n"
     ]
    },
    {
     "name": "stderr",
     "output_type": "stream",
     "text": [
      "/home/igor/anaconda3/lib/python3.9/site-packages/torchvision/models/_utils.py:208: UserWarning: The parameter 'pretrained' is deprecated since 0.13 and will be removed in 0.15, please use 'weights' instead.\n",
      "  warnings.warn(\n",
      "/home/igor/anaconda3/lib/python3.9/site-packages/torchvision/models/_utils.py:223: UserWarning: Arguments other than a weight enum or `None` for 'weights' are deprecated since 0.13 and will be removed in 0.15. The current behavior is equivalent to passing `weights=VGG16_Weights.IMAGENET1K_V1`. You can also use `weights=VGG16_Weights.DEFAULT` to get the most up-to-date weights.\n",
      "  warnings.warn(msg)\n"
     ]
    },
    {
     "name": "stdout",
     "output_type": "stream",
     "text": [
      "NetVLAD setting:\n",
      "num_clusters: 64 dim: 512 vladv2: False\n",
      "=> loading checkpoint 'vgg16_netvlad_checkpoint/checkpoints/checkpoint.pth.tar'\n",
      "=> loaded checkpoint 'vgg16_netvlad_checkpoint/checkpoints/checkpoint.pth.tar' (epoch 25)\n",
      "===> Running evaluation step\n",
      "VLAD encoding: tensor([[-0.0004, -0.0027,  0.0053,  ...,  0.0231,  0.0063, -0.0046]])\n",
      "VLAD encoding shape: torch.Size([1, 32768])\n",
      "Saved frame_vlad_embedding_pca to embedding_file:  <_io.TextIOWrapper name='/home/igor/Desktop/Victoria/tisl/tisl_localization_22s_copy-main/rscan_test/02b33dfb-be2b-2d54-92d2-cd012b2b3c40.txt' mode='a' encoding='UTF-8'>\n",
      "path_to_random_frame:  /home/igor/Desktop/Victoria/tisl/tisl_localization_22s_copy-main/rscan_test/02b33dfb-be2b-2d54-92d2-cd012b2b3c40/frame-000057.color.jpg\n",
      "Saved frame_position_numpy to embedding_file:  <_io.TextIOWrapper name='/home/igor/Desktop/Victoria/tisl/tisl_localization_22s_copy-main/rscan_test/02b33dfb-be2b-2d54-92d2-cd012b2b3c40.txt' mode='a' encoding='UTF-8'>\n",
      "===> Loading data\n",
      "Input image shape: torch.Size([1, 3, 540, 960])\n",
      "===> Building model\n"
     ]
    },
    {
     "name": "stderr",
     "output_type": "stream",
     "text": [
      "/home/igor/anaconda3/lib/python3.9/site-packages/torchvision/models/_utils.py:208: UserWarning: The parameter 'pretrained' is deprecated since 0.13 and will be removed in 0.15, please use 'weights' instead.\n",
      "  warnings.warn(\n",
      "/home/igor/anaconda3/lib/python3.9/site-packages/torchvision/models/_utils.py:223: UserWarning: Arguments other than a weight enum or `None` for 'weights' are deprecated since 0.13 and will be removed in 0.15. The current behavior is equivalent to passing `weights=VGG16_Weights.IMAGENET1K_V1`. You can also use `weights=VGG16_Weights.DEFAULT` to get the most up-to-date weights.\n",
      "  warnings.warn(msg)\n"
     ]
    },
    {
     "name": "stdout",
     "output_type": "stream",
     "text": [
      "NetVLAD setting:\n",
      "num_clusters: 64 dim: 512 vladv2: False\n",
      "=> loading checkpoint 'vgg16_netvlad_checkpoint/checkpoints/checkpoint.pth.tar'\n",
      "=> loaded checkpoint 'vgg16_netvlad_checkpoint/checkpoints/checkpoint.pth.tar' (epoch 25)\n",
      "===> Running evaluation step\n",
      "VLAD encoding: tensor([[ 0.0028, -0.0060,  0.0069,  ...,  0.0145,  0.0081,  0.0018]])\n",
      "VLAD encoding shape: torch.Size([1, 32768])\n",
      "Saved frame_vlad_embedding_pca to embedding_file:  <_io.TextIOWrapper name='/home/igor/Desktop/Victoria/tisl/tisl_localization_22s_copy-main/rscan_test/02b33dfb-be2b-2d54-92d2-cd012b2b3c40.txt' mode='a' encoding='UTF-8'>\n",
      "path_to_random_frame:  /home/igor/Desktop/Victoria/tisl/tisl_localization_22s_copy-main/rscan_test/02b33dfb-be2b-2d54-92d2-cd012b2b3c40/frame-000060.color.jpg\n",
      "Saved frame_position_numpy to embedding_file:  <_io.TextIOWrapper name='/home/igor/Desktop/Victoria/tisl/tisl_localization_22s_copy-main/rscan_test/02b33dfb-be2b-2d54-92d2-cd012b2b3c40.txt' mode='a' encoding='UTF-8'>\n",
      "===> Loading data\n",
      "Input image shape: torch.Size([1, 3, 540, 960])\n",
      "===> Building model\n"
     ]
    },
    {
     "name": "stderr",
     "output_type": "stream",
     "text": [
      "/home/igor/anaconda3/lib/python3.9/site-packages/torchvision/models/_utils.py:208: UserWarning: The parameter 'pretrained' is deprecated since 0.13 and will be removed in 0.15, please use 'weights' instead.\n",
      "  warnings.warn(\n",
      "/home/igor/anaconda3/lib/python3.9/site-packages/torchvision/models/_utils.py:223: UserWarning: Arguments other than a weight enum or `None` for 'weights' are deprecated since 0.13 and will be removed in 0.15. The current behavior is equivalent to passing `weights=VGG16_Weights.IMAGENET1K_V1`. You can also use `weights=VGG16_Weights.DEFAULT` to get the most up-to-date weights.\n",
      "  warnings.warn(msg)\n"
     ]
    },
    {
     "name": "stdout",
     "output_type": "stream",
     "text": [
      "NetVLAD setting:\n",
      "num_clusters: 64 dim: 512 vladv2: False\n",
      "=> loading checkpoint 'vgg16_netvlad_checkpoint/checkpoints/checkpoint.pth.tar'\n",
      "=> loaded checkpoint 'vgg16_netvlad_checkpoint/checkpoints/checkpoint.pth.tar' (epoch 25)\n",
      "===> Running evaluation step\n",
      "VLAD encoding: tensor([[ 0.0016,  0.0094,  0.0024,  ...,  0.0152,  0.0050, -0.0005]])\n",
      "VLAD encoding shape: torch.Size([1, 32768])\n",
      "Saved frame_vlad_embedding_pca to embedding_file:  <_io.TextIOWrapper name='/home/igor/Desktop/Victoria/tisl/tisl_localization_22s_copy-main/rscan_test/02b33dfb-be2b-2d54-92d2-cd012b2b3c40.txt' mode='a' encoding='UTF-8'>\n",
      "path_to_random_frame:  /home/igor/Desktop/Victoria/tisl/tisl_localization_22s_copy-main/rscan_test/02b33dfb-be2b-2d54-92d2-cd012b2b3c40/frame-000061.color.jpg\n",
      "Saved frame_position_numpy to embedding_file:  <_io.TextIOWrapper name='/home/igor/Desktop/Victoria/tisl/tisl_localization_22s_copy-main/rscan_test/02b33dfb-be2b-2d54-92d2-cd012b2b3c40.txt' mode='a' encoding='UTF-8'>\n",
      "===> Loading data\n",
      "Input image shape: torch.Size([1, 3, 540, 960])\n",
      "===> Building model\n"
     ]
    },
    {
     "name": "stderr",
     "output_type": "stream",
     "text": [
      "/home/igor/anaconda3/lib/python3.9/site-packages/torchvision/models/_utils.py:208: UserWarning: The parameter 'pretrained' is deprecated since 0.13 and will be removed in 0.15, please use 'weights' instead.\n",
      "  warnings.warn(\n",
      "/home/igor/anaconda3/lib/python3.9/site-packages/torchvision/models/_utils.py:223: UserWarning: Arguments other than a weight enum or `None` for 'weights' are deprecated since 0.13 and will be removed in 0.15. The current behavior is equivalent to passing `weights=VGG16_Weights.IMAGENET1K_V1`. You can also use `weights=VGG16_Weights.DEFAULT` to get the most up-to-date weights.\n",
      "  warnings.warn(msg)\n"
     ]
    },
    {
     "name": "stdout",
     "output_type": "stream",
     "text": [
      "NetVLAD setting:\n",
      "num_clusters: 64 dim: 512 vladv2: False\n",
      "=> loading checkpoint 'vgg16_netvlad_checkpoint/checkpoints/checkpoint.pth.tar'\n",
      "=> loaded checkpoint 'vgg16_netvlad_checkpoint/checkpoints/checkpoint.pth.tar' (epoch 25)\n",
      "===> Running evaluation step\n",
      "VLAD encoding: tensor([[-0.0026,  0.0021,  0.0075,  ...,  0.0105,  0.0011, -0.0071]])\n",
      "VLAD encoding shape: torch.Size([1, 32768])\n",
      "Saved frame_vlad_embedding_pca to embedding_file:  <_io.TextIOWrapper name='/home/igor/Desktop/Victoria/tisl/tisl_localization_22s_copy-main/rscan_test/02b33dfb-be2b-2d54-92d2-cd012b2b3c40.txt' mode='a' encoding='UTF-8'>\n",
      "path_to_random_frame:  /home/igor/Desktop/Victoria/tisl/tisl_localization_22s_copy-main/rscan_test/02b33dfb-be2b-2d54-92d2-cd012b2b3c40/frame-000062.color.jpg\n",
      "Saved frame_position_numpy to embedding_file:  <_io.TextIOWrapper name='/home/igor/Desktop/Victoria/tisl/tisl_localization_22s_copy-main/rscan_test/02b33dfb-be2b-2d54-92d2-cd012b2b3c40.txt' mode='a' encoding='UTF-8'>\n",
      "===> Loading data\n",
      "Input image shape: torch.Size([1, 3, 540, 960])\n",
      "===> Building model\n"
     ]
    },
    {
     "name": "stderr",
     "output_type": "stream",
     "text": [
      "/home/igor/anaconda3/lib/python3.9/site-packages/torchvision/models/_utils.py:208: UserWarning: The parameter 'pretrained' is deprecated since 0.13 and will be removed in 0.15, please use 'weights' instead.\n",
      "  warnings.warn(\n",
      "/home/igor/anaconda3/lib/python3.9/site-packages/torchvision/models/_utils.py:223: UserWarning: Arguments other than a weight enum or `None` for 'weights' are deprecated since 0.13 and will be removed in 0.15. The current behavior is equivalent to passing `weights=VGG16_Weights.IMAGENET1K_V1`. You can also use `weights=VGG16_Weights.DEFAULT` to get the most up-to-date weights.\n",
      "  warnings.warn(msg)\n"
     ]
    },
    {
     "name": "stdout",
     "output_type": "stream",
     "text": [
      "NetVLAD setting:\n",
      "num_clusters: 64 dim: 512 vladv2: False\n",
      "=> loading checkpoint 'vgg16_netvlad_checkpoint/checkpoints/checkpoint.pth.tar'\n",
      "=> loaded checkpoint 'vgg16_netvlad_checkpoint/checkpoints/checkpoint.pth.tar' (epoch 25)\n",
      "===> Running evaluation step\n",
      "VLAD encoding: tensor([[-0.0028,  0.0015, -0.0006,  ...,  0.0034, -0.0005, -0.0036]])\n",
      "VLAD encoding shape: torch.Size([1, 32768])\n",
      "Saved frame_vlad_embedding_pca to embedding_file:  <_io.TextIOWrapper name='/home/igor/Desktop/Victoria/tisl/tisl_localization_22s_copy-main/rscan_test/02b33dfb-be2b-2d54-92d2-cd012b2b3c40.txt' mode='a' encoding='UTF-8'>\n",
      "path_to_random_frame:  /home/igor/Desktop/Victoria/tisl/tisl_localization_22s_copy-main/rscan_test/02b33dfb-be2b-2d54-92d2-cd012b2b3c40/frame-000066.color.jpg\n",
      "Saved frame_position_numpy to embedding_file:  <_io.TextIOWrapper name='/home/igor/Desktop/Victoria/tisl/tisl_localization_22s_copy-main/rscan_test/02b33dfb-be2b-2d54-92d2-cd012b2b3c40.txt' mode='a' encoding='UTF-8'>\n",
      "===> Loading data\n",
      "Input image shape: torch.Size([1, 3, 540, 960])\n",
      "===> Building model\n"
     ]
    },
    {
     "name": "stderr",
     "output_type": "stream",
     "text": [
      "/home/igor/anaconda3/lib/python3.9/site-packages/torchvision/models/_utils.py:208: UserWarning: The parameter 'pretrained' is deprecated since 0.13 and will be removed in 0.15, please use 'weights' instead.\n",
      "  warnings.warn(\n",
      "/home/igor/anaconda3/lib/python3.9/site-packages/torchvision/models/_utils.py:223: UserWarning: Arguments other than a weight enum or `None` for 'weights' are deprecated since 0.13 and will be removed in 0.15. The current behavior is equivalent to passing `weights=VGG16_Weights.IMAGENET1K_V1`. You can also use `weights=VGG16_Weights.DEFAULT` to get the most up-to-date weights.\n",
      "  warnings.warn(msg)\n"
     ]
    },
    {
     "name": "stdout",
     "output_type": "stream",
     "text": [
      "NetVLAD setting:\n",
      "num_clusters: 64 dim: 512 vladv2: False\n",
      "=> loading checkpoint 'vgg16_netvlad_checkpoint/checkpoints/checkpoint.pth.tar'\n",
      "=> loaded checkpoint 'vgg16_netvlad_checkpoint/checkpoints/checkpoint.pth.tar' (epoch 25)\n",
      "===> Running evaluation step\n",
      "VLAD encoding: tensor([[ 3.2733e-03, -1.1859e-03, -1.9684e-03,  ...,  2.2333e-03,\n",
      "          2.0702e-03, -5.3575e-05]])\n",
      "VLAD encoding shape: torch.Size([1, 32768])\n",
      "Saved frame_vlad_embedding_pca to embedding_file:  <_io.TextIOWrapper name='/home/igor/Desktop/Victoria/tisl/tisl_localization_22s_copy-main/rscan_test/02b33dfb-be2b-2d54-92d2-cd012b2b3c40.txt' mode='a' encoding='UTF-8'>\n",
      "path_to_random_frame:  /home/igor/Desktop/Victoria/tisl/tisl_localization_22s_copy-main/rscan_test/02b33dfb-be2b-2d54-92d2-cd012b2b3c40/frame-000068.color.jpg\n",
      "Saved frame_position_numpy to embedding_file:  <_io.TextIOWrapper name='/home/igor/Desktop/Victoria/tisl/tisl_localization_22s_copy-main/rscan_test/02b33dfb-be2b-2d54-92d2-cd012b2b3c40.txt' mode='a' encoding='UTF-8'>\n",
      "===> Loading data\n",
      "Input image shape: torch.Size([1, 3, 540, 960])\n",
      "===> Building model\n"
     ]
    },
    {
     "name": "stderr",
     "output_type": "stream",
     "text": [
      "/home/igor/anaconda3/lib/python3.9/site-packages/torchvision/models/_utils.py:208: UserWarning: The parameter 'pretrained' is deprecated since 0.13 and will be removed in 0.15, please use 'weights' instead.\n",
      "  warnings.warn(\n",
      "/home/igor/anaconda3/lib/python3.9/site-packages/torchvision/models/_utils.py:223: UserWarning: Arguments other than a weight enum or `None` for 'weights' are deprecated since 0.13 and will be removed in 0.15. The current behavior is equivalent to passing `weights=VGG16_Weights.IMAGENET1K_V1`. You can also use `weights=VGG16_Weights.DEFAULT` to get the most up-to-date weights.\n",
      "  warnings.warn(msg)\n"
     ]
    },
    {
     "name": "stdout",
     "output_type": "stream",
     "text": [
      "NetVLAD setting:\n",
      "num_clusters: 64 dim: 512 vladv2: False\n",
      "=> loading checkpoint 'vgg16_netvlad_checkpoint/checkpoints/checkpoint.pth.tar'\n",
      "=> loaded checkpoint 'vgg16_netvlad_checkpoint/checkpoints/checkpoint.pth.tar' (epoch 25)\n",
      "===> Running evaluation step\n",
      "VLAD encoding: tensor([[ 0.0030,  0.0042, -0.0002,  ...,  0.0091,  0.0056,  0.0035]])\n",
      "VLAD encoding shape: torch.Size([1, 32768])\n",
      "Saved frame_vlad_embedding_pca to embedding_file:  <_io.TextIOWrapper name='/home/igor/Desktop/Victoria/tisl/tisl_localization_22s_copy-main/rscan_test/02b33dfb-be2b-2d54-92d2-cd012b2b3c40.txt' mode='a' encoding='UTF-8'>\n",
      "path_to_random_frame:  /home/igor/Desktop/Victoria/tisl/tisl_localization_22s_copy-main/rscan_test/02b33dfb-be2b-2d54-92d2-cd012b2b3c40/frame-000073.color.jpg\n",
      "Saved frame_position_numpy to embedding_file:  <_io.TextIOWrapper name='/home/igor/Desktop/Victoria/tisl/tisl_localization_22s_copy-main/rscan_test/02b33dfb-be2b-2d54-92d2-cd012b2b3c40.txt' mode='a' encoding='UTF-8'>\n",
      "===> Loading data\n",
      "Input image shape: torch.Size([1, 3, 540, 960])\n",
      "===> Building model\n"
     ]
    },
    {
     "name": "stderr",
     "output_type": "stream",
     "text": [
      "/home/igor/anaconda3/lib/python3.9/site-packages/torchvision/models/_utils.py:208: UserWarning: The parameter 'pretrained' is deprecated since 0.13 and will be removed in 0.15, please use 'weights' instead.\n",
      "  warnings.warn(\n",
      "/home/igor/anaconda3/lib/python3.9/site-packages/torchvision/models/_utils.py:223: UserWarning: Arguments other than a weight enum or `None` for 'weights' are deprecated since 0.13 and will be removed in 0.15. The current behavior is equivalent to passing `weights=VGG16_Weights.IMAGENET1K_V1`. You can also use `weights=VGG16_Weights.DEFAULT` to get the most up-to-date weights.\n",
      "  warnings.warn(msg)\n"
     ]
    },
    {
     "name": "stdout",
     "output_type": "stream",
     "text": [
      "NetVLAD setting:\n",
      "num_clusters: 64 dim: 512 vladv2: False\n",
      "=> loading checkpoint 'vgg16_netvlad_checkpoint/checkpoints/checkpoint.pth.tar'\n",
      "=> loaded checkpoint 'vgg16_netvlad_checkpoint/checkpoints/checkpoint.pth.tar' (epoch 25)\n",
      "===> Running evaluation step\n",
      "VLAD encoding: tensor([[ 0.0038,  0.0007,  0.0062,  ...,  0.0075,  0.0007, -0.0050]])\n",
      "VLAD encoding shape: torch.Size([1, 32768])\n",
      "Saved frame_vlad_embedding_pca to embedding_file:  <_io.TextIOWrapper name='/home/igor/Desktop/Victoria/tisl/tisl_localization_22s_copy-main/rscan_test/02b33dfb-be2b-2d54-92d2-cd012b2b3c40.txt' mode='a' encoding='UTF-8'>\n",
      "path_to_random_frame:  /home/igor/Desktop/Victoria/tisl/tisl_localization_22s_copy-main/rscan_test/02b33dfb-be2b-2d54-92d2-cd012b2b3c40/frame-000076.color.jpg\n",
      "Saved frame_position_numpy to embedding_file:  <_io.TextIOWrapper name='/home/igor/Desktop/Victoria/tisl/tisl_localization_22s_copy-main/rscan_test/02b33dfb-be2b-2d54-92d2-cd012b2b3c40.txt' mode='a' encoding='UTF-8'>\n",
      "===> Loading data\n",
      "Input image shape: torch.Size([1, 3, 540, 960])\n",
      "===> Building model\n"
     ]
    },
    {
     "name": "stderr",
     "output_type": "stream",
     "text": [
      "/home/igor/anaconda3/lib/python3.9/site-packages/torchvision/models/_utils.py:208: UserWarning: The parameter 'pretrained' is deprecated since 0.13 and will be removed in 0.15, please use 'weights' instead.\n",
      "  warnings.warn(\n",
      "/home/igor/anaconda3/lib/python3.9/site-packages/torchvision/models/_utils.py:223: UserWarning: Arguments other than a weight enum or `None` for 'weights' are deprecated since 0.13 and will be removed in 0.15. The current behavior is equivalent to passing `weights=VGG16_Weights.IMAGENET1K_V1`. You can also use `weights=VGG16_Weights.DEFAULT` to get the most up-to-date weights.\n",
      "  warnings.warn(msg)\n"
     ]
    },
    {
     "name": "stdout",
     "output_type": "stream",
     "text": [
      "NetVLAD setting:\n",
      "num_clusters: 64 dim: 512 vladv2: False\n",
      "=> loading checkpoint 'vgg16_netvlad_checkpoint/checkpoints/checkpoint.pth.tar'\n",
      "=> loaded checkpoint 'vgg16_netvlad_checkpoint/checkpoints/checkpoint.pth.tar' (epoch 25)\n",
      "===> Running evaluation step\n",
      "VLAD encoding: tensor([[-0.0032, -0.0096,  0.0044,  ...,  0.0002,  0.0076,  0.0071]])\n",
      "VLAD encoding shape: torch.Size([1, 32768])\n",
      "Saved frame_vlad_embedding_pca to embedding_file:  <_io.TextIOWrapper name='/home/igor/Desktop/Victoria/tisl/tisl_localization_22s_copy-main/rscan_test/02b33dfb-be2b-2d54-92d2-cd012b2b3c40.txt' mode='a' encoding='UTF-8'>\n",
      "path_to_random_frame:  /home/igor/Desktop/Victoria/tisl/tisl_localization_22s_copy-main/rscan_test/02b33dfb-be2b-2d54-92d2-cd012b2b3c40/frame-000085.color.jpg\n",
      "Saved frame_position_numpy to embedding_file:  <_io.TextIOWrapper name='/home/igor/Desktop/Victoria/tisl/tisl_localization_22s_copy-main/rscan_test/02b33dfb-be2b-2d54-92d2-cd012b2b3c40.txt' mode='a' encoding='UTF-8'>\n",
      "===> Loading data\n",
      "Input image shape: torch.Size([1, 3, 540, 960])\n",
      "===> Building model\n"
     ]
    },
    {
     "name": "stderr",
     "output_type": "stream",
     "text": [
      "/home/igor/anaconda3/lib/python3.9/site-packages/torchvision/models/_utils.py:208: UserWarning: The parameter 'pretrained' is deprecated since 0.13 and will be removed in 0.15, please use 'weights' instead.\n",
      "  warnings.warn(\n",
      "/home/igor/anaconda3/lib/python3.9/site-packages/torchvision/models/_utils.py:223: UserWarning: Arguments other than a weight enum or `None` for 'weights' are deprecated since 0.13 and will be removed in 0.15. The current behavior is equivalent to passing `weights=VGG16_Weights.IMAGENET1K_V1`. You can also use `weights=VGG16_Weights.DEFAULT` to get the most up-to-date weights.\n",
      "  warnings.warn(msg)\n"
     ]
    },
    {
     "name": "stdout",
     "output_type": "stream",
     "text": [
      "NetVLAD setting:\n",
      "num_clusters: 64 dim: 512 vladv2: False\n",
      "=> loading checkpoint 'vgg16_netvlad_checkpoint/checkpoints/checkpoint.pth.tar'\n",
      "=> loaded checkpoint 'vgg16_netvlad_checkpoint/checkpoints/checkpoint.pth.tar' (epoch 25)\n",
      "===> Running evaluation step\n",
      "VLAD encoding: tensor([[ 2.8257e-03, -2.4627e-03, -3.1580e-05,  ...,  2.0669e-02,\n",
      "         -1.8404e-05, -4.2593e-03]])\n",
      "VLAD encoding shape: torch.Size([1, 32768])\n",
      "Saved frame_vlad_embedding_pca to embedding_file:  <_io.TextIOWrapper name='/home/igor/Desktop/Victoria/tisl/tisl_localization_22s_copy-main/rscan_test/02b33dfb-be2b-2d54-92d2-cd012b2b3c40.txt' mode='a' encoding='UTF-8'>\n",
      "path_to_random_frame:  /home/igor/Desktop/Victoria/tisl/tisl_localization_22s_copy-main/rscan_test/02b33dfb-be2b-2d54-92d2-cd012b2b3c40/frame-000086.color.jpg\n",
      "Saved frame_position_numpy to embedding_file:  <_io.TextIOWrapper name='/home/igor/Desktop/Victoria/tisl/tisl_localization_22s_copy-main/rscan_test/02b33dfb-be2b-2d54-92d2-cd012b2b3c40.txt' mode='a' encoding='UTF-8'>\n",
      "===> Loading data\n",
      "Input image shape: torch.Size([1, 3, 540, 960])\n",
      "===> Building model\n"
     ]
    },
    {
     "name": "stderr",
     "output_type": "stream",
     "text": [
      "/home/igor/anaconda3/lib/python3.9/site-packages/torchvision/models/_utils.py:208: UserWarning: The parameter 'pretrained' is deprecated since 0.13 and will be removed in 0.15, please use 'weights' instead.\n",
      "  warnings.warn(\n",
      "/home/igor/anaconda3/lib/python3.9/site-packages/torchvision/models/_utils.py:223: UserWarning: Arguments other than a weight enum or `None` for 'weights' are deprecated since 0.13 and will be removed in 0.15. The current behavior is equivalent to passing `weights=VGG16_Weights.IMAGENET1K_V1`. You can also use `weights=VGG16_Weights.DEFAULT` to get the most up-to-date weights.\n",
      "  warnings.warn(msg)\n"
     ]
    },
    {
     "name": "stdout",
     "output_type": "stream",
     "text": [
      "NetVLAD setting:\n",
      "num_clusters: 64 dim: 512 vladv2: False\n",
      "=> loading checkpoint 'vgg16_netvlad_checkpoint/checkpoints/checkpoint.pth.tar'\n",
      "=> loaded checkpoint 'vgg16_netvlad_checkpoint/checkpoints/checkpoint.pth.tar' (epoch 25)\n",
      "===> Running evaluation step\n",
      "VLAD encoding: tensor([[ 0.0058, -0.0039,  0.0026,  ...,  0.0159, -0.0016, -0.0069]])\n",
      "VLAD encoding shape: torch.Size([1, 32768])\n",
      "Saved frame_vlad_embedding_pca to embedding_file:  <_io.TextIOWrapper name='/home/igor/Desktop/Victoria/tisl/tisl_localization_22s_copy-main/rscan_test/02b33dfb-be2b-2d54-92d2-cd012b2b3c40.txt' mode='a' encoding='UTF-8'>\n",
      "path_to_random_frame:  /home/igor/Desktop/Victoria/tisl/tisl_localization_22s_copy-main/rscan_test/02b33dfb-be2b-2d54-92d2-cd012b2b3c40/frame-000087.color.jpg\n",
      "Saved frame_position_numpy to embedding_file:  <_io.TextIOWrapper name='/home/igor/Desktop/Victoria/tisl/tisl_localization_22s_copy-main/rscan_test/02b33dfb-be2b-2d54-92d2-cd012b2b3c40.txt' mode='a' encoding='UTF-8'>\n",
      "===> Loading data\n",
      "Input image shape: torch.Size([1, 3, 540, 960])\n",
      "===> Building model\n"
     ]
    },
    {
     "name": "stderr",
     "output_type": "stream",
     "text": [
      "/home/igor/anaconda3/lib/python3.9/site-packages/torchvision/models/_utils.py:208: UserWarning: The parameter 'pretrained' is deprecated since 0.13 and will be removed in 0.15, please use 'weights' instead.\n",
      "  warnings.warn(\n",
      "/home/igor/anaconda3/lib/python3.9/site-packages/torchvision/models/_utils.py:223: UserWarning: Arguments other than a weight enum or `None` for 'weights' are deprecated since 0.13 and will be removed in 0.15. The current behavior is equivalent to passing `weights=VGG16_Weights.IMAGENET1K_V1`. You can also use `weights=VGG16_Weights.DEFAULT` to get the most up-to-date weights.\n",
      "  warnings.warn(msg)\n"
     ]
    },
    {
     "name": "stdout",
     "output_type": "stream",
     "text": [
      "NetVLAD setting:\n",
      "num_clusters: 64 dim: 512 vladv2: False\n",
      "=> loading checkpoint 'vgg16_netvlad_checkpoint/checkpoints/checkpoint.pth.tar'\n",
      "=> loaded checkpoint 'vgg16_netvlad_checkpoint/checkpoints/checkpoint.pth.tar' (epoch 25)\n",
      "===> Running evaluation step\n",
      "VLAD encoding: tensor([[ 0.0022, -0.0044,  0.0092,  ...,  0.0154,  0.0054, -0.0043]])\n",
      "VLAD encoding shape: torch.Size([1, 32768])\n",
      "Saved frame_vlad_embedding_pca to embedding_file:  <_io.TextIOWrapper name='/home/igor/Desktop/Victoria/tisl/tisl_localization_22s_copy-main/rscan_test/02b33dfb-be2b-2d54-92d2-cd012b2b3c40.txt' mode='a' encoding='UTF-8'>\n",
      "path_to_random_frame:  /home/igor/Desktop/Victoria/tisl/tisl_localization_22s_copy-main/rscan_test/02b33dfb-be2b-2d54-92d2-cd012b2b3c40/frame-000093.color.jpg\n",
      "Saved frame_position_numpy to embedding_file:  <_io.TextIOWrapper name='/home/igor/Desktop/Victoria/tisl/tisl_localization_22s_copy-main/rscan_test/02b33dfb-be2b-2d54-92d2-cd012b2b3c40.txt' mode='a' encoding='UTF-8'>\n",
      "===> Loading data\n",
      "Input image shape: torch.Size([1, 3, 540, 960])\n",
      "===> Building model\n"
     ]
    },
    {
     "name": "stderr",
     "output_type": "stream",
     "text": [
      "/home/igor/anaconda3/lib/python3.9/site-packages/torchvision/models/_utils.py:208: UserWarning: The parameter 'pretrained' is deprecated since 0.13 and will be removed in 0.15, please use 'weights' instead.\n",
      "  warnings.warn(\n",
      "/home/igor/anaconda3/lib/python3.9/site-packages/torchvision/models/_utils.py:223: UserWarning: Arguments other than a weight enum or `None` for 'weights' are deprecated since 0.13 and will be removed in 0.15. The current behavior is equivalent to passing `weights=VGG16_Weights.IMAGENET1K_V1`. You can also use `weights=VGG16_Weights.DEFAULT` to get the most up-to-date weights.\n",
      "  warnings.warn(msg)\n"
     ]
    },
    {
     "name": "stdout",
     "output_type": "stream",
     "text": [
      "NetVLAD setting:\n",
      "num_clusters: 64 dim: 512 vladv2: False\n",
      "=> loading checkpoint 'vgg16_netvlad_checkpoint/checkpoints/checkpoint.pth.tar'\n",
      "=> loaded checkpoint 'vgg16_netvlad_checkpoint/checkpoints/checkpoint.pth.tar' (epoch 25)\n",
      "===> Running evaluation step\n",
      "VLAD encoding: tensor([[ 0.0018, -0.0029,  0.0039,  ...,  0.0088,  0.0055, -0.0034]])\n",
      "VLAD encoding shape: torch.Size([1, 32768])\n",
      "Saved frame_vlad_embedding_pca to embedding_file:  <_io.TextIOWrapper name='/home/igor/Desktop/Victoria/tisl/tisl_localization_22s_copy-main/rscan_test/02b33dfb-be2b-2d54-92d2-cd012b2b3c40.txt' mode='a' encoding='UTF-8'>\n",
      "path_to_random_frame:  /home/igor/Desktop/Victoria/tisl/tisl_localization_22s_copy-main/rscan_test/02b33dfb-be2b-2d54-92d2-cd012b2b3c40/frame-000097.color.jpg\n",
      "Saved frame_position_numpy to embedding_file:  <_io.TextIOWrapper name='/home/igor/Desktop/Victoria/tisl/tisl_localization_22s_copy-main/rscan_test/02b33dfb-be2b-2d54-92d2-cd012b2b3c40.txt' mode='a' encoding='UTF-8'>\n",
      "===> Loading data\n",
      "Input image shape: torch.Size([1, 3, 540, 960])\n",
      "===> Building model\n"
     ]
    },
    {
     "name": "stderr",
     "output_type": "stream",
     "text": [
      "/home/igor/anaconda3/lib/python3.9/site-packages/torchvision/models/_utils.py:208: UserWarning: The parameter 'pretrained' is deprecated since 0.13 and will be removed in 0.15, please use 'weights' instead.\n",
      "  warnings.warn(\n",
      "/home/igor/anaconda3/lib/python3.9/site-packages/torchvision/models/_utils.py:223: UserWarning: Arguments other than a weight enum or `None` for 'weights' are deprecated since 0.13 and will be removed in 0.15. The current behavior is equivalent to passing `weights=VGG16_Weights.IMAGENET1K_V1`. You can also use `weights=VGG16_Weights.DEFAULT` to get the most up-to-date weights.\n",
      "  warnings.warn(msg)\n"
     ]
    },
    {
     "name": "stdout",
     "output_type": "stream",
     "text": [
      "NetVLAD setting:\n",
      "num_clusters: 64 dim: 512 vladv2: False\n",
      "=> loading checkpoint 'vgg16_netvlad_checkpoint/checkpoints/checkpoint.pth.tar'\n",
      "=> loaded checkpoint 'vgg16_netvlad_checkpoint/checkpoints/checkpoint.pth.tar' (epoch 25)\n",
      "===> Running evaluation step\n",
      "VLAD encoding: tensor([[-0.0030, -0.0025,  0.0070,  ...,  0.0150,  0.0063, -0.0039]])\n",
      "VLAD encoding shape: torch.Size([1, 32768])\n",
      "Saved frame_vlad_embedding_pca to embedding_file:  <_io.TextIOWrapper name='/home/igor/Desktop/Victoria/tisl/tisl_localization_22s_copy-main/rscan_test/02b33dfb-be2b-2d54-92d2-cd012b2b3c40.txt' mode='a' encoding='UTF-8'>\n",
      "path_to_random_frame:  /home/igor/Desktop/Victoria/tisl/tisl_localization_22s_copy-main/rscan_test/02b33dfb-be2b-2d54-92d2-cd012b2b3c40/frame-000099.color.jpg\n",
      "Saved frame_position_numpy to embedding_file:  <_io.TextIOWrapper name='/home/igor/Desktop/Victoria/tisl/tisl_localization_22s_copy-main/rscan_test/02b33dfb-be2b-2d54-92d2-cd012b2b3c40.txt' mode='a' encoding='UTF-8'>\n",
      "===> Loading data\n",
      "Input image shape: torch.Size([1, 3, 540, 960])\n",
      "===> Building model\n"
     ]
    },
    {
     "name": "stderr",
     "output_type": "stream",
     "text": [
      "/home/igor/anaconda3/lib/python3.9/site-packages/torchvision/models/_utils.py:208: UserWarning: The parameter 'pretrained' is deprecated since 0.13 and will be removed in 0.15, please use 'weights' instead.\n",
      "  warnings.warn(\n",
      "/home/igor/anaconda3/lib/python3.9/site-packages/torchvision/models/_utils.py:223: UserWarning: Arguments other than a weight enum or `None` for 'weights' are deprecated since 0.13 and will be removed in 0.15. The current behavior is equivalent to passing `weights=VGG16_Weights.IMAGENET1K_V1`. You can also use `weights=VGG16_Weights.DEFAULT` to get the most up-to-date weights.\n",
      "  warnings.warn(msg)\n"
     ]
    },
    {
     "name": "stdout",
     "output_type": "stream",
     "text": [
      "NetVLAD setting:\n",
      "num_clusters: 64 dim: 512 vladv2: False\n",
      "=> loading checkpoint 'vgg16_netvlad_checkpoint/checkpoints/checkpoint.pth.tar'\n",
      "=> loaded checkpoint 'vgg16_netvlad_checkpoint/checkpoints/checkpoint.pth.tar' (epoch 25)\n",
      "===> Running evaluation step\n",
      "VLAD encoding: tensor([[ 0.0020, -0.0011,  0.0011,  ...,  0.0245, -0.0015, -0.0095]])\n",
      "VLAD encoding shape: torch.Size([1, 32768])\n",
      "Saved frame_vlad_embedding_pca to embedding_file:  <_io.TextIOWrapper name='/home/igor/Desktop/Victoria/tisl/tisl_localization_22s_copy-main/rscan_test/02b33dfb-be2b-2d54-92d2-cd012b2b3c40.txt' mode='a' encoding='UTF-8'>\n",
      "path_to_random_frame:  /home/igor/Desktop/Victoria/tisl/tisl_localization_22s_copy-main/rscan_test/02b33dfb-be2b-2d54-92d2-cd012b2b3c40/frame-000101.color.jpg\n",
      "Saved frame_position_numpy to embedding_file:  <_io.TextIOWrapper name='/home/igor/Desktop/Victoria/tisl/tisl_localization_22s_copy-main/rscan_test/02b33dfb-be2b-2d54-92d2-cd012b2b3c40.txt' mode='a' encoding='UTF-8'>\n",
      "===> Loading data\n",
      "Input image shape: torch.Size([1, 3, 540, 960])\n",
      "===> Building model\n"
     ]
    },
    {
     "name": "stderr",
     "output_type": "stream",
     "text": [
      "/home/igor/anaconda3/lib/python3.9/site-packages/torchvision/models/_utils.py:208: UserWarning: The parameter 'pretrained' is deprecated since 0.13 and will be removed in 0.15, please use 'weights' instead.\n",
      "  warnings.warn(\n",
      "/home/igor/anaconda3/lib/python3.9/site-packages/torchvision/models/_utils.py:223: UserWarning: Arguments other than a weight enum or `None` for 'weights' are deprecated since 0.13 and will be removed in 0.15. The current behavior is equivalent to passing `weights=VGG16_Weights.IMAGENET1K_V1`. You can also use `weights=VGG16_Weights.DEFAULT` to get the most up-to-date weights.\n",
      "  warnings.warn(msg)\n"
     ]
    },
    {
     "name": "stdout",
     "output_type": "stream",
     "text": [
      "NetVLAD setting:\n",
      "num_clusters: 64 dim: 512 vladv2: False\n",
      "=> loading checkpoint 'vgg16_netvlad_checkpoint/checkpoints/checkpoint.pth.tar'\n",
      "=> loaded checkpoint 'vgg16_netvlad_checkpoint/checkpoints/checkpoint.pth.tar' (epoch 25)\n",
      "===> Running evaluation step\n",
      "VLAD encoding: tensor([[-0.0038, -0.0086,  0.0083,  ...,  0.0170,  0.0025, -0.0011]])\n",
      "VLAD encoding shape: torch.Size([1, 32768])\n",
      "Saved frame_vlad_embedding_pca to embedding_file:  <_io.TextIOWrapper name='/home/igor/Desktop/Victoria/tisl/tisl_localization_22s_copy-main/rscan_test/02b33dfb-be2b-2d54-92d2-cd012b2b3c40.txt' mode='a' encoding='UTF-8'>\n",
      "path_to_random_frame:  /home/igor/Desktop/Victoria/tisl/tisl_localization_22s_copy-main/rscan_test/02b33dfb-be2b-2d54-92d2-cd012b2b3c40/frame-000104.color.jpg\n",
      "Saved frame_position_numpy to embedding_file:  <_io.TextIOWrapper name='/home/igor/Desktop/Victoria/tisl/tisl_localization_22s_copy-main/rscan_test/02b33dfb-be2b-2d54-92d2-cd012b2b3c40.txt' mode='a' encoding='UTF-8'>\n",
      "===> Loading data\n",
      "Input image shape: torch.Size([1, 3, 540, 960])\n",
      "===> Building model\n"
     ]
    },
    {
     "name": "stderr",
     "output_type": "stream",
     "text": [
      "/home/igor/anaconda3/lib/python3.9/site-packages/torchvision/models/_utils.py:208: UserWarning: The parameter 'pretrained' is deprecated since 0.13 and will be removed in 0.15, please use 'weights' instead.\n",
      "  warnings.warn(\n",
      "/home/igor/anaconda3/lib/python3.9/site-packages/torchvision/models/_utils.py:223: UserWarning: Arguments other than a weight enum or `None` for 'weights' are deprecated since 0.13 and will be removed in 0.15. The current behavior is equivalent to passing `weights=VGG16_Weights.IMAGENET1K_V1`. You can also use `weights=VGG16_Weights.DEFAULT` to get the most up-to-date weights.\n",
      "  warnings.warn(msg)\n"
     ]
    },
    {
     "name": "stdout",
     "output_type": "stream",
     "text": [
      "NetVLAD setting:\n",
      "num_clusters: 64 dim: 512 vladv2: False\n",
      "=> loading checkpoint 'vgg16_netvlad_checkpoint/checkpoints/checkpoint.pth.tar'\n",
      "=> loaded checkpoint 'vgg16_netvlad_checkpoint/checkpoints/checkpoint.pth.tar' (epoch 25)\n",
      "===> Running evaluation step\n",
      "VLAD encoding: tensor([[ 0.0037, -0.0010,  0.0047,  ...,  0.0040,  0.0047, -0.0011]])\n",
      "VLAD encoding shape: torch.Size([1, 32768])\n",
      "Saved frame_vlad_embedding_pca to embedding_file:  <_io.TextIOWrapper name='/home/igor/Desktop/Victoria/tisl/tisl_localization_22s_copy-main/rscan_test/02b33dfb-be2b-2d54-92d2-cd012b2b3c40.txt' mode='a' encoding='UTF-8'>\n",
      "path_to_random_frame:  /home/igor/Desktop/Victoria/tisl/tisl_localization_22s_copy-main/rscan_test/02b33dfb-be2b-2d54-92d2-cd012b2b3c40/frame-000106.color.jpg\n",
      "Saved frame_position_numpy to embedding_file:  <_io.TextIOWrapper name='/home/igor/Desktop/Victoria/tisl/tisl_localization_22s_copy-main/rscan_test/02b33dfb-be2b-2d54-92d2-cd012b2b3c40.txt' mode='a' encoding='UTF-8'>\n",
      "===> Loading data\n",
      "Input image shape: torch.Size([1, 3, 540, 960])\n",
      "===> Building model\n"
     ]
    },
    {
     "name": "stderr",
     "output_type": "stream",
     "text": [
      "/home/igor/anaconda3/lib/python3.9/site-packages/torchvision/models/_utils.py:208: UserWarning: The parameter 'pretrained' is deprecated since 0.13 and will be removed in 0.15, please use 'weights' instead.\n",
      "  warnings.warn(\n",
      "/home/igor/anaconda3/lib/python3.9/site-packages/torchvision/models/_utils.py:223: UserWarning: Arguments other than a weight enum or `None` for 'weights' are deprecated since 0.13 and will be removed in 0.15. The current behavior is equivalent to passing `weights=VGG16_Weights.IMAGENET1K_V1`. You can also use `weights=VGG16_Weights.DEFAULT` to get the most up-to-date weights.\n",
      "  warnings.warn(msg)\n"
     ]
    },
    {
     "name": "stdout",
     "output_type": "stream",
     "text": [
      "NetVLAD setting:\n",
      "num_clusters: 64 dim: 512 vladv2: False\n",
      "=> loading checkpoint 'vgg16_netvlad_checkpoint/checkpoints/checkpoint.pth.tar'\n",
      "=> loaded checkpoint 'vgg16_netvlad_checkpoint/checkpoints/checkpoint.pth.tar' (epoch 25)\n",
      "===> Running evaluation step\n",
      "VLAD encoding: tensor([[-0.0018, -0.0043,  0.0032,  ...,  0.0176,  0.0075, -0.0014]])\n",
      "VLAD encoding shape: torch.Size([1, 32768])\n",
      "Saved frame_vlad_embedding_pca to embedding_file:  <_io.TextIOWrapper name='/home/igor/Desktop/Victoria/tisl/tisl_localization_22s_copy-main/rscan_test/02b33dfb-be2b-2d54-92d2-cd012b2b3c40.txt' mode='a' encoding='UTF-8'>\n",
      "path_to_random_frame:  /home/igor/Desktop/Victoria/tisl/tisl_localization_22s_copy-main/rscan_test/02b33dfb-be2b-2d54-92d2-cd012b2b3c40/frame-000112.color.jpg\n",
      "Saved frame_position_numpy to embedding_file:  <_io.TextIOWrapper name='/home/igor/Desktop/Victoria/tisl/tisl_localization_22s_copy-main/rscan_test/02b33dfb-be2b-2d54-92d2-cd012b2b3c40.txt' mode='a' encoding='UTF-8'>\n",
      "===> Loading data\n",
      "Input image shape: torch.Size([1, 3, 540, 960])\n",
      "===> Building model\n"
     ]
    },
    {
     "name": "stderr",
     "output_type": "stream",
     "text": [
      "/home/igor/anaconda3/lib/python3.9/site-packages/torchvision/models/_utils.py:208: UserWarning: The parameter 'pretrained' is deprecated since 0.13 and will be removed in 0.15, please use 'weights' instead.\n",
      "  warnings.warn(\n",
      "/home/igor/anaconda3/lib/python3.9/site-packages/torchvision/models/_utils.py:223: UserWarning: Arguments other than a weight enum or `None` for 'weights' are deprecated since 0.13 and will be removed in 0.15. The current behavior is equivalent to passing `weights=VGG16_Weights.IMAGENET1K_V1`. You can also use `weights=VGG16_Weights.DEFAULT` to get the most up-to-date weights.\n",
      "  warnings.warn(msg)\n"
     ]
    },
    {
     "name": "stdout",
     "output_type": "stream",
     "text": [
      "NetVLAD setting:\n",
      "num_clusters: 64 dim: 512 vladv2: False\n",
      "=> loading checkpoint 'vgg16_netvlad_checkpoint/checkpoints/checkpoint.pth.tar'\n",
      "=> loaded checkpoint 'vgg16_netvlad_checkpoint/checkpoints/checkpoint.pth.tar' (epoch 25)\n",
      "===> Running evaluation step\n",
      "VLAD encoding: tensor([[ 0.0068,  0.0005, -0.0024,  ...,  0.0036, -0.0031, -0.0110]])\n",
      "VLAD encoding shape: torch.Size([1, 32768])\n",
      "Saved frame_vlad_embedding_pca to embedding_file:  <_io.TextIOWrapper name='/home/igor/Desktop/Victoria/tisl/tisl_localization_22s_copy-main/rscan_test/02b33dfb-be2b-2d54-92d2-cd012b2b3c40.txt' mode='a' encoding='UTF-8'>\n",
      "path_to_random_frame:  /home/igor/Desktop/Victoria/tisl/tisl_localization_22s_copy-main/rscan_test/02b33dfb-be2b-2d54-92d2-cd012b2b3c40/frame-000115.color.jpg\n",
      "Saved frame_position_numpy to embedding_file:  <_io.TextIOWrapper name='/home/igor/Desktop/Victoria/tisl/tisl_localization_22s_copy-main/rscan_test/02b33dfb-be2b-2d54-92d2-cd012b2b3c40.txt' mode='a' encoding='UTF-8'>\n",
      "===> Loading data\n",
      "Input image shape: torch.Size([1, 3, 540, 960])\n",
      "===> Building model\n"
     ]
    },
    {
     "name": "stderr",
     "output_type": "stream",
     "text": [
      "/home/igor/anaconda3/lib/python3.9/site-packages/torchvision/models/_utils.py:208: UserWarning: The parameter 'pretrained' is deprecated since 0.13 and will be removed in 0.15, please use 'weights' instead.\n",
      "  warnings.warn(\n",
      "/home/igor/anaconda3/lib/python3.9/site-packages/torchvision/models/_utils.py:223: UserWarning: Arguments other than a weight enum or `None` for 'weights' are deprecated since 0.13 and will be removed in 0.15. The current behavior is equivalent to passing `weights=VGG16_Weights.IMAGENET1K_V1`. You can also use `weights=VGG16_Weights.DEFAULT` to get the most up-to-date weights.\n",
      "  warnings.warn(msg)\n"
     ]
    },
    {
     "name": "stdout",
     "output_type": "stream",
     "text": [
      "NetVLAD setting:\n",
      "num_clusters: 64 dim: 512 vladv2: False\n",
      "=> loading checkpoint 'vgg16_netvlad_checkpoint/checkpoints/checkpoint.pth.tar'\n",
      "=> loaded checkpoint 'vgg16_netvlad_checkpoint/checkpoints/checkpoint.pth.tar' (epoch 25)\n",
      "===> Running evaluation step\n",
      "VLAD encoding: tensor([[-0.0016, -0.0132, -0.0022,  ...,  0.0091,  0.0080, -0.0047]])\n",
      "VLAD encoding shape: torch.Size([1, 32768])\n",
      "Saved frame_vlad_embedding_pca to embedding_file:  <_io.TextIOWrapper name='/home/igor/Desktop/Victoria/tisl/tisl_localization_22s_copy-main/rscan_test/02b33dfb-be2b-2d54-92d2-cd012b2b3c40.txt' mode='a' encoding='UTF-8'>\n",
      "path_to_random_frame:  /home/igor/Desktop/Victoria/tisl/tisl_localization_22s_copy-main/rscan_test/02b33dfb-be2b-2d54-92d2-cd012b2b3c40/frame-000121.color.jpg\n",
      "Saved frame_position_numpy to embedding_file:  <_io.TextIOWrapper name='/home/igor/Desktop/Victoria/tisl/tisl_localization_22s_copy-main/rscan_test/02b33dfb-be2b-2d54-92d2-cd012b2b3c40.txt' mode='a' encoding='UTF-8'>\n",
      "===> Loading data\n",
      "Input image shape: torch.Size([1, 3, 540, 960])\n",
      "===> Building model\n"
     ]
    },
    {
     "name": "stderr",
     "output_type": "stream",
     "text": [
      "/home/igor/anaconda3/lib/python3.9/site-packages/torchvision/models/_utils.py:208: UserWarning: The parameter 'pretrained' is deprecated since 0.13 and will be removed in 0.15, please use 'weights' instead.\n",
      "  warnings.warn(\n",
      "/home/igor/anaconda3/lib/python3.9/site-packages/torchvision/models/_utils.py:223: UserWarning: Arguments other than a weight enum or `None` for 'weights' are deprecated since 0.13 and will be removed in 0.15. The current behavior is equivalent to passing `weights=VGG16_Weights.IMAGENET1K_V1`. You can also use `weights=VGG16_Weights.DEFAULT` to get the most up-to-date weights.\n",
      "  warnings.warn(msg)\n"
     ]
    },
    {
     "name": "stdout",
     "output_type": "stream",
     "text": [
      "NetVLAD setting:\n",
      "num_clusters: 64 dim: 512 vladv2: False\n",
      "=> loading checkpoint 'vgg16_netvlad_checkpoint/checkpoints/checkpoint.pth.tar'\n",
      "=> loaded checkpoint 'vgg16_netvlad_checkpoint/checkpoints/checkpoint.pth.tar' (epoch 25)\n",
      "===> Running evaluation step\n",
      "VLAD encoding: tensor([[-0.0008, -0.0043, -0.0033,  ...,  0.0087,  0.0039, -0.0007]])\n",
      "VLAD encoding shape: torch.Size([1, 32768])\n",
      "Saved frame_vlad_embedding_pca to embedding_file:  <_io.TextIOWrapper name='/home/igor/Desktop/Victoria/tisl/tisl_localization_22s_copy-main/rscan_test/02b33dfb-be2b-2d54-92d2-cd012b2b3c40.txt' mode='a' encoding='UTF-8'>\n",
      "path_to_random_frame:  /home/igor/Desktop/Victoria/tisl/tisl_localization_22s_copy-main/rscan_test/02b33dfb-be2b-2d54-92d2-cd012b2b3c40/frame-000123.color.jpg\n",
      "Saved frame_position_numpy to embedding_file:  <_io.TextIOWrapper name='/home/igor/Desktop/Victoria/tisl/tisl_localization_22s_copy-main/rscan_test/02b33dfb-be2b-2d54-92d2-cd012b2b3c40.txt' mode='a' encoding='UTF-8'>\n",
      "===> Loading data\n",
      "Input image shape: torch.Size([1, 3, 540, 960])\n",
      "===> Building model\n"
     ]
    },
    {
     "name": "stderr",
     "output_type": "stream",
     "text": [
      "/home/igor/anaconda3/lib/python3.9/site-packages/torchvision/models/_utils.py:208: UserWarning: The parameter 'pretrained' is deprecated since 0.13 and will be removed in 0.15, please use 'weights' instead.\n",
      "  warnings.warn(\n",
      "/home/igor/anaconda3/lib/python3.9/site-packages/torchvision/models/_utils.py:223: UserWarning: Arguments other than a weight enum or `None` for 'weights' are deprecated since 0.13 and will be removed in 0.15. The current behavior is equivalent to passing `weights=VGG16_Weights.IMAGENET1K_V1`. You can also use `weights=VGG16_Weights.DEFAULT` to get the most up-to-date weights.\n",
      "  warnings.warn(msg)\n"
     ]
    },
    {
     "name": "stdout",
     "output_type": "stream",
     "text": [
      "NetVLAD setting:\n",
      "num_clusters: 64 dim: 512 vladv2: False\n",
      "=> loading checkpoint 'vgg16_netvlad_checkpoint/checkpoints/checkpoint.pth.tar'\n",
      "=> loaded checkpoint 'vgg16_netvlad_checkpoint/checkpoints/checkpoint.pth.tar' (epoch 25)\n",
      "===> Running evaluation step\n",
      "VLAD encoding: tensor([[-0.0066,  0.0038,  0.0048,  ...,  0.0057,  0.0030, -0.0089]])\n",
      "VLAD encoding shape: torch.Size([1, 32768])\n",
      "Saved frame_vlad_embedding_pca to embedding_file:  <_io.TextIOWrapper name='/home/igor/Desktop/Victoria/tisl/tisl_localization_22s_copy-main/rscan_test/02b33dfb-be2b-2d54-92d2-cd012b2b3c40.txt' mode='a' encoding='UTF-8'>\n",
      "path_to_random_frame:  /home/igor/Desktop/Victoria/tisl/tisl_localization_22s_copy-main/rscan_test/02b33dfb-be2b-2d54-92d2-cd012b2b3c40/frame-000125.color.jpg\n",
      "Saved frame_position_numpy to embedding_file:  <_io.TextIOWrapper name='/home/igor/Desktop/Victoria/tisl/tisl_localization_22s_copy-main/rscan_test/02b33dfb-be2b-2d54-92d2-cd012b2b3c40.txt' mode='a' encoding='UTF-8'>\n",
      "===> Loading data\n",
      "Input image shape: torch.Size([1, 3, 540, 960])\n",
      "===> Building model\n"
     ]
    },
    {
     "name": "stderr",
     "output_type": "stream",
     "text": [
      "/home/igor/anaconda3/lib/python3.9/site-packages/torchvision/models/_utils.py:208: UserWarning: The parameter 'pretrained' is deprecated since 0.13 and will be removed in 0.15, please use 'weights' instead.\n",
      "  warnings.warn(\n",
      "/home/igor/anaconda3/lib/python3.9/site-packages/torchvision/models/_utils.py:223: UserWarning: Arguments other than a weight enum or `None` for 'weights' are deprecated since 0.13 and will be removed in 0.15. The current behavior is equivalent to passing `weights=VGG16_Weights.IMAGENET1K_V1`. You can also use `weights=VGG16_Weights.DEFAULT` to get the most up-to-date weights.\n",
      "  warnings.warn(msg)\n"
     ]
    },
    {
     "name": "stdout",
     "output_type": "stream",
     "text": [
      "NetVLAD setting:\n",
      "num_clusters: 64 dim: 512 vladv2: False\n",
      "=> loading checkpoint 'vgg16_netvlad_checkpoint/checkpoints/checkpoint.pth.tar'\n",
      "=> loaded checkpoint 'vgg16_netvlad_checkpoint/checkpoints/checkpoint.pth.tar' (epoch 25)\n",
      "===> Running evaluation step\n",
      "VLAD encoding: tensor([[-0.0082, -0.0089, -0.0017,  ...,  0.0102,  0.0036, -0.0063]])\n",
      "VLAD encoding shape: torch.Size([1, 32768])\n",
      "Saved frame_vlad_embedding_pca to embedding_file:  <_io.TextIOWrapper name='/home/igor/Desktop/Victoria/tisl/tisl_localization_22s_copy-main/rscan_test/02b33dfb-be2b-2d54-92d2-cd012b2b3c40.txt' mode='a' encoding='UTF-8'>\n",
      "path_to_random_frame:  /home/igor/Desktop/Victoria/tisl/tisl_localization_22s_copy-main/rscan_test/02b33dfb-be2b-2d54-92d2-cd012b2b3c40/frame-000128.color.jpg\n",
      "Saved frame_position_numpy to embedding_file:  <_io.TextIOWrapper name='/home/igor/Desktop/Victoria/tisl/tisl_localization_22s_copy-main/rscan_test/02b33dfb-be2b-2d54-92d2-cd012b2b3c40.txt' mode='a' encoding='UTF-8'>\n",
      "===> Loading data\n",
      "Input image shape: torch.Size([1, 3, 540, 960])\n",
      "===> Building model\n"
     ]
    },
    {
     "name": "stderr",
     "output_type": "stream",
     "text": [
      "/home/igor/anaconda3/lib/python3.9/site-packages/torchvision/models/_utils.py:208: UserWarning: The parameter 'pretrained' is deprecated since 0.13 and will be removed in 0.15, please use 'weights' instead.\n",
      "  warnings.warn(\n",
      "/home/igor/anaconda3/lib/python3.9/site-packages/torchvision/models/_utils.py:223: UserWarning: Arguments other than a weight enum or `None` for 'weights' are deprecated since 0.13 and will be removed in 0.15. The current behavior is equivalent to passing `weights=VGG16_Weights.IMAGENET1K_V1`. You can also use `weights=VGG16_Weights.DEFAULT` to get the most up-to-date weights.\n",
      "  warnings.warn(msg)\n"
     ]
    },
    {
     "name": "stdout",
     "output_type": "stream",
     "text": [
      "NetVLAD setting:\n",
      "num_clusters: 64 dim: 512 vladv2: False\n",
      "=> loading checkpoint 'vgg16_netvlad_checkpoint/checkpoints/checkpoint.pth.tar'\n",
      "=> loaded checkpoint 'vgg16_netvlad_checkpoint/checkpoints/checkpoint.pth.tar' (epoch 25)\n",
      "===> Running evaluation step\n",
      "VLAD encoding: tensor([[-8.7791e-06, -2.5217e-03,  5.3863e-03,  ...,  7.7997e-03,\n",
      "          8.8997e-03, -1.9900e-03]])\n",
      "VLAD encoding shape: torch.Size([1, 32768])\n",
      "Saved frame_vlad_embedding_pca to embedding_file:  <_io.TextIOWrapper name='/home/igor/Desktop/Victoria/tisl/tisl_localization_22s_copy-main/rscan_test/02b33dfb-be2b-2d54-92d2-cd012b2b3c40.txt' mode='a' encoding='UTF-8'>\n",
      "path_to_random_frame:  /home/igor/Desktop/Victoria/tisl/tisl_localization_22s_copy-main/rscan_test/02b33dfb-be2b-2d54-92d2-cd012b2b3c40/frame-000131.color.jpg\n",
      "Saved frame_position_numpy to embedding_file:  <_io.TextIOWrapper name='/home/igor/Desktop/Victoria/tisl/tisl_localization_22s_copy-main/rscan_test/02b33dfb-be2b-2d54-92d2-cd012b2b3c40.txt' mode='a' encoding='UTF-8'>\n",
      "===> Loading data\n",
      "Input image shape: torch.Size([1, 3, 540, 960])\n",
      "===> Building model\n"
     ]
    },
    {
     "name": "stderr",
     "output_type": "stream",
     "text": [
      "/home/igor/anaconda3/lib/python3.9/site-packages/torchvision/models/_utils.py:208: UserWarning: The parameter 'pretrained' is deprecated since 0.13 and will be removed in 0.15, please use 'weights' instead.\n",
      "  warnings.warn(\n",
      "/home/igor/anaconda3/lib/python3.9/site-packages/torchvision/models/_utils.py:223: UserWarning: Arguments other than a weight enum or `None` for 'weights' are deprecated since 0.13 and will be removed in 0.15. The current behavior is equivalent to passing `weights=VGG16_Weights.IMAGENET1K_V1`. You can also use `weights=VGG16_Weights.DEFAULT` to get the most up-to-date weights.\n",
      "  warnings.warn(msg)\n"
     ]
    },
    {
     "name": "stdout",
     "output_type": "stream",
     "text": [
      "NetVLAD setting:\n",
      "num_clusters: 64 dim: 512 vladv2: False\n",
      "=> loading checkpoint 'vgg16_netvlad_checkpoint/checkpoints/checkpoint.pth.tar'\n",
      "=> loaded checkpoint 'vgg16_netvlad_checkpoint/checkpoints/checkpoint.pth.tar' (epoch 25)\n",
      "===> Running evaluation step\n",
      "VLAD encoding: tensor([[-0.0041,  0.0029,  0.0059,  ...,  0.0147,  0.0073, -0.0023]])\n",
      "VLAD encoding shape: torch.Size([1, 32768])\n",
      "Saved frame_vlad_embedding_pca to embedding_file:  <_io.TextIOWrapper name='/home/igor/Desktop/Victoria/tisl/tisl_localization_22s_copy-main/rscan_test/02b33dfb-be2b-2d54-92d2-cd012b2b3c40.txt' mode='a' encoding='UTF-8'>\n",
      "path_to_random_frame:  /home/igor/Desktop/Victoria/tisl/tisl_localization_22s_copy-main/rscan_test/02b33dfb-be2b-2d54-92d2-cd012b2b3c40/frame-000132.color.jpg\n",
      "Saved frame_position_numpy to embedding_file:  <_io.TextIOWrapper name='/home/igor/Desktop/Victoria/tisl/tisl_localization_22s_copy-main/rscan_test/02b33dfb-be2b-2d54-92d2-cd012b2b3c40.txt' mode='a' encoding='UTF-8'>\n",
      "===> Loading data\n",
      "Input image shape: torch.Size([1, 3, 540, 960])\n",
      "===> Building model\n"
     ]
    },
    {
     "name": "stderr",
     "output_type": "stream",
     "text": [
      "/home/igor/anaconda3/lib/python3.9/site-packages/torchvision/models/_utils.py:208: UserWarning: The parameter 'pretrained' is deprecated since 0.13 and will be removed in 0.15, please use 'weights' instead.\n",
      "  warnings.warn(\n",
      "/home/igor/anaconda3/lib/python3.9/site-packages/torchvision/models/_utils.py:223: UserWarning: Arguments other than a weight enum or `None` for 'weights' are deprecated since 0.13 and will be removed in 0.15. The current behavior is equivalent to passing `weights=VGG16_Weights.IMAGENET1K_V1`. You can also use `weights=VGG16_Weights.DEFAULT` to get the most up-to-date weights.\n",
      "  warnings.warn(msg)\n"
     ]
    },
    {
     "name": "stdout",
     "output_type": "stream",
     "text": [
      "NetVLAD setting:\n",
      "num_clusters: 64 dim: 512 vladv2: False\n",
      "=> loading checkpoint 'vgg16_netvlad_checkpoint/checkpoints/checkpoint.pth.tar'\n",
      "=> loaded checkpoint 'vgg16_netvlad_checkpoint/checkpoints/checkpoint.pth.tar' (epoch 25)\n",
      "===> Running evaluation step\n",
      "VLAD encoding: tensor([[ 0.0003, -0.0023,  0.0045,  ...,  0.0068, -0.0039, -0.0053]])\n",
      "VLAD encoding shape: torch.Size([1, 32768])\n",
      "Saved frame_vlad_embedding_pca to embedding_file:  <_io.TextIOWrapper name='/home/igor/Desktop/Victoria/tisl/tisl_localization_22s_copy-main/rscan_test/02b33dfb-be2b-2d54-92d2-cd012b2b3c40.txt' mode='a' encoding='UTF-8'>\n",
      "path_to_random_frame:  /home/igor/Desktop/Victoria/tisl/tisl_localization_22s_copy-main/rscan_test/02b33dfb-be2b-2d54-92d2-cd012b2b3c40/frame-000134.color.jpg\n",
      "Saved frame_position_numpy to embedding_file:  <_io.TextIOWrapper name='/home/igor/Desktop/Victoria/tisl/tisl_localization_22s_copy-main/rscan_test/02b33dfb-be2b-2d54-92d2-cd012b2b3c40.txt' mode='a' encoding='UTF-8'>\n",
      "===> Loading data\n",
      "Input image shape: torch.Size([1, 3, 540, 960])\n",
      "===> Building model\n"
     ]
    },
    {
     "name": "stderr",
     "output_type": "stream",
     "text": [
      "/home/igor/anaconda3/lib/python3.9/site-packages/torchvision/models/_utils.py:208: UserWarning: The parameter 'pretrained' is deprecated since 0.13 and will be removed in 0.15, please use 'weights' instead.\n",
      "  warnings.warn(\n",
      "/home/igor/anaconda3/lib/python3.9/site-packages/torchvision/models/_utils.py:223: UserWarning: Arguments other than a weight enum or `None` for 'weights' are deprecated since 0.13 and will be removed in 0.15. The current behavior is equivalent to passing `weights=VGG16_Weights.IMAGENET1K_V1`. You can also use `weights=VGG16_Weights.DEFAULT` to get the most up-to-date weights.\n",
      "  warnings.warn(msg)\n"
     ]
    },
    {
     "name": "stdout",
     "output_type": "stream",
     "text": [
      "NetVLAD setting:\n",
      "num_clusters: 64 dim: 512 vladv2: False\n",
      "=> loading checkpoint 'vgg16_netvlad_checkpoint/checkpoints/checkpoint.pth.tar'\n",
      "=> loaded checkpoint 'vgg16_netvlad_checkpoint/checkpoints/checkpoint.pth.tar' (epoch 25)\n",
      "===> Running evaluation step\n",
      "VLAD encoding: tensor([[-0.0013, -0.0078,  0.0086,  ...,  0.0037,  0.0043,  0.0004]])\n",
      "VLAD encoding shape: torch.Size([1, 32768])\n",
      "Saved frame_vlad_embedding_pca to embedding_file:  <_io.TextIOWrapper name='/home/igor/Desktop/Victoria/tisl/tisl_localization_22s_copy-main/rscan_test/02b33dfb-be2b-2d54-92d2-cd012b2b3c40.txt' mode='a' encoding='UTF-8'>\n",
      "path_to_random_frame:  /home/igor/Desktop/Victoria/tisl/tisl_localization_22s_copy-main/rscan_test/02b33dfb-be2b-2d54-92d2-cd012b2b3c40/frame-000141.color.jpg\n",
      "Saved frame_position_numpy to embedding_file:  <_io.TextIOWrapper name='/home/igor/Desktop/Victoria/tisl/tisl_localization_22s_copy-main/rscan_test/02b33dfb-be2b-2d54-92d2-cd012b2b3c40.txt' mode='a' encoding='UTF-8'>\n",
      "===> Loading data\n",
      "Input image shape: torch.Size([1, 3, 540, 960])\n",
      "===> Building model\n"
     ]
    },
    {
     "name": "stderr",
     "output_type": "stream",
     "text": [
      "/home/igor/anaconda3/lib/python3.9/site-packages/torchvision/models/_utils.py:208: UserWarning: The parameter 'pretrained' is deprecated since 0.13 and will be removed in 0.15, please use 'weights' instead.\n",
      "  warnings.warn(\n",
      "/home/igor/anaconda3/lib/python3.9/site-packages/torchvision/models/_utils.py:223: UserWarning: Arguments other than a weight enum or `None` for 'weights' are deprecated since 0.13 and will be removed in 0.15. The current behavior is equivalent to passing `weights=VGG16_Weights.IMAGENET1K_V1`. You can also use `weights=VGG16_Weights.DEFAULT` to get the most up-to-date weights.\n",
      "  warnings.warn(msg)\n"
     ]
    },
    {
     "name": "stdout",
     "output_type": "stream",
     "text": [
      "NetVLAD setting:\n",
      "num_clusters: 64 dim: 512 vladv2: False\n",
      "=> loading checkpoint 'vgg16_netvlad_checkpoint/checkpoints/checkpoint.pth.tar'\n",
      "=> loaded checkpoint 'vgg16_netvlad_checkpoint/checkpoints/checkpoint.pth.tar' (epoch 25)\n",
      "===> Running evaluation step\n",
      "VLAD encoding: tensor([[ 0.0016, -0.0010,  0.0003,  ...,  0.0182,  0.0037, -0.0058]])\n",
      "VLAD encoding shape: torch.Size([1, 32768])\n",
      "Saved frame_vlad_embedding_pca to embedding_file:  <_io.TextIOWrapper name='/home/igor/Desktop/Victoria/tisl/tisl_localization_22s_copy-main/rscan_test/02b33dfb-be2b-2d54-92d2-cd012b2b3c40.txt' mode='a' encoding='UTF-8'>\n",
      "path_to_random_frame:  /home/igor/Desktop/Victoria/tisl/tisl_localization_22s_copy-main/rscan_test/02b33dfb-be2b-2d54-92d2-cd012b2b3c40/frame-000142.color.jpg\n",
      "Saved frame_position_numpy to embedding_file:  <_io.TextIOWrapper name='/home/igor/Desktop/Victoria/tisl/tisl_localization_22s_copy-main/rscan_test/02b33dfb-be2b-2d54-92d2-cd012b2b3c40.txt' mode='a' encoding='UTF-8'>\n",
      "===> Loading data\n",
      "Input image shape: torch.Size([1, 3, 540, 960])\n",
      "===> Building model\n"
     ]
    },
    {
     "name": "stderr",
     "output_type": "stream",
     "text": [
      "/home/igor/anaconda3/lib/python3.9/site-packages/torchvision/models/_utils.py:208: UserWarning: The parameter 'pretrained' is deprecated since 0.13 and will be removed in 0.15, please use 'weights' instead.\n",
      "  warnings.warn(\n",
      "/home/igor/anaconda3/lib/python3.9/site-packages/torchvision/models/_utils.py:223: UserWarning: Arguments other than a weight enum or `None` for 'weights' are deprecated since 0.13 and will be removed in 0.15. The current behavior is equivalent to passing `weights=VGG16_Weights.IMAGENET1K_V1`. You can also use `weights=VGG16_Weights.DEFAULT` to get the most up-to-date weights.\n",
      "  warnings.warn(msg)\n"
     ]
    },
    {
     "name": "stdout",
     "output_type": "stream",
     "text": [
      "NetVLAD setting:\n",
      "num_clusters: 64 dim: 512 vladv2: False\n",
      "=> loading checkpoint 'vgg16_netvlad_checkpoint/checkpoints/checkpoint.pth.tar'\n",
      "=> loaded checkpoint 'vgg16_netvlad_checkpoint/checkpoints/checkpoint.pth.tar' (epoch 25)\n",
      "===> Running evaluation step\n",
      "VLAD encoding: tensor([[ 3.7328e-03, -1.2912e-03, -3.5802e-03,  ...,  8.1377e-03,\n",
      "         -8.9989e-05,  8.0687e-05]])\n",
      "VLAD encoding shape: torch.Size([1, 32768])\n",
      "Saved frame_vlad_embedding_pca to embedding_file:  <_io.TextIOWrapper name='/home/igor/Desktop/Victoria/tisl/tisl_localization_22s_copy-main/rscan_test/02b33dfb-be2b-2d54-92d2-cd012b2b3c40.txt' mode='a' encoding='UTF-8'>\n",
      "processing 0/8\n",
      "path_to_random_frame:  /home/igor/Desktop/Victoria/tisl/tisl_localization_22s_copy-main/rscan_test/02b33e03-be2b-2d54-9129-5d28efdd68fa/frame-000000.color.jpg\n",
      "Saved frame_position_numpy to embedding_file:  <_io.TextIOWrapper name='/home/igor/Desktop/Victoria/tisl/tisl_localization_22s_copy-main/rscan_test/02b33e03-be2b-2d54-9129-5d28efdd68fa.txt' mode='a' encoding='UTF-8'>\n",
      "===> Loading data\n",
      "Input image shape: torch.Size([1, 3, 540, 960])\n",
      "===> Building model\n"
     ]
    },
    {
     "name": "stderr",
     "output_type": "stream",
     "text": [
      "/home/igor/anaconda3/lib/python3.9/site-packages/torchvision/models/_utils.py:208: UserWarning: The parameter 'pretrained' is deprecated since 0.13 and will be removed in 0.15, please use 'weights' instead.\n",
      "  warnings.warn(\n",
      "/home/igor/anaconda3/lib/python3.9/site-packages/torchvision/models/_utils.py:223: UserWarning: Arguments other than a weight enum or `None` for 'weights' are deprecated since 0.13 and will be removed in 0.15. The current behavior is equivalent to passing `weights=VGG16_Weights.IMAGENET1K_V1`. You can also use `weights=VGG16_Weights.DEFAULT` to get the most up-to-date weights.\n",
      "  warnings.warn(msg)\n"
     ]
    },
    {
     "name": "stdout",
     "output_type": "stream",
     "text": [
      "NetVLAD setting:\n",
      "num_clusters: 64 dim: 512 vladv2: False\n",
      "=> loading checkpoint 'vgg16_netvlad_checkpoint/checkpoints/checkpoint.pth.tar'\n",
      "=> loaded checkpoint 'vgg16_netvlad_checkpoint/checkpoints/checkpoint.pth.tar' (epoch 25)\n",
      "===> Running evaluation step\n",
      "VLAD encoding: tensor([[ 0.0024, -0.0009,  0.0030,  ..., -0.0047,  0.0089,  0.0017]])\n",
      "VLAD encoding shape: torch.Size([1, 32768])\n",
      "Saved frame_vlad_embedding_pca to embedding_file:  <_io.TextIOWrapper name='/home/igor/Desktop/Victoria/tisl/tisl_localization_22s_copy-main/rscan_test/02b33e03-be2b-2d54-9129-5d28efdd68fa.txt' mode='a' encoding='UTF-8'>\n",
      "path_to_random_frame:  /home/igor/Desktop/Victoria/tisl/tisl_localization_22s_copy-main/rscan_test/02b33e03-be2b-2d54-9129-5d28efdd68fa/frame-000002.color.jpg\n",
      "Saved frame_position_numpy to embedding_file:  <_io.TextIOWrapper name='/home/igor/Desktop/Victoria/tisl/tisl_localization_22s_copy-main/rscan_test/02b33e03-be2b-2d54-9129-5d28efdd68fa.txt' mode='a' encoding='UTF-8'>\n",
      "===> Loading data\n",
      "Input image shape: torch.Size([1, 3, 540, 960])\n",
      "===> Building model\n"
     ]
    },
    {
     "name": "stderr",
     "output_type": "stream",
     "text": [
      "/home/igor/anaconda3/lib/python3.9/site-packages/torchvision/models/_utils.py:208: UserWarning: The parameter 'pretrained' is deprecated since 0.13 and will be removed in 0.15, please use 'weights' instead.\n",
      "  warnings.warn(\n",
      "/home/igor/anaconda3/lib/python3.9/site-packages/torchvision/models/_utils.py:223: UserWarning: Arguments other than a weight enum or `None` for 'weights' are deprecated since 0.13 and will be removed in 0.15. The current behavior is equivalent to passing `weights=VGG16_Weights.IMAGENET1K_V1`. You can also use `weights=VGG16_Weights.DEFAULT` to get the most up-to-date weights.\n",
      "  warnings.warn(msg)\n"
     ]
    },
    {
     "name": "stdout",
     "output_type": "stream",
     "text": [
      "NetVLAD setting:\n",
      "num_clusters: 64 dim: 512 vladv2: False\n",
      "=> loading checkpoint 'vgg16_netvlad_checkpoint/checkpoints/checkpoint.pth.tar'\n",
      "=> loaded checkpoint 'vgg16_netvlad_checkpoint/checkpoints/checkpoint.pth.tar' (epoch 25)\n",
      "===> Running evaluation step\n",
      "VLAD encoding: tensor([[-0.0048, -0.0049, -0.0030,  ...,  0.0002,  0.0080, -0.0023]])\n",
      "VLAD encoding shape: torch.Size([1, 32768])\n",
      "Saved frame_vlad_embedding_pca to embedding_file:  <_io.TextIOWrapper name='/home/igor/Desktop/Victoria/tisl/tisl_localization_22s_copy-main/rscan_test/02b33e03-be2b-2d54-9129-5d28efdd68fa.txt' mode='a' encoding='UTF-8'>\n",
      "path_to_random_frame:  /home/igor/Desktop/Victoria/tisl/tisl_localization_22s_copy-main/rscan_test/02b33e03-be2b-2d54-9129-5d28efdd68fa/frame-000004.color.jpg\n",
      "Saved frame_position_numpy to embedding_file:  <_io.TextIOWrapper name='/home/igor/Desktop/Victoria/tisl/tisl_localization_22s_copy-main/rscan_test/02b33e03-be2b-2d54-9129-5d28efdd68fa.txt' mode='a' encoding='UTF-8'>\n",
      "===> Loading data\n",
      "Input image shape: torch.Size([1, 3, 540, 960])\n",
      "===> Building model\n"
     ]
    },
    {
     "name": "stderr",
     "output_type": "stream",
     "text": [
      "/home/igor/anaconda3/lib/python3.9/site-packages/torchvision/models/_utils.py:208: UserWarning: The parameter 'pretrained' is deprecated since 0.13 and will be removed in 0.15, please use 'weights' instead.\n",
      "  warnings.warn(\n",
      "/home/igor/anaconda3/lib/python3.9/site-packages/torchvision/models/_utils.py:223: UserWarning: Arguments other than a weight enum or `None` for 'weights' are deprecated since 0.13 and will be removed in 0.15. The current behavior is equivalent to passing `weights=VGG16_Weights.IMAGENET1K_V1`. You can also use `weights=VGG16_Weights.DEFAULT` to get the most up-to-date weights.\n",
      "  warnings.warn(msg)\n"
     ]
    },
    {
     "name": "stdout",
     "output_type": "stream",
     "text": [
      "NetVLAD setting:\n",
      "num_clusters: 64 dim: 512 vladv2: False\n",
      "=> loading checkpoint 'vgg16_netvlad_checkpoint/checkpoints/checkpoint.pth.tar'\n",
      "=> loaded checkpoint 'vgg16_netvlad_checkpoint/checkpoints/checkpoint.pth.tar' (epoch 25)\n",
      "===> Running evaluation step\n",
      "VLAD encoding: tensor([[ 0.0028, -0.0042,  0.0096,  ...,  0.0030,  0.0029, -0.0026]])\n",
      "VLAD encoding shape: torch.Size([1, 32768])\n",
      "Saved frame_vlad_embedding_pca to embedding_file:  <_io.TextIOWrapper name='/home/igor/Desktop/Victoria/tisl/tisl_localization_22s_copy-main/rscan_test/02b33e03-be2b-2d54-9129-5d28efdd68fa.txt' mode='a' encoding='UTF-8'>\n",
      "path_to_random_frame:  /home/igor/Desktop/Victoria/tisl/tisl_localization_22s_copy-main/rscan_test/02b33e03-be2b-2d54-9129-5d28efdd68fa/frame-000005.color.jpg\n",
      "Saved frame_position_numpy to embedding_file:  <_io.TextIOWrapper name='/home/igor/Desktop/Victoria/tisl/tisl_localization_22s_copy-main/rscan_test/02b33e03-be2b-2d54-9129-5d28efdd68fa.txt' mode='a' encoding='UTF-8'>\n",
      "===> Loading data\n",
      "Input image shape: torch.Size([1, 3, 540, 960])\n",
      "===> Building model\n"
     ]
    },
    {
     "name": "stderr",
     "output_type": "stream",
     "text": [
      "/home/igor/anaconda3/lib/python3.9/site-packages/torchvision/models/_utils.py:208: UserWarning: The parameter 'pretrained' is deprecated since 0.13 and will be removed in 0.15, please use 'weights' instead.\n",
      "  warnings.warn(\n",
      "/home/igor/anaconda3/lib/python3.9/site-packages/torchvision/models/_utils.py:223: UserWarning: Arguments other than a weight enum or `None` for 'weights' are deprecated since 0.13 and will be removed in 0.15. The current behavior is equivalent to passing `weights=VGG16_Weights.IMAGENET1K_V1`. You can also use `weights=VGG16_Weights.DEFAULT` to get the most up-to-date weights.\n",
      "  warnings.warn(msg)\n"
     ]
    },
    {
     "name": "stdout",
     "output_type": "stream",
     "text": [
      "NetVLAD setting:\n",
      "num_clusters: 64 dim: 512 vladv2: False\n",
      "=> loading checkpoint 'vgg16_netvlad_checkpoint/checkpoints/checkpoint.pth.tar'\n",
      "=> loaded checkpoint 'vgg16_netvlad_checkpoint/checkpoints/checkpoint.pth.tar' (epoch 25)\n",
      "===> Running evaluation step\n",
      "VLAD encoding: tensor([[-0.0035, -0.0074,  0.0033,  ...,  0.0113,  0.0097,  0.0030]])\n",
      "VLAD encoding shape: torch.Size([1, 32768])\n",
      "Saved frame_vlad_embedding_pca to embedding_file:  <_io.TextIOWrapper name='/home/igor/Desktop/Victoria/tisl/tisl_localization_22s_copy-main/rscan_test/02b33e03-be2b-2d54-9129-5d28efdd68fa.txt' mode='a' encoding='UTF-8'>\n",
      "path_to_random_frame:  /home/igor/Desktop/Victoria/tisl/tisl_localization_22s_copy-main/rscan_test/02b33e03-be2b-2d54-9129-5d28efdd68fa/frame-000009.color.jpg\n",
      "Saved frame_position_numpy to embedding_file:  <_io.TextIOWrapper name='/home/igor/Desktop/Victoria/tisl/tisl_localization_22s_copy-main/rscan_test/02b33e03-be2b-2d54-9129-5d28efdd68fa.txt' mode='a' encoding='UTF-8'>\n",
      "===> Loading data\n",
      "Input image shape: torch.Size([1, 3, 540, 960])\n",
      "===> Building model\n"
     ]
    },
    {
     "name": "stderr",
     "output_type": "stream",
     "text": [
      "/home/igor/anaconda3/lib/python3.9/site-packages/torchvision/models/_utils.py:208: UserWarning: The parameter 'pretrained' is deprecated since 0.13 and will be removed in 0.15, please use 'weights' instead.\n",
      "  warnings.warn(\n",
      "/home/igor/anaconda3/lib/python3.9/site-packages/torchvision/models/_utils.py:223: UserWarning: Arguments other than a weight enum or `None` for 'weights' are deprecated since 0.13 and will be removed in 0.15. The current behavior is equivalent to passing `weights=VGG16_Weights.IMAGENET1K_V1`. You can also use `weights=VGG16_Weights.DEFAULT` to get the most up-to-date weights.\n",
      "  warnings.warn(msg)\n"
     ]
    },
    {
     "name": "stdout",
     "output_type": "stream",
     "text": [
      "NetVLAD setting:\n",
      "num_clusters: 64 dim: 512 vladv2: False\n",
      "=> loading checkpoint 'vgg16_netvlad_checkpoint/checkpoints/checkpoint.pth.tar'\n",
      "=> loaded checkpoint 'vgg16_netvlad_checkpoint/checkpoints/checkpoint.pth.tar' (epoch 25)\n",
      "===> Running evaluation step\n",
      "VLAD encoding: tensor([[-0.0033, -0.0016,  0.0029,  ...,  0.0048,  0.0065,  0.0012]])\n",
      "VLAD encoding shape: torch.Size([1, 32768])\n",
      "Saved frame_vlad_embedding_pca to embedding_file:  <_io.TextIOWrapper name='/home/igor/Desktop/Victoria/tisl/tisl_localization_22s_copy-main/rscan_test/02b33e03-be2b-2d54-9129-5d28efdd68fa.txt' mode='a' encoding='UTF-8'>\n",
      "path_to_random_frame:  /home/igor/Desktop/Victoria/tisl/tisl_localization_22s_copy-main/rscan_test/02b33e03-be2b-2d54-9129-5d28efdd68fa/frame-000011.color.jpg\n",
      "Saved frame_position_numpy to embedding_file:  <_io.TextIOWrapper name='/home/igor/Desktop/Victoria/tisl/tisl_localization_22s_copy-main/rscan_test/02b33e03-be2b-2d54-9129-5d28efdd68fa.txt' mode='a' encoding='UTF-8'>\n",
      "===> Loading data\n",
      "Input image shape: torch.Size([1, 3, 540, 960])\n",
      "===> Building model\n"
     ]
    },
    {
     "name": "stderr",
     "output_type": "stream",
     "text": [
      "/home/igor/anaconda3/lib/python3.9/site-packages/torchvision/models/_utils.py:208: UserWarning: The parameter 'pretrained' is deprecated since 0.13 and will be removed in 0.15, please use 'weights' instead.\n",
      "  warnings.warn(\n",
      "/home/igor/anaconda3/lib/python3.9/site-packages/torchvision/models/_utils.py:223: UserWarning: Arguments other than a weight enum or `None` for 'weights' are deprecated since 0.13 and will be removed in 0.15. The current behavior is equivalent to passing `weights=VGG16_Weights.IMAGENET1K_V1`. You can also use `weights=VGG16_Weights.DEFAULT` to get the most up-to-date weights.\n",
      "  warnings.warn(msg)\n"
     ]
    },
    {
     "name": "stdout",
     "output_type": "stream",
     "text": [
      "NetVLAD setting:\n",
      "num_clusters: 64 dim: 512 vladv2: False\n",
      "=> loading checkpoint 'vgg16_netvlad_checkpoint/checkpoints/checkpoint.pth.tar'\n",
      "=> loaded checkpoint 'vgg16_netvlad_checkpoint/checkpoints/checkpoint.pth.tar' (epoch 25)\n",
      "===> Running evaluation step\n",
      "VLAD encoding: tensor([[-0.0107, -0.0076,  0.0095,  ...,  0.0033,  0.0052, -0.0008]])\n",
      "VLAD encoding shape: torch.Size([1, 32768])\n",
      "Saved frame_vlad_embedding_pca to embedding_file:  <_io.TextIOWrapper name='/home/igor/Desktop/Victoria/tisl/tisl_localization_22s_copy-main/rscan_test/02b33e03-be2b-2d54-9129-5d28efdd68fa.txt' mode='a' encoding='UTF-8'>\n",
      "path_to_random_frame:  /home/igor/Desktop/Victoria/tisl/tisl_localization_22s_copy-main/rscan_test/02b33e03-be2b-2d54-9129-5d28efdd68fa/frame-000013.color.jpg\n",
      "Saved frame_position_numpy to embedding_file:  <_io.TextIOWrapper name='/home/igor/Desktop/Victoria/tisl/tisl_localization_22s_copy-main/rscan_test/02b33e03-be2b-2d54-9129-5d28efdd68fa.txt' mode='a' encoding='UTF-8'>\n",
      "===> Loading data\n",
      "Input image shape: torch.Size([1, 3, 540, 960])\n",
      "===> Building model\n"
     ]
    },
    {
     "name": "stderr",
     "output_type": "stream",
     "text": [
      "/home/igor/anaconda3/lib/python3.9/site-packages/torchvision/models/_utils.py:208: UserWarning: The parameter 'pretrained' is deprecated since 0.13 and will be removed in 0.15, please use 'weights' instead.\n",
      "  warnings.warn(\n",
      "/home/igor/anaconda3/lib/python3.9/site-packages/torchvision/models/_utils.py:223: UserWarning: Arguments other than a weight enum or `None` for 'weights' are deprecated since 0.13 and will be removed in 0.15. The current behavior is equivalent to passing `weights=VGG16_Weights.IMAGENET1K_V1`. You can also use `weights=VGG16_Weights.DEFAULT` to get the most up-to-date weights.\n",
      "  warnings.warn(msg)\n"
     ]
    },
    {
     "name": "stdout",
     "output_type": "stream",
     "text": [
      "NetVLAD setting:\n",
      "num_clusters: 64 dim: 512 vladv2: False\n",
      "=> loading checkpoint 'vgg16_netvlad_checkpoint/checkpoints/checkpoint.pth.tar'\n",
      "=> loaded checkpoint 'vgg16_netvlad_checkpoint/checkpoints/checkpoint.pth.tar' (epoch 25)\n",
      "===> Running evaluation step\n",
      "VLAD encoding: tensor([[-0.0028, -0.0054,  0.0003,  ..., -0.0008,  0.0096,  0.0006]])\n",
      "VLAD encoding shape: torch.Size([1, 32768])\n",
      "Saved frame_vlad_embedding_pca to embedding_file:  <_io.TextIOWrapper name='/home/igor/Desktop/Victoria/tisl/tisl_localization_22s_copy-main/rscan_test/02b33e03-be2b-2d54-9129-5d28efdd68fa.txt' mode='a' encoding='UTF-8'>\n",
      "path_to_random_frame:  /home/igor/Desktop/Victoria/tisl/tisl_localization_22s_copy-main/rscan_test/02b33e03-be2b-2d54-9129-5d28efdd68fa/frame-000016.color.jpg\n",
      "Saved frame_position_numpy to embedding_file:  <_io.TextIOWrapper name='/home/igor/Desktop/Victoria/tisl/tisl_localization_22s_copy-main/rscan_test/02b33e03-be2b-2d54-9129-5d28efdd68fa.txt' mode='a' encoding='UTF-8'>\n",
      "===> Loading data\n",
      "Input image shape: torch.Size([1, 3, 540, 960])\n",
      "===> Building model\n"
     ]
    },
    {
     "name": "stderr",
     "output_type": "stream",
     "text": [
      "/home/igor/anaconda3/lib/python3.9/site-packages/torchvision/models/_utils.py:208: UserWarning: The parameter 'pretrained' is deprecated since 0.13 and will be removed in 0.15, please use 'weights' instead.\n",
      "  warnings.warn(\n",
      "/home/igor/anaconda3/lib/python3.9/site-packages/torchvision/models/_utils.py:223: UserWarning: Arguments other than a weight enum or `None` for 'weights' are deprecated since 0.13 and will be removed in 0.15. The current behavior is equivalent to passing `weights=VGG16_Weights.IMAGENET1K_V1`. You can also use `weights=VGG16_Weights.DEFAULT` to get the most up-to-date weights.\n",
      "  warnings.warn(msg)\n"
     ]
    },
    {
     "name": "stdout",
     "output_type": "stream",
     "text": [
      "NetVLAD setting:\n",
      "num_clusters: 64 dim: 512 vladv2: False\n",
      "=> loading checkpoint 'vgg16_netvlad_checkpoint/checkpoints/checkpoint.pth.tar'\n",
      "=> loaded checkpoint 'vgg16_netvlad_checkpoint/checkpoints/checkpoint.pth.tar' (epoch 25)\n",
      "===> Running evaluation step\n",
      "VLAD encoding: tensor([[ 0.0031, -0.0051,  0.0053,  ...,  0.0022,  0.0072,  0.0031]])\n",
      "VLAD encoding shape: torch.Size([1, 32768])\n",
      "Saved frame_vlad_embedding_pca to embedding_file:  <_io.TextIOWrapper name='/home/igor/Desktop/Victoria/tisl/tisl_localization_22s_copy-main/rscan_test/02b33e03-be2b-2d54-9129-5d28efdd68fa.txt' mode='a' encoding='UTF-8'>\n",
      "path_to_random_frame:  /home/igor/Desktop/Victoria/tisl/tisl_localization_22s_copy-main/rscan_test/02b33e03-be2b-2d54-9129-5d28efdd68fa/frame-000017.color.jpg\n",
      "Saved frame_position_numpy to embedding_file:  <_io.TextIOWrapper name='/home/igor/Desktop/Victoria/tisl/tisl_localization_22s_copy-main/rscan_test/02b33e03-be2b-2d54-9129-5d28efdd68fa.txt' mode='a' encoding='UTF-8'>\n",
      "===> Loading data\n",
      "Input image shape: torch.Size([1, 3, 540, 960])\n",
      "===> Building model\n"
     ]
    },
    {
     "name": "stderr",
     "output_type": "stream",
     "text": [
      "/home/igor/anaconda3/lib/python3.9/site-packages/torchvision/models/_utils.py:208: UserWarning: The parameter 'pretrained' is deprecated since 0.13 and will be removed in 0.15, please use 'weights' instead.\n",
      "  warnings.warn(\n",
      "/home/igor/anaconda3/lib/python3.9/site-packages/torchvision/models/_utils.py:223: UserWarning: Arguments other than a weight enum or `None` for 'weights' are deprecated since 0.13 and will be removed in 0.15. The current behavior is equivalent to passing `weights=VGG16_Weights.IMAGENET1K_V1`. You can also use `weights=VGG16_Weights.DEFAULT` to get the most up-to-date weights.\n",
      "  warnings.warn(msg)\n"
     ]
    },
    {
     "name": "stdout",
     "output_type": "stream",
     "text": [
      "NetVLAD setting:\n",
      "num_clusters: 64 dim: 512 vladv2: False\n",
      "=> loading checkpoint 'vgg16_netvlad_checkpoint/checkpoints/checkpoint.pth.tar'\n",
      "=> loaded checkpoint 'vgg16_netvlad_checkpoint/checkpoints/checkpoint.pth.tar' (epoch 25)\n",
      "===> Running evaluation step\n",
      "VLAD encoding: tensor([[-0.0021, -0.0109,  0.0040,  ...,  0.0053,  0.0089,  0.0061]])\n",
      "VLAD encoding shape: torch.Size([1, 32768])\n",
      "Saved frame_vlad_embedding_pca to embedding_file:  <_io.TextIOWrapper name='/home/igor/Desktop/Victoria/tisl/tisl_localization_22s_copy-main/rscan_test/02b33e03-be2b-2d54-9129-5d28efdd68fa.txt' mode='a' encoding='UTF-8'>\n",
      "path_to_random_frame:  /home/igor/Desktop/Victoria/tisl/tisl_localization_22s_copy-main/rscan_test/02b33e03-be2b-2d54-9129-5d28efdd68fa/frame-000018.color.jpg\n",
      "Saved frame_position_numpy to embedding_file:  <_io.TextIOWrapper name='/home/igor/Desktop/Victoria/tisl/tisl_localization_22s_copy-main/rscan_test/02b33e03-be2b-2d54-9129-5d28efdd68fa.txt' mode='a' encoding='UTF-8'>\n",
      "===> Loading data\n",
      "Input image shape: torch.Size([1, 3, 540, 960])\n",
      "===> Building model\n"
     ]
    },
    {
     "name": "stderr",
     "output_type": "stream",
     "text": [
      "/home/igor/anaconda3/lib/python3.9/site-packages/torchvision/models/_utils.py:208: UserWarning: The parameter 'pretrained' is deprecated since 0.13 and will be removed in 0.15, please use 'weights' instead.\n",
      "  warnings.warn(\n",
      "/home/igor/anaconda3/lib/python3.9/site-packages/torchvision/models/_utils.py:223: UserWarning: Arguments other than a weight enum or `None` for 'weights' are deprecated since 0.13 and will be removed in 0.15. The current behavior is equivalent to passing `weights=VGG16_Weights.IMAGENET1K_V1`. You can also use `weights=VGG16_Weights.DEFAULT` to get the most up-to-date weights.\n",
      "  warnings.warn(msg)\n"
     ]
    },
    {
     "name": "stdout",
     "output_type": "stream",
     "text": [
      "NetVLAD setting:\n",
      "num_clusters: 64 dim: 512 vladv2: False\n",
      "=> loading checkpoint 'vgg16_netvlad_checkpoint/checkpoints/checkpoint.pth.tar'\n",
      "=> loaded checkpoint 'vgg16_netvlad_checkpoint/checkpoints/checkpoint.pth.tar' (epoch 25)\n",
      "===> Running evaluation step\n",
      "VLAD encoding: tensor([[ 0.0037, -0.0067,  0.0105,  ...,  0.0027,  0.0046,  0.0016]])\n",
      "VLAD encoding shape: torch.Size([1, 32768])\n",
      "Saved frame_vlad_embedding_pca to embedding_file:  <_io.TextIOWrapper name='/home/igor/Desktop/Victoria/tisl/tisl_localization_22s_copy-main/rscan_test/02b33e03-be2b-2d54-9129-5d28efdd68fa.txt' mode='a' encoding='UTF-8'>\n",
      "path_to_random_frame:  /home/igor/Desktop/Victoria/tisl/tisl_localization_22s_copy-main/rscan_test/02b33e03-be2b-2d54-9129-5d28efdd68fa/frame-000022.color.jpg\n",
      "Saved frame_position_numpy to embedding_file:  <_io.TextIOWrapper name='/home/igor/Desktop/Victoria/tisl/tisl_localization_22s_copy-main/rscan_test/02b33e03-be2b-2d54-9129-5d28efdd68fa.txt' mode='a' encoding='UTF-8'>\n",
      "===> Loading data\n",
      "Input image shape: torch.Size([1, 3, 540, 960])\n",
      "===> Building model\n"
     ]
    },
    {
     "name": "stderr",
     "output_type": "stream",
     "text": [
      "/home/igor/anaconda3/lib/python3.9/site-packages/torchvision/models/_utils.py:208: UserWarning: The parameter 'pretrained' is deprecated since 0.13 and will be removed in 0.15, please use 'weights' instead.\n",
      "  warnings.warn(\n",
      "/home/igor/anaconda3/lib/python3.9/site-packages/torchvision/models/_utils.py:223: UserWarning: Arguments other than a weight enum or `None` for 'weights' are deprecated since 0.13 and will be removed in 0.15. The current behavior is equivalent to passing `weights=VGG16_Weights.IMAGENET1K_V1`. You can also use `weights=VGG16_Weights.DEFAULT` to get the most up-to-date weights.\n",
      "  warnings.warn(msg)\n"
     ]
    },
    {
     "name": "stdout",
     "output_type": "stream",
     "text": [
      "NetVLAD setting:\n",
      "num_clusters: 64 dim: 512 vladv2: False\n",
      "=> loading checkpoint 'vgg16_netvlad_checkpoint/checkpoints/checkpoint.pth.tar'\n",
      "=> loaded checkpoint 'vgg16_netvlad_checkpoint/checkpoints/checkpoint.pth.tar' (epoch 25)\n",
      "===> Running evaluation step\n",
      "VLAD encoding: tensor([[-0.0020,  0.0002, -0.0034,  ...,  0.0041,  0.0057,  0.0075]])\n",
      "VLAD encoding shape: torch.Size([1, 32768])\n",
      "Saved frame_vlad_embedding_pca to embedding_file:  <_io.TextIOWrapper name='/home/igor/Desktop/Victoria/tisl/tisl_localization_22s_copy-main/rscan_test/02b33e03-be2b-2d54-9129-5d28efdd68fa.txt' mode='a' encoding='UTF-8'>\n",
      "path_to_random_frame:  /home/igor/Desktop/Victoria/tisl/tisl_localization_22s_copy-main/rscan_test/02b33e03-be2b-2d54-9129-5d28efdd68fa/frame-000026.color.jpg\n",
      "Saved frame_position_numpy to embedding_file:  <_io.TextIOWrapper name='/home/igor/Desktop/Victoria/tisl/tisl_localization_22s_copy-main/rscan_test/02b33e03-be2b-2d54-9129-5d28efdd68fa.txt' mode='a' encoding='UTF-8'>\n",
      "===> Loading data\n",
      "Input image shape: torch.Size([1, 3, 540, 960])\n",
      "===> Building model\n"
     ]
    },
    {
     "name": "stderr",
     "output_type": "stream",
     "text": [
      "/home/igor/anaconda3/lib/python3.9/site-packages/torchvision/models/_utils.py:208: UserWarning: The parameter 'pretrained' is deprecated since 0.13 and will be removed in 0.15, please use 'weights' instead.\n",
      "  warnings.warn(\n",
      "/home/igor/anaconda3/lib/python3.9/site-packages/torchvision/models/_utils.py:223: UserWarning: Arguments other than a weight enum or `None` for 'weights' are deprecated since 0.13 and will be removed in 0.15. The current behavior is equivalent to passing `weights=VGG16_Weights.IMAGENET1K_V1`. You can also use `weights=VGG16_Weights.DEFAULT` to get the most up-to-date weights.\n",
      "  warnings.warn(msg)\n"
     ]
    },
    {
     "name": "stdout",
     "output_type": "stream",
     "text": [
      "NetVLAD setting:\n",
      "num_clusters: 64 dim: 512 vladv2: False\n",
      "=> loading checkpoint 'vgg16_netvlad_checkpoint/checkpoints/checkpoint.pth.tar'\n",
      "=> loaded checkpoint 'vgg16_netvlad_checkpoint/checkpoints/checkpoint.pth.tar' (epoch 25)\n",
      "===> Running evaluation step\n",
      "VLAD encoding: tensor([[-0.0029, -0.0016,  0.0014,  ...,  0.0096,  0.0067,  0.0018]])\n",
      "VLAD encoding shape: torch.Size([1, 32768])\n",
      "Saved frame_vlad_embedding_pca to embedding_file:  <_io.TextIOWrapper name='/home/igor/Desktop/Victoria/tisl/tisl_localization_22s_copy-main/rscan_test/02b33e03-be2b-2d54-9129-5d28efdd68fa.txt' mode='a' encoding='UTF-8'>\n",
      "path_to_random_frame:  /home/igor/Desktop/Victoria/tisl/tisl_localization_22s_copy-main/rscan_test/02b33e03-be2b-2d54-9129-5d28efdd68fa/frame-000027.color.jpg\n",
      "Saved frame_position_numpy to embedding_file:  <_io.TextIOWrapper name='/home/igor/Desktop/Victoria/tisl/tisl_localization_22s_copy-main/rscan_test/02b33e03-be2b-2d54-9129-5d28efdd68fa.txt' mode='a' encoding='UTF-8'>\n",
      "===> Loading data\n",
      "Input image shape: torch.Size([1, 3, 540, 960])\n",
      "===> Building model\n"
     ]
    },
    {
     "name": "stderr",
     "output_type": "stream",
     "text": [
      "/home/igor/anaconda3/lib/python3.9/site-packages/torchvision/models/_utils.py:208: UserWarning: The parameter 'pretrained' is deprecated since 0.13 and will be removed in 0.15, please use 'weights' instead.\n",
      "  warnings.warn(\n",
      "/home/igor/anaconda3/lib/python3.9/site-packages/torchvision/models/_utils.py:223: UserWarning: Arguments other than a weight enum or `None` for 'weights' are deprecated since 0.13 and will be removed in 0.15. The current behavior is equivalent to passing `weights=VGG16_Weights.IMAGENET1K_V1`. You can also use `weights=VGG16_Weights.DEFAULT` to get the most up-to-date weights.\n",
      "  warnings.warn(msg)\n"
     ]
    },
    {
     "name": "stdout",
     "output_type": "stream",
     "text": [
      "NetVLAD setting:\n",
      "num_clusters: 64 dim: 512 vladv2: False\n",
      "=> loading checkpoint 'vgg16_netvlad_checkpoint/checkpoints/checkpoint.pth.tar'\n",
      "=> loaded checkpoint 'vgg16_netvlad_checkpoint/checkpoints/checkpoint.pth.tar' (epoch 25)\n",
      "===> Running evaluation step\n",
      "VLAD encoding: tensor([[-0.0049,  0.0044, -0.0008,  ...,  0.0075,  0.0081,  0.0020]])\n",
      "VLAD encoding shape: torch.Size([1, 32768])\n",
      "Saved frame_vlad_embedding_pca to embedding_file:  <_io.TextIOWrapper name='/home/igor/Desktop/Victoria/tisl/tisl_localization_22s_copy-main/rscan_test/02b33e03-be2b-2d54-9129-5d28efdd68fa.txt' mode='a' encoding='UTF-8'>\n",
      "path_to_random_frame:  /home/igor/Desktop/Victoria/tisl/tisl_localization_22s_copy-main/rscan_test/02b33e03-be2b-2d54-9129-5d28efdd68fa/frame-000033.color.jpg\n",
      "Saved frame_position_numpy to embedding_file:  <_io.TextIOWrapper name='/home/igor/Desktop/Victoria/tisl/tisl_localization_22s_copy-main/rscan_test/02b33e03-be2b-2d54-9129-5d28efdd68fa.txt' mode='a' encoding='UTF-8'>\n",
      "===> Loading data\n",
      "Input image shape: torch.Size([1, 3, 540, 960])\n",
      "===> Building model\n"
     ]
    },
    {
     "name": "stderr",
     "output_type": "stream",
     "text": [
      "/home/igor/anaconda3/lib/python3.9/site-packages/torchvision/models/_utils.py:208: UserWarning: The parameter 'pretrained' is deprecated since 0.13 and will be removed in 0.15, please use 'weights' instead.\n",
      "  warnings.warn(\n",
      "/home/igor/anaconda3/lib/python3.9/site-packages/torchvision/models/_utils.py:223: UserWarning: Arguments other than a weight enum or `None` for 'weights' are deprecated since 0.13 and will be removed in 0.15. The current behavior is equivalent to passing `weights=VGG16_Weights.IMAGENET1K_V1`. You can also use `weights=VGG16_Weights.DEFAULT` to get the most up-to-date weights.\n",
      "  warnings.warn(msg)\n"
     ]
    },
    {
     "name": "stdout",
     "output_type": "stream",
     "text": [
      "NetVLAD setting:\n",
      "num_clusters: 64 dim: 512 vladv2: False\n",
      "=> loading checkpoint 'vgg16_netvlad_checkpoint/checkpoints/checkpoint.pth.tar'\n",
      "=> loaded checkpoint 'vgg16_netvlad_checkpoint/checkpoints/checkpoint.pth.tar' (epoch 25)\n",
      "===> Running evaluation step\n",
      "VLAD encoding: tensor([[-0.0015,  0.0016, -0.0024,  ...,  0.0062,  0.0111, -0.0006]])\n",
      "VLAD encoding shape: torch.Size([1, 32768])\n",
      "Saved frame_vlad_embedding_pca to embedding_file:  <_io.TextIOWrapper name='/home/igor/Desktop/Victoria/tisl/tisl_localization_22s_copy-main/rscan_test/02b33e03-be2b-2d54-9129-5d28efdd68fa.txt' mode='a' encoding='UTF-8'>\n",
      "path_to_random_frame:  /home/igor/Desktop/Victoria/tisl/tisl_localization_22s_copy-main/rscan_test/02b33e03-be2b-2d54-9129-5d28efdd68fa/frame-000034.color.jpg\n",
      "Saved frame_position_numpy to embedding_file:  <_io.TextIOWrapper name='/home/igor/Desktop/Victoria/tisl/tisl_localization_22s_copy-main/rscan_test/02b33e03-be2b-2d54-9129-5d28efdd68fa.txt' mode='a' encoding='UTF-8'>\n",
      "===> Loading data\n",
      "Input image shape: torch.Size([1, 3, 540, 960])\n",
      "===> Building model\n"
     ]
    },
    {
     "name": "stderr",
     "output_type": "stream",
     "text": [
      "/home/igor/anaconda3/lib/python3.9/site-packages/torchvision/models/_utils.py:208: UserWarning: The parameter 'pretrained' is deprecated since 0.13 and will be removed in 0.15, please use 'weights' instead.\n",
      "  warnings.warn(\n",
      "/home/igor/anaconda3/lib/python3.9/site-packages/torchvision/models/_utils.py:223: UserWarning: Arguments other than a weight enum or `None` for 'weights' are deprecated since 0.13 and will be removed in 0.15. The current behavior is equivalent to passing `weights=VGG16_Weights.IMAGENET1K_V1`. You can also use `weights=VGG16_Weights.DEFAULT` to get the most up-to-date weights.\n",
      "  warnings.warn(msg)\n"
     ]
    },
    {
     "name": "stdout",
     "output_type": "stream",
     "text": [
      "NetVLAD setting:\n",
      "num_clusters: 64 dim: 512 vladv2: False\n",
      "=> loading checkpoint 'vgg16_netvlad_checkpoint/checkpoints/checkpoint.pth.tar'\n",
      "=> loaded checkpoint 'vgg16_netvlad_checkpoint/checkpoints/checkpoint.pth.tar' (epoch 25)\n",
      "===> Running evaluation step\n",
      "VLAD encoding: tensor([[-0.0007, -0.0032, -0.0009,  ...,  0.0013,  0.0100, -0.0007]])\n",
      "VLAD encoding shape: torch.Size([1, 32768])\n",
      "Saved frame_vlad_embedding_pca to embedding_file:  <_io.TextIOWrapper name='/home/igor/Desktop/Victoria/tisl/tisl_localization_22s_copy-main/rscan_test/02b33e03-be2b-2d54-9129-5d28efdd68fa.txt' mode='a' encoding='UTF-8'>\n",
      "path_to_random_frame:  /home/igor/Desktop/Victoria/tisl/tisl_localization_22s_copy-main/rscan_test/02b33e03-be2b-2d54-9129-5d28efdd68fa/frame-000037.color.jpg\n",
      "Saved frame_position_numpy to embedding_file:  <_io.TextIOWrapper name='/home/igor/Desktop/Victoria/tisl/tisl_localization_22s_copy-main/rscan_test/02b33e03-be2b-2d54-9129-5d28efdd68fa.txt' mode='a' encoding='UTF-8'>\n",
      "===> Loading data\n",
      "Input image shape: torch.Size([1, 3, 540, 960])\n",
      "===> Building model\n"
     ]
    },
    {
     "name": "stderr",
     "output_type": "stream",
     "text": [
      "/home/igor/anaconda3/lib/python3.9/site-packages/torchvision/models/_utils.py:208: UserWarning: The parameter 'pretrained' is deprecated since 0.13 and will be removed in 0.15, please use 'weights' instead.\n",
      "  warnings.warn(\n",
      "/home/igor/anaconda3/lib/python3.9/site-packages/torchvision/models/_utils.py:223: UserWarning: Arguments other than a weight enum or `None` for 'weights' are deprecated since 0.13 and will be removed in 0.15. The current behavior is equivalent to passing `weights=VGG16_Weights.IMAGENET1K_V1`. You can also use `weights=VGG16_Weights.DEFAULT` to get the most up-to-date weights.\n",
      "  warnings.warn(msg)\n"
     ]
    },
    {
     "name": "stdout",
     "output_type": "stream",
     "text": [
      "NetVLAD setting:\n",
      "num_clusters: 64 dim: 512 vladv2: False\n",
      "=> loading checkpoint 'vgg16_netvlad_checkpoint/checkpoints/checkpoint.pth.tar'\n",
      "=> loaded checkpoint 'vgg16_netvlad_checkpoint/checkpoints/checkpoint.pth.tar' (epoch 25)\n",
      "===> Running evaluation step\n",
      "VLAD encoding: tensor([[-0.0067, -0.0025,  0.0019,  ...,  0.0064,  0.0111,  0.0023]])\n",
      "VLAD encoding shape: torch.Size([1, 32768])\n",
      "Saved frame_vlad_embedding_pca to embedding_file:  <_io.TextIOWrapper name='/home/igor/Desktop/Victoria/tisl/tisl_localization_22s_copy-main/rscan_test/02b33e03-be2b-2d54-9129-5d28efdd68fa.txt' mode='a' encoding='UTF-8'>\n",
      "path_to_random_frame:  /home/igor/Desktop/Victoria/tisl/tisl_localization_22s_copy-main/rscan_test/02b33e03-be2b-2d54-9129-5d28efdd68fa/frame-000039.color.jpg\n",
      "Saved frame_position_numpy to embedding_file:  <_io.TextIOWrapper name='/home/igor/Desktop/Victoria/tisl/tisl_localization_22s_copy-main/rscan_test/02b33e03-be2b-2d54-9129-5d28efdd68fa.txt' mode='a' encoding='UTF-8'>\n",
      "===> Loading data\n",
      "Input image shape: torch.Size([1, 3, 540, 960])\n",
      "===> Building model\n"
     ]
    },
    {
     "name": "stderr",
     "output_type": "stream",
     "text": [
      "/home/igor/anaconda3/lib/python3.9/site-packages/torchvision/models/_utils.py:208: UserWarning: The parameter 'pretrained' is deprecated since 0.13 and will be removed in 0.15, please use 'weights' instead.\n",
      "  warnings.warn(\n",
      "/home/igor/anaconda3/lib/python3.9/site-packages/torchvision/models/_utils.py:223: UserWarning: Arguments other than a weight enum or `None` for 'weights' are deprecated since 0.13 and will be removed in 0.15. The current behavior is equivalent to passing `weights=VGG16_Weights.IMAGENET1K_V1`. You can also use `weights=VGG16_Weights.DEFAULT` to get the most up-to-date weights.\n",
      "  warnings.warn(msg)\n"
     ]
    },
    {
     "name": "stdout",
     "output_type": "stream",
     "text": [
      "NetVLAD setting:\n",
      "num_clusters: 64 dim: 512 vladv2: False\n",
      "=> loading checkpoint 'vgg16_netvlad_checkpoint/checkpoints/checkpoint.pth.tar'\n",
      "=> loaded checkpoint 'vgg16_netvlad_checkpoint/checkpoints/checkpoint.pth.tar' (epoch 25)\n",
      "===> Running evaluation step\n",
      "VLAD encoding: tensor([[ 7.8851e-04, -7.3607e-05,  4.3891e-03,  ...,  8.1570e-03,\n",
      "          1.1010e-02,  1.9040e-03]])\n",
      "VLAD encoding shape: torch.Size([1, 32768])\n",
      "Saved frame_vlad_embedding_pca to embedding_file:  <_io.TextIOWrapper name='/home/igor/Desktop/Victoria/tisl/tisl_localization_22s_copy-main/rscan_test/02b33e03-be2b-2d54-9129-5d28efdd68fa.txt' mode='a' encoding='UTF-8'>\n",
      "path_to_random_frame:  /home/igor/Desktop/Victoria/tisl/tisl_localization_22s_copy-main/rscan_test/02b33e03-be2b-2d54-9129-5d28efdd68fa/frame-000040.color.jpg\n",
      "Saved frame_position_numpy to embedding_file:  <_io.TextIOWrapper name='/home/igor/Desktop/Victoria/tisl/tisl_localization_22s_copy-main/rscan_test/02b33e03-be2b-2d54-9129-5d28efdd68fa.txt' mode='a' encoding='UTF-8'>\n",
      "===> Loading data\n",
      "Input image shape: torch.Size([1, 3, 540, 960])\n",
      "===> Building model\n"
     ]
    },
    {
     "name": "stderr",
     "output_type": "stream",
     "text": [
      "/home/igor/anaconda3/lib/python3.9/site-packages/torchvision/models/_utils.py:208: UserWarning: The parameter 'pretrained' is deprecated since 0.13 and will be removed in 0.15, please use 'weights' instead.\n",
      "  warnings.warn(\n",
      "/home/igor/anaconda3/lib/python3.9/site-packages/torchvision/models/_utils.py:223: UserWarning: Arguments other than a weight enum or `None` for 'weights' are deprecated since 0.13 and will be removed in 0.15. The current behavior is equivalent to passing `weights=VGG16_Weights.IMAGENET1K_V1`. You can also use `weights=VGG16_Weights.DEFAULT` to get the most up-to-date weights.\n",
      "  warnings.warn(msg)\n"
     ]
    },
    {
     "name": "stdout",
     "output_type": "stream",
     "text": [
      "NetVLAD setting:\n",
      "num_clusters: 64 dim: 512 vladv2: False\n",
      "=> loading checkpoint 'vgg16_netvlad_checkpoint/checkpoints/checkpoint.pth.tar'\n",
      "=> loaded checkpoint 'vgg16_netvlad_checkpoint/checkpoints/checkpoint.pth.tar' (epoch 25)\n",
      "===> Running evaluation step\n",
      "VLAD encoding: tensor([[-0.0027, -0.0055,  0.0009,  ...,  0.0046,  0.0072,  0.0020]])\n",
      "VLAD encoding shape: torch.Size([1, 32768])\n",
      "Saved frame_vlad_embedding_pca to embedding_file:  <_io.TextIOWrapper name='/home/igor/Desktop/Victoria/tisl/tisl_localization_22s_copy-main/rscan_test/02b33e03-be2b-2d54-9129-5d28efdd68fa.txt' mode='a' encoding='UTF-8'>\n",
      "path_to_random_frame:  /home/igor/Desktop/Victoria/tisl/tisl_localization_22s_copy-main/rscan_test/02b33e03-be2b-2d54-9129-5d28efdd68fa/frame-000041.color.jpg\n",
      "Saved frame_position_numpy to embedding_file:  <_io.TextIOWrapper name='/home/igor/Desktop/Victoria/tisl/tisl_localization_22s_copy-main/rscan_test/02b33e03-be2b-2d54-9129-5d28efdd68fa.txt' mode='a' encoding='UTF-8'>\n",
      "===> Loading data\n",
      "Input image shape: torch.Size([1, 3, 540, 960])\n",
      "===> Building model\n"
     ]
    },
    {
     "name": "stderr",
     "output_type": "stream",
     "text": [
      "/home/igor/anaconda3/lib/python3.9/site-packages/torchvision/models/_utils.py:208: UserWarning: The parameter 'pretrained' is deprecated since 0.13 and will be removed in 0.15, please use 'weights' instead.\n",
      "  warnings.warn(\n",
      "/home/igor/anaconda3/lib/python3.9/site-packages/torchvision/models/_utils.py:223: UserWarning: Arguments other than a weight enum or `None` for 'weights' are deprecated since 0.13 and will be removed in 0.15. The current behavior is equivalent to passing `weights=VGG16_Weights.IMAGENET1K_V1`. You can also use `weights=VGG16_Weights.DEFAULT` to get the most up-to-date weights.\n",
      "  warnings.warn(msg)\n"
     ]
    },
    {
     "name": "stdout",
     "output_type": "stream",
     "text": [
      "NetVLAD setting:\n",
      "num_clusters: 64 dim: 512 vladv2: False\n",
      "=> loading checkpoint 'vgg16_netvlad_checkpoint/checkpoints/checkpoint.pth.tar'\n",
      "=> loaded checkpoint 'vgg16_netvlad_checkpoint/checkpoints/checkpoint.pth.tar' (epoch 25)\n",
      "===> Running evaluation step\n",
      "VLAD encoding: tensor([[-0.0060, -0.0118,  0.0007,  ...,  0.0063,  0.0062, -0.0004]])\n",
      "VLAD encoding shape: torch.Size([1, 32768])\n",
      "Saved frame_vlad_embedding_pca to embedding_file:  <_io.TextIOWrapper name='/home/igor/Desktop/Victoria/tisl/tisl_localization_22s_copy-main/rscan_test/02b33e03-be2b-2d54-9129-5d28efdd68fa.txt' mode='a' encoding='UTF-8'>\n",
      "path_to_random_frame:  /home/igor/Desktop/Victoria/tisl/tisl_localization_22s_copy-main/rscan_test/02b33e03-be2b-2d54-9129-5d28efdd68fa/frame-000043.color.jpg\n",
      "Saved frame_position_numpy to embedding_file:  <_io.TextIOWrapper name='/home/igor/Desktop/Victoria/tisl/tisl_localization_22s_copy-main/rscan_test/02b33e03-be2b-2d54-9129-5d28efdd68fa.txt' mode='a' encoding='UTF-8'>\n",
      "===> Loading data\n",
      "Input image shape: torch.Size([1, 3, 540, 960])\n",
      "===> Building model\n"
     ]
    },
    {
     "name": "stderr",
     "output_type": "stream",
     "text": [
      "/home/igor/anaconda3/lib/python3.9/site-packages/torchvision/models/_utils.py:208: UserWarning: The parameter 'pretrained' is deprecated since 0.13 and will be removed in 0.15, please use 'weights' instead.\n",
      "  warnings.warn(\n",
      "/home/igor/anaconda3/lib/python3.9/site-packages/torchvision/models/_utils.py:223: UserWarning: Arguments other than a weight enum or `None` for 'weights' are deprecated since 0.13 and will be removed in 0.15. The current behavior is equivalent to passing `weights=VGG16_Weights.IMAGENET1K_V1`. You can also use `weights=VGG16_Weights.DEFAULT` to get the most up-to-date weights.\n",
      "  warnings.warn(msg)\n"
     ]
    },
    {
     "name": "stdout",
     "output_type": "stream",
     "text": [
      "NetVLAD setting:\n",
      "num_clusters: 64 dim: 512 vladv2: False\n",
      "=> loading checkpoint 'vgg16_netvlad_checkpoint/checkpoints/checkpoint.pth.tar'\n",
      "=> loaded checkpoint 'vgg16_netvlad_checkpoint/checkpoints/checkpoint.pth.tar' (epoch 25)\n",
      "===> Running evaluation step\n",
      "VLAD encoding: tensor([[ 0.0065, -0.0079,  0.0011,  ...,  0.0063,  0.0060,  0.0062]])\n",
      "VLAD encoding shape: torch.Size([1, 32768])\n",
      "Saved frame_vlad_embedding_pca to embedding_file:  <_io.TextIOWrapper name='/home/igor/Desktop/Victoria/tisl/tisl_localization_22s_copy-main/rscan_test/02b33e03-be2b-2d54-9129-5d28efdd68fa.txt' mode='a' encoding='UTF-8'>\n",
      "path_to_random_frame:  /home/igor/Desktop/Victoria/tisl/tisl_localization_22s_copy-main/rscan_test/02b33e03-be2b-2d54-9129-5d28efdd68fa/frame-000055.color.jpg\n",
      "Saved frame_position_numpy to embedding_file:  <_io.TextIOWrapper name='/home/igor/Desktop/Victoria/tisl/tisl_localization_22s_copy-main/rscan_test/02b33e03-be2b-2d54-9129-5d28efdd68fa.txt' mode='a' encoding='UTF-8'>\n",
      "===> Loading data\n",
      "Input image shape: torch.Size([1, 3, 540, 960])\n",
      "===> Building model\n"
     ]
    },
    {
     "name": "stderr",
     "output_type": "stream",
     "text": [
      "/home/igor/anaconda3/lib/python3.9/site-packages/torchvision/models/_utils.py:208: UserWarning: The parameter 'pretrained' is deprecated since 0.13 and will be removed in 0.15, please use 'weights' instead.\n",
      "  warnings.warn(\n",
      "/home/igor/anaconda3/lib/python3.9/site-packages/torchvision/models/_utils.py:223: UserWarning: Arguments other than a weight enum or `None` for 'weights' are deprecated since 0.13 and will be removed in 0.15. The current behavior is equivalent to passing `weights=VGG16_Weights.IMAGENET1K_V1`. You can also use `weights=VGG16_Weights.DEFAULT` to get the most up-to-date weights.\n",
      "  warnings.warn(msg)\n"
     ]
    },
    {
     "name": "stdout",
     "output_type": "stream",
     "text": [
      "NetVLAD setting:\n",
      "num_clusters: 64 dim: 512 vladv2: False\n",
      "=> loading checkpoint 'vgg16_netvlad_checkpoint/checkpoints/checkpoint.pth.tar'\n",
      "=> loaded checkpoint 'vgg16_netvlad_checkpoint/checkpoints/checkpoint.pth.tar' (epoch 25)\n",
      "===> Running evaluation step\n",
      "VLAD encoding: tensor([[-0.0013, -0.0012,  0.0030,  ...,  0.0086,  0.0074,  0.0079]])\n",
      "VLAD encoding shape: torch.Size([1, 32768])\n",
      "Saved frame_vlad_embedding_pca to embedding_file:  <_io.TextIOWrapper name='/home/igor/Desktop/Victoria/tisl/tisl_localization_22s_copy-main/rscan_test/02b33e03-be2b-2d54-9129-5d28efdd68fa.txt' mode='a' encoding='UTF-8'>\n",
      "path_to_random_frame:  /home/igor/Desktop/Victoria/tisl/tisl_localization_22s_copy-main/rscan_test/02b33e03-be2b-2d54-9129-5d28efdd68fa/frame-000057.color.jpg\n",
      "Saved frame_position_numpy to embedding_file:  <_io.TextIOWrapper name='/home/igor/Desktop/Victoria/tisl/tisl_localization_22s_copy-main/rscan_test/02b33e03-be2b-2d54-9129-5d28efdd68fa.txt' mode='a' encoding='UTF-8'>\n",
      "===> Loading data\n",
      "Input image shape: torch.Size([1, 3, 540, 960])\n",
      "===> Building model\n"
     ]
    },
    {
     "name": "stderr",
     "output_type": "stream",
     "text": [
      "/home/igor/anaconda3/lib/python3.9/site-packages/torchvision/models/_utils.py:208: UserWarning: The parameter 'pretrained' is deprecated since 0.13 and will be removed in 0.15, please use 'weights' instead.\n",
      "  warnings.warn(\n",
      "/home/igor/anaconda3/lib/python3.9/site-packages/torchvision/models/_utils.py:223: UserWarning: Arguments other than a weight enum or `None` for 'weights' are deprecated since 0.13 and will be removed in 0.15. The current behavior is equivalent to passing `weights=VGG16_Weights.IMAGENET1K_V1`. You can also use `weights=VGG16_Weights.DEFAULT` to get the most up-to-date weights.\n",
      "  warnings.warn(msg)\n"
     ]
    },
    {
     "name": "stdout",
     "output_type": "stream",
     "text": [
      "NetVLAD setting:\n",
      "num_clusters: 64 dim: 512 vladv2: False\n",
      "=> loading checkpoint 'vgg16_netvlad_checkpoint/checkpoints/checkpoint.pth.tar'\n",
      "=> loaded checkpoint 'vgg16_netvlad_checkpoint/checkpoints/checkpoint.pth.tar' (epoch 25)\n",
      "===> Running evaluation step\n",
      "VLAD encoding: tensor([[ 0.0043, -0.0071,  0.0035,  ...,  0.0077,  0.0058,  0.0032]])\n",
      "VLAD encoding shape: torch.Size([1, 32768])\n",
      "Saved frame_vlad_embedding_pca to embedding_file:  <_io.TextIOWrapper name='/home/igor/Desktop/Victoria/tisl/tisl_localization_22s_copy-main/rscan_test/02b33e03-be2b-2d54-9129-5d28efdd68fa.txt' mode='a' encoding='UTF-8'>\n",
      "path_to_random_frame:  /home/igor/Desktop/Victoria/tisl/tisl_localization_22s_copy-main/rscan_test/02b33e03-be2b-2d54-9129-5d28efdd68fa/frame-000060.color.jpg\n",
      "Saved frame_position_numpy to embedding_file:  <_io.TextIOWrapper name='/home/igor/Desktop/Victoria/tisl/tisl_localization_22s_copy-main/rscan_test/02b33e03-be2b-2d54-9129-5d28efdd68fa.txt' mode='a' encoding='UTF-8'>\n",
      "===> Loading data\n",
      "Input image shape: torch.Size([1, 3, 540, 960])\n",
      "===> Building model\n"
     ]
    },
    {
     "name": "stderr",
     "output_type": "stream",
     "text": [
      "/home/igor/anaconda3/lib/python3.9/site-packages/torchvision/models/_utils.py:208: UserWarning: The parameter 'pretrained' is deprecated since 0.13 and will be removed in 0.15, please use 'weights' instead.\n",
      "  warnings.warn(\n",
      "/home/igor/anaconda3/lib/python3.9/site-packages/torchvision/models/_utils.py:223: UserWarning: Arguments other than a weight enum or `None` for 'weights' are deprecated since 0.13 and will be removed in 0.15. The current behavior is equivalent to passing `weights=VGG16_Weights.IMAGENET1K_V1`. You can also use `weights=VGG16_Weights.DEFAULT` to get the most up-to-date weights.\n",
      "  warnings.warn(msg)\n"
     ]
    },
    {
     "name": "stdout",
     "output_type": "stream",
     "text": [
      "NetVLAD setting:\n",
      "num_clusters: 64 dim: 512 vladv2: False\n",
      "=> loading checkpoint 'vgg16_netvlad_checkpoint/checkpoints/checkpoint.pth.tar'\n",
      "=> loaded checkpoint 'vgg16_netvlad_checkpoint/checkpoints/checkpoint.pth.tar' (epoch 25)\n",
      "===> Running evaluation step\n",
      "VLAD encoding: tensor([[-0.0039, -0.0107, -0.0018,  ...,  0.0062,  0.0087, -0.0025]])\n",
      "VLAD encoding shape: torch.Size([1, 32768])\n",
      "Saved frame_vlad_embedding_pca to embedding_file:  <_io.TextIOWrapper name='/home/igor/Desktop/Victoria/tisl/tisl_localization_22s_copy-main/rscan_test/02b33e03-be2b-2d54-9129-5d28efdd68fa.txt' mode='a' encoding='UTF-8'>\n",
      "path_to_random_frame:  /home/igor/Desktop/Victoria/tisl/tisl_localization_22s_copy-main/rscan_test/02b33e03-be2b-2d54-9129-5d28efdd68fa/frame-000061.color.jpg\n",
      "Saved frame_position_numpy to embedding_file:  <_io.TextIOWrapper name='/home/igor/Desktop/Victoria/tisl/tisl_localization_22s_copy-main/rscan_test/02b33e03-be2b-2d54-9129-5d28efdd68fa.txt' mode='a' encoding='UTF-8'>\n",
      "===> Loading data\n",
      "Input image shape: torch.Size([1, 3, 540, 960])\n",
      "===> Building model\n"
     ]
    },
    {
     "name": "stderr",
     "output_type": "stream",
     "text": [
      "/home/igor/anaconda3/lib/python3.9/site-packages/torchvision/models/_utils.py:208: UserWarning: The parameter 'pretrained' is deprecated since 0.13 and will be removed in 0.15, please use 'weights' instead.\n",
      "  warnings.warn(\n",
      "/home/igor/anaconda3/lib/python3.9/site-packages/torchvision/models/_utils.py:223: UserWarning: Arguments other than a weight enum or `None` for 'weights' are deprecated since 0.13 and will be removed in 0.15. The current behavior is equivalent to passing `weights=VGG16_Weights.IMAGENET1K_V1`. You can also use `weights=VGG16_Weights.DEFAULT` to get the most up-to-date weights.\n",
      "  warnings.warn(msg)\n"
     ]
    },
    {
     "name": "stdout",
     "output_type": "stream",
     "text": [
      "NetVLAD setting:\n",
      "num_clusters: 64 dim: 512 vladv2: False\n",
      "=> loading checkpoint 'vgg16_netvlad_checkpoint/checkpoints/checkpoint.pth.tar'\n",
      "=> loaded checkpoint 'vgg16_netvlad_checkpoint/checkpoints/checkpoint.pth.tar' (epoch 25)\n",
      "===> Running evaluation step\n",
      "VLAD encoding: tensor([[-0.0010, -0.0097, -0.0005,  ...,  0.0116,  0.0070, -0.0032]])\n",
      "VLAD encoding shape: torch.Size([1, 32768])\n",
      "Saved frame_vlad_embedding_pca to embedding_file:  <_io.TextIOWrapper name='/home/igor/Desktop/Victoria/tisl/tisl_localization_22s_copy-main/rscan_test/02b33e03-be2b-2d54-9129-5d28efdd68fa.txt' mode='a' encoding='UTF-8'>\n",
      "path_to_random_frame:  /home/igor/Desktop/Victoria/tisl/tisl_localization_22s_copy-main/rscan_test/02b33e03-be2b-2d54-9129-5d28efdd68fa/frame-000062.color.jpg\n",
      "Saved frame_position_numpy to embedding_file:  <_io.TextIOWrapper name='/home/igor/Desktop/Victoria/tisl/tisl_localization_22s_copy-main/rscan_test/02b33e03-be2b-2d54-9129-5d28efdd68fa.txt' mode='a' encoding='UTF-8'>\n",
      "===> Loading data\n",
      "Input image shape: torch.Size([1, 3, 540, 960])\n",
      "===> Building model\n"
     ]
    },
    {
     "name": "stderr",
     "output_type": "stream",
     "text": [
      "/home/igor/anaconda3/lib/python3.9/site-packages/torchvision/models/_utils.py:208: UserWarning: The parameter 'pretrained' is deprecated since 0.13 and will be removed in 0.15, please use 'weights' instead.\n",
      "  warnings.warn(\n",
      "/home/igor/anaconda3/lib/python3.9/site-packages/torchvision/models/_utils.py:223: UserWarning: Arguments other than a weight enum or `None` for 'weights' are deprecated since 0.13 and will be removed in 0.15. The current behavior is equivalent to passing `weights=VGG16_Weights.IMAGENET1K_V1`. You can also use `weights=VGG16_Weights.DEFAULT` to get the most up-to-date weights.\n",
      "  warnings.warn(msg)\n"
     ]
    },
    {
     "name": "stdout",
     "output_type": "stream",
     "text": [
      "NetVLAD setting:\n",
      "num_clusters: 64 dim: 512 vladv2: False\n",
      "=> loading checkpoint 'vgg16_netvlad_checkpoint/checkpoints/checkpoint.pth.tar'\n",
      "=> loaded checkpoint 'vgg16_netvlad_checkpoint/checkpoints/checkpoint.pth.tar' (epoch 25)\n",
      "===> Running evaluation step\n",
      "VLAD encoding: tensor([[-0.0040, -0.0024,  0.0047,  ...,  0.0087,  0.0086,  0.0006]])\n",
      "VLAD encoding shape: torch.Size([1, 32768])\n",
      "Saved frame_vlad_embedding_pca to embedding_file:  <_io.TextIOWrapper name='/home/igor/Desktop/Victoria/tisl/tisl_localization_22s_copy-main/rscan_test/02b33e03-be2b-2d54-9129-5d28efdd68fa.txt' mode='a' encoding='UTF-8'>\n",
      "path_to_random_frame:  /home/igor/Desktop/Victoria/tisl/tisl_localization_22s_copy-main/rscan_test/02b33e03-be2b-2d54-9129-5d28efdd68fa/frame-000066.color.jpg\n",
      "Saved frame_position_numpy to embedding_file:  <_io.TextIOWrapper name='/home/igor/Desktop/Victoria/tisl/tisl_localization_22s_copy-main/rscan_test/02b33e03-be2b-2d54-9129-5d28efdd68fa.txt' mode='a' encoding='UTF-8'>\n",
      "===> Loading data\n",
      "Input image shape: torch.Size([1, 3, 540, 960])\n",
      "===> Building model\n"
     ]
    },
    {
     "name": "stderr",
     "output_type": "stream",
     "text": [
      "/home/igor/anaconda3/lib/python3.9/site-packages/torchvision/models/_utils.py:208: UserWarning: The parameter 'pretrained' is deprecated since 0.13 and will be removed in 0.15, please use 'weights' instead.\n",
      "  warnings.warn(\n",
      "/home/igor/anaconda3/lib/python3.9/site-packages/torchvision/models/_utils.py:223: UserWarning: Arguments other than a weight enum or `None` for 'weights' are deprecated since 0.13 and will be removed in 0.15. The current behavior is equivalent to passing `weights=VGG16_Weights.IMAGENET1K_V1`. You can also use `weights=VGG16_Weights.DEFAULT` to get the most up-to-date weights.\n",
      "  warnings.warn(msg)\n"
     ]
    },
    {
     "name": "stdout",
     "output_type": "stream",
     "text": [
      "NetVLAD setting:\n",
      "num_clusters: 64 dim: 512 vladv2: False\n",
      "=> loading checkpoint 'vgg16_netvlad_checkpoint/checkpoints/checkpoint.pth.tar'\n",
      "=> loaded checkpoint 'vgg16_netvlad_checkpoint/checkpoints/checkpoint.pth.tar' (epoch 25)\n",
      "===> Running evaluation step\n",
      "VLAD encoding: tensor([[-0.0036, -0.0009,  0.0093,  ...,  0.0073,  0.0053, -0.0033]])\n",
      "VLAD encoding shape: torch.Size([1, 32768])\n",
      "Saved frame_vlad_embedding_pca to embedding_file:  <_io.TextIOWrapper name='/home/igor/Desktop/Victoria/tisl/tisl_localization_22s_copy-main/rscan_test/02b33e03-be2b-2d54-9129-5d28efdd68fa.txt' mode='a' encoding='UTF-8'>\n",
      "path_to_random_frame:  /home/igor/Desktop/Victoria/tisl/tisl_localization_22s_copy-main/rscan_test/02b33e03-be2b-2d54-9129-5d28efdd68fa/frame-000068.color.jpg\n",
      "Saved frame_position_numpy to embedding_file:  <_io.TextIOWrapper name='/home/igor/Desktop/Victoria/tisl/tisl_localization_22s_copy-main/rscan_test/02b33e03-be2b-2d54-9129-5d28efdd68fa.txt' mode='a' encoding='UTF-8'>\n",
      "===> Loading data\n",
      "Input image shape: torch.Size([1, 3, 540, 960])\n",
      "===> Building model\n"
     ]
    },
    {
     "name": "stderr",
     "output_type": "stream",
     "text": [
      "/home/igor/anaconda3/lib/python3.9/site-packages/torchvision/models/_utils.py:208: UserWarning: The parameter 'pretrained' is deprecated since 0.13 and will be removed in 0.15, please use 'weights' instead.\n",
      "  warnings.warn(\n",
      "/home/igor/anaconda3/lib/python3.9/site-packages/torchvision/models/_utils.py:223: UserWarning: Arguments other than a weight enum or `None` for 'weights' are deprecated since 0.13 and will be removed in 0.15. The current behavior is equivalent to passing `weights=VGG16_Weights.IMAGENET1K_V1`. You can also use `weights=VGG16_Weights.DEFAULT` to get the most up-to-date weights.\n",
      "  warnings.warn(msg)\n"
     ]
    },
    {
     "name": "stdout",
     "output_type": "stream",
     "text": [
      "NetVLAD setting:\n",
      "num_clusters: 64 dim: 512 vladv2: False\n",
      "=> loading checkpoint 'vgg16_netvlad_checkpoint/checkpoints/checkpoint.pth.tar'\n",
      "=> loaded checkpoint 'vgg16_netvlad_checkpoint/checkpoints/checkpoint.pth.tar' (epoch 25)\n",
      "===> Running evaluation step\n",
      "VLAD encoding: tensor([[-0.0029, -0.0110, -0.0015,  ...,  0.0065,  0.0068,  0.0012]])\n",
      "VLAD encoding shape: torch.Size([1, 32768])\n",
      "Saved frame_vlad_embedding_pca to embedding_file:  <_io.TextIOWrapper name='/home/igor/Desktop/Victoria/tisl/tisl_localization_22s_copy-main/rscan_test/02b33e03-be2b-2d54-9129-5d28efdd68fa.txt' mode='a' encoding='UTF-8'>\n",
      "path_to_random_frame:  /home/igor/Desktop/Victoria/tisl/tisl_localization_22s_copy-main/rscan_test/02b33e03-be2b-2d54-9129-5d28efdd68fa/frame-000073.color.jpg\n",
      "Saved frame_position_numpy to embedding_file:  <_io.TextIOWrapper name='/home/igor/Desktop/Victoria/tisl/tisl_localization_22s_copy-main/rscan_test/02b33e03-be2b-2d54-9129-5d28efdd68fa.txt' mode='a' encoding='UTF-8'>\n",
      "===> Loading data\n",
      "Input image shape: torch.Size([1, 3, 540, 960])\n",
      "===> Building model\n"
     ]
    },
    {
     "name": "stderr",
     "output_type": "stream",
     "text": [
      "/home/igor/anaconda3/lib/python3.9/site-packages/torchvision/models/_utils.py:208: UserWarning: The parameter 'pretrained' is deprecated since 0.13 and will be removed in 0.15, please use 'weights' instead.\n",
      "  warnings.warn(\n",
      "/home/igor/anaconda3/lib/python3.9/site-packages/torchvision/models/_utils.py:223: UserWarning: Arguments other than a weight enum or `None` for 'weights' are deprecated since 0.13 and will be removed in 0.15. The current behavior is equivalent to passing `weights=VGG16_Weights.IMAGENET1K_V1`. You can also use `weights=VGG16_Weights.DEFAULT` to get the most up-to-date weights.\n",
      "  warnings.warn(msg)\n"
     ]
    },
    {
     "name": "stdout",
     "output_type": "stream",
     "text": [
      "NetVLAD setting:\n",
      "num_clusters: 64 dim: 512 vladv2: False\n",
      "=> loading checkpoint 'vgg16_netvlad_checkpoint/checkpoints/checkpoint.pth.tar'\n",
      "=> loaded checkpoint 'vgg16_netvlad_checkpoint/checkpoints/checkpoint.pth.tar' (epoch 25)\n",
      "===> Running evaluation step\n",
      "VLAD encoding: tensor([[ 0.0003, -0.0059, -0.0010,  ...,  0.0027,  0.0083, -0.0018]])\n",
      "VLAD encoding shape: torch.Size([1, 32768])\n",
      "Saved frame_vlad_embedding_pca to embedding_file:  <_io.TextIOWrapper name='/home/igor/Desktop/Victoria/tisl/tisl_localization_22s_copy-main/rscan_test/02b33e03-be2b-2d54-9129-5d28efdd68fa.txt' mode='a' encoding='UTF-8'>\n",
      "path_to_random_frame:  /home/igor/Desktop/Victoria/tisl/tisl_localization_22s_copy-main/rscan_test/02b33e03-be2b-2d54-9129-5d28efdd68fa/frame-000085.color.jpg\n",
      "Saved frame_position_numpy to embedding_file:  <_io.TextIOWrapper name='/home/igor/Desktop/Victoria/tisl/tisl_localization_22s_copy-main/rscan_test/02b33e03-be2b-2d54-9129-5d28efdd68fa.txt' mode='a' encoding='UTF-8'>\n",
      "===> Loading data\n",
      "Input image shape: torch.Size([1, 3, 540, 960])\n",
      "===> Building model\n"
     ]
    },
    {
     "name": "stderr",
     "output_type": "stream",
     "text": [
      "/home/igor/anaconda3/lib/python3.9/site-packages/torchvision/models/_utils.py:208: UserWarning: The parameter 'pretrained' is deprecated since 0.13 and will be removed in 0.15, please use 'weights' instead.\n",
      "  warnings.warn(\n",
      "/home/igor/anaconda3/lib/python3.9/site-packages/torchvision/models/_utils.py:223: UserWarning: Arguments other than a weight enum or `None` for 'weights' are deprecated since 0.13 and will be removed in 0.15. The current behavior is equivalent to passing `weights=VGG16_Weights.IMAGENET1K_V1`. You can also use `weights=VGG16_Weights.DEFAULT` to get the most up-to-date weights.\n",
      "  warnings.warn(msg)\n"
     ]
    },
    {
     "name": "stdout",
     "output_type": "stream",
     "text": [
      "NetVLAD setting:\n",
      "num_clusters: 64 dim: 512 vladv2: False\n",
      "=> loading checkpoint 'vgg16_netvlad_checkpoint/checkpoints/checkpoint.pth.tar'\n",
      "=> loaded checkpoint 'vgg16_netvlad_checkpoint/checkpoints/checkpoint.pth.tar' (epoch 25)\n",
      "===> Running evaluation step\n",
      "VLAD encoding: tensor([[-0.0005,  0.0017,  0.0034,  ..., -0.0024,  0.0047,  0.0017]])\n",
      "VLAD encoding shape: torch.Size([1, 32768])\n",
      "Saved frame_vlad_embedding_pca to embedding_file:  <_io.TextIOWrapper name='/home/igor/Desktop/Victoria/tisl/tisl_localization_22s_copy-main/rscan_test/02b33e03-be2b-2d54-9129-5d28efdd68fa.txt' mode='a' encoding='UTF-8'>\n",
      "path_to_random_frame:  /home/igor/Desktop/Victoria/tisl/tisl_localization_22s_copy-main/rscan_test/02b33e03-be2b-2d54-9129-5d28efdd68fa/frame-000086.color.jpg\n",
      "Saved frame_position_numpy to embedding_file:  <_io.TextIOWrapper name='/home/igor/Desktop/Victoria/tisl/tisl_localization_22s_copy-main/rscan_test/02b33e03-be2b-2d54-9129-5d28efdd68fa.txt' mode='a' encoding='UTF-8'>\n",
      "===> Loading data\n",
      "Input image shape: torch.Size([1, 3, 540, 960])\n",
      "===> Building model\n"
     ]
    },
    {
     "name": "stderr",
     "output_type": "stream",
     "text": [
      "/home/igor/anaconda3/lib/python3.9/site-packages/torchvision/models/_utils.py:208: UserWarning: The parameter 'pretrained' is deprecated since 0.13 and will be removed in 0.15, please use 'weights' instead.\n",
      "  warnings.warn(\n",
      "/home/igor/anaconda3/lib/python3.9/site-packages/torchvision/models/_utils.py:223: UserWarning: Arguments other than a weight enum or `None` for 'weights' are deprecated since 0.13 and will be removed in 0.15. The current behavior is equivalent to passing `weights=VGG16_Weights.IMAGENET1K_V1`. You can also use `weights=VGG16_Weights.DEFAULT` to get the most up-to-date weights.\n",
      "  warnings.warn(msg)\n"
     ]
    },
    {
     "name": "stdout",
     "output_type": "stream",
     "text": [
      "NetVLAD setting:\n",
      "num_clusters: 64 dim: 512 vladv2: False\n",
      "=> loading checkpoint 'vgg16_netvlad_checkpoint/checkpoints/checkpoint.pth.tar'\n",
      "=> loaded checkpoint 'vgg16_netvlad_checkpoint/checkpoints/checkpoint.pth.tar' (epoch 25)\n",
      "===> Running evaluation step\n",
      "VLAD encoding: tensor([[-0.0035,  0.0008,  0.0055,  ...,  0.0057,  0.0056, -0.0014]])\n",
      "VLAD encoding shape: torch.Size([1, 32768])\n",
      "Saved frame_vlad_embedding_pca to embedding_file:  <_io.TextIOWrapper name='/home/igor/Desktop/Victoria/tisl/tisl_localization_22s_copy-main/rscan_test/02b33e03-be2b-2d54-9129-5d28efdd68fa.txt' mode='a' encoding='UTF-8'>\n",
      "path_to_random_frame:  /home/igor/Desktop/Victoria/tisl/tisl_localization_22s_copy-main/rscan_test/02b33e03-be2b-2d54-9129-5d28efdd68fa/frame-000087.color.jpg\n",
      "Saved frame_position_numpy to embedding_file:  <_io.TextIOWrapper name='/home/igor/Desktop/Victoria/tisl/tisl_localization_22s_copy-main/rscan_test/02b33e03-be2b-2d54-9129-5d28efdd68fa.txt' mode='a' encoding='UTF-8'>\n",
      "===> Loading data\n",
      "Input image shape: torch.Size([1, 3, 540, 960])\n",
      "===> Building model\n"
     ]
    },
    {
     "name": "stderr",
     "output_type": "stream",
     "text": [
      "/home/igor/anaconda3/lib/python3.9/site-packages/torchvision/models/_utils.py:208: UserWarning: The parameter 'pretrained' is deprecated since 0.13 and will be removed in 0.15, please use 'weights' instead.\n",
      "  warnings.warn(\n",
      "/home/igor/anaconda3/lib/python3.9/site-packages/torchvision/models/_utils.py:223: UserWarning: Arguments other than a weight enum or `None` for 'weights' are deprecated since 0.13 and will be removed in 0.15. The current behavior is equivalent to passing `weights=VGG16_Weights.IMAGENET1K_V1`. You can also use `weights=VGG16_Weights.DEFAULT` to get the most up-to-date weights.\n",
      "  warnings.warn(msg)\n"
     ]
    },
    {
     "name": "stdout",
     "output_type": "stream",
     "text": [
      "NetVLAD setting:\n",
      "num_clusters: 64 dim: 512 vladv2: False\n",
      "=> loading checkpoint 'vgg16_netvlad_checkpoint/checkpoints/checkpoint.pth.tar'\n",
      "=> loaded checkpoint 'vgg16_netvlad_checkpoint/checkpoints/checkpoint.pth.tar' (epoch 25)\n",
      "===> Running evaluation step\n",
      "VLAD encoding: tensor([[-0.0014, -0.0008,  0.0056,  ...,  0.0004,  0.0047,  0.0016]])\n",
      "VLAD encoding shape: torch.Size([1, 32768])\n",
      "Saved frame_vlad_embedding_pca to embedding_file:  <_io.TextIOWrapper name='/home/igor/Desktop/Victoria/tisl/tisl_localization_22s_copy-main/rscan_test/02b33e03-be2b-2d54-9129-5d28efdd68fa.txt' mode='a' encoding='UTF-8'>\n",
      "path_to_random_frame:  /home/igor/Desktop/Victoria/tisl/tisl_localization_22s_copy-main/rscan_test/02b33e03-be2b-2d54-9129-5d28efdd68fa/frame-000093.color.jpg\n",
      "Saved frame_position_numpy to embedding_file:  <_io.TextIOWrapper name='/home/igor/Desktop/Victoria/tisl/tisl_localization_22s_copy-main/rscan_test/02b33e03-be2b-2d54-9129-5d28efdd68fa.txt' mode='a' encoding='UTF-8'>\n",
      "===> Loading data\n",
      "Input image shape: torch.Size([1, 3, 540, 960])\n",
      "===> Building model\n"
     ]
    },
    {
     "name": "stderr",
     "output_type": "stream",
     "text": [
      "/home/igor/anaconda3/lib/python3.9/site-packages/torchvision/models/_utils.py:208: UserWarning: The parameter 'pretrained' is deprecated since 0.13 and will be removed in 0.15, please use 'weights' instead.\n",
      "  warnings.warn(\n",
      "/home/igor/anaconda3/lib/python3.9/site-packages/torchvision/models/_utils.py:223: UserWarning: Arguments other than a weight enum or `None` for 'weights' are deprecated since 0.13 and will be removed in 0.15. The current behavior is equivalent to passing `weights=VGG16_Weights.IMAGENET1K_V1`. You can also use `weights=VGG16_Weights.DEFAULT` to get the most up-to-date weights.\n",
      "  warnings.warn(msg)\n"
     ]
    },
    {
     "name": "stdout",
     "output_type": "stream",
     "text": [
      "NetVLAD setting:\n",
      "num_clusters: 64 dim: 512 vladv2: False\n",
      "=> loading checkpoint 'vgg16_netvlad_checkpoint/checkpoints/checkpoint.pth.tar'\n",
      "=> loaded checkpoint 'vgg16_netvlad_checkpoint/checkpoints/checkpoint.pth.tar' (epoch 25)\n",
      "===> Running evaluation step\n",
      "VLAD encoding: tensor([[-0.0016, -0.0081,  0.0011,  ...,  0.0044,  0.0107, -0.0012]])\n",
      "VLAD encoding shape: torch.Size([1, 32768])\n",
      "Saved frame_vlad_embedding_pca to embedding_file:  <_io.TextIOWrapper name='/home/igor/Desktop/Victoria/tisl/tisl_localization_22s_copy-main/rscan_test/02b33e03-be2b-2d54-9129-5d28efdd68fa.txt' mode='a' encoding='UTF-8'>\n",
      "path_to_random_frame:  /home/igor/Desktop/Victoria/tisl/tisl_localization_22s_copy-main/rscan_test/02b33e03-be2b-2d54-9129-5d28efdd68fa/frame-000096.color.jpg\n",
      "Saved frame_position_numpy to embedding_file:  <_io.TextIOWrapper name='/home/igor/Desktop/Victoria/tisl/tisl_localization_22s_copy-main/rscan_test/02b33e03-be2b-2d54-9129-5d28efdd68fa.txt' mode='a' encoding='UTF-8'>\n",
      "===> Loading data\n",
      "Input image shape: torch.Size([1, 3, 540, 960])\n",
      "===> Building model\n"
     ]
    },
    {
     "name": "stderr",
     "output_type": "stream",
     "text": [
      "/home/igor/anaconda3/lib/python3.9/site-packages/torchvision/models/_utils.py:208: UserWarning: The parameter 'pretrained' is deprecated since 0.13 and will be removed in 0.15, please use 'weights' instead.\n",
      "  warnings.warn(\n",
      "/home/igor/anaconda3/lib/python3.9/site-packages/torchvision/models/_utils.py:223: UserWarning: Arguments other than a weight enum or `None` for 'weights' are deprecated since 0.13 and will be removed in 0.15. The current behavior is equivalent to passing `weights=VGG16_Weights.IMAGENET1K_V1`. You can also use `weights=VGG16_Weights.DEFAULT` to get the most up-to-date weights.\n",
      "  warnings.warn(msg)\n"
     ]
    },
    {
     "name": "stdout",
     "output_type": "stream",
     "text": [
      "NetVLAD setting:\n",
      "num_clusters: 64 dim: 512 vladv2: False\n",
      "=> loading checkpoint 'vgg16_netvlad_checkpoint/checkpoints/checkpoint.pth.tar'\n",
      "=> loaded checkpoint 'vgg16_netvlad_checkpoint/checkpoints/checkpoint.pth.tar' (epoch 25)\n",
      "===> Running evaluation step\n",
      "VLAD encoding: tensor([[-0.0004, -0.0105,  0.0019,  ..., -0.0052,  0.0083,  0.0005]])\n",
      "VLAD encoding shape: torch.Size([1, 32768])\n",
      "Saved frame_vlad_embedding_pca to embedding_file:  <_io.TextIOWrapper name='/home/igor/Desktop/Victoria/tisl/tisl_localization_22s_copy-main/rscan_test/02b33e03-be2b-2d54-9129-5d28efdd68fa.txt' mode='a' encoding='UTF-8'>\n",
      "path_to_random_frame:  /home/igor/Desktop/Victoria/tisl/tisl_localization_22s_copy-main/rscan_test/02b33e03-be2b-2d54-9129-5d28efdd68fa/frame-000097.color.jpg\n",
      "Saved frame_position_numpy to embedding_file:  <_io.TextIOWrapper name='/home/igor/Desktop/Victoria/tisl/tisl_localization_22s_copy-main/rscan_test/02b33e03-be2b-2d54-9129-5d28efdd68fa.txt' mode='a' encoding='UTF-8'>\n",
      "===> Loading data\n",
      "Input image shape: torch.Size([1, 3, 540, 960])\n",
      "===> Building model\n"
     ]
    },
    {
     "name": "stderr",
     "output_type": "stream",
     "text": [
      "/home/igor/anaconda3/lib/python3.9/site-packages/torchvision/models/_utils.py:208: UserWarning: The parameter 'pretrained' is deprecated since 0.13 and will be removed in 0.15, please use 'weights' instead.\n",
      "  warnings.warn(\n",
      "/home/igor/anaconda3/lib/python3.9/site-packages/torchvision/models/_utils.py:223: UserWarning: Arguments other than a weight enum or `None` for 'weights' are deprecated since 0.13 and will be removed in 0.15. The current behavior is equivalent to passing `weights=VGG16_Weights.IMAGENET1K_V1`. You can also use `weights=VGG16_Weights.DEFAULT` to get the most up-to-date weights.\n",
      "  warnings.warn(msg)\n"
     ]
    },
    {
     "name": "stdout",
     "output_type": "stream",
     "text": [
      "NetVLAD setting:\n",
      "num_clusters: 64 dim: 512 vladv2: False\n",
      "=> loading checkpoint 'vgg16_netvlad_checkpoint/checkpoints/checkpoint.pth.tar'\n",
      "=> loaded checkpoint 'vgg16_netvlad_checkpoint/checkpoints/checkpoint.pth.tar' (epoch 25)\n",
      "===> Running evaluation step\n",
      "VLAD encoding: tensor([[-0.0035, -0.0057,  0.0063,  ...,  0.0083,  0.0117, -0.0038]])\n",
      "VLAD encoding shape: torch.Size([1, 32768])\n",
      "Saved frame_vlad_embedding_pca to embedding_file:  <_io.TextIOWrapper name='/home/igor/Desktop/Victoria/tisl/tisl_localization_22s_copy-main/rscan_test/02b33e03-be2b-2d54-9129-5d28efdd68fa.txt' mode='a' encoding='UTF-8'>\n",
      "path_to_random_frame:  /home/igor/Desktop/Victoria/tisl/tisl_localization_22s_copy-main/rscan_test/02b33e03-be2b-2d54-9129-5d28efdd68fa/frame-000098.color.jpg\n",
      "Saved frame_position_numpy to embedding_file:  <_io.TextIOWrapper name='/home/igor/Desktop/Victoria/tisl/tisl_localization_22s_copy-main/rscan_test/02b33e03-be2b-2d54-9129-5d28efdd68fa.txt' mode='a' encoding='UTF-8'>\n",
      "===> Loading data\n",
      "Input image shape: torch.Size([1, 3, 540, 960])\n",
      "===> Building model\n"
     ]
    },
    {
     "name": "stderr",
     "output_type": "stream",
     "text": [
      "/home/igor/anaconda3/lib/python3.9/site-packages/torchvision/models/_utils.py:208: UserWarning: The parameter 'pretrained' is deprecated since 0.13 and will be removed in 0.15, please use 'weights' instead.\n",
      "  warnings.warn(\n",
      "/home/igor/anaconda3/lib/python3.9/site-packages/torchvision/models/_utils.py:223: UserWarning: Arguments other than a weight enum or `None` for 'weights' are deprecated since 0.13 and will be removed in 0.15. The current behavior is equivalent to passing `weights=VGG16_Weights.IMAGENET1K_V1`. You can also use `weights=VGG16_Weights.DEFAULT` to get the most up-to-date weights.\n",
      "  warnings.warn(msg)\n"
     ]
    },
    {
     "name": "stdout",
     "output_type": "stream",
     "text": [
      "NetVLAD setting:\n",
      "num_clusters: 64 dim: 512 vladv2: False\n",
      "=> loading checkpoint 'vgg16_netvlad_checkpoint/checkpoints/checkpoint.pth.tar'\n",
      "=> loaded checkpoint 'vgg16_netvlad_checkpoint/checkpoints/checkpoint.pth.tar' (epoch 25)\n",
      "===> Running evaluation step\n",
      "VLAD encoding: tensor([[-0.0010, -0.0055,  0.0063,  ...,  0.0060,  0.0108, -0.0008]])\n",
      "VLAD encoding shape: torch.Size([1, 32768])\n",
      "Saved frame_vlad_embedding_pca to embedding_file:  <_io.TextIOWrapper name='/home/igor/Desktop/Victoria/tisl/tisl_localization_22s_copy-main/rscan_test/02b33e03-be2b-2d54-9129-5d28efdd68fa.txt' mode='a' encoding='UTF-8'>\n",
      "path_to_random_frame:  /home/igor/Desktop/Victoria/tisl/tisl_localization_22s_copy-main/rscan_test/02b33e03-be2b-2d54-9129-5d28efdd68fa/frame-000101.color.jpg\n",
      "Saved frame_position_numpy to embedding_file:  <_io.TextIOWrapper name='/home/igor/Desktop/Victoria/tisl/tisl_localization_22s_copy-main/rscan_test/02b33e03-be2b-2d54-9129-5d28efdd68fa.txt' mode='a' encoding='UTF-8'>\n",
      "===> Loading data\n",
      "Input image shape: torch.Size([1, 3, 540, 960])\n",
      "===> Building model\n"
     ]
    },
    {
     "name": "stderr",
     "output_type": "stream",
     "text": [
      "/home/igor/anaconda3/lib/python3.9/site-packages/torchvision/models/_utils.py:208: UserWarning: The parameter 'pretrained' is deprecated since 0.13 and will be removed in 0.15, please use 'weights' instead.\n",
      "  warnings.warn(\n",
      "/home/igor/anaconda3/lib/python3.9/site-packages/torchvision/models/_utils.py:223: UserWarning: Arguments other than a weight enum or `None` for 'weights' are deprecated since 0.13 and will be removed in 0.15. The current behavior is equivalent to passing `weights=VGG16_Weights.IMAGENET1K_V1`. You can also use `weights=VGG16_Weights.DEFAULT` to get the most up-to-date weights.\n",
      "  warnings.warn(msg)\n"
     ]
    },
    {
     "name": "stdout",
     "output_type": "stream",
     "text": [
      "NetVLAD setting:\n",
      "num_clusters: 64 dim: 512 vladv2: False\n",
      "=> loading checkpoint 'vgg16_netvlad_checkpoint/checkpoints/checkpoint.pth.tar'\n",
      "=> loaded checkpoint 'vgg16_netvlad_checkpoint/checkpoints/checkpoint.pth.tar' (epoch 25)\n",
      "===> Running evaluation step\n",
      "VLAD encoding: tensor([[-0.0028, -0.0105, -0.0008,  ...,  0.0025,  0.0118,  0.0033]])\n",
      "VLAD encoding shape: torch.Size([1, 32768])\n",
      "Saved frame_vlad_embedding_pca to embedding_file:  <_io.TextIOWrapper name='/home/igor/Desktop/Victoria/tisl/tisl_localization_22s_copy-main/rscan_test/02b33e03-be2b-2d54-9129-5d28efdd68fa.txt' mode='a' encoding='UTF-8'>\n",
      "path_to_random_frame:  /home/igor/Desktop/Victoria/tisl/tisl_localization_22s_copy-main/rscan_test/02b33e03-be2b-2d54-9129-5d28efdd68fa/frame-000104.color.jpg\n",
      "Saved frame_position_numpy to embedding_file:  <_io.TextIOWrapper name='/home/igor/Desktop/Victoria/tisl/tisl_localization_22s_copy-main/rscan_test/02b33e03-be2b-2d54-9129-5d28efdd68fa.txt' mode='a' encoding='UTF-8'>\n",
      "===> Loading data\n",
      "Input image shape: torch.Size([1, 3, 540, 960])\n",
      "===> Building model\n"
     ]
    },
    {
     "name": "stderr",
     "output_type": "stream",
     "text": [
      "/home/igor/anaconda3/lib/python3.9/site-packages/torchvision/models/_utils.py:208: UserWarning: The parameter 'pretrained' is deprecated since 0.13 and will be removed in 0.15, please use 'weights' instead.\n",
      "  warnings.warn(\n",
      "/home/igor/anaconda3/lib/python3.9/site-packages/torchvision/models/_utils.py:223: UserWarning: Arguments other than a weight enum or `None` for 'weights' are deprecated since 0.13 and will be removed in 0.15. The current behavior is equivalent to passing `weights=VGG16_Weights.IMAGENET1K_V1`. You can also use `weights=VGG16_Weights.DEFAULT` to get the most up-to-date weights.\n",
      "  warnings.warn(msg)\n"
     ]
    },
    {
     "name": "stdout",
     "output_type": "stream",
     "text": [
      "NetVLAD setting:\n",
      "num_clusters: 64 dim: 512 vladv2: False\n",
      "=> loading checkpoint 'vgg16_netvlad_checkpoint/checkpoints/checkpoint.pth.tar'\n",
      "=> loaded checkpoint 'vgg16_netvlad_checkpoint/checkpoints/checkpoint.pth.tar' (epoch 25)\n",
      "===> Running evaluation step\n",
      "VLAD encoding: tensor([[-0.0026, -0.0103, -0.0006,  ...,  0.0083,  0.0065,  0.0036]])\n",
      "VLAD encoding shape: torch.Size([1, 32768])\n",
      "Saved frame_vlad_embedding_pca to embedding_file:  <_io.TextIOWrapper name='/home/igor/Desktop/Victoria/tisl/tisl_localization_22s_copy-main/rscan_test/02b33e03-be2b-2d54-9129-5d28efdd68fa.txt' mode='a' encoding='UTF-8'>\n",
      "path_to_random_frame:  /home/igor/Desktop/Victoria/tisl/tisl_localization_22s_copy-main/rscan_test/02b33e03-be2b-2d54-9129-5d28efdd68fa/frame-000107.color.jpg\n",
      "Saved frame_position_numpy to embedding_file:  <_io.TextIOWrapper name='/home/igor/Desktop/Victoria/tisl/tisl_localization_22s_copy-main/rscan_test/02b33e03-be2b-2d54-9129-5d28efdd68fa.txt' mode='a' encoding='UTF-8'>\n",
      "===> Loading data\n",
      "Input image shape: torch.Size([1, 3, 540, 960])\n",
      "===> Building model\n"
     ]
    },
    {
     "name": "stderr",
     "output_type": "stream",
     "text": [
      "/home/igor/anaconda3/lib/python3.9/site-packages/torchvision/models/_utils.py:208: UserWarning: The parameter 'pretrained' is deprecated since 0.13 and will be removed in 0.15, please use 'weights' instead.\n",
      "  warnings.warn(\n",
      "/home/igor/anaconda3/lib/python3.9/site-packages/torchvision/models/_utils.py:223: UserWarning: Arguments other than a weight enum or `None` for 'weights' are deprecated since 0.13 and will be removed in 0.15. The current behavior is equivalent to passing `weights=VGG16_Weights.IMAGENET1K_V1`. You can also use `weights=VGG16_Weights.DEFAULT` to get the most up-to-date weights.\n",
      "  warnings.warn(msg)\n"
     ]
    },
    {
     "name": "stdout",
     "output_type": "stream",
     "text": [
      "NetVLAD setting:\n",
      "num_clusters: 64 dim: 512 vladv2: False\n",
      "=> loading checkpoint 'vgg16_netvlad_checkpoint/checkpoints/checkpoint.pth.tar'\n",
      "=> loaded checkpoint 'vgg16_netvlad_checkpoint/checkpoints/checkpoint.pth.tar' (epoch 25)\n",
      "===> Running evaluation step\n",
      "VLAD encoding: tensor([[-0.0028, -0.0094,  0.0077,  ..., -0.0005,  0.0065,  0.0027]])\n",
      "VLAD encoding shape: torch.Size([1, 32768])\n",
      "Saved frame_vlad_embedding_pca to embedding_file:  <_io.TextIOWrapper name='/home/igor/Desktop/Victoria/tisl/tisl_localization_22s_copy-main/rscan_test/02b33e03-be2b-2d54-9129-5d28efdd68fa.txt' mode='a' encoding='UTF-8'>\n",
      "path_to_random_frame:  /home/igor/Desktop/Victoria/tisl/tisl_localization_22s_copy-main/rscan_test/02b33e03-be2b-2d54-9129-5d28efdd68fa/frame-000110.color.jpg\n",
      "Saved frame_position_numpy to embedding_file:  <_io.TextIOWrapper name='/home/igor/Desktop/Victoria/tisl/tisl_localization_22s_copy-main/rscan_test/02b33e03-be2b-2d54-9129-5d28efdd68fa.txt' mode='a' encoding='UTF-8'>\n",
      "===> Loading data\n",
      "Input image shape: torch.Size([1, 3, 540, 960])\n",
      "===> Building model\n"
     ]
    },
    {
     "name": "stderr",
     "output_type": "stream",
     "text": [
      "/home/igor/anaconda3/lib/python3.9/site-packages/torchvision/models/_utils.py:208: UserWarning: The parameter 'pretrained' is deprecated since 0.13 and will be removed in 0.15, please use 'weights' instead.\n",
      "  warnings.warn(\n",
      "/home/igor/anaconda3/lib/python3.9/site-packages/torchvision/models/_utils.py:223: UserWarning: Arguments other than a weight enum or `None` for 'weights' are deprecated since 0.13 and will be removed in 0.15. The current behavior is equivalent to passing `weights=VGG16_Weights.IMAGENET1K_V1`. You can also use `weights=VGG16_Weights.DEFAULT` to get the most up-to-date weights.\n",
      "  warnings.warn(msg)\n"
     ]
    },
    {
     "name": "stdout",
     "output_type": "stream",
     "text": [
      "NetVLAD setting:\n",
      "num_clusters: 64 dim: 512 vladv2: False\n",
      "=> loading checkpoint 'vgg16_netvlad_checkpoint/checkpoints/checkpoint.pth.tar'\n",
      "=> loaded checkpoint 'vgg16_netvlad_checkpoint/checkpoints/checkpoint.pth.tar' (epoch 25)\n",
      "===> Running evaluation step\n",
      "VLAD encoding: tensor([[-0.0009, -0.0127,  0.0090,  ...,  0.0043,  0.0039, -0.0034]])\n",
      "VLAD encoding shape: torch.Size([1, 32768])\n",
      "Saved frame_vlad_embedding_pca to embedding_file:  <_io.TextIOWrapper name='/home/igor/Desktop/Victoria/tisl/tisl_localization_22s_copy-main/rscan_test/02b33e03-be2b-2d54-9129-5d28efdd68fa.txt' mode='a' encoding='UTF-8'>\n",
      "path_to_random_frame:  /home/igor/Desktop/Victoria/tisl/tisl_localization_22s_copy-main/rscan_test/02b33e03-be2b-2d54-9129-5d28efdd68fa/frame-000111.color.jpg\n",
      "Saved frame_position_numpy to embedding_file:  <_io.TextIOWrapper name='/home/igor/Desktop/Victoria/tisl/tisl_localization_22s_copy-main/rscan_test/02b33e03-be2b-2d54-9129-5d28efdd68fa.txt' mode='a' encoding='UTF-8'>\n",
      "===> Loading data\n",
      "Input image shape: torch.Size([1, 3, 540, 960])\n",
      "===> Building model\n"
     ]
    },
    {
     "name": "stderr",
     "output_type": "stream",
     "text": [
      "/home/igor/anaconda3/lib/python3.9/site-packages/torchvision/models/_utils.py:208: UserWarning: The parameter 'pretrained' is deprecated since 0.13 and will be removed in 0.15, please use 'weights' instead.\n",
      "  warnings.warn(\n",
      "/home/igor/anaconda3/lib/python3.9/site-packages/torchvision/models/_utils.py:223: UserWarning: Arguments other than a weight enum or `None` for 'weights' are deprecated since 0.13 and will be removed in 0.15. The current behavior is equivalent to passing `weights=VGG16_Weights.IMAGENET1K_V1`. You can also use `weights=VGG16_Weights.DEFAULT` to get the most up-to-date weights.\n",
      "  warnings.warn(msg)\n"
     ]
    },
    {
     "name": "stdout",
     "output_type": "stream",
     "text": [
      "NetVLAD setting:\n",
      "num_clusters: 64 dim: 512 vladv2: False\n",
      "=> loading checkpoint 'vgg16_netvlad_checkpoint/checkpoints/checkpoint.pth.tar'\n",
      "=> loaded checkpoint 'vgg16_netvlad_checkpoint/checkpoints/checkpoint.pth.tar' (epoch 25)\n",
      "===> Running evaluation step\n",
      "VLAD encoding: tensor([[ 1.3965e-03, -1.2185e-02,  5.5590e-03,  ..., -2.7024e-05,\n",
      "          4.3748e-03, -1.4217e-03]])\n",
      "VLAD encoding shape: torch.Size([1, 32768])\n",
      "Saved frame_vlad_embedding_pca to embedding_file:  <_io.TextIOWrapper name='/home/igor/Desktop/Victoria/tisl/tisl_localization_22s_copy-main/rscan_test/02b33e03-be2b-2d54-9129-5d28efdd68fa.txt' mode='a' encoding='UTF-8'>\n",
      "path_to_random_frame:  /home/igor/Desktop/Victoria/tisl/tisl_localization_22s_copy-main/rscan_test/02b33e03-be2b-2d54-9129-5d28efdd68fa/frame-000115.color.jpg\n",
      "Saved frame_position_numpy to embedding_file:  <_io.TextIOWrapper name='/home/igor/Desktop/Victoria/tisl/tisl_localization_22s_copy-main/rscan_test/02b33e03-be2b-2d54-9129-5d28efdd68fa.txt' mode='a' encoding='UTF-8'>\n",
      "===> Loading data\n",
      "Input image shape: torch.Size([1, 3, 540, 960])\n",
      "===> Building model\n"
     ]
    },
    {
     "name": "stderr",
     "output_type": "stream",
     "text": [
      "/home/igor/anaconda3/lib/python3.9/site-packages/torchvision/models/_utils.py:208: UserWarning: The parameter 'pretrained' is deprecated since 0.13 and will be removed in 0.15, please use 'weights' instead.\n",
      "  warnings.warn(\n",
      "/home/igor/anaconda3/lib/python3.9/site-packages/torchvision/models/_utils.py:223: UserWarning: Arguments other than a weight enum or `None` for 'weights' are deprecated since 0.13 and will be removed in 0.15. The current behavior is equivalent to passing `weights=VGG16_Weights.IMAGENET1K_V1`. You can also use `weights=VGG16_Weights.DEFAULT` to get the most up-to-date weights.\n",
      "  warnings.warn(msg)\n"
     ]
    },
    {
     "name": "stdout",
     "output_type": "stream",
     "text": [
      "NetVLAD setting:\n",
      "num_clusters: 64 dim: 512 vladv2: False\n",
      "=> loading checkpoint 'vgg16_netvlad_checkpoint/checkpoints/checkpoint.pth.tar'\n",
      "=> loaded checkpoint 'vgg16_netvlad_checkpoint/checkpoints/checkpoint.pth.tar' (epoch 25)\n",
      "===> Running evaluation step\n",
      "VLAD encoding: tensor([[ 0.0017, -0.0040,  0.0003,  ...,  0.0015,  0.0076, -0.0002]])\n",
      "VLAD encoding shape: torch.Size([1, 32768])\n",
      "Saved frame_vlad_embedding_pca to embedding_file:  <_io.TextIOWrapper name='/home/igor/Desktop/Victoria/tisl/tisl_localization_22s_copy-main/rscan_test/02b33e03-be2b-2d54-9129-5d28efdd68fa.txt' mode='a' encoding='UTF-8'>\n",
      "path_to_random_frame:  /home/igor/Desktop/Victoria/tisl/tisl_localization_22s_copy-main/rscan_test/02b33e03-be2b-2d54-9129-5d28efdd68fa/frame-000131.color.jpg\n",
      "Saved frame_position_numpy to embedding_file:  <_io.TextIOWrapper name='/home/igor/Desktop/Victoria/tisl/tisl_localization_22s_copy-main/rscan_test/02b33e03-be2b-2d54-9129-5d28efdd68fa.txt' mode='a' encoding='UTF-8'>\n",
      "===> Loading data\n",
      "Input image shape: torch.Size([1, 3, 540, 960])\n",
      "===> Building model\n"
     ]
    },
    {
     "name": "stderr",
     "output_type": "stream",
     "text": [
      "/home/igor/anaconda3/lib/python3.9/site-packages/torchvision/models/_utils.py:208: UserWarning: The parameter 'pretrained' is deprecated since 0.13 and will be removed in 0.15, please use 'weights' instead.\n",
      "  warnings.warn(\n",
      "/home/igor/anaconda3/lib/python3.9/site-packages/torchvision/models/_utils.py:223: UserWarning: Arguments other than a weight enum or `None` for 'weights' are deprecated since 0.13 and will be removed in 0.15. The current behavior is equivalent to passing `weights=VGG16_Weights.IMAGENET1K_V1`. You can also use `weights=VGG16_Weights.DEFAULT` to get the most up-to-date weights.\n",
      "  warnings.warn(msg)\n"
     ]
    },
    {
     "name": "stdout",
     "output_type": "stream",
     "text": [
      "NetVLAD setting:\n",
      "num_clusters: 64 dim: 512 vladv2: False\n",
      "=> loading checkpoint 'vgg16_netvlad_checkpoint/checkpoints/checkpoint.pth.tar'\n",
      "=> loaded checkpoint 'vgg16_netvlad_checkpoint/checkpoints/checkpoint.pth.tar' (epoch 25)\n",
      "===> Running evaluation step\n",
      "VLAD encoding: tensor([[ 0.0045, -0.0035,  0.0002,  ...,  0.0103,  0.0101,  0.0025]])\n",
      "VLAD encoding shape: torch.Size([1, 32768])\n",
      "Saved frame_vlad_embedding_pca to embedding_file:  <_io.TextIOWrapper name='/home/igor/Desktop/Victoria/tisl/tisl_localization_22s_copy-main/rscan_test/02b33e03-be2b-2d54-9129-5d28efdd68fa.txt' mode='a' encoding='UTF-8'>\n",
      "path_to_random_frame:  /home/igor/Desktop/Victoria/tisl/tisl_localization_22s_copy-main/rscan_test/02b33e03-be2b-2d54-9129-5d28efdd68fa/frame-000134.color.jpg\n",
      "Saved frame_position_numpy to embedding_file:  <_io.TextIOWrapper name='/home/igor/Desktop/Victoria/tisl/tisl_localization_22s_copy-main/rscan_test/02b33e03-be2b-2d54-9129-5d28efdd68fa.txt' mode='a' encoding='UTF-8'>\n",
      "===> Loading data\n",
      "Input image shape: torch.Size([1, 3, 540, 960])\n",
      "===> Building model\n"
     ]
    },
    {
     "name": "stderr",
     "output_type": "stream",
     "text": [
      "/home/igor/anaconda3/lib/python3.9/site-packages/torchvision/models/_utils.py:208: UserWarning: The parameter 'pretrained' is deprecated since 0.13 and will be removed in 0.15, please use 'weights' instead.\n",
      "  warnings.warn(\n",
      "/home/igor/anaconda3/lib/python3.9/site-packages/torchvision/models/_utils.py:223: UserWarning: Arguments other than a weight enum or `None` for 'weights' are deprecated since 0.13 and will be removed in 0.15. The current behavior is equivalent to passing `weights=VGG16_Weights.IMAGENET1K_V1`. You can also use `weights=VGG16_Weights.DEFAULT` to get the most up-to-date weights.\n",
      "  warnings.warn(msg)\n"
     ]
    },
    {
     "name": "stdout",
     "output_type": "stream",
     "text": [
      "NetVLAD setting:\n",
      "num_clusters: 64 dim: 512 vladv2: False\n",
      "=> loading checkpoint 'vgg16_netvlad_checkpoint/checkpoints/checkpoint.pth.tar'\n",
      "=> loaded checkpoint 'vgg16_netvlad_checkpoint/checkpoints/checkpoint.pth.tar' (epoch 25)\n",
      "===> Running evaluation step\n",
      "VLAD encoding: tensor([[ 0.0016, -0.0072,  0.0041,  ...,  0.0083,  0.0077,  0.0015]])\n",
      "VLAD encoding shape: torch.Size([1, 32768])\n",
      "Saved frame_vlad_embedding_pca to embedding_file:  <_io.TextIOWrapper name='/home/igor/Desktop/Victoria/tisl/tisl_localization_22s_copy-main/rscan_test/02b33e03-be2b-2d54-9129-5d28efdd68fa.txt' mode='a' encoding='UTF-8'>\n",
      "path_to_random_frame:  /home/igor/Desktop/Victoria/tisl/tisl_localization_22s_copy-main/rscan_test/02b33e03-be2b-2d54-9129-5d28efdd68fa/frame-000137.color.jpg\n",
      "Saved frame_position_numpy to embedding_file:  <_io.TextIOWrapper name='/home/igor/Desktop/Victoria/tisl/tisl_localization_22s_copy-main/rscan_test/02b33e03-be2b-2d54-9129-5d28efdd68fa.txt' mode='a' encoding='UTF-8'>\n",
      "===> Loading data\n",
      "Input image shape: torch.Size([1, 3, 540, 960])\n",
      "===> Building model\n"
     ]
    },
    {
     "name": "stderr",
     "output_type": "stream",
     "text": [
      "/home/igor/anaconda3/lib/python3.9/site-packages/torchvision/models/_utils.py:208: UserWarning: The parameter 'pretrained' is deprecated since 0.13 and will be removed in 0.15, please use 'weights' instead.\n",
      "  warnings.warn(\n",
      "/home/igor/anaconda3/lib/python3.9/site-packages/torchvision/models/_utils.py:223: UserWarning: Arguments other than a weight enum or `None` for 'weights' are deprecated since 0.13 and will be removed in 0.15. The current behavior is equivalent to passing `weights=VGG16_Weights.IMAGENET1K_V1`. You can also use `weights=VGG16_Weights.DEFAULT` to get the most up-to-date weights.\n",
      "  warnings.warn(msg)\n"
     ]
    },
    {
     "name": "stdout",
     "output_type": "stream",
     "text": [
      "NetVLAD setting:\n",
      "num_clusters: 64 dim: 512 vladv2: False\n",
      "=> loading checkpoint 'vgg16_netvlad_checkpoint/checkpoints/checkpoint.pth.tar'\n",
      "=> loaded checkpoint 'vgg16_netvlad_checkpoint/checkpoints/checkpoint.pth.tar' (epoch 25)\n",
      "===> Running evaluation step\n",
      "VLAD encoding: tensor([[ 0.0009, -0.0079,  0.0066,  ..., -0.0005,  0.0095,  0.0055]])\n",
      "VLAD encoding shape: torch.Size([1, 32768])\n",
      "Saved frame_vlad_embedding_pca to embedding_file:  <_io.TextIOWrapper name='/home/igor/Desktop/Victoria/tisl/tisl_localization_22s_copy-main/rscan_test/02b33e03-be2b-2d54-9129-5d28efdd68fa.txt' mode='a' encoding='UTF-8'>\n",
      "path_to_random_frame:  /home/igor/Desktop/Victoria/tisl/tisl_localization_22s_copy-main/rscan_test/02b33e03-be2b-2d54-9129-5d28efdd68fa/frame-000138.color.jpg\n",
      "Saved frame_position_numpy to embedding_file:  <_io.TextIOWrapper name='/home/igor/Desktop/Victoria/tisl/tisl_localization_22s_copy-main/rscan_test/02b33e03-be2b-2d54-9129-5d28efdd68fa.txt' mode='a' encoding='UTF-8'>\n",
      "===> Loading data\n",
      "Input image shape: torch.Size([1, 3, 540, 960])\n",
      "===> Building model\n"
     ]
    },
    {
     "name": "stderr",
     "output_type": "stream",
     "text": [
      "/home/igor/anaconda3/lib/python3.9/site-packages/torchvision/models/_utils.py:208: UserWarning: The parameter 'pretrained' is deprecated since 0.13 and will be removed in 0.15, please use 'weights' instead.\n",
      "  warnings.warn(\n",
      "/home/igor/anaconda3/lib/python3.9/site-packages/torchvision/models/_utils.py:223: UserWarning: Arguments other than a weight enum or `None` for 'weights' are deprecated since 0.13 and will be removed in 0.15. The current behavior is equivalent to passing `weights=VGG16_Weights.IMAGENET1K_V1`. You can also use `weights=VGG16_Weights.DEFAULT` to get the most up-to-date weights.\n",
      "  warnings.warn(msg)\n"
     ]
    },
    {
     "name": "stdout",
     "output_type": "stream",
     "text": [
      "NetVLAD setting:\n",
      "num_clusters: 64 dim: 512 vladv2: False\n",
      "=> loading checkpoint 'vgg16_netvlad_checkpoint/checkpoints/checkpoint.pth.tar'\n",
      "=> loaded checkpoint 'vgg16_netvlad_checkpoint/checkpoints/checkpoint.pth.tar' (epoch 25)\n",
      "===> Running evaluation step\n",
      "VLAD encoding: tensor([[ 0.0021, -0.0096,  0.0012,  ...,  0.0074,  0.0023,  0.0012]])\n",
      "VLAD encoding shape: torch.Size([1, 32768])\n",
      "Saved frame_vlad_embedding_pca to embedding_file:  <_io.TextIOWrapper name='/home/igor/Desktop/Victoria/tisl/tisl_localization_22s_copy-main/rscan_test/02b33e03-be2b-2d54-9129-5d28efdd68fa.txt' mode='a' encoding='UTF-8'>\n",
      "path_to_random_frame:  /home/igor/Desktop/Victoria/tisl/tisl_localization_22s_copy-main/rscan_test/02b33e03-be2b-2d54-9129-5d28efdd68fa/frame-000140.color.jpg\n",
      "Saved frame_position_numpy to embedding_file:  <_io.TextIOWrapper name='/home/igor/Desktop/Victoria/tisl/tisl_localization_22s_copy-main/rscan_test/02b33e03-be2b-2d54-9129-5d28efdd68fa.txt' mode='a' encoding='UTF-8'>\n",
      "===> Loading data\n",
      "Input image shape: torch.Size([1, 3, 540, 960])\n",
      "===> Building model\n"
     ]
    },
    {
     "name": "stderr",
     "output_type": "stream",
     "text": [
      "/home/igor/anaconda3/lib/python3.9/site-packages/torchvision/models/_utils.py:208: UserWarning: The parameter 'pretrained' is deprecated since 0.13 and will be removed in 0.15, please use 'weights' instead.\n",
      "  warnings.warn(\n",
      "/home/igor/anaconda3/lib/python3.9/site-packages/torchvision/models/_utils.py:223: UserWarning: Arguments other than a weight enum or `None` for 'weights' are deprecated since 0.13 and will be removed in 0.15. The current behavior is equivalent to passing `weights=VGG16_Weights.IMAGENET1K_V1`. You can also use `weights=VGG16_Weights.DEFAULT` to get the most up-to-date weights.\n",
      "  warnings.warn(msg)\n"
     ]
    },
    {
     "name": "stdout",
     "output_type": "stream",
     "text": [
      "NetVLAD setting:\n",
      "num_clusters: 64 dim: 512 vladv2: False\n",
      "=> loading checkpoint 'vgg16_netvlad_checkpoint/checkpoints/checkpoint.pth.tar'\n",
      "=> loaded checkpoint 'vgg16_netvlad_checkpoint/checkpoints/checkpoint.pth.tar' (epoch 25)\n",
      "===> Running evaluation step\n",
      "VLAD encoding: tensor([[-0.0045, -0.0090,  0.0044,  ...,  0.0025,  0.0043,  0.0014]])\n",
      "VLAD encoding shape: torch.Size([1, 32768])\n",
      "Saved frame_vlad_embedding_pca to embedding_file:  <_io.TextIOWrapper name='/home/igor/Desktop/Victoria/tisl/tisl_localization_22s_copy-main/rscan_test/02b33e03-be2b-2d54-9129-5d28efdd68fa.txt' mode='a' encoding='UTF-8'>\n",
      "path_to_random_frame:  /home/igor/Desktop/Victoria/tisl/tisl_localization_22s_copy-main/rscan_test/02b33e03-be2b-2d54-9129-5d28efdd68fa/frame-000141.color.jpg\n",
      "Saved frame_position_numpy to embedding_file:  <_io.TextIOWrapper name='/home/igor/Desktop/Victoria/tisl/tisl_localization_22s_copy-main/rscan_test/02b33e03-be2b-2d54-9129-5d28efdd68fa.txt' mode='a' encoding='UTF-8'>\n",
      "===> Loading data\n",
      "Input image shape: torch.Size([1, 3, 540, 960])\n",
      "===> Building model\n"
     ]
    },
    {
     "name": "stderr",
     "output_type": "stream",
     "text": [
      "/home/igor/anaconda3/lib/python3.9/site-packages/torchvision/models/_utils.py:208: UserWarning: The parameter 'pretrained' is deprecated since 0.13 and will be removed in 0.15, please use 'weights' instead.\n",
      "  warnings.warn(\n",
      "/home/igor/anaconda3/lib/python3.9/site-packages/torchvision/models/_utils.py:223: UserWarning: Arguments other than a weight enum or `None` for 'weights' are deprecated since 0.13 and will be removed in 0.15. The current behavior is equivalent to passing `weights=VGG16_Weights.IMAGENET1K_V1`. You can also use `weights=VGG16_Weights.DEFAULT` to get the most up-to-date weights.\n",
      "  warnings.warn(msg)\n"
     ]
    },
    {
     "name": "stdout",
     "output_type": "stream",
     "text": [
      "NetVLAD setting:\n",
      "num_clusters: 64 dim: 512 vladv2: False\n",
      "=> loading checkpoint 'vgg16_netvlad_checkpoint/checkpoints/checkpoint.pth.tar'\n",
      "=> loaded checkpoint 'vgg16_netvlad_checkpoint/checkpoints/checkpoint.pth.tar' (epoch 25)\n",
      "===> Running evaluation step\n",
      "VLAD encoding: tensor([[-0.0026, -0.0016,  0.0097,  ...,  0.0033,  0.0053,  0.0013]])\n",
      "VLAD encoding shape: torch.Size([1, 32768])\n",
      "Saved frame_vlad_embedding_pca to embedding_file:  <_io.TextIOWrapper name='/home/igor/Desktop/Victoria/tisl/tisl_localization_22s_copy-main/rscan_test/02b33e03-be2b-2d54-9129-5d28efdd68fa.txt' mode='a' encoding='UTF-8'>\n",
      "path_to_random_frame:  /home/igor/Desktop/Victoria/tisl/tisl_localization_22s_copy-main/rscan_test/02b33e03-be2b-2d54-9129-5d28efdd68fa/frame-000147.color.jpg\n",
      "Saved frame_position_numpy to embedding_file:  <_io.TextIOWrapper name='/home/igor/Desktop/Victoria/tisl/tisl_localization_22s_copy-main/rscan_test/02b33e03-be2b-2d54-9129-5d28efdd68fa.txt' mode='a' encoding='UTF-8'>\n",
      "===> Loading data\n",
      "Input image shape: torch.Size([1, 3, 540, 960])\n",
      "===> Building model\n"
     ]
    },
    {
     "name": "stderr",
     "output_type": "stream",
     "text": [
      "/home/igor/anaconda3/lib/python3.9/site-packages/torchvision/models/_utils.py:208: UserWarning: The parameter 'pretrained' is deprecated since 0.13 and will be removed in 0.15, please use 'weights' instead.\n",
      "  warnings.warn(\n",
      "/home/igor/anaconda3/lib/python3.9/site-packages/torchvision/models/_utils.py:223: UserWarning: Arguments other than a weight enum or `None` for 'weights' are deprecated since 0.13 and will be removed in 0.15. The current behavior is equivalent to passing `weights=VGG16_Weights.IMAGENET1K_V1`. You can also use `weights=VGG16_Weights.DEFAULT` to get the most up-to-date weights.\n",
      "  warnings.warn(msg)\n"
     ]
    },
    {
     "name": "stdout",
     "output_type": "stream",
     "text": [
      "NetVLAD setting:\n",
      "num_clusters: 64 dim: 512 vladv2: False\n",
      "=> loading checkpoint 'vgg16_netvlad_checkpoint/checkpoints/checkpoint.pth.tar'\n",
      "=> loaded checkpoint 'vgg16_netvlad_checkpoint/checkpoints/checkpoint.pth.tar' (epoch 25)\n",
      "===> Running evaluation step\n",
      "VLAD encoding: tensor([[ 0.0026,  0.0017, -0.0019,  ...,  0.0015,  0.0045, -0.0051]])\n",
      "VLAD encoding shape: torch.Size([1, 32768])\n",
      "Saved frame_vlad_embedding_pca to embedding_file:  <_io.TextIOWrapper name='/home/igor/Desktop/Victoria/tisl/tisl_localization_22s_copy-main/rscan_test/02b33e03-be2b-2d54-9129-5d28efdd68fa.txt' mode='a' encoding='UTF-8'>\n",
      "path_to_random_frame:  /home/igor/Desktop/Victoria/tisl/tisl_localization_22s_copy-main/rscan_test/02b33e03-be2b-2d54-9129-5d28efdd68fa/frame-000148.color.jpg\n",
      "Saved frame_position_numpy to embedding_file:  <_io.TextIOWrapper name='/home/igor/Desktop/Victoria/tisl/tisl_localization_22s_copy-main/rscan_test/02b33e03-be2b-2d54-9129-5d28efdd68fa.txt' mode='a' encoding='UTF-8'>\n",
      "===> Loading data\n",
      "Input image shape: torch.Size([1, 3, 540, 960])\n",
      "===> Building model\n"
     ]
    },
    {
     "name": "stderr",
     "output_type": "stream",
     "text": [
      "/home/igor/anaconda3/lib/python3.9/site-packages/torchvision/models/_utils.py:208: UserWarning: The parameter 'pretrained' is deprecated since 0.13 and will be removed in 0.15, please use 'weights' instead.\n",
      "  warnings.warn(\n",
      "/home/igor/anaconda3/lib/python3.9/site-packages/torchvision/models/_utils.py:223: UserWarning: Arguments other than a weight enum or `None` for 'weights' are deprecated since 0.13 and will be removed in 0.15. The current behavior is equivalent to passing `weights=VGG16_Weights.IMAGENET1K_V1`. You can also use `weights=VGG16_Weights.DEFAULT` to get the most up-to-date weights.\n",
      "  warnings.warn(msg)\n"
     ]
    },
    {
     "name": "stdout",
     "output_type": "stream",
     "text": [
      "NetVLAD setting:\n",
      "num_clusters: 64 dim: 512 vladv2: False\n",
      "=> loading checkpoint 'vgg16_netvlad_checkpoint/checkpoints/checkpoint.pth.tar'\n",
      "=> loaded checkpoint 'vgg16_netvlad_checkpoint/checkpoints/checkpoint.pth.tar' (epoch 25)\n",
      "===> Running evaluation step\n",
      "VLAD encoding: tensor([[ 0.0049, -0.0080,  0.0042,  ...,  0.0056,  0.0053,  0.0027]])\n",
      "VLAD encoding shape: torch.Size([1, 32768])\n",
      "Saved frame_vlad_embedding_pca to embedding_file:  <_io.TextIOWrapper name='/home/igor/Desktop/Victoria/tisl/tisl_localization_22s_copy-main/rscan_test/02b33e03-be2b-2d54-9129-5d28efdd68fa.txt' mode='a' encoding='UTF-8'>\n",
      "path_to_random_frame:  /home/igor/Desktop/Victoria/tisl/tisl_localization_22s_copy-main/rscan_test/02b33e03-be2b-2d54-9129-5d28efdd68fa/frame-000149.color.jpg\n",
      "Saved frame_position_numpy to embedding_file:  <_io.TextIOWrapper name='/home/igor/Desktop/Victoria/tisl/tisl_localization_22s_copy-main/rscan_test/02b33e03-be2b-2d54-9129-5d28efdd68fa.txt' mode='a' encoding='UTF-8'>\n",
      "===> Loading data\n",
      "Input image shape: torch.Size([1, 3, 540, 960])\n",
      "===> Building model\n"
     ]
    },
    {
     "name": "stderr",
     "output_type": "stream",
     "text": [
      "/home/igor/anaconda3/lib/python3.9/site-packages/torchvision/models/_utils.py:208: UserWarning: The parameter 'pretrained' is deprecated since 0.13 and will be removed in 0.15, please use 'weights' instead.\n",
      "  warnings.warn(\n",
      "/home/igor/anaconda3/lib/python3.9/site-packages/torchvision/models/_utils.py:223: UserWarning: Arguments other than a weight enum or `None` for 'weights' are deprecated since 0.13 and will be removed in 0.15. The current behavior is equivalent to passing `weights=VGG16_Weights.IMAGENET1K_V1`. You can also use `weights=VGG16_Weights.DEFAULT` to get the most up-to-date weights.\n",
      "  warnings.warn(msg)\n"
     ]
    },
    {
     "name": "stdout",
     "output_type": "stream",
     "text": [
      "NetVLAD setting:\n",
      "num_clusters: 64 dim: 512 vladv2: False\n",
      "=> loading checkpoint 'vgg16_netvlad_checkpoint/checkpoints/checkpoint.pth.tar'\n",
      "=> loaded checkpoint 'vgg16_netvlad_checkpoint/checkpoints/checkpoint.pth.tar' (epoch 25)\n",
      "===> Running evaluation step\n",
      "VLAD encoding: tensor([[-0.0062, -0.0023,  0.0015,  ...,  0.0110,  0.0062,  0.0021]])\n",
      "VLAD encoding shape: torch.Size([1, 32768])\n",
      "Saved frame_vlad_embedding_pca to embedding_file:  <_io.TextIOWrapper name='/home/igor/Desktop/Victoria/tisl/tisl_localization_22s_copy-main/rscan_test/02b33e03-be2b-2d54-9129-5d28efdd68fa.txt' mode='a' encoding='UTF-8'>\n",
      "processing 0/8\n",
      "path_to_random_frame:  /home/igor/Desktop/Victoria/tisl/tisl_localization_22s_copy-main/rscan_test/02b33dfd-be2b-2d54-91d2-55454852009e/frame-000000.color.jpg\n",
      "Saved frame_position_numpy to embedding_file:  <_io.TextIOWrapper name='/home/igor/Desktop/Victoria/tisl/tisl_localization_22s_copy-main/rscan_test/02b33dfd-be2b-2d54-91d2-55454852009e.txt' mode='a' encoding='UTF-8'>\n",
      "===> Loading data\n",
      "Input image shape: torch.Size([1, 3, 540, 960])\n",
      "===> Building model\n"
     ]
    },
    {
     "name": "stderr",
     "output_type": "stream",
     "text": [
      "/home/igor/anaconda3/lib/python3.9/site-packages/torchvision/models/_utils.py:208: UserWarning: The parameter 'pretrained' is deprecated since 0.13 and will be removed in 0.15, please use 'weights' instead.\n",
      "  warnings.warn(\n",
      "/home/igor/anaconda3/lib/python3.9/site-packages/torchvision/models/_utils.py:223: UserWarning: Arguments other than a weight enum or `None` for 'weights' are deprecated since 0.13 and will be removed in 0.15. The current behavior is equivalent to passing `weights=VGG16_Weights.IMAGENET1K_V1`. You can also use `weights=VGG16_Weights.DEFAULT` to get the most up-to-date weights.\n",
      "  warnings.warn(msg)\n"
     ]
    },
    {
     "name": "stdout",
     "output_type": "stream",
     "text": [
      "NetVLAD setting:\n",
      "num_clusters: 64 dim: 512 vladv2: False\n",
      "=> loading checkpoint 'vgg16_netvlad_checkpoint/checkpoints/checkpoint.pth.tar'\n",
      "=> loaded checkpoint 'vgg16_netvlad_checkpoint/checkpoints/checkpoint.pth.tar' (epoch 25)\n",
      "===> Running evaluation step\n",
      "VLAD encoding: tensor([[-0.0021, -0.0013,  0.0027,  ...,  0.0071,  0.0042, -0.0029]])\n",
      "VLAD encoding shape: torch.Size([1, 32768])\n",
      "Saved frame_vlad_embedding_pca to embedding_file:  <_io.TextIOWrapper name='/home/igor/Desktop/Victoria/tisl/tisl_localization_22s_copy-main/rscan_test/02b33dfd-be2b-2d54-91d2-55454852009e.txt' mode='a' encoding='UTF-8'>\n",
      "path_to_random_frame:  /home/igor/Desktop/Victoria/tisl/tisl_localization_22s_copy-main/rscan_test/02b33dfd-be2b-2d54-91d2-55454852009e/frame-000002.color.jpg\n",
      "Saved frame_position_numpy to embedding_file:  <_io.TextIOWrapper name='/home/igor/Desktop/Victoria/tisl/tisl_localization_22s_copy-main/rscan_test/02b33dfd-be2b-2d54-91d2-55454852009e.txt' mode='a' encoding='UTF-8'>\n",
      "===> Loading data\n",
      "Input image shape: torch.Size([1, 3, 540, 960])\n",
      "===> Building model\n"
     ]
    },
    {
     "name": "stderr",
     "output_type": "stream",
     "text": [
      "/home/igor/anaconda3/lib/python3.9/site-packages/torchvision/models/_utils.py:208: UserWarning: The parameter 'pretrained' is deprecated since 0.13 and will be removed in 0.15, please use 'weights' instead.\n",
      "  warnings.warn(\n",
      "/home/igor/anaconda3/lib/python3.9/site-packages/torchvision/models/_utils.py:223: UserWarning: Arguments other than a weight enum or `None` for 'weights' are deprecated since 0.13 and will be removed in 0.15. The current behavior is equivalent to passing `weights=VGG16_Weights.IMAGENET1K_V1`. You can also use `weights=VGG16_Weights.DEFAULT` to get the most up-to-date weights.\n",
      "  warnings.warn(msg)\n"
     ]
    },
    {
     "name": "stdout",
     "output_type": "stream",
     "text": [
      "NetVLAD setting:\n",
      "num_clusters: 64 dim: 512 vladv2: False\n",
      "=> loading checkpoint 'vgg16_netvlad_checkpoint/checkpoints/checkpoint.pth.tar'\n",
      "=> loaded checkpoint 'vgg16_netvlad_checkpoint/checkpoints/checkpoint.pth.tar' (epoch 25)\n",
      "===> Running evaluation step\n",
      "VLAD encoding: tensor([[-0.0023,  0.0031,  0.0016,  ...,  0.0090,  0.0097, -0.0005]])\n",
      "VLAD encoding shape: torch.Size([1, 32768])\n",
      "Saved frame_vlad_embedding_pca to embedding_file:  <_io.TextIOWrapper name='/home/igor/Desktop/Victoria/tisl/tisl_localization_22s_copy-main/rscan_test/02b33dfd-be2b-2d54-91d2-55454852009e.txt' mode='a' encoding='UTF-8'>\n",
      "path_to_random_frame:  /home/igor/Desktop/Victoria/tisl/tisl_localization_22s_copy-main/rscan_test/02b33dfd-be2b-2d54-91d2-55454852009e/frame-000004.color.jpg\n",
      "Saved frame_position_numpy to embedding_file:  <_io.TextIOWrapper name='/home/igor/Desktop/Victoria/tisl/tisl_localization_22s_copy-main/rscan_test/02b33dfd-be2b-2d54-91d2-55454852009e.txt' mode='a' encoding='UTF-8'>\n",
      "===> Loading data\n",
      "Input image shape: torch.Size([1, 3, 540, 960])\n",
      "===> Building model\n"
     ]
    },
    {
     "name": "stderr",
     "output_type": "stream",
     "text": [
      "/home/igor/anaconda3/lib/python3.9/site-packages/torchvision/models/_utils.py:208: UserWarning: The parameter 'pretrained' is deprecated since 0.13 and will be removed in 0.15, please use 'weights' instead.\n",
      "  warnings.warn(\n",
      "/home/igor/anaconda3/lib/python3.9/site-packages/torchvision/models/_utils.py:223: UserWarning: Arguments other than a weight enum or `None` for 'weights' are deprecated since 0.13 and will be removed in 0.15. The current behavior is equivalent to passing `weights=VGG16_Weights.IMAGENET1K_V1`. You can also use `weights=VGG16_Weights.DEFAULT` to get the most up-to-date weights.\n",
      "  warnings.warn(msg)\n"
     ]
    },
    {
     "name": "stdout",
     "output_type": "stream",
     "text": [
      "NetVLAD setting:\n",
      "num_clusters: 64 dim: 512 vladv2: False\n",
      "=> loading checkpoint 'vgg16_netvlad_checkpoint/checkpoints/checkpoint.pth.tar'\n",
      "=> loaded checkpoint 'vgg16_netvlad_checkpoint/checkpoints/checkpoint.pth.tar' (epoch 25)\n",
      "===> Running evaluation step\n",
      "VLAD encoding: tensor([[-0.0013, -0.0046,  0.0038,  ...,  0.0011,  0.0085,  0.0006]])\n",
      "VLAD encoding shape: torch.Size([1, 32768])\n",
      "Saved frame_vlad_embedding_pca to embedding_file:  <_io.TextIOWrapper name='/home/igor/Desktop/Victoria/tisl/tisl_localization_22s_copy-main/rscan_test/02b33dfd-be2b-2d54-91d2-55454852009e.txt' mode='a' encoding='UTF-8'>\n",
      "path_to_random_frame:  /home/igor/Desktop/Victoria/tisl/tisl_localization_22s_copy-main/rscan_test/02b33dfd-be2b-2d54-91d2-55454852009e/frame-000005.color.jpg\n",
      "Saved frame_position_numpy to embedding_file:  <_io.TextIOWrapper name='/home/igor/Desktop/Victoria/tisl/tisl_localization_22s_copy-main/rscan_test/02b33dfd-be2b-2d54-91d2-55454852009e.txt' mode='a' encoding='UTF-8'>\n",
      "===> Loading data\n",
      "Input image shape: torch.Size([1, 3, 540, 960])\n",
      "===> Building model\n"
     ]
    },
    {
     "name": "stderr",
     "output_type": "stream",
     "text": [
      "/home/igor/anaconda3/lib/python3.9/site-packages/torchvision/models/_utils.py:208: UserWarning: The parameter 'pretrained' is deprecated since 0.13 and will be removed in 0.15, please use 'weights' instead.\n",
      "  warnings.warn(\n",
      "/home/igor/anaconda3/lib/python3.9/site-packages/torchvision/models/_utils.py:223: UserWarning: Arguments other than a weight enum or `None` for 'weights' are deprecated since 0.13 and will be removed in 0.15. The current behavior is equivalent to passing `weights=VGG16_Weights.IMAGENET1K_V1`. You can also use `weights=VGG16_Weights.DEFAULT` to get the most up-to-date weights.\n",
      "  warnings.warn(msg)\n"
     ]
    },
    {
     "name": "stdout",
     "output_type": "stream",
     "text": [
      "NetVLAD setting:\n",
      "num_clusters: 64 dim: 512 vladv2: False\n",
      "=> loading checkpoint 'vgg16_netvlad_checkpoint/checkpoints/checkpoint.pth.tar'\n",
      "=> loaded checkpoint 'vgg16_netvlad_checkpoint/checkpoints/checkpoint.pth.tar' (epoch 25)\n",
      "===> Running evaluation step\n",
      "VLAD encoding: tensor([[ 0.0018, -0.0021, -0.0010,  ...,  0.0096,  0.0003, -0.0006]])\n",
      "VLAD encoding shape: torch.Size([1, 32768])\n",
      "Saved frame_vlad_embedding_pca to embedding_file:  <_io.TextIOWrapper name='/home/igor/Desktop/Victoria/tisl/tisl_localization_22s_copy-main/rscan_test/02b33dfd-be2b-2d54-91d2-55454852009e.txt' mode='a' encoding='UTF-8'>\n",
      "path_to_random_frame:  /home/igor/Desktop/Victoria/tisl/tisl_localization_22s_copy-main/rscan_test/02b33dfd-be2b-2d54-91d2-55454852009e/frame-000006.color.jpg\n",
      "Saved frame_position_numpy to embedding_file:  <_io.TextIOWrapper name='/home/igor/Desktop/Victoria/tisl/tisl_localization_22s_copy-main/rscan_test/02b33dfd-be2b-2d54-91d2-55454852009e.txt' mode='a' encoding='UTF-8'>\n",
      "===> Loading data\n",
      "Input image shape: torch.Size([1, 3, 540, 960])\n",
      "===> Building model\n"
     ]
    },
    {
     "name": "stderr",
     "output_type": "stream",
     "text": [
      "/home/igor/anaconda3/lib/python3.9/site-packages/torchvision/models/_utils.py:208: UserWarning: The parameter 'pretrained' is deprecated since 0.13 and will be removed in 0.15, please use 'weights' instead.\n",
      "  warnings.warn(\n",
      "/home/igor/anaconda3/lib/python3.9/site-packages/torchvision/models/_utils.py:223: UserWarning: Arguments other than a weight enum or `None` for 'weights' are deprecated since 0.13 and will be removed in 0.15. The current behavior is equivalent to passing `weights=VGG16_Weights.IMAGENET1K_V1`. You can also use `weights=VGG16_Weights.DEFAULT` to get the most up-to-date weights.\n",
      "  warnings.warn(msg)\n"
     ]
    },
    {
     "name": "stdout",
     "output_type": "stream",
     "text": [
      "NetVLAD setting:\n",
      "num_clusters: 64 dim: 512 vladv2: False\n",
      "=> loading checkpoint 'vgg16_netvlad_checkpoint/checkpoints/checkpoint.pth.tar'\n",
      "=> loaded checkpoint 'vgg16_netvlad_checkpoint/checkpoints/checkpoint.pth.tar' (epoch 25)\n",
      "===> Running evaluation step\n",
      "VLAD encoding: tensor([[ 0.0017, -0.0078,  0.0032,  ...,  0.0184,  0.0043,  0.0005]])\n",
      "VLAD encoding shape: torch.Size([1, 32768])\n",
      "Saved frame_vlad_embedding_pca to embedding_file:  <_io.TextIOWrapper name='/home/igor/Desktop/Victoria/tisl/tisl_localization_22s_copy-main/rscan_test/02b33dfd-be2b-2d54-91d2-55454852009e.txt' mode='a' encoding='UTF-8'>\n",
      "path_to_random_frame:  /home/igor/Desktop/Victoria/tisl/tisl_localization_22s_copy-main/rscan_test/02b33dfd-be2b-2d54-91d2-55454852009e/frame-000008.color.jpg\n",
      "Saved frame_position_numpy to embedding_file:  <_io.TextIOWrapper name='/home/igor/Desktop/Victoria/tisl/tisl_localization_22s_copy-main/rscan_test/02b33dfd-be2b-2d54-91d2-55454852009e.txt' mode='a' encoding='UTF-8'>\n",
      "===> Loading data\n",
      "Input image shape: torch.Size([1, 3, 540, 960])\n",
      "===> Building model\n"
     ]
    },
    {
     "name": "stderr",
     "output_type": "stream",
     "text": [
      "/home/igor/anaconda3/lib/python3.9/site-packages/torchvision/models/_utils.py:208: UserWarning: The parameter 'pretrained' is deprecated since 0.13 and will be removed in 0.15, please use 'weights' instead.\n",
      "  warnings.warn(\n",
      "/home/igor/anaconda3/lib/python3.9/site-packages/torchvision/models/_utils.py:223: UserWarning: Arguments other than a weight enum or `None` for 'weights' are deprecated since 0.13 and will be removed in 0.15. The current behavior is equivalent to passing `weights=VGG16_Weights.IMAGENET1K_V1`. You can also use `weights=VGG16_Weights.DEFAULT` to get the most up-to-date weights.\n",
      "  warnings.warn(msg)\n"
     ]
    },
    {
     "name": "stdout",
     "output_type": "stream",
     "text": [
      "NetVLAD setting:\n",
      "num_clusters: 64 dim: 512 vladv2: False\n",
      "=> loading checkpoint 'vgg16_netvlad_checkpoint/checkpoints/checkpoint.pth.tar'\n",
      "=> loaded checkpoint 'vgg16_netvlad_checkpoint/checkpoints/checkpoint.pth.tar' (epoch 25)\n",
      "===> Running evaluation step\n",
      "VLAD encoding: tensor([[ 0.0014, -0.0043,  0.0060,  ...,  0.0153,  0.0010, -0.0025]])\n",
      "VLAD encoding shape: torch.Size([1, 32768])\n",
      "Saved frame_vlad_embedding_pca to embedding_file:  <_io.TextIOWrapper name='/home/igor/Desktop/Victoria/tisl/tisl_localization_22s_copy-main/rscan_test/02b33dfd-be2b-2d54-91d2-55454852009e.txt' mode='a' encoding='UTF-8'>\n",
      "path_to_random_frame:  /home/igor/Desktop/Victoria/tisl/tisl_localization_22s_copy-main/rscan_test/02b33dfd-be2b-2d54-91d2-55454852009e/frame-000011.color.jpg\n",
      "Saved frame_position_numpy to embedding_file:  <_io.TextIOWrapper name='/home/igor/Desktop/Victoria/tisl/tisl_localization_22s_copy-main/rscan_test/02b33dfd-be2b-2d54-91d2-55454852009e.txt' mode='a' encoding='UTF-8'>\n",
      "===> Loading data\n",
      "Input image shape: torch.Size([1, 3, 540, 960])\n",
      "===> Building model\n"
     ]
    },
    {
     "name": "stderr",
     "output_type": "stream",
     "text": [
      "/home/igor/anaconda3/lib/python3.9/site-packages/torchvision/models/_utils.py:208: UserWarning: The parameter 'pretrained' is deprecated since 0.13 and will be removed in 0.15, please use 'weights' instead.\n",
      "  warnings.warn(\n",
      "/home/igor/anaconda3/lib/python3.9/site-packages/torchvision/models/_utils.py:223: UserWarning: Arguments other than a weight enum or `None` for 'weights' are deprecated since 0.13 and will be removed in 0.15. The current behavior is equivalent to passing `weights=VGG16_Weights.IMAGENET1K_V1`. You can also use `weights=VGG16_Weights.DEFAULT` to get the most up-to-date weights.\n",
      "  warnings.warn(msg)\n"
     ]
    },
    {
     "name": "stdout",
     "output_type": "stream",
     "text": [
      "NetVLAD setting:\n",
      "num_clusters: 64 dim: 512 vladv2: False\n",
      "=> loading checkpoint 'vgg16_netvlad_checkpoint/checkpoints/checkpoint.pth.tar'\n",
      "=> loaded checkpoint 'vgg16_netvlad_checkpoint/checkpoints/checkpoint.pth.tar' (epoch 25)\n",
      "===> Running evaluation step\n",
      "VLAD encoding: tensor([[-0.0032, -0.0013,  0.0058,  ...,  0.0132,  0.0078, -0.0016]])\n",
      "VLAD encoding shape: torch.Size([1, 32768])\n",
      "Saved frame_vlad_embedding_pca to embedding_file:  <_io.TextIOWrapper name='/home/igor/Desktop/Victoria/tisl/tisl_localization_22s_copy-main/rscan_test/02b33dfd-be2b-2d54-91d2-55454852009e.txt' mode='a' encoding='UTF-8'>\n",
      "path_to_random_frame:  /home/igor/Desktop/Victoria/tisl/tisl_localization_22s_copy-main/rscan_test/02b33dfd-be2b-2d54-91d2-55454852009e/frame-000013.color.jpg\n",
      "Saved frame_position_numpy to embedding_file:  <_io.TextIOWrapper name='/home/igor/Desktop/Victoria/tisl/tisl_localization_22s_copy-main/rscan_test/02b33dfd-be2b-2d54-91d2-55454852009e.txt' mode='a' encoding='UTF-8'>\n",
      "===> Loading data\n",
      "Input image shape: torch.Size([1, 3, 540, 960])\n",
      "===> Building model\n"
     ]
    },
    {
     "name": "stderr",
     "output_type": "stream",
     "text": [
      "/home/igor/anaconda3/lib/python3.9/site-packages/torchvision/models/_utils.py:208: UserWarning: The parameter 'pretrained' is deprecated since 0.13 and will be removed in 0.15, please use 'weights' instead.\n",
      "  warnings.warn(\n",
      "/home/igor/anaconda3/lib/python3.9/site-packages/torchvision/models/_utils.py:223: UserWarning: Arguments other than a weight enum or `None` for 'weights' are deprecated since 0.13 and will be removed in 0.15. The current behavior is equivalent to passing `weights=VGG16_Weights.IMAGENET1K_V1`. You can also use `weights=VGG16_Weights.DEFAULT` to get the most up-to-date weights.\n",
      "  warnings.warn(msg)\n"
     ]
    },
    {
     "name": "stdout",
     "output_type": "stream",
     "text": [
      "NetVLAD setting:\n",
      "num_clusters: 64 dim: 512 vladv2: False\n",
      "=> loading checkpoint 'vgg16_netvlad_checkpoint/checkpoints/checkpoint.pth.tar'\n",
      "=> loaded checkpoint 'vgg16_netvlad_checkpoint/checkpoints/checkpoint.pth.tar' (epoch 25)\n",
      "===> Running evaluation step\n",
      "VLAD encoding: tensor([[ 0.0019, -0.0004,  0.0004,  ...,  0.0130,  0.0072, -0.0020]])\n",
      "VLAD encoding shape: torch.Size([1, 32768])\n",
      "Saved frame_vlad_embedding_pca to embedding_file:  <_io.TextIOWrapper name='/home/igor/Desktop/Victoria/tisl/tisl_localization_22s_copy-main/rscan_test/02b33dfd-be2b-2d54-91d2-55454852009e.txt' mode='a' encoding='UTF-8'>\n",
      "path_to_random_frame:  /home/igor/Desktop/Victoria/tisl/tisl_localization_22s_copy-main/rscan_test/02b33dfd-be2b-2d54-91d2-55454852009e/frame-000016.color.jpg\n",
      "Saved frame_position_numpy to embedding_file:  <_io.TextIOWrapper name='/home/igor/Desktop/Victoria/tisl/tisl_localization_22s_copy-main/rscan_test/02b33dfd-be2b-2d54-91d2-55454852009e.txt' mode='a' encoding='UTF-8'>\n",
      "===> Loading data\n",
      "Input image shape: torch.Size([1, 3, 540, 960])\n",
      "===> Building model\n"
     ]
    },
    {
     "name": "stderr",
     "output_type": "stream",
     "text": [
      "/home/igor/anaconda3/lib/python3.9/site-packages/torchvision/models/_utils.py:208: UserWarning: The parameter 'pretrained' is deprecated since 0.13 and will be removed in 0.15, please use 'weights' instead.\n",
      "  warnings.warn(\n",
      "/home/igor/anaconda3/lib/python3.9/site-packages/torchvision/models/_utils.py:223: UserWarning: Arguments other than a weight enum or `None` for 'weights' are deprecated since 0.13 and will be removed in 0.15. The current behavior is equivalent to passing `weights=VGG16_Weights.IMAGENET1K_V1`. You can also use `weights=VGG16_Weights.DEFAULT` to get the most up-to-date weights.\n",
      "  warnings.warn(msg)\n"
     ]
    },
    {
     "name": "stdout",
     "output_type": "stream",
     "text": [
      "NetVLAD setting:\n",
      "num_clusters: 64 dim: 512 vladv2: False\n",
      "=> loading checkpoint 'vgg16_netvlad_checkpoint/checkpoints/checkpoint.pth.tar'\n",
      "=> loaded checkpoint 'vgg16_netvlad_checkpoint/checkpoints/checkpoint.pth.tar' (epoch 25)\n",
      "===> Running evaluation step\n",
      "VLAD encoding: tensor([[ 0.0013, -0.0072, -0.0005,  ...,  0.0132, -0.0001,  0.0011]])\n",
      "VLAD encoding shape: torch.Size([1, 32768])\n",
      "Saved frame_vlad_embedding_pca to embedding_file:  <_io.TextIOWrapper name='/home/igor/Desktop/Victoria/tisl/tisl_localization_22s_copy-main/rscan_test/02b33dfd-be2b-2d54-91d2-55454852009e.txt' mode='a' encoding='UTF-8'>\n",
      "path_to_random_frame:  /home/igor/Desktop/Victoria/tisl/tisl_localization_22s_copy-main/rscan_test/02b33dfd-be2b-2d54-91d2-55454852009e/frame-000017.color.jpg\n",
      "Saved frame_position_numpy to embedding_file:  <_io.TextIOWrapper name='/home/igor/Desktop/Victoria/tisl/tisl_localization_22s_copy-main/rscan_test/02b33dfd-be2b-2d54-91d2-55454852009e.txt' mode='a' encoding='UTF-8'>\n",
      "===> Loading data\n",
      "Input image shape: torch.Size([1, 3, 540, 960])\n",
      "===> Building model\n"
     ]
    },
    {
     "name": "stderr",
     "output_type": "stream",
     "text": [
      "/home/igor/anaconda3/lib/python3.9/site-packages/torchvision/models/_utils.py:208: UserWarning: The parameter 'pretrained' is deprecated since 0.13 and will be removed in 0.15, please use 'weights' instead.\n",
      "  warnings.warn(\n",
      "/home/igor/anaconda3/lib/python3.9/site-packages/torchvision/models/_utils.py:223: UserWarning: Arguments other than a weight enum or `None` for 'weights' are deprecated since 0.13 and will be removed in 0.15. The current behavior is equivalent to passing `weights=VGG16_Weights.IMAGENET1K_V1`. You can also use `weights=VGG16_Weights.DEFAULT` to get the most up-to-date weights.\n",
      "  warnings.warn(msg)\n"
     ]
    },
    {
     "name": "stdout",
     "output_type": "stream",
     "text": [
      "NetVLAD setting:\n",
      "num_clusters: 64 dim: 512 vladv2: False\n",
      "=> loading checkpoint 'vgg16_netvlad_checkpoint/checkpoints/checkpoint.pth.tar'\n",
      "=> loaded checkpoint 'vgg16_netvlad_checkpoint/checkpoints/checkpoint.pth.tar' (epoch 25)\n",
      "===> Running evaluation step\n",
      "VLAD encoding: tensor([[ 0.0063, -0.0003,  0.0018,  ...,  0.0025,  0.0038, -0.0019]])\n",
      "VLAD encoding shape: torch.Size([1, 32768])\n",
      "Saved frame_vlad_embedding_pca to embedding_file:  <_io.TextIOWrapper name='/home/igor/Desktop/Victoria/tisl/tisl_localization_22s_copy-main/rscan_test/02b33dfd-be2b-2d54-91d2-55454852009e.txt' mode='a' encoding='UTF-8'>\n",
      "path_to_random_frame:  /home/igor/Desktop/Victoria/tisl/tisl_localization_22s_copy-main/rscan_test/02b33dfd-be2b-2d54-91d2-55454852009e/frame-000018.color.jpg\n",
      "Saved frame_position_numpy to embedding_file:  <_io.TextIOWrapper name='/home/igor/Desktop/Victoria/tisl/tisl_localization_22s_copy-main/rscan_test/02b33dfd-be2b-2d54-91d2-55454852009e.txt' mode='a' encoding='UTF-8'>\n",
      "===> Loading data\n",
      "Input image shape: torch.Size([1, 3, 540, 960])\n",
      "===> Building model\n"
     ]
    },
    {
     "name": "stderr",
     "output_type": "stream",
     "text": [
      "/home/igor/anaconda3/lib/python3.9/site-packages/torchvision/models/_utils.py:208: UserWarning: The parameter 'pretrained' is deprecated since 0.13 and will be removed in 0.15, please use 'weights' instead.\n",
      "  warnings.warn(\n",
      "/home/igor/anaconda3/lib/python3.9/site-packages/torchvision/models/_utils.py:223: UserWarning: Arguments other than a weight enum or `None` for 'weights' are deprecated since 0.13 and will be removed in 0.15. The current behavior is equivalent to passing `weights=VGG16_Weights.IMAGENET1K_V1`. You can also use `weights=VGG16_Weights.DEFAULT` to get the most up-to-date weights.\n",
      "  warnings.warn(msg)\n"
     ]
    },
    {
     "name": "stdout",
     "output_type": "stream",
     "text": [
      "NetVLAD setting:\n",
      "num_clusters: 64 dim: 512 vladv2: False\n",
      "=> loading checkpoint 'vgg16_netvlad_checkpoint/checkpoints/checkpoint.pth.tar'\n",
      "=> loaded checkpoint 'vgg16_netvlad_checkpoint/checkpoints/checkpoint.pth.tar' (epoch 25)\n",
      "===> Running evaluation step\n",
      "VLAD encoding: tensor([[ 0.0056,  0.0018,  0.0004,  ...,  0.0009,  0.0064, -0.0058]])\n",
      "VLAD encoding shape: torch.Size([1, 32768])\n",
      "Saved frame_vlad_embedding_pca to embedding_file:  <_io.TextIOWrapper name='/home/igor/Desktop/Victoria/tisl/tisl_localization_22s_copy-main/rscan_test/02b33dfd-be2b-2d54-91d2-55454852009e.txt' mode='a' encoding='UTF-8'>\n",
      "path_to_random_frame:  /home/igor/Desktop/Victoria/tisl/tisl_localization_22s_copy-main/rscan_test/02b33dfd-be2b-2d54-91d2-55454852009e/frame-000020.color.jpg\n",
      "Saved frame_position_numpy to embedding_file:  <_io.TextIOWrapper name='/home/igor/Desktop/Victoria/tisl/tisl_localization_22s_copy-main/rscan_test/02b33dfd-be2b-2d54-91d2-55454852009e.txt' mode='a' encoding='UTF-8'>\n",
      "===> Loading data\n",
      "Input image shape: torch.Size([1, 3, 540, 960])\n",
      "===> Building model\n"
     ]
    },
    {
     "name": "stderr",
     "output_type": "stream",
     "text": [
      "/home/igor/anaconda3/lib/python3.9/site-packages/torchvision/models/_utils.py:208: UserWarning: The parameter 'pretrained' is deprecated since 0.13 and will be removed in 0.15, please use 'weights' instead.\n",
      "  warnings.warn(\n",
      "/home/igor/anaconda3/lib/python3.9/site-packages/torchvision/models/_utils.py:223: UserWarning: Arguments other than a weight enum or `None` for 'weights' are deprecated since 0.13 and will be removed in 0.15. The current behavior is equivalent to passing `weights=VGG16_Weights.IMAGENET1K_V1`. You can also use `weights=VGG16_Weights.DEFAULT` to get the most up-to-date weights.\n",
      "  warnings.warn(msg)\n"
     ]
    },
    {
     "name": "stdout",
     "output_type": "stream",
     "text": [
      "NetVLAD setting:\n",
      "num_clusters: 64 dim: 512 vladv2: False\n",
      "=> loading checkpoint 'vgg16_netvlad_checkpoint/checkpoints/checkpoint.pth.tar'\n",
      "=> loaded checkpoint 'vgg16_netvlad_checkpoint/checkpoints/checkpoint.pth.tar' (epoch 25)\n",
      "===> Running evaluation step\n",
      "VLAD encoding: tensor([[-0.0031, -0.0017,  0.0029,  ...,  0.0080,  0.0008, -0.0059]])\n",
      "VLAD encoding shape: torch.Size([1, 32768])\n",
      "Saved frame_vlad_embedding_pca to embedding_file:  <_io.TextIOWrapper name='/home/igor/Desktop/Victoria/tisl/tisl_localization_22s_copy-main/rscan_test/02b33dfd-be2b-2d54-91d2-55454852009e.txt' mode='a' encoding='UTF-8'>\n",
      "path_to_random_frame:  /home/igor/Desktop/Victoria/tisl/tisl_localization_22s_copy-main/rscan_test/02b33dfd-be2b-2d54-91d2-55454852009e/frame-000031.color.jpg\n",
      "Saved frame_position_numpy to embedding_file:  <_io.TextIOWrapper name='/home/igor/Desktop/Victoria/tisl/tisl_localization_22s_copy-main/rscan_test/02b33dfd-be2b-2d54-91d2-55454852009e.txt' mode='a' encoding='UTF-8'>\n",
      "===> Loading data\n",
      "Input image shape: torch.Size([1, 3, 540, 960])\n",
      "===> Building model\n"
     ]
    },
    {
     "name": "stderr",
     "output_type": "stream",
     "text": [
      "/home/igor/anaconda3/lib/python3.9/site-packages/torchvision/models/_utils.py:208: UserWarning: The parameter 'pretrained' is deprecated since 0.13 and will be removed in 0.15, please use 'weights' instead.\n",
      "  warnings.warn(\n",
      "/home/igor/anaconda3/lib/python3.9/site-packages/torchvision/models/_utils.py:223: UserWarning: Arguments other than a weight enum or `None` for 'weights' are deprecated since 0.13 and will be removed in 0.15. The current behavior is equivalent to passing `weights=VGG16_Weights.IMAGENET1K_V1`. You can also use `weights=VGG16_Weights.DEFAULT` to get the most up-to-date weights.\n",
      "  warnings.warn(msg)\n"
     ]
    },
    {
     "name": "stdout",
     "output_type": "stream",
     "text": [
      "NetVLAD setting:\n",
      "num_clusters: 64 dim: 512 vladv2: False\n",
      "=> loading checkpoint 'vgg16_netvlad_checkpoint/checkpoints/checkpoint.pth.tar'\n",
      "=> loaded checkpoint 'vgg16_netvlad_checkpoint/checkpoints/checkpoint.pth.tar' (epoch 25)\n",
      "===> Running evaluation step\n",
      "VLAD encoding: tensor([[ 0.0005, -0.0010, -0.0003,  ...,  0.0075,  0.0040, -0.0013]])\n",
      "VLAD encoding shape: torch.Size([1, 32768])\n",
      "Saved frame_vlad_embedding_pca to embedding_file:  <_io.TextIOWrapper name='/home/igor/Desktop/Victoria/tisl/tisl_localization_22s_copy-main/rscan_test/02b33dfd-be2b-2d54-91d2-55454852009e.txt' mode='a' encoding='UTF-8'>\n",
      "path_to_random_frame:  /home/igor/Desktop/Victoria/tisl/tisl_localization_22s_copy-main/rscan_test/02b33dfd-be2b-2d54-91d2-55454852009e/frame-000033.color.jpg\n",
      "Saved frame_position_numpy to embedding_file:  <_io.TextIOWrapper name='/home/igor/Desktop/Victoria/tisl/tisl_localization_22s_copy-main/rscan_test/02b33dfd-be2b-2d54-91d2-55454852009e.txt' mode='a' encoding='UTF-8'>\n",
      "===> Loading data\n",
      "Input image shape: torch.Size([1, 3, 540, 960])\n",
      "===> Building model\n"
     ]
    },
    {
     "name": "stderr",
     "output_type": "stream",
     "text": [
      "/home/igor/anaconda3/lib/python3.9/site-packages/torchvision/models/_utils.py:208: UserWarning: The parameter 'pretrained' is deprecated since 0.13 and will be removed in 0.15, please use 'weights' instead.\n",
      "  warnings.warn(\n",
      "/home/igor/anaconda3/lib/python3.9/site-packages/torchvision/models/_utils.py:223: UserWarning: Arguments other than a weight enum or `None` for 'weights' are deprecated since 0.13 and will be removed in 0.15. The current behavior is equivalent to passing `weights=VGG16_Weights.IMAGENET1K_V1`. You can also use `weights=VGG16_Weights.DEFAULT` to get the most up-to-date weights.\n",
      "  warnings.warn(msg)\n"
     ]
    },
    {
     "name": "stdout",
     "output_type": "stream",
     "text": [
      "NetVLAD setting:\n",
      "num_clusters: 64 dim: 512 vladv2: False\n",
      "=> loading checkpoint 'vgg16_netvlad_checkpoint/checkpoints/checkpoint.pth.tar'\n",
      "=> loaded checkpoint 'vgg16_netvlad_checkpoint/checkpoints/checkpoint.pth.tar' (epoch 25)\n",
      "===> Running evaluation step\n",
      "VLAD encoding: tensor([[ 0.0046, -0.0035,  0.0076,  ...,  0.0084,  0.0038, -0.0053]])\n",
      "VLAD encoding shape: torch.Size([1, 32768])\n",
      "Saved frame_vlad_embedding_pca to embedding_file:  <_io.TextIOWrapper name='/home/igor/Desktop/Victoria/tisl/tisl_localization_22s_copy-main/rscan_test/02b33dfd-be2b-2d54-91d2-55454852009e.txt' mode='a' encoding='UTF-8'>\n",
      "path_to_random_frame:  /home/igor/Desktop/Victoria/tisl/tisl_localization_22s_copy-main/rscan_test/02b33dfd-be2b-2d54-91d2-55454852009e/frame-000034.color.jpg\n",
      "Saved frame_position_numpy to embedding_file:  <_io.TextIOWrapper name='/home/igor/Desktop/Victoria/tisl/tisl_localization_22s_copy-main/rscan_test/02b33dfd-be2b-2d54-91d2-55454852009e.txt' mode='a' encoding='UTF-8'>\n",
      "===> Loading data\n",
      "Input image shape: torch.Size([1, 3, 540, 960])\n",
      "===> Building model\n"
     ]
    },
    {
     "name": "stderr",
     "output_type": "stream",
     "text": [
      "/home/igor/anaconda3/lib/python3.9/site-packages/torchvision/models/_utils.py:208: UserWarning: The parameter 'pretrained' is deprecated since 0.13 and will be removed in 0.15, please use 'weights' instead.\n",
      "  warnings.warn(\n",
      "/home/igor/anaconda3/lib/python3.9/site-packages/torchvision/models/_utils.py:223: UserWarning: Arguments other than a weight enum or `None` for 'weights' are deprecated since 0.13 and will be removed in 0.15. The current behavior is equivalent to passing `weights=VGG16_Weights.IMAGENET1K_V1`. You can also use `weights=VGG16_Weights.DEFAULT` to get the most up-to-date weights.\n",
      "  warnings.warn(msg)\n"
     ]
    },
    {
     "name": "stdout",
     "output_type": "stream",
     "text": [
      "NetVLAD setting:\n",
      "num_clusters: 64 dim: 512 vladv2: False\n",
      "=> loading checkpoint 'vgg16_netvlad_checkpoint/checkpoints/checkpoint.pth.tar'\n",
      "=> loaded checkpoint 'vgg16_netvlad_checkpoint/checkpoints/checkpoint.pth.tar' (epoch 25)\n",
      "===> Running evaluation step\n",
      "VLAD encoding: tensor([[-6.2285e-05, -6.6483e-03,  2.2745e-03,  ...,  2.0421e-03,\n",
      "          8.6984e-03, -6.1775e-03]])\n",
      "VLAD encoding shape: torch.Size([1, 32768])\n",
      "Saved frame_vlad_embedding_pca to embedding_file:  <_io.TextIOWrapper name='/home/igor/Desktop/Victoria/tisl/tisl_localization_22s_copy-main/rscan_test/02b33dfd-be2b-2d54-91d2-55454852009e.txt' mode='a' encoding='UTF-8'>\n",
      "path_to_random_frame:  /home/igor/Desktop/Victoria/tisl/tisl_localization_22s_copy-main/rscan_test/02b33dfd-be2b-2d54-91d2-55454852009e/frame-000037.color.jpg\n",
      "Saved frame_position_numpy to embedding_file:  <_io.TextIOWrapper name='/home/igor/Desktop/Victoria/tisl/tisl_localization_22s_copy-main/rscan_test/02b33dfd-be2b-2d54-91d2-55454852009e.txt' mode='a' encoding='UTF-8'>\n",
      "===> Loading data\n",
      "Input image shape: torch.Size([1, 3, 540, 960])\n",
      "===> Building model\n"
     ]
    },
    {
     "name": "stderr",
     "output_type": "stream",
     "text": [
      "/home/igor/anaconda3/lib/python3.9/site-packages/torchvision/models/_utils.py:208: UserWarning: The parameter 'pretrained' is deprecated since 0.13 and will be removed in 0.15, please use 'weights' instead.\n",
      "  warnings.warn(\n",
      "/home/igor/anaconda3/lib/python3.9/site-packages/torchvision/models/_utils.py:223: UserWarning: Arguments other than a weight enum or `None` for 'weights' are deprecated since 0.13 and will be removed in 0.15. The current behavior is equivalent to passing `weights=VGG16_Weights.IMAGENET1K_V1`. You can also use `weights=VGG16_Weights.DEFAULT` to get the most up-to-date weights.\n",
      "  warnings.warn(msg)\n"
     ]
    },
    {
     "name": "stdout",
     "output_type": "stream",
     "text": [
      "NetVLAD setting:\n",
      "num_clusters: 64 dim: 512 vladv2: False\n",
      "=> loading checkpoint 'vgg16_netvlad_checkpoint/checkpoints/checkpoint.pth.tar'\n",
      "=> loaded checkpoint 'vgg16_netvlad_checkpoint/checkpoints/checkpoint.pth.tar' (epoch 25)\n",
      "===> Running evaluation step\n",
      "VLAD encoding: tensor([[ 0.0015, -0.0078,  0.0050,  ...,  0.0125,  0.0038, -0.0037]])\n",
      "VLAD encoding shape: torch.Size([1, 32768])\n",
      "Saved frame_vlad_embedding_pca to embedding_file:  <_io.TextIOWrapper name='/home/igor/Desktop/Victoria/tisl/tisl_localization_22s_copy-main/rscan_test/02b33dfd-be2b-2d54-91d2-55454852009e.txt' mode='a' encoding='UTF-8'>\n",
      "path_to_random_frame:  /home/igor/Desktop/Victoria/tisl/tisl_localization_22s_copy-main/rscan_test/02b33dfd-be2b-2d54-91d2-55454852009e/frame-000038.color.jpg\n",
      "Saved frame_position_numpy to embedding_file:  <_io.TextIOWrapper name='/home/igor/Desktop/Victoria/tisl/tisl_localization_22s_copy-main/rscan_test/02b33dfd-be2b-2d54-91d2-55454852009e.txt' mode='a' encoding='UTF-8'>\n",
      "===> Loading data\n",
      "Input image shape: torch.Size([1, 3, 540, 960])\n",
      "===> Building model\n"
     ]
    },
    {
     "name": "stderr",
     "output_type": "stream",
     "text": [
      "/home/igor/anaconda3/lib/python3.9/site-packages/torchvision/models/_utils.py:208: UserWarning: The parameter 'pretrained' is deprecated since 0.13 and will be removed in 0.15, please use 'weights' instead.\n",
      "  warnings.warn(\n",
      "/home/igor/anaconda3/lib/python3.9/site-packages/torchvision/models/_utils.py:223: UserWarning: Arguments other than a weight enum or `None` for 'weights' are deprecated since 0.13 and will be removed in 0.15. The current behavior is equivalent to passing `weights=VGG16_Weights.IMAGENET1K_V1`. You can also use `weights=VGG16_Weights.DEFAULT` to get the most up-to-date weights.\n",
      "  warnings.warn(msg)\n"
     ]
    },
    {
     "name": "stdout",
     "output_type": "stream",
     "text": [
      "NetVLAD setting:\n",
      "num_clusters: 64 dim: 512 vladv2: False\n",
      "=> loading checkpoint 'vgg16_netvlad_checkpoint/checkpoints/checkpoint.pth.tar'\n",
      "=> loaded checkpoint 'vgg16_netvlad_checkpoint/checkpoints/checkpoint.pth.tar' (epoch 25)\n",
      "===> Running evaluation step\n",
      "VLAD encoding: tensor([[ 0.0047, -0.0119,  0.0071,  ...,  0.0109,  0.0016, -0.0073]])\n",
      "VLAD encoding shape: torch.Size([1, 32768])\n",
      "Saved frame_vlad_embedding_pca to embedding_file:  <_io.TextIOWrapper name='/home/igor/Desktop/Victoria/tisl/tisl_localization_22s_copy-main/rscan_test/02b33dfd-be2b-2d54-91d2-55454852009e.txt' mode='a' encoding='UTF-8'>\n",
      "path_to_random_frame:  /home/igor/Desktop/Victoria/tisl/tisl_localization_22s_copy-main/rscan_test/02b33dfd-be2b-2d54-91d2-55454852009e/frame-000039.color.jpg\n",
      "Saved frame_position_numpy to embedding_file:  <_io.TextIOWrapper name='/home/igor/Desktop/Victoria/tisl/tisl_localization_22s_copy-main/rscan_test/02b33dfd-be2b-2d54-91d2-55454852009e.txt' mode='a' encoding='UTF-8'>\n",
      "===> Loading data\n",
      "Input image shape: torch.Size([1, 3, 540, 960])\n",
      "===> Building model\n"
     ]
    },
    {
     "name": "stderr",
     "output_type": "stream",
     "text": [
      "/home/igor/anaconda3/lib/python3.9/site-packages/torchvision/models/_utils.py:208: UserWarning: The parameter 'pretrained' is deprecated since 0.13 and will be removed in 0.15, please use 'weights' instead.\n",
      "  warnings.warn(\n",
      "/home/igor/anaconda3/lib/python3.9/site-packages/torchvision/models/_utils.py:223: UserWarning: Arguments other than a weight enum or `None` for 'weights' are deprecated since 0.13 and will be removed in 0.15. The current behavior is equivalent to passing `weights=VGG16_Weights.IMAGENET1K_V1`. You can also use `weights=VGG16_Weights.DEFAULT` to get the most up-to-date weights.\n",
      "  warnings.warn(msg)\n"
     ]
    },
    {
     "name": "stdout",
     "output_type": "stream",
     "text": [
      "NetVLAD setting:\n",
      "num_clusters: 64 dim: 512 vladv2: False\n",
      "=> loading checkpoint 'vgg16_netvlad_checkpoint/checkpoints/checkpoint.pth.tar'\n",
      "=> loaded checkpoint 'vgg16_netvlad_checkpoint/checkpoints/checkpoint.pth.tar' (epoch 25)\n",
      "===> Running evaluation step\n",
      "VLAD encoding: tensor([[ 0.0012, -0.0094, -0.0005,  ...,  0.0050, -0.0008, -0.0053]])\n",
      "VLAD encoding shape: torch.Size([1, 32768])\n",
      "Saved frame_vlad_embedding_pca to embedding_file:  <_io.TextIOWrapper name='/home/igor/Desktop/Victoria/tisl/tisl_localization_22s_copy-main/rscan_test/02b33dfd-be2b-2d54-91d2-55454852009e.txt' mode='a' encoding='UTF-8'>\n",
      "path_to_random_frame:  /home/igor/Desktop/Victoria/tisl/tisl_localization_22s_copy-main/rscan_test/02b33dfd-be2b-2d54-91d2-55454852009e/frame-000040.color.jpg\n",
      "Saved frame_position_numpy to embedding_file:  <_io.TextIOWrapper name='/home/igor/Desktop/Victoria/tisl/tisl_localization_22s_copy-main/rscan_test/02b33dfd-be2b-2d54-91d2-55454852009e.txt' mode='a' encoding='UTF-8'>\n",
      "===> Loading data\n",
      "Input image shape: torch.Size([1, 3, 540, 960])\n",
      "===> Building model\n"
     ]
    },
    {
     "name": "stderr",
     "output_type": "stream",
     "text": [
      "/home/igor/anaconda3/lib/python3.9/site-packages/torchvision/models/_utils.py:208: UserWarning: The parameter 'pretrained' is deprecated since 0.13 and will be removed in 0.15, please use 'weights' instead.\n",
      "  warnings.warn(\n",
      "/home/igor/anaconda3/lib/python3.9/site-packages/torchvision/models/_utils.py:223: UserWarning: Arguments other than a weight enum or `None` for 'weights' are deprecated since 0.13 and will be removed in 0.15. The current behavior is equivalent to passing `weights=VGG16_Weights.IMAGENET1K_V1`. You can also use `weights=VGG16_Weights.DEFAULT` to get the most up-to-date weights.\n",
      "  warnings.warn(msg)\n"
     ]
    },
    {
     "name": "stdout",
     "output_type": "stream",
     "text": [
      "NetVLAD setting:\n",
      "num_clusters: 64 dim: 512 vladv2: False\n",
      "=> loading checkpoint 'vgg16_netvlad_checkpoint/checkpoints/checkpoint.pth.tar'\n",
      "=> loaded checkpoint 'vgg16_netvlad_checkpoint/checkpoints/checkpoint.pth.tar' (epoch 25)\n",
      "===> Running evaluation step\n",
      "VLAD encoding: tensor([[ 0.0034, -0.0117, -0.0016,  ...,  0.0093,  0.0062,  0.0035]])\n",
      "VLAD encoding shape: torch.Size([1, 32768])\n",
      "Saved frame_vlad_embedding_pca to embedding_file:  <_io.TextIOWrapper name='/home/igor/Desktop/Victoria/tisl/tisl_localization_22s_copy-main/rscan_test/02b33dfd-be2b-2d54-91d2-55454852009e.txt' mode='a' encoding='UTF-8'>\n",
      "path_to_random_frame:  /home/igor/Desktop/Victoria/tisl/tisl_localization_22s_copy-main/rscan_test/02b33dfd-be2b-2d54-91d2-55454852009e/frame-000042.color.jpg\n",
      "Saved frame_position_numpy to embedding_file:  <_io.TextIOWrapper name='/home/igor/Desktop/Victoria/tisl/tisl_localization_22s_copy-main/rscan_test/02b33dfd-be2b-2d54-91d2-55454852009e.txt' mode='a' encoding='UTF-8'>\n",
      "===> Loading data\n",
      "Input image shape: torch.Size([1, 3, 540, 960])\n",
      "===> Building model\n"
     ]
    },
    {
     "name": "stderr",
     "output_type": "stream",
     "text": [
      "/home/igor/anaconda3/lib/python3.9/site-packages/torchvision/models/_utils.py:208: UserWarning: The parameter 'pretrained' is deprecated since 0.13 and will be removed in 0.15, please use 'weights' instead.\n",
      "  warnings.warn(\n",
      "/home/igor/anaconda3/lib/python3.9/site-packages/torchvision/models/_utils.py:223: UserWarning: Arguments other than a weight enum or `None` for 'weights' are deprecated since 0.13 and will be removed in 0.15. The current behavior is equivalent to passing `weights=VGG16_Weights.IMAGENET1K_V1`. You can also use `weights=VGG16_Weights.DEFAULT` to get the most up-to-date weights.\n",
      "  warnings.warn(msg)\n"
     ]
    },
    {
     "name": "stdout",
     "output_type": "stream",
     "text": [
      "NetVLAD setting:\n",
      "num_clusters: 64 dim: 512 vladv2: False\n",
      "=> loading checkpoint 'vgg16_netvlad_checkpoint/checkpoints/checkpoint.pth.tar'\n",
      "=> loaded checkpoint 'vgg16_netvlad_checkpoint/checkpoints/checkpoint.pth.tar' (epoch 25)\n",
      "===> Running evaluation step\n",
      "VLAD encoding: tensor([[-0.0048, -0.0073,  0.0056,  ...,  0.0030, -0.0020, -0.0060]])\n",
      "VLAD encoding shape: torch.Size([1, 32768])\n",
      "Saved frame_vlad_embedding_pca to embedding_file:  <_io.TextIOWrapper name='/home/igor/Desktop/Victoria/tisl/tisl_localization_22s_copy-main/rscan_test/02b33dfd-be2b-2d54-91d2-55454852009e.txt' mode='a' encoding='UTF-8'>\n",
      "path_to_random_frame:  /home/igor/Desktop/Victoria/tisl/tisl_localization_22s_copy-main/rscan_test/02b33dfd-be2b-2d54-91d2-55454852009e/frame-000043.color.jpg\n",
      "Saved frame_position_numpy to embedding_file:  <_io.TextIOWrapper name='/home/igor/Desktop/Victoria/tisl/tisl_localization_22s_copy-main/rscan_test/02b33dfd-be2b-2d54-91d2-55454852009e.txt' mode='a' encoding='UTF-8'>\n",
      "===> Loading data\n",
      "Input image shape: torch.Size([1, 3, 540, 960])\n",
      "===> Building model\n"
     ]
    },
    {
     "name": "stderr",
     "output_type": "stream",
     "text": [
      "/home/igor/anaconda3/lib/python3.9/site-packages/torchvision/models/_utils.py:208: UserWarning: The parameter 'pretrained' is deprecated since 0.13 and will be removed in 0.15, please use 'weights' instead.\n",
      "  warnings.warn(\n",
      "/home/igor/anaconda3/lib/python3.9/site-packages/torchvision/models/_utils.py:223: UserWarning: Arguments other than a weight enum or `None` for 'weights' are deprecated since 0.13 and will be removed in 0.15. The current behavior is equivalent to passing `weights=VGG16_Weights.IMAGENET1K_V1`. You can also use `weights=VGG16_Weights.DEFAULT` to get the most up-to-date weights.\n",
      "  warnings.warn(msg)\n"
     ]
    },
    {
     "name": "stdout",
     "output_type": "stream",
     "text": [
      "NetVLAD setting:\n",
      "num_clusters: 64 dim: 512 vladv2: False\n",
      "=> loading checkpoint 'vgg16_netvlad_checkpoint/checkpoints/checkpoint.pth.tar'\n",
      "=> loaded checkpoint 'vgg16_netvlad_checkpoint/checkpoints/checkpoint.pth.tar' (epoch 25)\n",
      "===> Running evaluation step\n",
      "VLAD encoding: tensor([[-0.0025, -0.0016,  0.0017,  ...,  0.0066, -0.0028, -0.0031]])\n",
      "VLAD encoding shape: torch.Size([1, 32768])\n",
      "Saved frame_vlad_embedding_pca to embedding_file:  <_io.TextIOWrapper name='/home/igor/Desktop/Victoria/tisl/tisl_localization_22s_copy-main/rscan_test/02b33dfd-be2b-2d54-91d2-55454852009e.txt' mode='a' encoding='UTF-8'>\n",
      "path_to_random_frame:  /home/igor/Desktop/Victoria/tisl/tisl_localization_22s_copy-main/rscan_test/02b33dfd-be2b-2d54-91d2-55454852009e/frame-000048.color.jpg\n",
      "Saved frame_position_numpy to embedding_file:  <_io.TextIOWrapper name='/home/igor/Desktop/Victoria/tisl/tisl_localization_22s_copy-main/rscan_test/02b33dfd-be2b-2d54-91d2-55454852009e.txt' mode='a' encoding='UTF-8'>\n",
      "===> Loading data\n",
      "Input image shape: torch.Size([1, 3, 540, 960])\n",
      "===> Building model\n"
     ]
    },
    {
     "name": "stderr",
     "output_type": "stream",
     "text": [
      "/home/igor/anaconda3/lib/python3.9/site-packages/torchvision/models/_utils.py:208: UserWarning: The parameter 'pretrained' is deprecated since 0.13 and will be removed in 0.15, please use 'weights' instead.\n",
      "  warnings.warn(\n",
      "/home/igor/anaconda3/lib/python3.9/site-packages/torchvision/models/_utils.py:223: UserWarning: Arguments other than a weight enum or `None` for 'weights' are deprecated since 0.13 and will be removed in 0.15. The current behavior is equivalent to passing `weights=VGG16_Weights.IMAGENET1K_V1`. You can also use `weights=VGG16_Weights.DEFAULT` to get the most up-to-date weights.\n",
      "  warnings.warn(msg)\n"
     ]
    },
    {
     "name": "stdout",
     "output_type": "stream",
     "text": [
      "NetVLAD setting:\n",
      "num_clusters: 64 dim: 512 vladv2: False\n",
      "=> loading checkpoint 'vgg16_netvlad_checkpoint/checkpoints/checkpoint.pth.tar'\n",
      "=> loaded checkpoint 'vgg16_netvlad_checkpoint/checkpoints/checkpoint.pth.tar' (epoch 25)\n",
      "===> Running evaluation step\n",
      "VLAD encoding: tensor([[ 0.0015, -0.0012, -0.0029,  ...,  0.0176,  0.0051,  0.0010]])\n",
      "VLAD encoding shape: torch.Size([1, 32768])\n",
      "Saved frame_vlad_embedding_pca to embedding_file:  <_io.TextIOWrapper name='/home/igor/Desktop/Victoria/tisl/tisl_localization_22s_copy-main/rscan_test/02b33dfd-be2b-2d54-91d2-55454852009e.txt' mode='a' encoding='UTF-8'>\n",
      "path_to_random_frame:  /home/igor/Desktop/Victoria/tisl/tisl_localization_22s_copy-main/rscan_test/02b33dfd-be2b-2d54-91d2-55454852009e/frame-000052.color.jpg\n",
      "Saved frame_position_numpy to embedding_file:  <_io.TextIOWrapper name='/home/igor/Desktop/Victoria/tisl/tisl_localization_22s_copy-main/rscan_test/02b33dfd-be2b-2d54-91d2-55454852009e.txt' mode='a' encoding='UTF-8'>\n",
      "===> Loading data\n",
      "Input image shape: torch.Size([1, 3, 540, 960])\n",
      "===> Building model\n"
     ]
    },
    {
     "name": "stderr",
     "output_type": "stream",
     "text": [
      "/home/igor/anaconda3/lib/python3.9/site-packages/torchvision/models/_utils.py:208: UserWarning: The parameter 'pretrained' is deprecated since 0.13 and will be removed in 0.15, please use 'weights' instead.\n",
      "  warnings.warn(\n",
      "/home/igor/anaconda3/lib/python3.9/site-packages/torchvision/models/_utils.py:223: UserWarning: Arguments other than a weight enum or `None` for 'weights' are deprecated since 0.13 and will be removed in 0.15. The current behavior is equivalent to passing `weights=VGG16_Weights.IMAGENET1K_V1`. You can also use `weights=VGG16_Weights.DEFAULT` to get the most up-to-date weights.\n",
      "  warnings.warn(msg)\n"
     ]
    },
    {
     "name": "stdout",
     "output_type": "stream",
     "text": [
      "NetVLAD setting:\n",
      "num_clusters: 64 dim: 512 vladv2: False\n",
      "=> loading checkpoint 'vgg16_netvlad_checkpoint/checkpoints/checkpoint.pth.tar'\n",
      "=> loaded checkpoint 'vgg16_netvlad_checkpoint/checkpoints/checkpoint.pth.tar' (epoch 25)\n",
      "===> Running evaluation step\n",
      "VLAD encoding: tensor([[ 0.0035, -0.0071,  0.0073,  ...,  0.0158,  0.0048, -0.0061]])\n",
      "VLAD encoding shape: torch.Size([1, 32768])\n",
      "Saved frame_vlad_embedding_pca to embedding_file:  <_io.TextIOWrapper name='/home/igor/Desktop/Victoria/tisl/tisl_localization_22s_copy-main/rscan_test/02b33dfd-be2b-2d54-91d2-55454852009e.txt' mode='a' encoding='UTF-8'>\n",
      "path_to_random_frame:  /home/igor/Desktop/Victoria/tisl/tisl_localization_22s_copy-main/rscan_test/02b33dfd-be2b-2d54-91d2-55454852009e/frame-000055.color.jpg\n",
      "Saved frame_position_numpy to embedding_file:  <_io.TextIOWrapper name='/home/igor/Desktop/Victoria/tisl/tisl_localization_22s_copy-main/rscan_test/02b33dfd-be2b-2d54-91d2-55454852009e.txt' mode='a' encoding='UTF-8'>\n",
      "===> Loading data\n",
      "Input image shape: torch.Size([1, 3, 540, 960])\n",
      "===> Building model\n"
     ]
    },
    {
     "name": "stderr",
     "output_type": "stream",
     "text": [
      "/home/igor/anaconda3/lib/python3.9/site-packages/torchvision/models/_utils.py:208: UserWarning: The parameter 'pretrained' is deprecated since 0.13 and will be removed in 0.15, please use 'weights' instead.\n",
      "  warnings.warn(\n",
      "/home/igor/anaconda3/lib/python3.9/site-packages/torchvision/models/_utils.py:223: UserWarning: Arguments other than a weight enum or `None` for 'weights' are deprecated since 0.13 and will be removed in 0.15. The current behavior is equivalent to passing `weights=VGG16_Weights.IMAGENET1K_V1`. You can also use `weights=VGG16_Weights.DEFAULT` to get the most up-to-date weights.\n",
      "  warnings.warn(msg)\n"
     ]
    },
    {
     "name": "stdout",
     "output_type": "stream",
     "text": [
      "NetVLAD setting:\n",
      "num_clusters: 64 dim: 512 vladv2: False\n",
      "=> loading checkpoint 'vgg16_netvlad_checkpoint/checkpoints/checkpoint.pth.tar'\n",
      "=> loaded checkpoint 'vgg16_netvlad_checkpoint/checkpoints/checkpoint.pth.tar' (epoch 25)\n",
      "===> Running evaluation step\n",
      "VLAD encoding: tensor([[-0.0007, -0.0062, -0.0009,  ...,  0.0169, -0.0029, -0.0068]])\n",
      "VLAD encoding shape: torch.Size([1, 32768])\n",
      "Saved frame_vlad_embedding_pca to embedding_file:  <_io.TextIOWrapper name='/home/igor/Desktop/Victoria/tisl/tisl_localization_22s_copy-main/rscan_test/02b33dfd-be2b-2d54-91d2-55454852009e.txt' mode='a' encoding='UTF-8'>\n",
      "path_to_random_frame:  /home/igor/Desktop/Victoria/tisl/tisl_localization_22s_copy-main/rscan_test/02b33dfd-be2b-2d54-91d2-55454852009e/frame-000057.color.jpg\n",
      "Saved frame_position_numpy to embedding_file:  <_io.TextIOWrapper name='/home/igor/Desktop/Victoria/tisl/tisl_localization_22s_copy-main/rscan_test/02b33dfd-be2b-2d54-91d2-55454852009e.txt' mode='a' encoding='UTF-8'>\n",
      "===> Loading data\n",
      "Input image shape: torch.Size([1, 3, 540, 960])\n",
      "===> Building model\n"
     ]
    },
    {
     "name": "stderr",
     "output_type": "stream",
     "text": [
      "/home/igor/anaconda3/lib/python3.9/site-packages/torchvision/models/_utils.py:208: UserWarning: The parameter 'pretrained' is deprecated since 0.13 and will be removed in 0.15, please use 'weights' instead.\n",
      "  warnings.warn(\n",
      "/home/igor/anaconda3/lib/python3.9/site-packages/torchvision/models/_utils.py:223: UserWarning: Arguments other than a weight enum or `None` for 'weights' are deprecated since 0.13 and will be removed in 0.15. The current behavior is equivalent to passing `weights=VGG16_Weights.IMAGENET1K_V1`. You can also use `weights=VGG16_Weights.DEFAULT` to get the most up-to-date weights.\n",
      "  warnings.warn(msg)\n"
     ]
    },
    {
     "name": "stdout",
     "output_type": "stream",
     "text": [
      "NetVLAD setting:\n",
      "num_clusters: 64 dim: 512 vladv2: False\n",
      "=> loading checkpoint 'vgg16_netvlad_checkpoint/checkpoints/checkpoint.pth.tar'\n",
      "=> loaded checkpoint 'vgg16_netvlad_checkpoint/checkpoints/checkpoint.pth.tar' (epoch 25)\n",
      "===> Running evaluation step\n",
      "VLAD encoding: tensor([[-0.0025,  0.0042,  0.0030,  ...,  0.0210,  0.0084,  0.0017]])\n",
      "VLAD encoding shape: torch.Size([1, 32768])\n",
      "Saved frame_vlad_embedding_pca to embedding_file:  <_io.TextIOWrapper name='/home/igor/Desktop/Victoria/tisl/tisl_localization_22s_copy-main/rscan_test/02b33dfd-be2b-2d54-91d2-55454852009e.txt' mode='a' encoding='UTF-8'>\n",
      "path_to_random_frame:  /home/igor/Desktop/Victoria/tisl/tisl_localization_22s_copy-main/rscan_test/02b33dfd-be2b-2d54-91d2-55454852009e/frame-000060.color.jpg\n",
      "Saved frame_position_numpy to embedding_file:  <_io.TextIOWrapper name='/home/igor/Desktop/Victoria/tisl/tisl_localization_22s_copy-main/rscan_test/02b33dfd-be2b-2d54-91d2-55454852009e.txt' mode='a' encoding='UTF-8'>\n",
      "===> Loading data\n",
      "Input image shape: torch.Size([1, 3, 540, 960])\n",
      "===> Building model\n"
     ]
    },
    {
     "name": "stderr",
     "output_type": "stream",
     "text": [
      "/home/igor/anaconda3/lib/python3.9/site-packages/torchvision/models/_utils.py:208: UserWarning: The parameter 'pretrained' is deprecated since 0.13 and will be removed in 0.15, please use 'weights' instead.\n",
      "  warnings.warn(\n",
      "/home/igor/anaconda3/lib/python3.9/site-packages/torchvision/models/_utils.py:223: UserWarning: Arguments other than a weight enum or `None` for 'weights' are deprecated since 0.13 and will be removed in 0.15. The current behavior is equivalent to passing `weights=VGG16_Weights.IMAGENET1K_V1`. You can also use `weights=VGG16_Weights.DEFAULT` to get the most up-to-date weights.\n",
      "  warnings.warn(msg)\n"
     ]
    },
    {
     "name": "stdout",
     "output_type": "stream",
     "text": [
      "NetVLAD setting:\n",
      "num_clusters: 64 dim: 512 vladv2: False\n",
      "=> loading checkpoint 'vgg16_netvlad_checkpoint/checkpoints/checkpoint.pth.tar'\n",
      "=> loaded checkpoint 'vgg16_netvlad_checkpoint/checkpoints/checkpoint.pth.tar' (epoch 25)\n",
      "===> Running evaluation step\n",
      "VLAD encoding: tensor([[ 0.0022, -0.0042,  0.0003,  ...,  0.0095,  0.0023, -0.0031]])\n",
      "VLAD encoding shape: torch.Size([1, 32768])\n",
      "Saved frame_vlad_embedding_pca to embedding_file:  <_io.TextIOWrapper name='/home/igor/Desktop/Victoria/tisl/tisl_localization_22s_copy-main/rscan_test/02b33dfd-be2b-2d54-91d2-55454852009e.txt' mode='a' encoding='UTF-8'>\n",
      "path_to_random_frame:  /home/igor/Desktop/Victoria/tisl/tisl_localization_22s_copy-main/rscan_test/02b33dfd-be2b-2d54-91d2-55454852009e/frame-000061.color.jpg\n",
      "Saved frame_position_numpy to embedding_file:  <_io.TextIOWrapper name='/home/igor/Desktop/Victoria/tisl/tisl_localization_22s_copy-main/rscan_test/02b33dfd-be2b-2d54-91d2-55454852009e.txt' mode='a' encoding='UTF-8'>\n",
      "===> Loading data\n",
      "Input image shape: torch.Size([1, 3, 540, 960])\n",
      "===> Building model\n"
     ]
    },
    {
     "name": "stderr",
     "output_type": "stream",
     "text": [
      "/home/igor/anaconda3/lib/python3.9/site-packages/torchvision/models/_utils.py:208: UserWarning: The parameter 'pretrained' is deprecated since 0.13 and will be removed in 0.15, please use 'weights' instead.\n",
      "  warnings.warn(\n",
      "/home/igor/anaconda3/lib/python3.9/site-packages/torchvision/models/_utils.py:223: UserWarning: Arguments other than a weight enum or `None` for 'weights' are deprecated since 0.13 and will be removed in 0.15. The current behavior is equivalent to passing `weights=VGG16_Weights.IMAGENET1K_V1`. You can also use `weights=VGG16_Weights.DEFAULT` to get the most up-to-date weights.\n",
      "  warnings.warn(msg)\n"
     ]
    },
    {
     "name": "stdout",
     "output_type": "stream",
     "text": [
      "NetVLAD setting:\n",
      "num_clusters: 64 dim: 512 vladv2: False\n",
      "=> loading checkpoint 'vgg16_netvlad_checkpoint/checkpoints/checkpoint.pth.tar'\n",
      "=> loaded checkpoint 'vgg16_netvlad_checkpoint/checkpoints/checkpoint.pth.tar' (epoch 25)\n",
      "===> Running evaluation step\n",
      "VLAD encoding: tensor([[-0.0003, -0.0050,  0.0082,  ...,  0.0076, -0.0026, -0.0045]])\n",
      "VLAD encoding shape: torch.Size([1, 32768])\n",
      "Saved frame_vlad_embedding_pca to embedding_file:  <_io.TextIOWrapper name='/home/igor/Desktop/Victoria/tisl/tisl_localization_22s_copy-main/rscan_test/02b33dfd-be2b-2d54-91d2-55454852009e.txt' mode='a' encoding='UTF-8'>\n",
      "path_to_random_frame:  /home/igor/Desktop/Victoria/tisl/tisl_localization_22s_copy-main/rscan_test/02b33dfd-be2b-2d54-91d2-55454852009e/frame-000068.color.jpg\n",
      "Saved frame_position_numpy to embedding_file:  <_io.TextIOWrapper name='/home/igor/Desktop/Victoria/tisl/tisl_localization_22s_copy-main/rscan_test/02b33dfd-be2b-2d54-91d2-55454852009e.txt' mode='a' encoding='UTF-8'>\n",
      "===> Loading data\n",
      "Input image shape: torch.Size([1, 3, 540, 960])\n",
      "===> Building model\n"
     ]
    },
    {
     "name": "stderr",
     "output_type": "stream",
     "text": [
      "/home/igor/anaconda3/lib/python3.9/site-packages/torchvision/models/_utils.py:208: UserWarning: The parameter 'pretrained' is deprecated since 0.13 and will be removed in 0.15, please use 'weights' instead.\n",
      "  warnings.warn(\n",
      "/home/igor/anaconda3/lib/python3.9/site-packages/torchvision/models/_utils.py:223: UserWarning: Arguments other than a weight enum or `None` for 'weights' are deprecated since 0.13 and will be removed in 0.15. The current behavior is equivalent to passing `weights=VGG16_Weights.IMAGENET1K_V1`. You can also use `weights=VGG16_Weights.DEFAULT` to get the most up-to-date weights.\n",
      "  warnings.warn(msg)\n"
     ]
    },
    {
     "name": "stdout",
     "output_type": "stream",
     "text": [
      "NetVLAD setting:\n",
      "num_clusters: 64 dim: 512 vladv2: False\n",
      "=> loading checkpoint 'vgg16_netvlad_checkpoint/checkpoints/checkpoint.pth.tar'\n",
      "=> loaded checkpoint 'vgg16_netvlad_checkpoint/checkpoints/checkpoint.pth.tar' (epoch 25)\n",
      "===> Running evaluation step\n",
      "VLAD encoding: tensor([[-7.5585e-05, -2.4067e-03,  1.4998e-03,  ...,  1.3261e-02,\n",
      "          3.5425e-03, -1.2829e-03]])\n",
      "VLAD encoding shape: torch.Size([1, 32768])\n",
      "Saved frame_vlad_embedding_pca to embedding_file:  <_io.TextIOWrapper name='/home/igor/Desktop/Victoria/tisl/tisl_localization_22s_copy-main/rscan_test/02b33dfd-be2b-2d54-91d2-55454852009e.txt' mode='a' encoding='UTF-8'>\n",
      "path_to_random_frame:  /home/igor/Desktop/Victoria/tisl/tisl_localization_22s_copy-main/rscan_test/02b33dfd-be2b-2d54-91d2-55454852009e/frame-000069.color.jpg\n",
      "Saved frame_position_numpy to embedding_file:  <_io.TextIOWrapper name='/home/igor/Desktop/Victoria/tisl/tisl_localization_22s_copy-main/rscan_test/02b33dfd-be2b-2d54-91d2-55454852009e.txt' mode='a' encoding='UTF-8'>\n",
      "===> Loading data\n",
      "Input image shape: torch.Size([1, 3, 540, 960])\n",
      "===> Building model\n"
     ]
    },
    {
     "name": "stderr",
     "output_type": "stream",
     "text": [
      "/home/igor/anaconda3/lib/python3.9/site-packages/torchvision/models/_utils.py:208: UserWarning: The parameter 'pretrained' is deprecated since 0.13 and will be removed in 0.15, please use 'weights' instead.\n",
      "  warnings.warn(\n",
      "/home/igor/anaconda3/lib/python3.9/site-packages/torchvision/models/_utils.py:223: UserWarning: Arguments other than a weight enum or `None` for 'weights' are deprecated since 0.13 and will be removed in 0.15. The current behavior is equivalent to passing `weights=VGG16_Weights.IMAGENET1K_V1`. You can also use `weights=VGG16_Weights.DEFAULT` to get the most up-to-date weights.\n",
      "  warnings.warn(msg)\n"
     ]
    },
    {
     "name": "stdout",
     "output_type": "stream",
     "text": [
      "NetVLAD setting:\n",
      "num_clusters: 64 dim: 512 vladv2: False\n",
      "=> loading checkpoint 'vgg16_netvlad_checkpoint/checkpoints/checkpoint.pth.tar'\n",
      "=> loaded checkpoint 'vgg16_netvlad_checkpoint/checkpoints/checkpoint.pth.tar' (epoch 25)\n",
      "===> Running evaluation step\n",
      "VLAD encoding: tensor([[-0.0046,  0.0046, -0.0015,  ...,  0.0191,  0.0061, -0.0075]])\n",
      "VLAD encoding shape: torch.Size([1, 32768])\n",
      "Saved frame_vlad_embedding_pca to embedding_file:  <_io.TextIOWrapper name='/home/igor/Desktop/Victoria/tisl/tisl_localization_22s_copy-main/rscan_test/02b33dfd-be2b-2d54-91d2-55454852009e.txt' mode='a' encoding='UTF-8'>\n",
      "path_to_random_frame:  /home/igor/Desktop/Victoria/tisl/tisl_localization_22s_copy-main/rscan_test/02b33dfd-be2b-2d54-91d2-55454852009e/frame-000071.color.jpg\n",
      "Saved frame_position_numpy to embedding_file:  <_io.TextIOWrapper name='/home/igor/Desktop/Victoria/tisl/tisl_localization_22s_copy-main/rscan_test/02b33dfd-be2b-2d54-91d2-55454852009e.txt' mode='a' encoding='UTF-8'>\n",
      "===> Loading data\n",
      "Input image shape: torch.Size([1, 3, 540, 960])\n",
      "===> Building model\n"
     ]
    },
    {
     "name": "stderr",
     "output_type": "stream",
     "text": [
      "/home/igor/anaconda3/lib/python3.9/site-packages/torchvision/models/_utils.py:208: UserWarning: The parameter 'pretrained' is deprecated since 0.13 and will be removed in 0.15, please use 'weights' instead.\n",
      "  warnings.warn(\n",
      "/home/igor/anaconda3/lib/python3.9/site-packages/torchvision/models/_utils.py:223: UserWarning: Arguments other than a weight enum or `None` for 'weights' are deprecated since 0.13 and will be removed in 0.15. The current behavior is equivalent to passing `weights=VGG16_Weights.IMAGENET1K_V1`. You can also use `weights=VGG16_Weights.DEFAULT` to get the most up-to-date weights.\n",
      "  warnings.warn(msg)\n"
     ]
    },
    {
     "name": "stdout",
     "output_type": "stream",
     "text": [
      "NetVLAD setting:\n",
      "num_clusters: 64 dim: 512 vladv2: False\n",
      "=> loading checkpoint 'vgg16_netvlad_checkpoint/checkpoints/checkpoint.pth.tar'\n",
      "=> loaded checkpoint 'vgg16_netvlad_checkpoint/checkpoints/checkpoint.pth.tar' (epoch 25)\n",
      "===> Running evaluation step\n",
      "VLAD encoding: tensor([[-0.0027, -0.0022,  0.0017,  ...,  0.0116,  0.0086, -0.0017]])\n",
      "VLAD encoding shape: torch.Size([1, 32768])\n",
      "Saved frame_vlad_embedding_pca to embedding_file:  <_io.TextIOWrapper name='/home/igor/Desktop/Victoria/tisl/tisl_localization_22s_copy-main/rscan_test/02b33dfd-be2b-2d54-91d2-55454852009e.txt' mode='a' encoding='UTF-8'>\n",
      "path_to_random_frame:  /home/igor/Desktop/Victoria/tisl/tisl_localization_22s_copy-main/rscan_test/02b33dfd-be2b-2d54-91d2-55454852009e/frame-000076.color.jpg\n",
      "Saved frame_position_numpy to embedding_file:  <_io.TextIOWrapper name='/home/igor/Desktop/Victoria/tisl/tisl_localization_22s_copy-main/rscan_test/02b33dfd-be2b-2d54-91d2-55454852009e.txt' mode='a' encoding='UTF-8'>\n",
      "===> Loading data\n",
      "Input image shape: torch.Size([1, 3, 540, 960])\n",
      "===> Building model\n"
     ]
    },
    {
     "name": "stderr",
     "output_type": "stream",
     "text": [
      "/home/igor/anaconda3/lib/python3.9/site-packages/torchvision/models/_utils.py:208: UserWarning: The parameter 'pretrained' is deprecated since 0.13 and will be removed in 0.15, please use 'weights' instead.\n",
      "  warnings.warn(\n",
      "/home/igor/anaconda3/lib/python3.9/site-packages/torchvision/models/_utils.py:223: UserWarning: Arguments other than a weight enum or `None` for 'weights' are deprecated since 0.13 and will be removed in 0.15. The current behavior is equivalent to passing `weights=VGG16_Weights.IMAGENET1K_V1`. You can also use `weights=VGG16_Weights.DEFAULT` to get the most up-to-date weights.\n",
      "  warnings.warn(msg)\n"
     ]
    },
    {
     "name": "stdout",
     "output_type": "stream",
     "text": [
      "NetVLAD setting:\n",
      "num_clusters: 64 dim: 512 vladv2: False\n",
      "=> loading checkpoint 'vgg16_netvlad_checkpoint/checkpoints/checkpoint.pth.tar'\n",
      "=> loaded checkpoint 'vgg16_netvlad_checkpoint/checkpoints/checkpoint.pth.tar' (epoch 25)\n",
      "===> Running evaluation step\n",
      "VLAD encoding: tensor([[ 0.0025,  0.0067, -0.0080,  ...,  0.0094,  0.0111, -0.0013]])\n",
      "VLAD encoding shape: torch.Size([1, 32768])\n",
      "Saved frame_vlad_embedding_pca to embedding_file:  <_io.TextIOWrapper name='/home/igor/Desktop/Victoria/tisl/tisl_localization_22s_copy-main/rscan_test/02b33dfd-be2b-2d54-91d2-55454852009e.txt' mode='a' encoding='UTF-8'>\n",
      "path_to_random_frame:  /home/igor/Desktop/Victoria/tisl/tisl_localization_22s_copy-main/rscan_test/02b33dfd-be2b-2d54-91d2-55454852009e/frame-000077.color.jpg\n",
      "Saved frame_position_numpy to embedding_file:  <_io.TextIOWrapper name='/home/igor/Desktop/Victoria/tisl/tisl_localization_22s_copy-main/rscan_test/02b33dfd-be2b-2d54-91d2-55454852009e.txt' mode='a' encoding='UTF-8'>\n",
      "===> Loading data\n",
      "Input image shape: torch.Size([1, 3, 540, 960])\n",
      "===> Building model\n"
     ]
    },
    {
     "name": "stderr",
     "output_type": "stream",
     "text": [
      "/home/igor/anaconda3/lib/python3.9/site-packages/torchvision/models/_utils.py:208: UserWarning: The parameter 'pretrained' is deprecated since 0.13 and will be removed in 0.15, please use 'weights' instead.\n",
      "  warnings.warn(\n",
      "/home/igor/anaconda3/lib/python3.9/site-packages/torchvision/models/_utils.py:223: UserWarning: Arguments other than a weight enum or `None` for 'weights' are deprecated since 0.13 and will be removed in 0.15. The current behavior is equivalent to passing `weights=VGG16_Weights.IMAGENET1K_V1`. You can also use `weights=VGG16_Weights.DEFAULT` to get the most up-to-date weights.\n",
      "  warnings.warn(msg)\n"
     ]
    },
    {
     "name": "stdout",
     "output_type": "stream",
     "text": [
      "NetVLAD setting:\n",
      "num_clusters: 64 dim: 512 vladv2: False\n",
      "=> loading checkpoint 'vgg16_netvlad_checkpoint/checkpoints/checkpoint.pth.tar'\n",
      "=> loaded checkpoint 'vgg16_netvlad_checkpoint/checkpoints/checkpoint.pth.tar' (epoch 25)\n",
      "===> Running evaluation step\n",
      "VLAD encoding: tensor([[-0.0002, -0.0020,  0.0052,  ..., -0.0011,  0.0069,  0.0027]])\n",
      "VLAD encoding shape: torch.Size([1, 32768])\n",
      "Saved frame_vlad_embedding_pca to embedding_file:  <_io.TextIOWrapper name='/home/igor/Desktop/Victoria/tisl/tisl_localization_22s_copy-main/rscan_test/02b33dfd-be2b-2d54-91d2-55454852009e.txt' mode='a' encoding='UTF-8'>\n",
      "path_to_random_frame:  /home/igor/Desktop/Victoria/tisl/tisl_localization_22s_copy-main/rscan_test/02b33dfd-be2b-2d54-91d2-55454852009e/frame-000079.color.jpg\n",
      "Saved frame_position_numpy to embedding_file:  <_io.TextIOWrapper name='/home/igor/Desktop/Victoria/tisl/tisl_localization_22s_copy-main/rscan_test/02b33dfd-be2b-2d54-91d2-55454852009e.txt' mode='a' encoding='UTF-8'>\n",
      "===> Loading data\n",
      "Input image shape: torch.Size([1, 3, 540, 960])\n",
      "===> Building model\n"
     ]
    },
    {
     "name": "stderr",
     "output_type": "stream",
     "text": [
      "/home/igor/anaconda3/lib/python3.9/site-packages/torchvision/models/_utils.py:208: UserWarning: The parameter 'pretrained' is deprecated since 0.13 and will be removed in 0.15, please use 'weights' instead.\n",
      "  warnings.warn(\n",
      "/home/igor/anaconda3/lib/python3.9/site-packages/torchvision/models/_utils.py:223: UserWarning: Arguments other than a weight enum or `None` for 'weights' are deprecated since 0.13 and will be removed in 0.15. The current behavior is equivalent to passing `weights=VGG16_Weights.IMAGENET1K_V1`. You can also use `weights=VGG16_Weights.DEFAULT` to get the most up-to-date weights.\n",
      "  warnings.warn(msg)\n"
     ]
    },
    {
     "name": "stdout",
     "output_type": "stream",
     "text": [
      "NetVLAD setting:\n",
      "num_clusters: 64 dim: 512 vladv2: False\n",
      "=> loading checkpoint 'vgg16_netvlad_checkpoint/checkpoints/checkpoint.pth.tar'\n",
      "=> loaded checkpoint 'vgg16_netvlad_checkpoint/checkpoints/checkpoint.pth.tar' (epoch 25)\n",
      "===> Running evaluation step\n",
      "VLAD encoding: tensor([[-5.1427e-04, -1.8896e-03,  7.3419e-03,  ...,  4.6232e-03,\n",
      "          4.8704e-03, -2.0901e-05]])\n",
      "VLAD encoding shape: torch.Size([1, 32768])\n",
      "Saved frame_vlad_embedding_pca to embedding_file:  <_io.TextIOWrapper name='/home/igor/Desktop/Victoria/tisl/tisl_localization_22s_copy-main/rscan_test/02b33dfd-be2b-2d54-91d2-55454852009e.txt' mode='a' encoding='UTF-8'>\n",
      "path_to_random_frame:  /home/igor/Desktop/Victoria/tisl/tisl_localization_22s_copy-main/rscan_test/02b33dfd-be2b-2d54-91d2-55454852009e/frame-000084.color.jpg\n",
      "Saved frame_position_numpy to embedding_file:  <_io.TextIOWrapper name='/home/igor/Desktop/Victoria/tisl/tisl_localization_22s_copy-main/rscan_test/02b33dfd-be2b-2d54-91d2-55454852009e.txt' mode='a' encoding='UTF-8'>\n",
      "===> Loading data\n",
      "Input image shape: torch.Size([1, 3, 540, 960])\n",
      "===> Building model\n"
     ]
    },
    {
     "name": "stderr",
     "output_type": "stream",
     "text": [
      "/home/igor/anaconda3/lib/python3.9/site-packages/torchvision/models/_utils.py:208: UserWarning: The parameter 'pretrained' is deprecated since 0.13 and will be removed in 0.15, please use 'weights' instead.\n",
      "  warnings.warn(\n",
      "/home/igor/anaconda3/lib/python3.9/site-packages/torchvision/models/_utils.py:223: UserWarning: Arguments other than a weight enum or `None` for 'weights' are deprecated since 0.13 and will be removed in 0.15. The current behavior is equivalent to passing `weights=VGG16_Weights.IMAGENET1K_V1`. You can also use `weights=VGG16_Weights.DEFAULT` to get the most up-to-date weights.\n",
      "  warnings.warn(msg)\n"
     ]
    },
    {
     "name": "stdout",
     "output_type": "stream",
     "text": [
      "NetVLAD setting:\n",
      "num_clusters: 64 dim: 512 vladv2: False\n",
      "=> loading checkpoint 'vgg16_netvlad_checkpoint/checkpoints/checkpoint.pth.tar'\n",
      "=> loaded checkpoint 'vgg16_netvlad_checkpoint/checkpoints/checkpoint.pth.tar' (epoch 25)\n",
      "===> Running evaluation step\n",
      "VLAD encoding: tensor([[ 0.0056, -0.0022,  0.0043,  ...,  0.0050,  0.0009, -0.0063]])\n",
      "VLAD encoding shape: torch.Size([1, 32768])\n",
      "Saved frame_vlad_embedding_pca to embedding_file:  <_io.TextIOWrapper name='/home/igor/Desktop/Victoria/tisl/tisl_localization_22s_copy-main/rscan_test/02b33dfd-be2b-2d54-91d2-55454852009e.txt' mode='a' encoding='UTF-8'>\n",
      "path_to_random_frame:  /home/igor/Desktop/Victoria/tisl/tisl_localization_22s_copy-main/rscan_test/02b33dfd-be2b-2d54-91d2-55454852009e/frame-000085.color.jpg\n",
      "Saved frame_position_numpy to embedding_file:  <_io.TextIOWrapper name='/home/igor/Desktop/Victoria/tisl/tisl_localization_22s_copy-main/rscan_test/02b33dfd-be2b-2d54-91d2-55454852009e.txt' mode='a' encoding='UTF-8'>\n",
      "===> Loading data\n",
      "Input image shape: torch.Size([1, 3, 540, 960])\n",
      "===> Building model\n"
     ]
    },
    {
     "name": "stderr",
     "output_type": "stream",
     "text": [
      "/home/igor/anaconda3/lib/python3.9/site-packages/torchvision/models/_utils.py:208: UserWarning: The parameter 'pretrained' is deprecated since 0.13 and will be removed in 0.15, please use 'weights' instead.\n",
      "  warnings.warn(\n",
      "/home/igor/anaconda3/lib/python3.9/site-packages/torchvision/models/_utils.py:223: UserWarning: Arguments other than a weight enum or `None` for 'weights' are deprecated since 0.13 and will be removed in 0.15. The current behavior is equivalent to passing `weights=VGG16_Weights.IMAGENET1K_V1`. You can also use `weights=VGG16_Weights.DEFAULT` to get the most up-to-date weights.\n",
      "  warnings.warn(msg)\n"
     ]
    },
    {
     "name": "stdout",
     "output_type": "stream",
     "text": [
      "NetVLAD setting:\n",
      "num_clusters: 64 dim: 512 vladv2: False\n",
      "=> loading checkpoint 'vgg16_netvlad_checkpoint/checkpoints/checkpoint.pth.tar'\n",
      "=> loaded checkpoint 'vgg16_netvlad_checkpoint/checkpoints/checkpoint.pth.tar' (epoch 25)\n",
      "===> Running evaluation step\n",
      "VLAD encoding: tensor([[ 0.0046, -0.0076,  0.0062,  ...,  0.0104,  0.0027, -0.0043]])\n",
      "VLAD encoding shape: torch.Size([1, 32768])\n",
      "Saved frame_vlad_embedding_pca to embedding_file:  <_io.TextIOWrapper name='/home/igor/Desktop/Victoria/tisl/tisl_localization_22s_copy-main/rscan_test/02b33dfd-be2b-2d54-91d2-55454852009e.txt' mode='a' encoding='UTF-8'>\n",
      "path_to_random_frame:  /home/igor/Desktop/Victoria/tisl/tisl_localization_22s_copy-main/rscan_test/02b33dfd-be2b-2d54-91d2-55454852009e/frame-000086.color.jpg\n",
      "Saved frame_position_numpy to embedding_file:  <_io.TextIOWrapper name='/home/igor/Desktop/Victoria/tisl/tisl_localization_22s_copy-main/rscan_test/02b33dfd-be2b-2d54-91d2-55454852009e.txt' mode='a' encoding='UTF-8'>\n",
      "===> Loading data\n",
      "Input image shape: torch.Size([1, 3, 540, 960])\n",
      "===> Building model\n"
     ]
    },
    {
     "name": "stderr",
     "output_type": "stream",
     "text": [
      "/home/igor/anaconda3/lib/python3.9/site-packages/torchvision/models/_utils.py:208: UserWarning: The parameter 'pretrained' is deprecated since 0.13 and will be removed in 0.15, please use 'weights' instead.\n",
      "  warnings.warn(\n",
      "/home/igor/anaconda3/lib/python3.9/site-packages/torchvision/models/_utils.py:223: UserWarning: Arguments other than a weight enum or `None` for 'weights' are deprecated since 0.13 and will be removed in 0.15. The current behavior is equivalent to passing `weights=VGG16_Weights.IMAGENET1K_V1`. You can also use `weights=VGG16_Weights.DEFAULT` to get the most up-to-date weights.\n",
      "  warnings.warn(msg)\n"
     ]
    },
    {
     "name": "stdout",
     "output_type": "stream",
     "text": [
      "NetVLAD setting:\n",
      "num_clusters: 64 dim: 512 vladv2: False\n",
      "=> loading checkpoint 'vgg16_netvlad_checkpoint/checkpoints/checkpoint.pth.tar'\n",
      "=> loaded checkpoint 'vgg16_netvlad_checkpoint/checkpoints/checkpoint.pth.tar' (epoch 25)\n",
      "===> Running evaluation step\n",
      "VLAD encoding: tensor([[-0.0001,  0.0060, -0.0002,  ...,  0.0123,  0.0039, -0.0045]])\n",
      "VLAD encoding shape: torch.Size([1, 32768])\n",
      "Saved frame_vlad_embedding_pca to embedding_file:  <_io.TextIOWrapper name='/home/igor/Desktop/Victoria/tisl/tisl_localization_22s_copy-main/rscan_test/02b33dfd-be2b-2d54-91d2-55454852009e.txt' mode='a' encoding='UTF-8'>\n",
      "path_to_random_frame:  /home/igor/Desktop/Victoria/tisl/tisl_localization_22s_copy-main/rscan_test/02b33dfd-be2b-2d54-91d2-55454852009e/frame-000091.color.jpg\n",
      "Saved frame_position_numpy to embedding_file:  <_io.TextIOWrapper name='/home/igor/Desktop/Victoria/tisl/tisl_localization_22s_copy-main/rscan_test/02b33dfd-be2b-2d54-91d2-55454852009e.txt' mode='a' encoding='UTF-8'>\n",
      "===> Loading data\n",
      "Input image shape: torch.Size([1, 3, 540, 960])\n",
      "===> Building model\n"
     ]
    },
    {
     "name": "stderr",
     "output_type": "stream",
     "text": [
      "/home/igor/anaconda3/lib/python3.9/site-packages/torchvision/models/_utils.py:208: UserWarning: The parameter 'pretrained' is deprecated since 0.13 and will be removed in 0.15, please use 'weights' instead.\n",
      "  warnings.warn(\n",
      "/home/igor/anaconda3/lib/python3.9/site-packages/torchvision/models/_utils.py:223: UserWarning: Arguments other than a weight enum or `None` for 'weights' are deprecated since 0.13 and will be removed in 0.15. The current behavior is equivalent to passing `weights=VGG16_Weights.IMAGENET1K_V1`. You can also use `weights=VGG16_Weights.DEFAULT` to get the most up-to-date weights.\n",
      "  warnings.warn(msg)\n"
     ]
    },
    {
     "name": "stdout",
     "output_type": "stream",
     "text": [
      "NetVLAD setting:\n",
      "num_clusters: 64 dim: 512 vladv2: False\n",
      "=> loading checkpoint 'vgg16_netvlad_checkpoint/checkpoints/checkpoint.pth.tar'\n",
      "=> loaded checkpoint 'vgg16_netvlad_checkpoint/checkpoints/checkpoint.pth.tar' (epoch 25)\n",
      "===> Running evaluation step\n",
      "VLAD encoding: tensor([[ 0.0006, -0.0014,  0.0066,  ...,  0.0022,  0.0027,  0.0027]])\n",
      "VLAD encoding shape: torch.Size([1, 32768])\n",
      "Saved frame_vlad_embedding_pca to embedding_file:  <_io.TextIOWrapper name='/home/igor/Desktop/Victoria/tisl/tisl_localization_22s_copy-main/rscan_test/02b33dfd-be2b-2d54-91d2-55454852009e.txt' mode='a' encoding='UTF-8'>\n",
      "path_to_random_frame:  /home/igor/Desktop/Victoria/tisl/tisl_localization_22s_copy-main/rscan_test/02b33dfd-be2b-2d54-91d2-55454852009e/frame-000093.color.jpg\n",
      "Saved frame_position_numpy to embedding_file:  <_io.TextIOWrapper name='/home/igor/Desktop/Victoria/tisl/tisl_localization_22s_copy-main/rscan_test/02b33dfd-be2b-2d54-91d2-55454852009e.txt' mode='a' encoding='UTF-8'>\n",
      "===> Loading data\n",
      "Input image shape: torch.Size([1, 3, 540, 960])\n",
      "===> Building model\n"
     ]
    },
    {
     "name": "stderr",
     "output_type": "stream",
     "text": [
      "/home/igor/anaconda3/lib/python3.9/site-packages/torchvision/models/_utils.py:208: UserWarning: The parameter 'pretrained' is deprecated since 0.13 and will be removed in 0.15, please use 'weights' instead.\n",
      "  warnings.warn(\n",
      "/home/igor/anaconda3/lib/python3.9/site-packages/torchvision/models/_utils.py:223: UserWarning: Arguments other than a weight enum or `None` for 'weights' are deprecated since 0.13 and will be removed in 0.15. The current behavior is equivalent to passing `weights=VGG16_Weights.IMAGENET1K_V1`. You can also use `weights=VGG16_Weights.DEFAULT` to get the most up-to-date weights.\n",
      "  warnings.warn(msg)\n"
     ]
    },
    {
     "name": "stdout",
     "output_type": "stream",
     "text": [
      "NetVLAD setting:\n",
      "num_clusters: 64 dim: 512 vladv2: False\n",
      "=> loading checkpoint 'vgg16_netvlad_checkpoint/checkpoints/checkpoint.pth.tar'\n",
      "=> loaded checkpoint 'vgg16_netvlad_checkpoint/checkpoints/checkpoint.pth.tar' (epoch 25)\n",
      "===> Running evaluation step\n",
      "VLAD encoding: tensor([[ 0.0017, -0.0008, -0.0061,  ...,  0.0072,  0.0062, -0.0031]])\n",
      "VLAD encoding shape: torch.Size([1, 32768])\n",
      "Saved frame_vlad_embedding_pca to embedding_file:  <_io.TextIOWrapper name='/home/igor/Desktop/Victoria/tisl/tisl_localization_22s_copy-main/rscan_test/02b33dfd-be2b-2d54-91d2-55454852009e.txt' mode='a' encoding='UTF-8'>\n",
      "path_to_random_frame:  /home/igor/Desktop/Victoria/tisl/tisl_localization_22s_copy-main/rscan_test/02b33dfd-be2b-2d54-91d2-55454852009e/frame-000095.color.jpg\n",
      "Saved frame_position_numpy to embedding_file:  <_io.TextIOWrapper name='/home/igor/Desktop/Victoria/tisl/tisl_localization_22s_copy-main/rscan_test/02b33dfd-be2b-2d54-91d2-55454852009e.txt' mode='a' encoding='UTF-8'>\n",
      "===> Loading data\n",
      "Input image shape: torch.Size([1, 3, 540, 960])\n",
      "===> Building model\n"
     ]
    },
    {
     "name": "stderr",
     "output_type": "stream",
     "text": [
      "/home/igor/anaconda3/lib/python3.9/site-packages/torchvision/models/_utils.py:208: UserWarning: The parameter 'pretrained' is deprecated since 0.13 and will be removed in 0.15, please use 'weights' instead.\n",
      "  warnings.warn(\n",
      "/home/igor/anaconda3/lib/python3.9/site-packages/torchvision/models/_utils.py:223: UserWarning: Arguments other than a weight enum or `None` for 'weights' are deprecated since 0.13 and will be removed in 0.15. The current behavior is equivalent to passing `weights=VGG16_Weights.IMAGENET1K_V1`. You can also use `weights=VGG16_Weights.DEFAULT` to get the most up-to-date weights.\n",
      "  warnings.warn(msg)\n"
     ]
    },
    {
     "name": "stdout",
     "output_type": "stream",
     "text": [
      "NetVLAD setting:\n",
      "num_clusters: 64 dim: 512 vladv2: False\n",
      "=> loading checkpoint 'vgg16_netvlad_checkpoint/checkpoints/checkpoint.pth.tar'\n",
      "=> loaded checkpoint 'vgg16_netvlad_checkpoint/checkpoints/checkpoint.pth.tar' (epoch 25)\n",
      "===> Running evaluation step\n",
      "VLAD encoding: tensor([[ 0.0004, -0.0136,  0.0045,  ...,  0.0045,  0.0059, -0.0062]])\n",
      "VLAD encoding shape: torch.Size([1, 32768])\n",
      "Saved frame_vlad_embedding_pca to embedding_file:  <_io.TextIOWrapper name='/home/igor/Desktop/Victoria/tisl/tisl_localization_22s_copy-main/rscan_test/02b33dfd-be2b-2d54-91d2-55454852009e.txt' mode='a' encoding='UTF-8'>\n",
      "path_to_random_frame:  /home/igor/Desktop/Victoria/tisl/tisl_localization_22s_copy-main/rscan_test/02b33dfd-be2b-2d54-91d2-55454852009e/frame-000096.color.jpg\n",
      "Saved frame_position_numpy to embedding_file:  <_io.TextIOWrapper name='/home/igor/Desktop/Victoria/tisl/tisl_localization_22s_copy-main/rscan_test/02b33dfd-be2b-2d54-91d2-55454852009e.txt' mode='a' encoding='UTF-8'>\n",
      "===> Loading data\n",
      "Input image shape: torch.Size([1, 3, 540, 960])\n",
      "===> Building model\n"
     ]
    },
    {
     "name": "stderr",
     "output_type": "stream",
     "text": [
      "/home/igor/anaconda3/lib/python3.9/site-packages/torchvision/models/_utils.py:208: UserWarning: The parameter 'pretrained' is deprecated since 0.13 and will be removed in 0.15, please use 'weights' instead.\n",
      "  warnings.warn(\n",
      "/home/igor/anaconda3/lib/python3.9/site-packages/torchvision/models/_utils.py:223: UserWarning: Arguments other than a weight enum or `None` for 'weights' are deprecated since 0.13 and will be removed in 0.15. The current behavior is equivalent to passing `weights=VGG16_Weights.IMAGENET1K_V1`. You can also use `weights=VGG16_Weights.DEFAULT` to get the most up-to-date weights.\n",
      "  warnings.warn(msg)\n"
     ]
    },
    {
     "name": "stdout",
     "output_type": "stream",
     "text": [
      "NetVLAD setting:\n",
      "num_clusters: 64 dim: 512 vladv2: False\n",
      "=> loading checkpoint 'vgg16_netvlad_checkpoint/checkpoints/checkpoint.pth.tar'\n",
      "=> loaded checkpoint 'vgg16_netvlad_checkpoint/checkpoints/checkpoint.pth.tar' (epoch 25)\n",
      "===> Running evaluation step\n",
      "VLAD encoding: tensor([[ 0.0037, -0.0055,  0.0043,  ...,  0.0050,  0.0044, -0.0026]])\n",
      "VLAD encoding shape: torch.Size([1, 32768])\n",
      "Saved frame_vlad_embedding_pca to embedding_file:  <_io.TextIOWrapper name='/home/igor/Desktop/Victoria/tisl/tisl_localization_22s_copy-main/rscan_test/02b33dfd-be2b-2d54-91d2-55454852009e.txt' mode='a' encoding='UTF-8'>\n",
      "path_to_random_frame:  /home/igor/Desktop/Victoria/tisl/tisl_localization_22s_copy-main/rscan_test/02b33dfd-be2b-2d54-91d2-55454852009e/frame-000097.color.jpg\n",
      "Saved frame_position_numpy to embedding_file:  <_io.TextIOWrapper name='/home/igor/Desktop/Victoria/tisl/tisl_localization_22s_copy-main/rscan_test/02b33dfd-be2b-2d54-91d2-55454852009e.txt' mode='a' encoding='UTF-8'>\n",
      "===> Loading data\n",
      "Input image shape: torch.Size([1, 3, 540, 960])\n",
      "===> Building model\n"
     ]
    },
    {
     "name": "stderr",
     "output_type": "stream",
     "text": [
      "/home/igor/anaconda3/lib/python3.9/site-packages/torchvision/models/_utils.py:208: UserWarning: The parameter 'pretrained' is deprecated since 0.13 and will be removed in 0.15, please use 'weights' instead.\n",
      "  warnings.warn(\n",
      "/home/igor/anaconda3/lib/python3.9/site-packages/torchvision/models/_utils.py:223: UserWarning: Arguments other than a weight enum or `None` for 'weights' are deprecated since 0.13 and will be removed in 0.15. The current behavior is equivalent to passing `weights=VGG16_Weights.IMAGENET1K_V1`. You can also use `weights=VGG16_Weights.DEFAULT` to get the most up-to-date weights.\n",
      "  warnings.warn(msg)\n"
     ]
    },
    {
     "name": "stdout",
     "output_type": "stream",
     "text": [
      "NetVLAD setting:\n",
      "num_clusters: 64 dim: 512 vladv2: False\n",
      "=> loading checkpoint 'vgg16_netvlad_checkpoint/checkpoints/checkpoint.pth.tar'\n",
      "=> loaded checkpoint 'vgg16_netvlad_checkpoint/checkpoints/checkpoint.pth.tar' (epoch 25)\n",
      "===> Running evaluation step\n",
      "VLAD encoding: tensor([[ 0.0023, -0.0078,  0.0052,  ...,  0.0044,  0.0041, -0.0002]])\n",
      "VLAD encoding shape: torch.Size([1, 32768])\n",
      "Saved frame_vlad_embedding_pca to embedding_file:  <_io.TextIOWrapper name='/home/igor/Desktop/Victoria/tisl/tisl_localization_22s_copy-main/rscan_test/02b33dfd-be2b-2d54-91d2-55454852009e.txt' mode='a' encoding='UTF-8'>\n",
      "path_to_random_frame:  /home/igor/Desktop/Victoria/tisl/tisl_localization_22s_copy-main/rscan_test/02b33dfd-be2b-2d54-91d2-55454852009e/frame-000098.color.jpg\n",
      "Saved frame_position_numpy to embedding_file:  <_io.TextIOWrapper name='/home/igor/Desktop/Victoria/tisl/tisl_localization_22s_copy-main/rscan_test/02b33dfd-be2b-2d54-91d2-55454852009e.txt' mode='a' encoding='UTF-8'>\n",
      "===> Loading data\n",
      "Input image shape: torch.Size([1, 3, 540, 960])\n",
      "===> Building model\n"
     ]
    },
    {
     "name": "stderr",
     "output_type": "stream",
     "text": [
      "/home/igor/anaconda3/lib/python3.9/site-packages/torchvision/models/_utils.py:208: UserWarning: The parameter 'pretrained' is deprecated since 0.13 and will be removed in 0.15, please use 'weights' instead.\n",
      "  warnings.warn(\n",
      "/home/igor/anaconda3/lib/python3.9/site-packages/torchvision/models/_utils.py:223: UserWarning: Arguments other than a weight enum or `None` for 'weights' are deprecated since 0.13 and will be removed in 0.15. The current behavior is equivalent to passing `weights=VGG16_Weights.IMAGENET1K_V1`. You can also use `weights=VGG16_Weights.DEFAULT` to get the most up-to-date weights.\n",
      "  warnings.warn(msg)\n"
     ]
    },
    {
     "name": "stdout",
     "output_type": "stream",
     "text": [
      "NetVLAD setting:\n",
      "num_clusters: 64 dim: 512 vladv2: False\n",
      "=> loading checkpoint 'vgg16_netvlad_checkpoint/checkpoints/checkpoint.pth.tar'\n",
      "=> loaded checkpoint 'vgg16_netvlad_checkpoint/checkpoints/checkpoint.pth.tar' (epoch 25)\n",
      "===> Running evaluation step\n",
      "VLAD encoding: tensor([[-0.0031, -0.0062,  0.0013,  ...,  0.0060,  0.0051, -0.0044]])\n",
      "VLAD encoding shape: torch.Size([1, 32768])\n",
      "Saved frame_vlad_embedding_pca to embedding_file:  <_io.TextIOWrapper name='/home/igor/Desktop/Victoria/tisl/tisl_localization_22s_copy-main/rscan_test/02b33dfd-be2b-2d54-91d2-55454852009e.txt' mode='a' encoding='UTF-8'>\n",
      "path_to_random_frame:  /home/igor/Desktop/Victoria/tisl/tisl_localization_22s_copy-main/rscan_test/02b33dfd-be2b-2d54-91d2-55454852009e/frame-000099.color.jpg\n",
      "Saved frame_position_numpy to embedding_file:  <_io.TextIOWrapper name='/home/igor/Desktop/Victoria/tisl/tisl_localization_22s_copy-main/rscan_test/02b33dfd-be2b-2d54-91d2-55454852009e.txt' mode='a' encoding='UTF-8'>\n",
      "===> Loading data\n",
      "Input image shape: torch.Size([1, 3, 540, 960])\n",
      "===> Building model\n"
     ]
    },
    {
     "name": "stderr",
     "output_type": "stream",
     "text": [
      "/home/igor/anaconda3/lib/python3.9/site-packages/torchvision/models/_utils.py:208: UserWarning: The parameter 'pretrained' is deprecated since 0.13 and will be removed in 0.15, please use 'weights' instead.\n",
      "  warnings.warn(\n",
      "/home/igor/anaconda3/lib/python3.9/site-packages/torchvision/models/_utils.py:223: UserWarning: Arguments other than a weight enum or `None` for 'weights' are deprecated since 0.13 and will be removed in 0.15. The current behavior is equivalent to passing `weights=VGG16_Weights.IMAGENET1K_V1`. You can also use `weights=VGG16_Weights.DEFAULT` to get the most up-to-date weights.\n",
      "  warnings.warn(msg)\n"
     ]
    },
    {
     "name": "stdout",
     "output_type": "stream",
     "text": [
      "NetVLAD setting:\n",
      "num_clusters: 64 dim: 512 vladv2: False\n",
      "=> loading checkpoint 'vgg16_netvlad_checkpoint/checkpoints/checkpoint.pth.tar'\n",
      "=> loaded checkpoint 'vgg16_netvlad_checkpoint/checkpoints/checkpoint.pth.tar' (epoch 25)\n",
      "===> Running evaluation step\n",
      "VLAD encoding: tensor([[-0.0033, -0.0079,  0.0071,  ...,  0.0065,  0.0086, -0.0040]])\n",
      "VLAD encoding shape: torch.Size([1, 32768])\n",
      "Saved frame_vlad_embedding_pca to embedding_file:  <_io.TextIOWrapper name='/home/igor/Desktop/Victoria/tisl/tisl_localization_22s_copy-main/rscan_test/02b33dfd-be2b-2d54-91d2-55454852009e.txt' mode='a' encoding='UTF-8'>\n",
      "path_to_random_frame:  /home/igor/Desktop/Victoria/tisl/tisl_localization_22s_copy-main/rscan_test/02b33dfd-be2b-2d54-91d2-55454852009e/frame-000100.color.jpg\n",
      "Saved frame_position_numpy to embedding_file:  <_io.TextIOWrapper name='/home/igor/Desktop/Victoria/tisl/tisl_localization_22s_copy-main/rscan_test/02b33dfd-be2b-2d54-91d2-55454852009e.txt' mode='a' encoding='UTF-8'>\n",
      "===> Loading data\n",
      "Input image shape: torch.Size([1, 3, 540, 960])\n",
      "===> Building model\n"
     ]
    },
    {
     "name": "stderr",
     "output_type": "stream",
     "text": [
      "/home/igor/anaconda3/lib/python3.9/site-packages/torchvision/models/_utils.py:208: UserWarning: The parameter 'pretrained' is deprecated since 0.13 and will be removed in 0.15, please use 'weights' instead.\n",
      "  warnings.warn(\n",
      "/home/igor/anaconda3/lib/python3.9/site-packages/torchvision/models/_utils.py:223: UserWarning: Arguments other than a weight enum or `None` for 'weights' are deprecated since 0.13 and will be removed in 0.15. The current behavior is equivalent to passing `weights=VGG16_Weights.IMAGENET1K_V1`. You can also use `weights=VGG16_Weights.DEFAULT` to get the most up-to-date weights.\n",
      "  warnings.warn(msg)\n"
     ]
    },
    {
     "name": "stdout",
     "output_type": "stream",
     "text": [
      "NetVLAD setting:\n",
      "num_clusters: 64 dim: 512 vladv2: False\n",
      "=> loading checkpoint 'vgg16_netvlad_checkpoint/checkpoints/checkpoint.pth.tar'\n",
      "=> loaded checkpoint 'vgg16_netvlad_checkpoint/checkpoints/checkpoint.pth.tar' (epoch 25)\n",
      "===> Running evaluation step\n",
      "VLAD encoding: tensor([[ 0.0036, -0.0135,  0.0040,  ...,  0.0143,  0.0039, -0.0023]])\n",
      "VLAD encoding shape: torch.Size([1, 32768])\n",
      "Saved frame_vlad_embedding_pca to embedding_file:  <_io.TextIOWrapper name='/home/igor/Desktop/Victoria/tisl/tisl_localization_22s_copy-main/rscan_test/02b33dfd-be2b-2d54-91d2-55454852009e.txt' mode='a' encoding='UTF-8'>\n",
      "path_to_random_frame:  /home/igor/Desktop/Victoria/tisl/tisl_localization_22s_copy-main/rscan_test/02b33dfd-be2b-2d54-91d2-55454852009e/frame-000101.color.jpg\n",
      "Saved frame_position_numpy to embedding_file:  <_io.TextIOWrapper name='/home/igor/Desktop/Victoria/tisl/tisl_localization_22s_copy-main/rscan_test/02b33dfd-be2b-2d54-91d2-55454852009e.txt' mode='a' encoding='UTF-8'>\n",
      "===> Loading data\n",
      "Input image shape: torch.Size([1, 3, 540, 960])\n",
      "===> Building model\n"
     ]
    },
    {
     "name": "stderr",
     "output_type": "stream",
     "text": [
      "/home/igor/anaconda3/lib/python3.9/site-packages/torchvision/models/_utils.py:208: UserWarning: The parameter 'pretrained' is deprecated since 0.13 and will be removed in 0.15, please use 'weights' instead.\n",
      "  warnings.warn(\n",
      "/home/igor/anaconda3/lib/python3.9/site-packages/torchvision/models/_utils.py:223: UserWarning: Arguments other than a weight enum or `None` for 'weights' are deprecated since 0.13 and will be removed in 0.15. The current behavior is equivalent to passing `weights=VGG16_Weights.IMAGENET1K_V1`. You can also use `weights=VGG16_Weights.DEFAULT` to get the most up-to-date weights.\n",
      "  warnings.warn(msg)\n"
     ]
    },
    {
     "name": "stdout",
     "output_type": "stream",
     "text": [
      "NetVLAD setting:\n",
      "num_clusters: 64 dim: 512 vladv2: False\n",
      "=> loading checkpoint 'vgg16_netvlad_checkpoint/checkpoints/checkpoint.pth.tar'\n",
      "=> loaded checkpoint 'vgg16_netvlad_checkpoint/checkpoints/checkpoint.pth.tar' (epoch 25)\n",
      "===> Running evaluation step\n",
      "VLAD encoding: tensor([[ 0.0031, -0.0120,  0.0051,  ...,  0.0081,  0.0031, -0.0014]])\n",
      "VLAD encoding shape: torch.Size([1, 32768])\n",
      "Saved frame_vlad_embedding_pca to embedding_file:  <_io.TextIOWrapper name='/home/igor/Desktop/Victoria/tisl/tisl_localization_22s_copy-main/rscan_test/02b33dfd-be2b-2d54-91d2-55454852009e.txt' mode='a' encoding='UTF-8'>\n",
      "path_to_random_frame:  /home/igor/Desktop/Victoria/tisl/tisl_localization_22s_copy-main/rscan_test/02b33dfd-be2b-2d54-91d2-55454852009e/frame-000103.color.jpg\n",
      "Saved frame_position_numpy to embedding_file:  <_io.TextIOWrapper name='/home/igor/Desktop/Victoria/tisl/tisl_localization_22s_copy-main/rscan_test/02b33dfd-be2b-2d54-91d2-55454852009e.txt' mode='a' encoding='UTF-8'>\n",
      "===> Loading data\n",
      "Input image shape: torch.Size([1, 3, 540, 960])\n",
      "===> Building model\n"
     ]
    },
    {
     "name": "stderr",
     "output_type": "stream",
     "text": [
      "/home/igor/anaconda3/lib/python3.9/site-packages/torchvision/models/_utils.py:208: UserWarning: The parameter 'pretrained' is deprecated since 0.13 and will be removed in 0.15, please use 'weights' instead.\n",
      "  warnings.warn(\n",
      "/home/igor/anaconda3/lib/python3.9/site-packages/torchvision/models/_utils.py:223: UserWarning: Arguments other than a weight enum or `None` for 'weights' are deprecated since 0.13 and will be removed in 0.15. The current behavior is equivalent to passing `weights=VGG16_Weights.IMAGENET1K_V1`. You can also use `weights=VGG16_Weights.DEFAULT` to get the most up-to-date weights.\n",
      "  warnings.warn(msg)\n"
     ]
    },
    {
     "name": "stdout",
     "output_type": "stream",
     "text": [
      "NetVLAD setting:\n",
      "num_clusters: 64 dim: 512 vladv2: False\n",
      "=> loading checkpoint 'vgg16_netvlad_checkpoint/checkpoints/checkpoint.pth.tar'\n",
      "=> loaded checkpoint 'vgg16_netvlad_checkpoint/checkpoints/checkpoint.pth.tar' (epoch 25)\n",
      "===> Running evaluation step\n",
      "VLAD encoding: tensor([[-0.0045, -0.0062,  0.0074,  ...,  0.0059, -0.0001, -0.0031]])\n",
      "VLAD encoding shape: torch.Size([1, 32768])\n",
      "Saved frame_vlad_embedding_pca to embedding_file:  <_io.TextIOWrapper name='/home/igor/Desktop/Victoria/tisl/tisl_localization_22s_copy-main/rscan_test/02b33dfd-be2b-2d54-91d2-55454852009e.txt' mode='a' encoding='UTF-8'>\n",
      "path_to_random_frame:  /home/igor/Desktop/Victoria/tisl/tisl_localization_22s_copy-main/rscan_test/02b33dfd-be2b-2d54-91d2-55454852009e/frame-000104.color.jpg\n",
      "Saved frame_position_numpy to embedding_file:  <_io.TextIOWrapper name='/home/igor/Desktop/Victoria/tisl/tisl_localization_22s_copy-main/rscan_test/02b33dfd-be2b-2d54-91d2-55454852009e.txt' mode='a' encoding='UTF-8'>\n",
      "===> Loading data\n",
      "Input image shape: torch.Size([1, 3, 540, 960])\n",
      "===> Building model\n"
     ]
    },
    {
     "name": "stderr",
     "output_type": "stream",
     "text": [
      "/home/igor/anaconda3/lib/python3.9/site-packages/torchvision/models/_utils.py:208: UserWarning: The parameter 'pretrained' is deprecated since 0.13 and will be removed in 0.15, please use 'weights' instead.\n",
      "  warnings.warn(\n",
      "/home/igor/anaconda3/lib/python3.9/site-packages/torchvision/models/_utils.py:223: UserWarning: Arguments other than a weight enum or `None` for 'weights' are deprecated since 0.13 and will be removed in 0.15. The current behavior is equivalent to passing `weights=VGG16_Weights.IMAGENET1K_V1`. You can also use `weights=VGG16_Weights.DEFAULT` to get the most up-to-date weights.\n",
      "  warnings.warn(msg)\n"
     ]
    },
    {
     "name": "stdout",
     "output_type": "stream",
     "text": [
      "NetVLAD setting:\n",
      "num_clusters: 64 dim: 512 vladv2: False\n",
      "=> loading checkpoint 'vgg16_netvlad_checkpoint/checkpoints/checkpoint.pth.tar'\n",
      "=> loaded checkpoint 'vgg16_netvlad_checkpoint/checkpoints/checkpoint.pth.tar' (epoch 25)\n",
      "===> Running evaluation step\n",
      "VLAD encoding: tensor([[-0.0008, -0.0028,  0.0022,  ...,  0.0133,  0.0040, -0.0017]])\n",
      "VLAD encoding shape: torch.Size([1, 32768])\n",
      "Saved frame_vlad_embedding_pca to embedding_file:  <_io.TextIOWrapper name='/home/igor/Desktop/Victoria/tisl/tisl_localization_22s_copy-main/rscan_test/02b33dfd-be2b-2d54-91d2-55454852009e.txt' mode='a' encoding='UTF-8'>\n",
      "path_to_random_frame:  /home/igor/Desktop/Victoria/tisl/tisl_localization_22s_copy-main/rscan_test/02b33dfd-be2b-2d54-91d2-55454852009e/frame-000105.color.jpg\n",
      "Saved frame_position_numpy to embedding_file:  <_io.TextIOWrapper name='/home/igor/Desktop/Victoria/tisl/tisl_localization_22s_copy-main/rscan_test/02b33dfd-be2b-2d54-91d2-55454852009e.txt' mode='a' encoding='UTF-8'>\n",
      "===> Loading data\n",
      "Input image shape: torch.Size([1, 3, 540, 960])\n",
      "===> Building model\n"
     ]
    },
    {
     "name": "stderr",
     "output_type": "stream",
     "text": [
      "/home/igor/anaconda3/lib/python3.9/site-packages/torchvision/models/_utils.py:208: UserWarning: The parameter 'pretrained' is deprecated since 0.13 and will be removed in 0.15, please use 'weights' instead.\n",
      "  warnings.warn(\n",
      "/home/igor/anaconda3/lib/python3.9/site-packages/torchvision/models/_utils.py:223: UserWarning: Arguments other than a weight enum or `None` for 'weights' are deprecated since 0.13 and will be removed in 0.15. The current behavior is equivalent to passing `weights=VGG16_Weights.IMAGENET1K_V1`. You can also use `weights=VGG16_Weights.DEFAULT` to get the most up-to-date weights.\n",
      "  warnings.warn(msg)\n"
     ]
    },
    {
     "name": "stdout",
     "output_type": "stream",
     "text": [
      "NetVLAD setting:\n",
      "num_clusters: 64 dim: 512 vladv2: False\n",
      "=> loading checkpoint 'vgg16_netvlad_checkpoint/checkpoints/checkpoint.pth.tar'\n",
      "=> loaded checkpoint 'vgg16_netvlad_checkpoint/checkpoints/checkpoint.pth.tar' (epoch 25)\n",
      "===> Running evaluation step\n",
      "VLAD encoding: tensor([[-0.0075, -0.0054, -0.0048,  ...,  0.0153,  0.0085, -0.0049]])\n",
      "VLAD encoding shape: torch.Size([1, 32768])\n",
      "Saved frame_vlad_embedding_pca to embedding_file:  <_io.TextIOWrapper name='/home/igor/Desktop/Victoria/tisl/tisl_localization_22s_copy-main/rscan_test/02b33dfd-be2b-2d54-91d2-55454852009e.txt' mode='a' encoding='UTF-8'>\n",
      "path_to_random_frame:  /home/igor/Desktop/Victoria/tisl/tisl_localization_22s_copy-main/rscan_test/02b33dfd-be2b-2d54-91d2-55454852009e/frame-000106.color.jpg\n",
      "Saved frame_position_numpy to embedding_file:  <_io.TextIOWrapper name='/home/igor/Desktop/Victoria/tisl/tisl_localization_22s_copy-main/rscan_test/02b33dfd-be2b-2d54-91d2-55454852009e.txt' mode='a' encoding='UTF-8'>\n",
      "===> Loading data\n",
      "Input image shape: torch.Size([1, 3, 540, 960])\n",
      "===> Building model\n"
     ]
    },
    {
     "name": "stderr",
     "output_type": "stream",
     "text": [
      "/home/igor/anaconda3/lib/python3.9/site-packages/torchvision/models/_utils.py:208: UserWarning: The parameter 'pretrained' is deprecated since 0.13 and will be removed in 0.15, please use 'weights' instead.\n",
      "  warnings.warn(\n",
      "/home/igor/anaconda3/lib/python3.9/site-packages/torchvision/models/_utils.py:223: UserWarning: Arguments other than a weight enum or `None` for 'weights' are deprecated since 0.13 and will be removed in 0.15. The current behavior is equivalent to passing `weights=VGG16_Weights.IMAGENET1K_V1`. You can also use `weights=VGG16_Weights.DEFAULT` to get the most up-to-date weights.\n",
      "  warnings.warn(msg)\n"
     ]
    },
    {
     "name": "stdout",
     "output_type": "stream",
     "text": [
      "NetVLAD setting:\n",
      "num_clusters: 64 dim: 512 vladv2: False\n",
      "=> loading checkpoint 'vgg16_netvlad_checkpoint/checkpoints/checkpoint.pth.tar'\n",
      "=> loaded checkpoint 'vgg16_netvlad_checkpoint/checkpoints/checkpoint.pth.tar' (epoch 25)\n",
      "===> Running evaluation step\n",
      "VLAD encoding: tensor([[ 0.0018,  0.0024,  0.0058,  ..., -0.0002,  0.0087, -0.0044]])\n",
      "VLAD encoding shape: torch.Size([1, 32768])\n",
      "Saved frame_vlad_embedding_pca to embedding_file:  <_io.TextIOWrapper name='/home/igor/Desktop/Victoria/tisl/tisl_localization_22s_copy-main/rscan_test/02b33dfd-be2b-2d54-91d2-55454852009e.txt' mode='a' encoding='UTF-8'>\n",
      "path_to_random_frame:  /home/igor/Desktop/Victoria/tisl/tisl_localization_22s_copy-main/rscan_test/02b33dfd-be2b-2d54-91d2-55454852009e/frame-000107.color.jpg\n",
      "Saved frame_position_numpy to embedding_file:  <_io.TextIOWrapper name='/home/igor/Desktop/Victoria/tisl/tisl_localization_22s_copy-main/rscan_test/02b33dfd-be2b-2d54-91d2-55454852009e.txt' mode='a' encoding='UTF-8'>\n",
      "===> Loading data\n",
      "Input image shape: torch.Size([1, 3, 540, 960])\n",
      "===> Building model\n"
     ]
    },
    {
     "name": "stderr",
     "output_type": "stream",
     "text": [
      "/home/igor/anaconda3/lib/python3.9/site-packages/torchvision/models/_utils.py:208: UserWarning: The parameter 'pretrained' is deprecated since 0.13 and will be removed in 0.15, please use 'weights' instead.\n",
      "  warnings.warn(\n",
      "/home/igor/anaconda3/lib/python3.9/site-packages/torchvision/models/_utils.py:223: UserWarning: Arguments other than a weight enum or `None` for 'weights' are deprecated since 0.13 and will be removed in 0.15. The current behavior is equivalent to passing `weights=VGG16_Weights.IMAGENET1K_V1`. You can also use `weights=VGG16_Weights.DEFAULT` to get the most up-to-date weights.\n",
      "  warnings.warn(msg)\n"
     ]
    },
    {
     "name": "stdout",
     "output_type": "stream",
     "text": [
      "NetVLAD setting:\n",
      "num_clusters: 64 dim: 512 vladv2: False\n",
      "=> loading checkpoint 'vgg16_netvlad_checkpoint/checkpoints/checkpoint.pth.tar'\n",
      "=> loaded checkpoint 'vgg16_netvlad_checkpoint/checkpoints/checkpoint.pth.tar' (epoch 25)\n",
      "===> Running evaluation step\n",
      "VLAD encoding: tensor([[-0.0023, -0.0035,  0.0049,  ...,  0.0084, -0.0038, -0.0036]])\n",
      "VLAD encoding shape: torch.Size([1, 32768])\n",
      "Saved frame_vlad_embedding_pca to embedding_file:  <_io.TextIOWrapper name='/home/igor/Desktop/Victoria/tisl/tisl_localization_22s_copy-main/rscan_test/02b33dfd-be2b-2d54-91d2-55454852009e.txt' mode='a' encoding='UTF-8'>\n",
      "processing 0/8\n",
      "path_to_random_frame:  /home/igor/Desktop/Victoria/tisl/tisl_localization_22s_copy-main/rscan_test/fcf66d8a-622d-291c-8429-0e1109c6bb26/frame-000000.color.jpg\n",
      "Saved frame_position_numpy to embedding_file:  <_io.TextIOWrapper name='/home/igor/Desktop/Victoria/tisl/tisl_localization_22s_copy-main/rscan_test/fcf66d8a-622d-291c-8429-0e1109c6bb26.txt' mode='a' encoding='UTF-8'>\n",
      "===> Loading data\n",
      "Input image shape: torch.Size([1, 3, 540, 960])\n",
      "===> Building model\n"
     ]
    },
    {
     "name": "stderr",
     "output_type": "stream",
     "text": [
      "/home/igor/anaconda3/lib/python3.9/site-packages/torchvision/models/_utils.py:208: UserWarning: The parameter 'pretrained' is deprecated since 0.13 and will be removed in 0.15, please use 'weights' instead.\n",
      "  warnings.warn(\n",
      "/home/igor/anaconda3/lib/python3.9/site-packages/torchvision/models/_utils.py:223: UserWarning: Arguments other than a weight enum or `None` for 'weights' are deprecated since 0.13 and will be removed in 0.15. The current behavior is equivalent to passing `weights=VGG16_Weights.IMAGENET1K_V1`. You can also use `weights=VGG16_Weights.DEFAULT` to get the most up-to-date weights.\n",
      "  warnings.warn(msg)\n"
     ]
    },
    {
     "name": "stdout",
     "output_type": "stream",
     "text": [
      "NetVLAD setting:\n",
      "num_clusters: 64 dim: 512 vladv2: False\n",
      "=> loading checkpoint 'vgg16_netvlad_checkpoint/checkpoints/checkpoint.pth.tar'\n",
      "=> loaded checkpoint 'vgg16_netvlad_checkpoint/checkpoints/checkpoint.pth.tar' (epoch 25)\n",
      "===> Running evaluation step\n",
      "VLAD encoding: tensor([[ 0.0057,  0.0043, -0.0006,  ...,  0.0046,  0.0048,  0.0034]])\n",
      "VLAD encoding shape: torch.Size([1, 32768])\n",
      "Saved frame_vlad_embedding_pca to embedding_file:  <_io.TextIOWrapper name='/home/igor/Desktop/Victoria/tisl/tisl_localization_22s_copy-main/rscan_test/fcf66d8a-622d-291c-8429-0e1109c6bb26.txt' mode='a' encoding='UTF-8'>\n",
      "path_to_random_frame:  /home/igor/Desktop/Victoria/tisl/tisl_localization_22s_copy-main/rscan_test/fcf66d8a-622d-291c-8429-0e1109c6bb26/frame-000001.color.jpg\n",
      "Saved frame_position_numpy to embedding_file:  <_io.TextIOWrapper name='/home/igor/Desktop/Victoria/tisl/tisl_localization_22s_copy-main/rscan_test/fcf66d8a-622d-291c-8429-0e1109c6bb26.txt' mode='a' encoding='UTF-8'>\n",
      "===> Loading data\n",
      "Input image shape: torch.Size([1, 3, 540, 960])\n",
      "===> Building model\n"
     ]
    },
    {
     "name": "stderr",
     "output_type": "stream",
     "text": [
      "/home/igor/anaconda3/lib/python3.9/site-packages/torchvision/models/_utils.py:208: UserWarning: The parameter 'pretrained' is deprecated since 0.13 and will be removed in 0.15, please use 'weights' instead.\n",
      "  warnings.warn(\n",
      "/home/igor/anaconda3/lib/python3.9/site-packages/torchvision/models/_utils.py:223: UserWarning: Arguments other than a weight enum or `None` for 'weights' are deprecated since 0.13 and will be removed in 0.15. The current behavior is equivalent to passing `weights=VGG16_Weights.IMAGENET1K_V1`. You can also use `weights=VGG16_Weights.DEFAULT` to get the most up-to-date weights.\n",
      "  warnings.warn(msg)\n"
     ]
    },
    {
     "name": "stdout",
     "output_type": "stream",
     "text": [
      "NetVLAD setting:\n",
      "num_clusters: 64 dim: 512 vladv2: False\n",
      "=> loading checkpoint 'vgg16_netvlad_checkpoint/checkpoints/checkpoint.pth.tar'\n",
      "=> loaded checkpoint 'vgg16_netvlad_checkpoint/checkpoints/checkpoint.pth.tar' (epoch 25)\n",
      "===> Running evaluation step\n",
      "VLAD encoding: tensor([[ 0.0036,  0.0040, -0.0067,  ...,  0.0036,  0.0059, -0.0024]])\n",
      "VLAD encoding shape: torch.Size([1, 32768])\n",
      "Saved frame_vlad_embedding_pca to embedding_file:  <_io.TextIOWrapper name='/home/igor/Desktop/Victoria/tisl/tisl_localization_22s_copy-main/rscan_test/fcf66d8a-622d-291c-8429-0e1109c6bb26.txt' mode='a' encoding='UTF-8'>\n",
      "path_to_random_frame:  /home/igor/Desktop/Victoria/tisl/tisl_localization_22s_copy-main/rscan_test/fcf66d8a-622d-291c-8429-0e1109c6bb26/frame-000005.color.jpg\n",
      "Saved frame_position_numpy to embedding_file:  <_io.TextIOWrapper name='/home/igor/Desktop/Victoria/tisl/tisl_localization_22s_copy-main/rscan_test/fcf66d8a-622d-291c-8429-0e1109c6bb26.txt' mode='a' encoding='UTF-8'>\n",
      "===> Loading data\n",
      "Input image shape: torch.Size([1, 3, 540, 960])\n",
      "===> Building model\n"
     ]
    },
    {
     "name": "stderr",
     "output_type": "stream",
     "text": [
      "/home/igor/anaconda3/lib/python3.9/site-packages/torchvision/models/_utils.py:208: UserWarning: The parameter 'pretrained' is deprecated since 0.13 and will be removed in 0.15, please use 'weights' instead.\n",
      "  warnings.warn(\n",
      "/home/igor/anaconda3/lib/python3.9/site-packages/torchvision/models/_utils.py:223: UserWarning: Arguments other than a weight enum or `None` for 'weights' are deprecated since 0.13 and will be removed in 0.15. The current behavior is equivalent to passing `weights=VGG16_Weights.IMAGENET1K_V1`. You can also use `weights=VGG16_Weights.DEFAULT` to get the most up-to-date weights.\n",
      "  warnings.warn(msg)\n"
     ]
    },
    {
     "name": "stdout",
     "output_type": "stream",
     "text": [
      "NetVLAD setting:\n",
      "num_clusters: 64 dim: 512 vladv2: False\n",
      "=> loading checkpoint 'vgg16_netvlad_checkpoint/checkpoints/checkpoint.pth.tar'\n",
      "=> loaded checkpoint 'vgg16_netvlad_checkpoint/checkpoints/checkpoint.pth.tar' (epoch 25)\n",
      "===> Running evaluation step\n",
      "VLAD encoding: tensor([[ 0.0068,  0.0054, -0.0033,  ...,  0.0048,  0.0088,  0.0011]])\n",
      "VLAD encoding shape: torch.Size([1, 32768])\n",
      "Saved frame_vlad_embedding_pca to embedding_file:  <_io.TextIOWrapper name='/home/igor/Desktop/Victoria/tisl/tisl_localization_22s_copy-main/rscan_test/fcf66d8a-622d-291c-8429-0e1109c6bb26.txt' mode='a' encoding='UTF-8'>\n",
      "path_to_random_frame:  /home/igor/Desktop/Victoria/tisl/tisl_localization_22s_copy-main/rscan_test/fcf66d8a-622d-291c-8429-0e1109c6bb26/frame-000009.color.jpg\n",
      "Saved frame_position_numpy to embedding_file:  <_io.TextIOWrapper name='/home/igor/Desktop/Victoria/tisl/tisl_localization_22s_copy-main/rscan_test/fcf66d8a-622d-291c-8429-0e1109c6bb26.txt' mode='a' encoding='UTF-8'>\n",
      "===> Loading data\n",
      "Input image shape: torch.Size([1, 3, 540, 960])\n",
      "===> Building model\n"
     ]
    },
    {
     "name": "stderr",
     "output_type": "stream",
     "text": [
      "/home/igor/anaconda3/lib/python3.9/site-packages/torchvision/models/_utils.py:208: UserWarning: The parameter 'pretrained' is deprecated since 0.13 and will be removed in 0.15, please use 'weights' instead.\n",
      "  warnings.warn(\n",
      "/home/igor/anaconda3/lib/python3.9/site-packages/torchvision/models/_utils.py:223: UserWarning: Arguments other than a weight enum or `None` for 'weights' are deprecated since 0.13 and will be removed in 0.15. The current behavior is equivalent to passing `weights=VGG16_Weights.IMAGENET1K_V1`. You can also use `weights=VGG16_Weights.DEFAULT` to get the most up-to-date weights.\n",
      "  warnings.warn(msg)\n"
     ]
    },
    {
     "name": "stdout",
     "output_type": "stream",
     "text": [
      "NetVLAD setting:\n",
      "num_clusters: 64 dim: 512 vladv2: False\n",
      "=> loading checkpoint 'vgg16_netvlad_checkpoint/checkpoints/checkpoint.pth.tar'\n",
      "=> loaded checkpoint 'vgg16_netvlad_checkpoint/checkpoints/checkpoint.pth.tar' (epoch 25)\n",
      "===> Running evaluation step\n",
      "VLAD encoding: tensor([[ 0.0091,  0.0075, -0.0023,  ...,  0.0059,  0.0107,  0.0024]])\n",
      "VLAD encoding shape: torch.Size([1, 32768])\n",
      "Saved frame_vlad_embedding_pca to embedding_file:  <_io.TextIOWrapper name='/home/igor/Desktop/Victoria/tisl/tisl_localization_22s_copy-main/rscan_test/fcf66d8a-622d-291c-8429-0e1109c6bb26.txt' mode='a' encoding='UTF-8'>\n",
      "path_to_random_frame:  /home/igor/Desktop/Victoria/tisl/tisl_localization_22s_copy-main/rscan_test/fcf66d8a-622d-291c-8429-0e1109c6bb26/frame-000011.color.jpg\n",
      "Saved frame_position_numpy to embedding_file:  <_io.TextIOWrapper name='/home/igor/Desktop/Victoria/tisl/tisl_localization_22s_copy-main/rscan_test/fcf66d8a-622d-291c-8429-0e1109c6bb26.txt' mode='a' encoding='UTF-8'>\n",
      "===> Loading data\n",
      "Input image shape: torch.Size([1, 3, 540, 960])\n",
      "===> Building model\n"
     ]
    },
    {
     "name": "stderr",
     "output_type": "stream",
     "text": [
      "/home/igor/anaconda3/lib/python3.9/site-packages/torchvision/models/_utils.py:208: UserWarning: The parameter 'pretrained' is deprecated since 0.13 and will be removed in 0.15, please use 'weights' instead.\n",
      "  warnings.warn(\n",
      "/home/igor/anaconda3/lib/python3.9/site-packages/torchvision/models/_utils.py:223: UserWarning: Arguments other than a weight enum or `None` for 'weights' are deprecated since 0.13 and will be removed in 0.15. The current behavior is equivalent to passing `weights=VGG16_Weights.IMAGENET1K_V1`. You can also use `weights=VGG16_Weights.DEFAULT` to get the most up-to-date weights.\n",
      "  warnings.warn(msg)\n"
     ]
    },
    {
     "name": "stdout",
     "output_type": "stream",
     "text": [
      "NetVLAD setting:\n",
      "num_clusters: 64 dim: 512 vladv2: False\n",
      "=> loading checkpoint 'vgg16_netvlad_checkpoint/checkpoints/checkpoint.pth.tar'\n",
      "=> loaded checkpoint 'vgg16_netvlad_checkpoint/checkpoints/checkpoint.pth.tar' (epoch 25)\n",
      "===> Running evaluation step\n",
      "VLAD encoding: tensor([[-0.0074, -0.0088,  0.0021,  ...,  0.0107,  0.0046, -0.0028]])\n",
      "VLAD encoding shape: torch.Size([1, 32768])\n",
      "Saved frame_vlad_embedding_pca to embedding_file:  <_io.TextIOWrapper name='/home/igor/Desktop/Victoria/tisl/tisl_localization_22s_copy-main/rscan_test/fcf66d8a-622d-291c-8429-0e1109c6bb26.txt' mode='a' encoding='UTF-8'>\n",
      "path_to_random_frame:  /home/igor/Desktop/Victoria/tisl/tisl_localization_22s_copy-main/rscan_test/fcf66d8a-622d-291c-8429-0e1109c6bb26/frame-000013.color.jpg\n",
      "Saved frame_position_numpy to embedding_file:  <_io.TextIOWrapper name='/home/igor/Desktop/Victoria/tisl/tisl_localization_22s_copy-main/rscan_test/fcf66d8a-622d-291c-8429-0e1109c6bb26.txt' mode='a' encoding='UTF-8'>\n",
      "===> Loading data\n",
      "Input image shape: torch.Size([1, 3, 540, 960])\n",
      "===> Building model\n"
     ]
    },
    {
     "name": "stderr",
     "output_type": "stream",
     "text": [
      "/home/igor/anaconda3/lib/python3.9/site-packages/torchvision/models/_utils.py:208: UserWarning: The parameter 'pretrained' is deprecated since 0.13 and will be removed in 0.15, please use 'weights' instead.\n",
      "  warnings.warn(\n",
      "/home/igor/anaconda3/lib/python3.9/site-packages/torchvision/models/_utils.py:223: UserWarning: Arguments other than a weight enum or `None` for 'weights' are deprecated since 0.13 and will be removed in 0.15. The current behavior is equivalent to passing `weights=VGG16_Weights.IMAGENET1K_V1`. You can also use `weights=VGG16_Weights.DEFAULT` to get the most up-to-date weights.\n",
      "  warnings.warn(msg)\n"
     ]
    },
    {
     "name": "stdout",
     "output_type": "stream",
     "text": [
      "NetVLAD setting:\n",
      "num_clusters: 64 dim: 512 vladv2: False\n",
      "=> loading checkpoint 'vgg16_netvlad_checkpoint/checkpoints/checkpoint.pth.tar'\n",
      "=> loaded checkpoint 'vgg16_netvlad_checkpoint/checkpoints/checkpoint.pth.tar' (epoch 25)\n",
      "===> Running evaluation step\n",
      "VLAD encoding: tensor([[ 0.0075,  0.0008, -0.0051,  ...,  0.0063,  0.0043, -0.0100]])\n",
      "VLAD encoding shape: torch.Size([1, 32768])\n",
      "Saved frame_vlad_embedding_pca to embedding_file:  <_io.TextIOWrapper name='/home/igor/Desktop/Victoria/tisl/tisl_localization_22s_copy-main/rscan_test/fcf66d8a-622d-291c-8429-0e1109c6bb26.txt' mode='a' encoding='UTF-8'>\n",
      "path_to_random_frame:  /home/igor/Desktop/Victoria/tisl/tisl_localization_22s_copy-main/rscan_test/fcf66d8a-622d-291c-8429-0e1109c6bb26/frame-000017.color.jpg\n",
      "Saved frame_position_numpy to embedding_file:  <_io.TextIOWrapper name='/home/igor/Desktop/Victoria/tisl/tisl_localization_22s_copy-main/rscan_test/fcf66d8a-622d-291c-8429-0e1109c6bb26.txt' mode='a' encoding='UTF-8'>\n",
      "===> Loading data\n",
      "Input image shape: torch.Size([1, 3, 540, 960])\n",
      "===> Building model\n"
     ]
    },
    {
     "name": "stderr",
     "output_type": "stream",
     "text": [
      "/home/igor/anaconda3/lib/python3.9/site-packages/torchvision/models/_utils.py:208: UserWarning: The parameter 'pretrained' is deprecated since 0.13 and will be removed in 0.15, please use 'weights' instead.\n",
      "  warnings.warn(\n",
      "/home/igor/anaconda3/lib/python3.9/site-packages/torchvision/models/_utils.py:223: UserWarning: Arguments other than a weight enum or `None` for 'weights' are deprecated since 0.13 and will be removed in 0.15. The current behavior is equivalent to passing `weights=VGG16_Weights.IMAGENET1K_V1`. You can also use `weights=VGG16_Weights.DEFAULT` to get the most up-to-date weights.\n",
      "  warnings.warn(msg)\n"
     ]
    },
    {
     "name": "stdout",
     "output_type": "stream",
     "text": [
      "NetVLAD setting:\n",
      "num_clusters: 64 dim: 512 vladv2: False\n",
      "=> loading checkpoint 'vgg16_netvlad_checkpoint/checkpoints/checkpoint.pth.tar'\n",
      "=> loaded checkpoint 'vgg16_netvlad_checkpoint/checkpoints/checkpoint.pth.tar' (epoch 25)\n",
      "===> Running evaluation step\n",
      "VLAD encoding: tensor([[-0.0002,  0.0022, -0.0003,  ...,  0.0074,  0.0102, -0.0010]])\n",
      "VLAD encoding shape: torch.Size([1, 32768])\n",
      "Saved frame_vlad_embedding_pca to embedding_file:  <_io.TextIOWrapper name='/home/igor/Desktop/Victoria/tisl/tisl_localization_22s_copy-main/rscan_test/fcf66d8a-622d-291c-8429-0e1109c6bb26.txt' mode='a' encoding='UTF-8'>\n",
      "path_to_random_frame:  /home/igor/Desktop/Victoria/tisl/tisl_localization_22s_copy-main/rscan_test/fcf66d8a-622d-291c-8429-0e1109c6bb26/frame-000022.color.jpg\n",
      "Saved frame_position_numpy to embedding_file:  <_io.TextIOWrapper name='/home/igor/Desktop/Victoria/tisl/tisl_localization_22s_copy-main/rscan_test/fcf66d8a-622d-291c-8429-0e1109c6bb26.txt' mode='a' encoding='UTF-8'>\n",
      "===> Loading data\n",
      "Input image shape: torch.Size([1, 3, 540, 960])\n",
      "===> Building model\n"
     ]
    },
    {
     "name": "stderr",
     "output_type": "stream",
     "text": [
      "/home/igor/anaconda3/lib/python3.9/site-packages/torchvision/models/_utils.py:208: UserWarning: The parameter 'pretrained' is deprecated since 0.13 and will be removed in 0.15, please use 'weights' instead.\n",
      "  warnings.warn(\n",
      "/home/igor/anaconda3/lib/python3.9/site-packages/torchvision/models/_utils.py:223: UserWarning: Arguments other than a weight enum or `None` for 'weights' are deprecated since 0.13 and will be removed in 0.15. The current behavior is equivalent to passing `weights=VGG16_Weights.IMAGENET1K_V1`. You can also use `weights=VGG16_Weights.DEFAULT` to get the most up-to-date weights.\n",
      "  warnings.warn(msg)\n"
     ]
    },
    {
     "name": "stdout",
     "output_type": "stream",
     "text": [
      "NetVLAD setting:\n",
      "num_clusters: 64 dim: 512 vladv2: False\n",
      "=> loading checkpoint 'vgg16_netvlad_checkpoint/checkpoints/checkpoint.pth.tar'\n",
      "=> loaded checkpoint 'vgg16_netvlad_checkpoint/checkpoints/checkpoint.pth.tar' (epoch 25)\n",
      "===> Running evaluation step\n",
      "VLAD encoding: tensor([[ 0.0022,  0.0028, -0.0085,  ...,  0.0069,  0.0064, -0.0041]])\n",
      "VLAD encoding shape: torch.Size([1, 32768])\n",
      "Saved frame_vlad_embedding_pca to embedding_file:  <_io.TextIOWrapper name='/home/igor/Desktop/Victoria/tisl/tisl_localization_22s_copy-main/rscan_test/fcf66d8a-622d-291c-8429-0e1109c6bb26.txt' mode='a' encoding='UTF-8'>\n",
      "path_to_random_frame:  /home/igor/Desktop/Victoria/tisl/tisl_localization_22s_copy-main/rscan_test/fcf66d8a-622d-291c-8429-0e1109c6bb26/frame-000023.color.jpg\n",
      "Saved frame_position_numpy to embedding_file:  <_io.TextIOWrapper name='/home/igor/Desktop/Victoria/tisl/tisl_localization_22s_copy-main/rscan_test/fcf66d8a-622d-291c-8429-0e1109c6bb26.txt' mode='a' encoding='UTF-8'>\n",
      "===> Loading data\n",
      "Input image shape: torch.Size([1, 3, 540, 960])\n",
      "===> Building model\n"
     ]
    },
    {
     "name": "stderr",
     "output_type": "stream",
     "text": [
      "/home/igor/anaconda3/lib/python3.9/site-packages/torchvision/models/_utils.py:208: UserWarning: The parameter 'pretrained' is deprecated since 0.13 and will be removed in 0.15, please use 'weights' instead.\n",
      "  warnings.warn(\n",
      "/home/igor/anaconda3/lib/python3.9/site-packages/torchvision/models/_utils.py:223: UserWarning: Arguments other than a weight enum or `None` for 'weights' are deprecated since 0.13 and will be removed in 0.15. The current behavior is equivalent to passing `weights=VGG16_Weights.IMAGENET1K_V1`. You can also use `weights=VGG16_Weights.DEFAULT` to get the most up-to-date weights.\n",
      "  warnings.warn(msg)\n"
     ]
    },
    {
     "name": "stdout",
     "output_type": "stream",
     "text": [
      "NetVLAD setting:\n",
      "num_clusters: 64 dim: 512 vladv2: False\n",
      "=> loading checkpoint 'vgg16_netvlad_checkpoint/checkpoints/checkpoint.pth.tar'\n",
      "=> loaded checkpoint 'vgg16_netvlad_checkpoint/checkpoints/checkpoint.pth.tar' (epoch 25)\n",
      "===> Running evaluation step\n",
      "VLAD encoding: tensor([[ 0.0036,  0.0014, -0.0032,  ...,  0.0004,  0.0089, -0.0090]])\n",
      "VLAD encoding shape: torch.Size([1, 32768])\n",
      "Saved frame_vlad_embedding_pca to embedding_file:  <_io.TextIOWrapper name='/home/igor/Desktop/Victoria/tisl/tisl_localization_22s_copy-main/rscan_test/fcf66d8a-622d-291c-8429-0e1109c6bb26.txt' mode='a' encoding='UTF-8'>\n",
      "path_to_random_frame:  /home/igor/Desktop/Victoria/tisl/tisl_localization_22s_copy-main/rscan_test/fcf66d8a-622d-291c-8429-0e1109c6bb26/frame-000026.color.jpg\n",
      "Saved frame_position_numpy to embedding_file:  <_io.TextIOWrapper name='/home/igor/Desktop/Victoria/tisl/tisl_localization_22s_copy-main/rscan_test/fcf66d8a-622d-291c-8429-0e1109c6bb26.txt' mode='a' encoding='UTF-8'>\n",
      "===> Loading data\n",
      "Input image shape: torch.Size([1, 3, 540, 960])\n",
      "===> Building model\n"
     ]
    },
    {
     "name": "stderr",
     "output_type": "stream",
     "text": [
      "/home/igor/anaconda3/lib/python3.9/site-packages/torchvision/models/_utils.py:208: UserWarning: The parameter 'pretrained' is deprecated since 0.13 and will be removed in 0.15, please use 'weights' instead.\n",
      "  warnings.warn(\n",
      "/home/igor/anaconda3/lib/python3.9/site-packages/torchvision/models/_utils.py:223: UserWarning: Arguments other than a weight enum or `None` for 'weights' are deprecated since 0.13 and will be removed in 0.15. The current behavior is equivalent to passing `weights=VGG16_Weights.IMAGENET1K_V1`. You can also use `weights=VGG16_Weights.DEFAULT` to get the most up-to-date weights.\n",
      "  warnings.warn(msg)\n"
     ]
    },
    {
     "name": "stdout",
     "output_type": "stream",
     "text": [
      "NetVLAD setting:\n",
      "num_clusters: 64 dim: 512 vladv2: False\n",
      "=> loading checkpoint 'vgg16_netvlad_checkpoint/checkpoints/checkpoint.pth.tar'\n",
      "=> loaded checkpoint 'vgg16_netvlad_checkpoint/checkpoints/checkpoint.pth.tar' (epoch 25)\n",
      "===> Running evaluation step\n",
      "VLAD encoding: tensor([[ 0.0030,  0.0011, -0.0036,  ..., -0.0003,  0.0133,  0.0001]])\n",
      "VLAD encoding shape: torch.Size([1, 32768])\n",
      "Saved frame_vlad_embedding_pca to embedding_file:  <_io.TextIOWrapper name='/home/igor/Desktop/Victoria/tisl/tisl_localization_22s_copy-main/rscan_test/fcf66d8a-622d-291c-8429-0e1109c6bb26.txt' mode='a' encoding='UTF-8'>\n",
      "path_to_random_frame:  /home/igor/Desktop/Victoria/tisl/tisl_localization_22s_copy-main/rscan_test/fcf66d8a-622d-291c-8429-0e1109c6bb26/frame-000027.color.jpg\n",
      "Saved frame_position_numpy to embedding_file:  <_io.TextIOWrapper name='/home/igor/Desktop/Victoria/tisl/tisl_localization_22s_copy-main/rscan_test/fcf66d8a-622d-291c-8429-0e1109c6bb26.txt' mode='a' encoding='UTF-8'>\n",
      "===> Loading data\n",
      "Input image shape: torch.Size([1, 3, 540, 960])\n",
      "===> Building model\n"
     ]
    },
    {
     "name": "stderr",
     "output_type": "stream",
     "text": [
      "/home/igor/anaconda3/lib/python3.9/site-packages/torchvision/models/_utils.py:208: UserWarning: The parameter 'pretrained' is deprecated since 0.13 and will be removed in 0.15, please use 'weights' instead.\n",
      "  warnings.warn(\n",
      "/home/igor/anaconda3/lib/python3.9/site-packages/torchvision/models/_utils.py:223: UserWarning: Arguments other than a weight enum or `None` for 'weights' are deprecated since 0.13 and will be removed in 0.15. The current behavior is equivalent to passing `weights=VGG16_Weights.IMAGENET1K_V1`. You can also use `weights=VGG16_Weights.DEFAULT` to get the most up-to-date weights.\n",
      "  warnings.warn(msg)\n"
     ]
    },
    {
     "name": "stdout",
     "output_type": "stream",
     "text": [
      "NetVLAD setting:\n",
      "num_clusters: 64 dim: 512 vladv2: False\n",
      "=> loading checkpoint 'vgg16_netvlad_checkpoint/checkpoints/checkpoint.pth.tar'\n",
      "=> loaded checkpoint 'vgg16_netvlad_checkpoint/checkpoints/checkpoint.pth.tar' (epoch 25)\n",
      "===> Running evaluation step\n",
      "VLAD encoding: tensor([[ 0.0070,  0.0033, -0.0038,  ...,  0.0020,  0.0119,  0.0062]])\n",
      "VLAD encoding shape: torch.Size([1, 32768])\n",
      "Saved frame_vlad_embedding_pca to embedding_file:  <_io.TextIOWrapper name='/home/igor/Desktop/Victoria/tisl/tisl_localization_22s_copy-main/rscan_test/fcf66d8a-622d-291c-8429-0e1109c6bb26.txt' mode='a' encoding='UTF-8'>\n",
      "path_to_random_frame:  /home/igor/Desktop/Victoria/tisl/tisl_localization_22s_copy-main/rscan_test/fcf66d8a-622d-291c-8429-0e1109c6bb26/frame-000032.color.jpg\n",
      "Saved frame_position_numpy to embedding_file:  <_io.TextIOWrapper name='/home/igor/Desktop/Victoria/tisl/tisl_localization_22s_copy-main/rscan_test/fcf66d8a-622d-291c-8429-0e1109c6bb26.txt' mode='a' encoding='UTF-8'>\n",
      "===> Loading data\n",
      "Input image shape: torch.Size([1, 3, 540, 960])\n",
      "===> Building model\n"
     ]
    },
    {
     "name": "stderr",
     "output_type": "stream",
     "text": [
      "/home/igor/anaconda3/lib/python3.9/site-packages/torchvision/models/_utils.py:208: UserWarning: The parameter 'pretrained' is deprecated since 0.13 and will be removed in 0.15, please use 'weights' instead.\n",
      "  warnings.warn(\n",
      "/home/igor/anaconda3/lib/python3.9/site-packages/torchvision/models/_utils.py:223: UserWarning: Arguments other than a weight enum or `None` for 'weights' are deprecated since 0.13 and will be removed in 0.15. The current behavior is equivalent to passing `weights=VGG16_Weights.IMAGENET1K_V1`. You can also use `weights=VGG16_Weights.DEFAULT` to get the most up-to-date weights.\n",
      "  warnings.warn(msg)\n"
     ]
    },
    {
     "name": "stdout",
     "output_type": "stream",
     "text": [
      "NetVLAD setting:\n",
      "num_clusters: 64 dim: 512 vladv2: False\n",
      "=> loading checkpoint 'vgg16_netvlad_checkpoint/checkpoints/checkpoint.pth.tar'\n",
      "=> loaded checkpoint 'vgg16_netvlad_checkpoint/checkpoints/checkpoint.pth.tar' (epoch 25)\n",
      "===> Running evaluation step\n",
      "VLAD encoding: tensor([[-0.0024, -0.0080,  0.0046,  ...,  0.0062,  0.0075, -0.0016]])\n",
      "VLAD encoding shape: torch.Size([1, 32768])\n",
      "Saved frame_vlad_embedding_pca to embedding_file:  <_io.TextIOWrapper name='/home/igor/Desktop/Victoria/tisl/tisl_localization_22s_copy-main/rscan_test/fcf66d8a-622d-291c-8429-0e1109c6bb26.txt' mode='a' encoding='UTF-8'>\n",
      "path_to_random_frame:  /home/igor/Desktop/Victoria/tisl/tisl_localization_22s_copy-main/rscan_test/fcf66d8a-622d-291c-8429-0e1109c6bb26/frame-000034.color.jpg\n",
      "Saved frame_position_numpy to embedding_file:  <_io.TextIOWrapper name='/home/igor/Desktop/Victoria/tisl/tisl_localization_22s_copy-main/rscan_test/fcf66d8a-622d-291c-8429-0e1109c6bb26.txt' mode='a' encoding='UTF-8'>\n",
      "===> Loading data\n",
      "Input image shape: torch.Size([1, 3, 540, 960])\n",
      "===> Building model\n"
     ]
    },
    {
     "name": "stderr",
     "output_type": "stream",
     "text": [
      "/home/igor/anaconda3/lib/python3.9/site-packages/torchvision/models/_utils.py:208: UserWarning: The parameter 'pretrained' is deprecated since 0.13 and will be removed in 0.15, please use 'weights' instead.\n",
      "  warnings.warn(\n",
      "/home/igor/anaconda3/lib/python3.9/site-packages/torchvision/models/_utils.py:223: UserWarning: Arguments other than a weight enum or `None` for 'weights' are deprecated since 0.13 and will be removed in 0.15. The current behavior is equivalent to passing `weights=VGG16_Weights.IMAGENET1K_V1`. You can also use `weights=VGG16_Weights.DEFAULT` to get the most up-to-date weights.\n",
      "  warnings.warn(msg)\n"
     ]
    },
    {
     "name": "stdout",
     "output_type": "stream",
     "text": [
      "NetVLAD setting:\n",
      "num_clusters: 64 dim: 512 vladv2: False\n",
      "=> loading checkpoint 'vgg16_netvlad_checkpoint/checkpoints/checkpoint.pth.tar'\n",
      "=> loaded checkpoint 'vgg16_netvlad_checkpoint/checkpoints/checkpoint.pth.tar' (epoch 25)\n",
      "===> Running evaluation step\n",
      "VLAD encoding: tensor([[ 0.0013, -0.0107,  0.0050,  ...,  0.0040,  0.0127, -0.0016]])\n",
      "VLAD encoding shape: torch.Size([1, 32768])\n",
      "Saved frame_vlad_embedding_pca to embedding_file:  <_io.TextIOWrapper name='/home/igor/Desktop/Victoria/tisl/tisl_localization_22s_copy-main/rscan_test/fcf66d8a-622d-291c-8429-0e1109c6bb26.txt' mode='a' encoding='UTF-8'>\n",
      "path_to_random_frame:  /home/igor/Desktop/Victoria/tisl/tisl_localization_22s_copy-main/rscan_test/fcf66d8a-622d-291c-8429-0e1109c6bb26/frame-000036.color.jpg\n",
      "Saved frame_position_numpy to embedding_file:  <_io.TextIOWrapper name='/home/igor/Desktop/Victoria/tisl/tisl_localization_22s_copy-main/rscan_test/fcf66d8a-622d-291c-8429-0e1109c6bb26.txt' mode='a' encoding='UTF-8'>\n",
      "===> Loading data\n",
      "Input image shape: torch.Size([1, 3, 540, 960])\n",
      "===> Building model\n"
     ]
    },
    {
     "name": "stderr",
     "output_type": "stream",
     "text": [
      "/home/igor/anaconda3/lib/python3.9/site-packages/torchvision/models/_utils.py:208: UserWarning: The parameter 'pretrained' is deprecated since 0.13 and will be removed in 0.15, please use 'weights' instead.\n",
      "  warnings.warn(\n",
      "/home/igor/anaconda3/lib/python3.9/site-packages/torchvision/models/_utils.py:223: UserWarning: Arguments other than a weight enum or `None` for 'weights' are deprecated since 0.13 and will be removed in 0.15. The current behavior is equivalent to passing `weights=VGG16_Weights.IMAGENET1K_V1`. You can also use `weights=VGG16_Weights.DEFAULT` to get the most up-to-date weights.\n",
      "  warnings.warn(msg)\n"
     ]
    },
    {
     "name": "stdout",
     "output_type": "stream",
     "text": [
      "NetVLAD setting:\n",
      "num_clusters: 64 dim: 512 vladv2: False\n",
      "=> loading checkpoint 'vgg16_netvlad_checkpoint/checkpoints/checkpoint.pth.tar'\n",
      "=> loaded checkpoint 'vgg16_netvlad_checkpoint/checkpoints/checkpoint.pth.tar' (epoch 25)\n",
      "===> Running evaluation step\n",
      "VLAD encoding: tensor([[-0.0017, -0.0069,  0.0070,  ...,  0.0102,  0.0039, -0.0025]])\n",
      "VLAD encoding shape: torch.Size([1, 32768])\n",
      "Saved frame_vlad_embedding_pca to embedding_file:  <_io.TextIOWrapper name='/home/igor/Desktop/Victoria/tisl/tisl_localization_22s_copy-main/rscan_test/fcf66d8a-622d-291c-8429-0e1109c6bb26.txt' mode='a' encoding='UTF-8'>\n",
      "path_to_random_frame:  /home/igor/Desktop/Victoria/tisl/tisl_localization_22s_copy-main/rscan_test/fcf66d8a-622d-291c-8429-0e1109c6bb26/frame-000040.color.jpg\n",
      "Saved frame_position_numpy to embedding_file:  <_io.TextIOWrapper name='/home/igor/Desktop/Victoria/tisl/tisl_localization_22s_copy-main/rscan_test/fcf66d8a-622d-291c-8429-0e1109c6bb26.txt' mode='a' encoding='UTF-8'>\n",
      "===> Loading data\n",
      "Input image shape: torch.Size([1, 3, 540, 960])\n",
      "===> Building model\n"
     ]
    },
    {
     "name": "stderr",
     "output_type": "stream",
     "text": [
      "/home/igor/anaconda3/lib/python3.9/site-packages/torchvision/models/_utils.py:208: UserWarning: The parameter 'pretrained' is deprecated since 0.13 and will be removed in 0.15, please use 'weights' instead.\n",
      "  warnings.warn(\n",
      "/home/igor/anaconda3/lib/python3.9/site-packages/torchvision/models/_utils.py:223: UserWarning: Arguments other than a weight enum or `None` for 'weights' are deprecated since 0.13 and will be removed in 0.15. The current behavior is equivalent to passing `weights=VGG16_Weights.IMAGENET1K_V1`. You can also use `weights=VGG16_Weights.DEFAULT` to get the most up-to-date weights.\n",
      "  warnings.warn(msg)\n"
     ]
    },
    {
     "name": "stdout",
     "output_type": "stream",
     "text": [
      "NetVLAD setting:\n",
      "num_clusters: 64 dim: 512 vladv2: False\n",
      "=> loading checkpoint 'vgg16_netvlad_checkpoint/checkpoints/checkpoint.pth.tar'\n",
      "=> loaded checkpoint 'vgg16_netvlad_checkpoint/checkpoints/checkpoint.pth.tar' (epoch 25)\n",
      "===> Running evaluation step\n",
      "VLAD encoding: tensor([[ 0.0030, -0.0031, -0.0033,  ...,  0.0144,  0.0057, -0.0076]])\n",
      "VLAD encoding shape: torch.Size([1, 32768])\n",
      "Saved frame_vlad_embedding_pca to embedding_file:  <_io.TextIOWrapper name='/home/igor/Desktop/Victoria/tisl/tisl_localization_22s_copy-main/rscan_test/fcf66d8a-622d-291c-8429-0e1109c6bb26.txt' mode='a' encoding='UTF-8'>\n",
      "path_to_random_frame:  /home/igor/Desktop/Victoria/tisl/tisl_localization_22s_copy-main/rscan_test/fcf66d8a-622d-291c-8429-0e1109c6bb26/frame-000041.color.jpg\n",
      "Saved frame_position_numpy to embedding_file:  <_io.TextIOWrapper name='/home/igor/Desktop/Victoria/tisl/tisl_localization_22s_copy-main/rscan_test/fcf66d8a-622d-291c-8429-0e1109c6bb26.txt' mode='a' encoding='UTF-8'>\n",
      "===> Loading data\n",
      "Input image shape: torch.Size([1, 3, 540, 960])\n",
      "===> Building model\n"
     ]
    },
    {
     "name": "stderr",
     "output_type": "stream",
     "text": [
      "/home/igor/anaconda3/lib/python3.9/site-packages/torchvision/models/_utils.py:208: UserWarning: The parameter 'pretrained' is deprecated since 0.13 and will be removed in 0.15, please use 'weights' instead.\n",
      "  warnings.warn(\n",
      "/home/igor/anaconda3/lib/python3.9/site-packages/torchvision/models/_utils.py:223: UserWarning: Arguments other than a weight enum or `None` for 'weights' are deprecated since 0.13 and will be removed in 0.15. The current behavior is equivalent to passing `weights=VGG16_Weights.IMAGENET1K_V1`. You can also use `weights=VGG16_Weights.DEFAULT` to get the most up-to-date weights.\n",
      "  warnings.warn(msg)\n"
     ]
    },
    {
     "name": "stdout",
     "output_type": "stream",
     "text": [
      "NetVLAD setting:\n",
      "num_clusters: 64 dim: 512 vladv2: False\n",
      "=> loading checkpoint 'vgg16_netvlad_checkpoint/checkpoints/checkpoint.pth.tar'\n",
      "=> loaded checkpoint 'vgg16_netvlad_checkpoint/checkpoints/checkpoint.pth.tar' (epoch 25)\n",
      "===> Running evaluation step\n",
      "VLAD encoding: tensor([[ 0.0035, -0.0049,  0.0084,  ...,  0.0110,  0.0062, -0.0052]])\n",
      "VLAD encoding shape: torch.Size([1, 32768])\n",
      "Saved frame_vlad_embedding_pca to embedding_file:  <_io.TextIOWrapper name='/home/igor/Desktop/Victoria/tisl/tisl_localization_22s_copy-main/rscan_test/fcf66d8a-622d-291c-8429-0e1109c6bb26.txt' mode='a' encoding='UTF-8'>\n",
      "path_to_random_frame:  /home/igor/Desktop/Victoria/tisl/tisl_localization_22s_copy-main/rscan_test/fcf66d8a-622d-291c-8429-0e1109c6bb26/frame-000062.color.jpg\n",
      "Saved frame_position_numpy to embedding_file:  <_io.TextIOWrapper name='/home/igor/Desktop/Victoria/tisl/tisl_localization_22s_copy-main/rscan_test/fcf66d8a-622d-291c-8429-0e1109c6bb26.txt' mode='a' encoding='UTF-8'>\n",
      "===> Loading data\n",
      "Input image shape: torch.Size([1, 3, 540, 960])\n",
      "===> Building model\n"
     ]
    },
    {
     "name": "stderr",
     "output_type": "stream",
     "text": [
      "/home/igor/anaconda3/lib/python3.9/site-packages/torchvision/models/_utils.py:208: UserWarning: The parameter 'pretrained' is deprecated since 0.13 and will be removed in 0.15, please use 'weights' instead.\n",
      "  warnings.warn(\n",
      "/home/igor/anaconda3/lib/python3.9/site-packages/torchvision/models/_utils.py:223: UserWarning: Arguments other than a weight enum or `None` for 'weights' are deprecated since 0.13 and will be removed in 0.15. The current behavior is equivalent to passing `weights=VGG16_Weights.IMAGENET1K_V1`. You can also use `weights=VGG16_Weights.DEFAULT` to get the most up-to-date weights.\n",
      "  warnings.warn(msg)\n"
     ]
    },
    {
     "name": "stdout",
     "output_type": "stream",
     "text": [
      "NetVLAD setting:\n",
      "num_clusters: 64 dim: 512 vladv2: False\n",
      "=> loading checkpoint 'vgg16_netvlad_checkpoint/checkpoints/checkpoint.pth.tar'\n",
      "=> loaded checkpoint 'vgg16_netvlad_checkpoint/checkpoints/checkpoint.pth.tar' (epoch 25)\n",
      "===> Running evaluation step\n",
      "VLAD encoding: tensor([[-0.0053, -0.0050,  0.0032,  ...,  0.0024,  0.0170,  0.0010]])\n",
      "VLAD encoding shape: torch.Size([1, 32768])\n",
      "Saved frame_vlad_embedding_pca to embedding_file:  <_io.TextIOWrapper name='/home/igor/Desktop/Victoria/tisl/tisl_localization_22s_copy-main/rscan_test/fcf66d8a-622d-291c-8429-0e1109c6bb26.txt' mode='a' encoding='UTF-8'>\n",
      "path_to_random_frame:  /home/igor/Desktop/Victoria/tisl/tisl_localization_22s_copy-main/rscan_test/fcf66d8a-622d-291c-8429-0e1109c6bb26/frame-000067.color.jpg\n",
      "Saved frame_position_numpy to embedding_file:  <_io.TextIOWrapper name='/home/igor/Desktop/Victoria/tisl/tisl_localization_22s_copy-main/rscan_test/fcf66d8a-622d-291c-8429-0e1109c6bb26.txt' mode='a' encoding='UTF-8'>\n",
      "===> Loading data\n",
      "Input image shape: torch.Size([1, 3, 540, 960])\n",
      "===> Building model\n"
     ]
    },
    {
     "name": "stderr",
     "output_type": "stream",
     "text": [
      "/home/igor/anaconda3/lib/python3.9/site-packages/torchvision/models/_utils.py:208: UserWarning: The parameter 'pretrained' is deprecated since 0.13 and will be removed in 0.15, please use 'weights' instead.\n",
      "  warnings.warn(\n",
      "/home/igor/anaconda3/lib/python3.9/site-packages/torchvision/models/_utils.py:223: UserWarning: Arguments other than a weight enum or `None` for 'weights' are deprecated since 0.13 and will be removed in 0.15. The current behavior is equivalent to passing `weights=VGG16_Weights.IMAGENET1K_V1`. You can also use `weights=VGG16_Weights.DEFAULT` to get the most up-to-date weights.\n",
      "  warnings.warn(msg)\n"
     ]
    },
    {
     "name": "stdout",
     "output_type": "stream",
     "text": [
      "NetVLAD setting:\n",
      "num_clusters: 64 dim: 512 vladv2: False\n",
      "=> loading checkpoint 'vgg16_netvlad_checkpoint/checkpoints/checkpoint.pth.tar'\n",
      "=> loaded checkpoint 'vgg16_netvlad_checkpoint/checkpoints/checkpoint.pth.tar' (epoch 25)\n",
      "===> Running evaluation step\n",
      "VLAD encoding: tensor([[-0.0061, -0.0060, -0.0036,  ...,  0.0086,  0.0089, -0.0005]])\n",
      "VLAD encoding shape: torch.Size([1, 32768])\n",
      "Saved frame_vlad_embedding_pca to embedding_file:  <_io.TextIOWrapper name='/home/igor/Desktop/Victoria/tisl/tisl_localization_22s_copy-main/rscan_test/fcf66d8a-622d-291c-8429-0e1109c6bb26.txt' mode='a' encoding='UTF-8'>\n",
      "path_to_random_frame:  /home/igor/Desktop/Victoria/tisl/tisl_localization_22s_copy-main/rscan_test/fcf66d8a-622d-291c-8429-0e1109c6bb26/frame-000068.color.jpg\n",
      "Saved frame_position_numpy to embedding_file:  <_io.TextIOWrapper name='/home/igor/Desktop/Victoria/tisl/tisl_localization_22s_copy-main/rscan_test/fcf66d8a-622d-291c-8429-0e1109c6bb26.txt' mode='a' encoding='UTF-8'>\n",
      "===> Loading data\n",
      "Input image shape: torch.Size([1, 3, 540, 960])\n",
      "===> Building model\n"
     ]
    },
    {
     "name": "stderr",
     "output_type": "stream",
     "text": [
      "/home/igor/anaconda3/lib/python3.9/site-packages/torchvision/models/_utils.py:208: UserWarning: The parameter 'pretrained' is deprecated since 0.13 and will be removed in 0.15, please use 'weights' instead.\n",
      "  warnings.warn(\n",
      "/home/igor/anaconda3/lib/python3.9/site-packages/torchvision/models/_utils.py:223: UserWarning: Arguments other than a weight enum or `None` for 'weights' are deprecated since 0.13 and will be removed in 0.15. The current behavior is equivalent to passing `weights=VGG16_Weights.IMAGENET1K_V1`. You can also use `weights=VGG16_Weights.DEFAULT` to get the most up-to-date weights.\n",
      "  warnings.warn(msg)\n"
     ]
    },
    {
     "name": "stdout",
     "output_type": "stream",
     "text": [
      "NetVLAD setting:\n",
      "num_clusters: 64 dim: 512 vladv2: False\n",
      "=> loading checkpoint 'vgg16_netvlad_checkpoint/checkpoints/checkpoint.pth.tar'\n",
      "=> loaded checkpoint 'vgg16_netvlad_checkpoint/checkpoints/checkpoint.pth.tar' (epoch 25)\n",
      "===> Running evaluation step\n",
      "VLAD encoding: tensor([[-0.0080, -0.0071, -0.0007,  ...,  0.0031,  0.0064, -0.0062]])\n",
      "VLAD encoding shape: torch.Size([1, 32768])\n",
      "Saved frame_vlad_embedding_pca to embedding_file:  <_io.TextIOWrapper name='/home/igor/Desktop/Victoria/tisl/tisl_localization_22s_copy-main/rscan_test/fcf66d8a-622d-291c-8429-0e1109c6bb26.txt' mode='a' encoding='UTF-8'>\n",
      "path_to_random_frame:  /home/igor/Desktop/Victoria/tisl/tisl_localization_22s_copy-main/rscan_test/fcf66d8a-622d-291c-8429-0e1109c6bb26/frame-000074.color.jpg\n",
      "Saved frame_position_numpy to embedding_file:  <_io.TextIOWrapper name='/home/igor/Desktop/Victoria/tisl/tisl_localization_22s_copy-main/rscan_test/fcf66d8a-622d-291c-8429-0e1109c6bb26.txt' mode='a' encoding='UTF-8'>\n",
      "===> Loading data\n",
      "Input image shape: torch.Size([1, 3, 540, 960])\n",
      "===> Building model\n"
     ]
    },
    {
     "name": "stderr",
     "output_type": "stream",
     "text": [
      "/home/igor/anaconda3/lib/python3.9/site-packages/torchvision/models/_utils.py:208: UserWarning: The parameter 'pretrained' is deprecated since 0.13 and will be removed in 0.15, please use 'weights' instead.\n",
      "  warnings.warn(\n",
      "/home/igor/anaconda3/lib/python3.9/site-packages/torchvision/models/_utils.py:223: UserWarning: Arguments other than a weight enum or `None` for 'weights' are deprecated since 0.13 and will be removed in 0.15. The current behavior is equivalent to passing `weights=VGG16_Weights.IMAGENET1K_V1`. You can also use `weights=VGG16_Weights.DEFAULT` to get the most up-to-date weights.\n",
      "  warnings.warn(msg)\n"
     ]
    },
    {
     "name": "stdout",
     "output_type": "stream",
     "text": [
      "NetVLAD setting:\n",
      "num_clusters: 64 dim: 512 vladv2: False\n",
      "=> loading checkpoint 'vgg16_netvlad_checkpoint/checkpoints/checkpoint.pth.tar'\n",
      "=> loaded checkpoint 'vgg16_netvlad_checkpoint/checkpoints/checkpoint.pth.tar' (epoch 25)\n",
      "===> Running evaluation step\n",
      "VLAD encoding: tensor([[-0.0017, -0.0008,  0.0035,  ...,  0.0083,  0.0099, -0.0015]])\n",
      "VLAD encoding shape: torch.Size([1, 32768])\n",
      "Saved frame_vlad_embedding_pca to embedding_file:  <_io.TextIOWrapper name='/home/igor/Desktop/Victoria/tisl/tisl_localization_22s_copy-main/rscan_test/fcf66d8a-622d-291c-8429-0e1109c6bb26.txt' mode='a' encoding='UTF-8'>\n",
      "path_to_random_frame:  /home/igor/Desktop/Victoria/tisl/tisl_localization_22s_copy-main/rscan_test/fcf66d8a-622d-291c-8429-0e1109c6bb26/frame-000078.color.jpg\n",
      "Saved frame_position_numpy to embedding_file:  <_io.TextIOWrapper name='/home/igor/Desktop/Victoria/tisl/tisl_localization_22s_copy-main/rscan_test/fcf66d8a-622d-291c-8429-0e1109c6bb26.txt' mode='a' encoding='UTF-8'>\n",
      "===> Loading data\n",
      "Input image shape: torch.Size([1, 3, 540, 960])\n",
      "===> Building model\n"
     ]
    },
    {
     "name": "stderr",
     "output_type": "stream",
     "text": [
      "/home/igor/anaconda3/lib/python3.9/site-packages/torchvision/models/_utils.py:208: UserWarning: The parameter 'pretrained' is deprecated since 0.13 and will be removed in 0.15, please use 'weights' instead.\n",
      "  warnings.warn(\n",
      "/home/igor/anaconda3/lib/python3.9/site-packages/torchvision/models/_utils.py:223: UserWarning: Arguments other than a weight enum or `None` for 'weights' are deprecated since 0.13 and will be removed in 0.15. The current behavior is equivalent to passing `weights=VGG16_Weights.IMAGENET1K_V1`. You can also use `weights=VGG16_Weights.DEFAULT` to get the most up-to-date weights.\n",
      "  warnings.warn(msg)\n"
     ]
    },
    {
     "name": "stdout",
     "output_type": "stream",
     "text": [
      "NetVLAD setting:\n",
      "num_clusters: 64 dim: 512 vladv2: False\n",
      "=> loading checkpoint 'vgg16_netvlad_checkpoint/checkpoints/checkpoint.pth.tar'\n",
      "=> loaded checkpoint 'vgg16_netvlad_checkpoint/checkpoints/checkpoint.pth.tar' (epoch 25)\n",
      "===> Running evaluation step\n",
      "VLAD encoding: tensor([[ 0.0040, -0.0016,  0.0020,  ...,  0.0116,  0.0085, -0.0104]])\n",
      "VLAD encoding shape: torch.Size([1, 32768])\n",
      "Saved frame_vlad_embedding_pca to embedding_file:  <_io.TextIOWrapper name='/home/igor/Desktop/Victoria/tisl/tisl_localization_22s_copy-main/rscan_test/fcf66d8a-622d-291c-8429-0e1109c6bb26.txt' mode='a' encoding='UTF-8'>\n",
      "path_to_random_frame:  /home/igor/Desktop/Victoria/tisl/tisl_localization_22s_copy-main/rscan_test/fcf66d8a-622d-291c-8429-0e1109c6bb26/frame-000080.color.jpg\n",
      "Saved frame_position_numpy to embedding_file:  <_io.TextIOWrapper name='/home/igor/Desktop/Victoria/tisl/tisl_localization_22s_copy-main/rscan_test/fcf66d8a-622d-291c-8429-0e1109c6bb26.txt' mode='a' encoding='UTF-8'>\n",
      "===> Loading data\n",
      "Input image shape: torch.Size([1, 3, 540, 960])\n",
      "===> Building model\n"
     ]
    },
    {
     "name": "stderr",
     "output_type": "stream",
     "text": [
      "/home/igor/anaconda3/lib/python3.9/site-packages/torchvision/models/_utils.py:208: UserWarning: The parameter 'pretrained' is deprecated since 0.13 and will be removed in 0.15, please use 'weights' instead.\n",
      "  warnings.warn(\n",
      "/home/igor/anaconda3/lib/python3.9/site-packages/torchvision/models/_utils.py:223: UserWarning: Arguments other than a weight enum or `None` for 'weights' are deprecated since 0.13 and will be removed in 0.15. The current behavior is equivalent to passing `weights=VGG16_Weights.IMAGENET1K_V1`. You can also use `weights=VGG16_Weights.DEFAULT` to get the most up-to-date weights.\n",
      "  warnings.warn(msg)\n"
     ]
    },
    {
     "name": "stdout",
     "output_type": "stream",
     "text": [
      "NetVLAD setting:\n",
      "num_clusters: 64 dim: 512 vladv2: False\n",
      "=> loading checkpoint 'vgg16_netvlad_checkpoint/checkpoints/checkpoint.pth.tar'\n",
      "=> loaded checkpoint 'vgg16_netvlad_checkpoint/checkpoints/checkpoint.pth.tar' (epoch 25)\n",
      "===> Running evaluation step\n",
      "VLAD encoding: tensor([[ 0.0077, -0.0014,  0.0057,  ...,  0.0176,  0.0139, -0.0017]])\n",
      "VLAD encoding shape: torch.Size([1, 32768])\n",
      "Saved frame_vlad_embedding_pca to embedding_file:  <_io.TextIOWrapper name='/home/igor/Desktop/Victoria/tisl/tisl_localization_22s_copy-main/rscan_test/fcf66d8a-622d-291c-8429-0e1109c6bb26.txt' mode='a' encoding='UTF-8'>\n",
      "path_to_random_frame:  /home/igor/Desktop/Victoria/tisl/tisl_localization_22s_copy-main/rscan_test/fcf66d8a-622d-291c-8429-0e1109c6bb26/frame-000085.color.jpg\n",
      "Saved frame_position_numpy to embedding_file:  <_io.TextIOWrapper name='/home/igor/Desktop/Victoria/tisl/tisl_localization_22s_copy-main/rscan_test/fcf66d8a-622d-291c-8429-0e1109c6bb26.txt' mode='a' encoding='UTF-8'>\n",
      "===> Loading data\n",
      "Input image shape: torch.Size([1, 3, 540, 960])\n",
      "===> Building model\n"
     ]
    },
    {
     "name": "stderr",
     "output_type": "stream",
     "text": [
      "/home/igor/anaconda3/lib/python3.9/site-packages/torchvision/models/_utils.py:208: UserWarning: The parameter 'pretrained' is deprecated since 0.13 and will be removed in 0.15, please use 'weights' instead.\n",
      "  warnings.warn(\n",
      "/home/igor/anaconda3/lib/python3.9/site-packages/torchvision/models/_utils.py:223: UserWarning: Arguments other than a weight enum or `None` for 'weights' are deprecated since 0.13 and will be removed in 0.15. The current behavior is equivalent to passing `weights=VGG16_Weights.IMAGENET1K_V1`. You can also use `weights=VGG16_Weights.DEFAULT` to get the most up-to-date weights.\n",
      "  warnings.warn(msg)\n"
     ]
    },
    {
     "name": "stdout",
     "output_type": "stream",
     "text": [
      "NetVLAD setting:\n",
      "num_clusters: 64 dim: 512 vladv2: False\n",
      "=> loading checkpoint 'vgg16_netvlad_checkpoint/checkpoints/checkpoint.pth.tar'\n",
      "=> loaded checkpoint 'vgg16_netvlad_checkpoint/checkpoints/checkpoint.pth.tar' (epoch 25)\n",
      "===> Running evaluation step\n",
      "VLAD encoding: tensor([[ 0.0012, -0.0042,  0.0065,  ...,  0.0097,  0.0115, -0.0029]])\n",
      "VLAD encoding shape: torch.Size([1, 32768])\n",
      "Saved frame_vlad_embedding_pca to embedding_file:  <_io.TextIOWrapper name='/home/igor/Desktop/Victoria/tisl/tisl_localization_22s_copy-main/rscan_test/fcf66d8a-622d-291c-8429-0e1109c6bb26.txt' mode='a' encoding='UTF-8'>\n",
      "path_to_random_frame:  /home/igor/Desktop/Victoria/tisl/tisl_localization_22s_copy-main/rscan_test/fcf66d8a-622d-291c-8429-0e1109c6bb26/frame-000086.color.jpg\n",
      "Saved frame_position_numpy to embedding_file:  <_io.TextIOWrapper name='/home/igor/Desktop/Victoria/tisl/tisl_localization_22s_copy-main/rscan_test/fcf66d8a-622d-291c-8429-0e1109c6bb26.txt' mode='a' encoding='UTF-8'>\n",
      "===> Loading data\n",
      "Input image shape: torch.Size([1, 3, 540, 960])\n",
      "===> Building model\n"
     ]
    },
    {
     "name": "stderr",
     "output_type": "stream",
     "text": [
      "/home/igor/anaconda3/lib/python3.9/site-packages/torchvision/models/_utils.py:208: UserWarning: The parameter 'pretrained' is deprecated since 0.13 and will be removed in 0.15, please use 'weights' instead.\n",
      "  warnings.warn(\n",
      "/home/igor/anaconda3/lib/python3.9/site-packages/torchvision/models/_utils.py:223: UserWarning: Arguments other than a weight enum or `None` for 'weights' are deprecated since 0.13 and will be removed in 0.15. The current behavior is equivalent to passing `weights=VGG16_Weights.IMAGENET1K_V1`. You can also use `weights=VGG16_Weights.DEFAULT` to get the most up-to-date weights.\n",
      "  warnings.warn(msg)\n"
     ]
    },
    {
     "name": "stdout",
     "output_type": "stream",
     "text": [
      "NetVLAD setting:\n",
      "num_clusters: 64 dim: 512 vladv2: False\n",
      "=> loading checkpoint 'vgg16_netvlad_checkpoint/checkpoints/checkpoint.pth.tar'\n",
      "=> loaded checkpoint 'vgg16_netvlad_checkpoint/checkpoints/checkpoint.pth.tar' (epoch 25)\n",
      "===> Running evaluation step\n",
      "VLAD encoding: tensor([[ 0.0058, -0.0034,  0.0007,  ...,  0.0062,  0.0064, -0.0093]])\n",
      "VLAD encoding shape: torch.Size([1, 32768])\n",
      "Saved frame_vlad_embedding_pca to embedding_file:  <_io.TextIOWrapper name='/home/igor/Desktop/Victoria/tisl/tisl_localization_22s_copy-main/rscan_test/fcf66d8a-622d-291c-8429-0e1109c6bb26.txt' mode='a' encoding='UTF-8'>\n",
      "path_to_random_frame:  /home/igor/Desktop/Victoria/tisl/tisl_localization_22s_copy-main/rscan_test/fcf66d8a-622d-291c-8429-0e1109c6bb26/frame-000087.color.jpg\n",
      "Saved frame_position_numpy to embedding_file:  <_io.TextIOWrapper name='/home/igor/Desktop/Victoria/tisl/tisl_localization_22s_copy-main/rscan_test/fcf66d8a-622d-291c-8429-0e1109c6bb26.txt' mode='a' encoding='UTF-8'>\n",
      "===> Loading data\n",
      "Input image shape: torch.Size([1, 3, 540, 960])\n",
      "===> Building model\n"
     ]
    },
    {
     "name": "stderr",
     "output_type": "stream",
     "text": [
      "/home/igor/anaconda3/lib/python3.9/site-packages/torchvision/models/_utils.py:208: UserWarning: The parameter 'pretrained' is deprecated since 0.13 and will be removed in 0.15, please use 'weights' instead.\n",
      "  warnings.warn(\n",
      "/home/igor/anaconda3/lib/python3.9/site-packages/torchvision/models/_utils.py:223: UserWarning: Arguments other than a weight enum or `None` for 'weights' are deprecated since 0.13 and will be removed in 0.15. The current behavior is equivalent to passing `weights=VGG16_Weights.IMAGENET1K_V1`. You can also use `weights=VGG16_Weights.DEFAULT` to get the most up-to-date weights.\n",
      "  warnings.warn(msg)\n"
     ]
    },
    {
     "name": "stdout",
     "output_type": "stream",
     "text": [
      "NetVLAD setting:\n",
      "num_clusters: 64 dim: 512 vladv2: False\n",
      "=> loading checkpoint 'vgg16_netvlad_checkpoint/checkpoints/checkpoint.pth.tar'\n",
      "=> loaded checkpoint 'vgg16_netvlad_checkpoint/checkpoints/checkpoint.pth.tar' (epoch 25)\n",
      "===> Running evaluation step\n",
      "VLAD encoding: tensor([[ 0.0003, -0.0075,  0.0060,  ...,  0.0076,  0.0041, -0.0081]])\n",
      "VLAD encoding shape: torch.Size([1, 32768])\n",
      "Saved frame_vlad_embedding_pca to embedding_file:  <_io.TextIOWrapper name='/home/igor/Desktop/Victoria/tisl/tisl_localization_22s_copy-main/rscan_test/fcf66d8a-622d-291c-8429-0e1109c6bb26.txt' mode='a' encoding='UTF-8'>\n",
      "path_to_random_frame:  /home/igor/Desktop/Victoria/tisl/tisl_localization_22s_copy-main/rscan_test/fcf66d8a-622d-291c-8429-0e1109c6bb26/frame-000096.color.jpg\n",
      "Saved frame_position_numpy to embedding_file:  <_io.TextIOWrapper name='/home/igor/Desktop/Victoria/tisl/tisl_localization_22s_copy-main/rscan_test/fcf66d8a-622d-291c-8429-0e1109c6bb26.txt' mode='a' encoding='UTF-8'>\n",
      "===> Loading data\n",
      "Input image shape: torch.Size([1, 3, 540, 960])\n",
      "===> Building model\n"
     ]
    },
    {
     "name": "stderr",
     "output_type": "stream",
     "text": [
      "/home/igor/anaconda3/lib/python3.9/site-packages/torchvision/models/_utils.py:208: UserWarning: The parameter 'pretrained' is deprecated since 0.13 and will be removed in 0.15, please use 'weights' instead.\n",
      "  warnings.warn(\n",
      "/home/igor/anaconda3/lib/python3.9/site-packages/torchvision/models/_utils.py:223: UserWarning: Arguments other than a weight enum or `None` for 'weights' are deprecated since 0.13 and will be removed in 0.15. The current behavior is equivalent to passing `weights=VGG16_Weights.IMAGENET1K_V1`. You can also use `weights=VGG16_Weights.DEFAULT` to get the most up-to-date weights.\n",
      "  warnings.warn(msg)\n"
     ]
    },
    {
     "name": "stdout",
     "output_type": "stream",
     "text": [
      "NetVLAD setting:\n",
      "num_clusters: 64 dim: 512 vladv2: False\n",
      "=> loading checkpoint 'vgg16_netvlad_checkpoint/checkpoints/checkpoint.pth.tar'\n",
      "=> loaded checkpoint 'vgg16_netvlad_checkpoint/checkpoints/checkpoint.pth.tar' (epoch 25)\n",
      "===> Running evaluation step\n",
      "VLAD encoding: tensor([[-0.0022, -0.0081,  0.0116,  ...,  0.0042,  0.0084, -0.0029]])\n",
      "VLAD encoding shape: torch.Size([1, 32768])\n",
      "Saved frame_vlad_embedding_pca to embedding_file:  <_io.TextIOWrapper name='/home/igor/Desktop/Victoria/tisl/tisl_localization_22s_copy-main/rscan_test/fcf66d8a-622d-291c-8429-0e1109c6bb26.txt' mode='a' encoding='UTF-8'>\n",
      "path_to_random_frame:  /home/igor/Desktop/Victoria/tisl/tisl_localization_22s_copy-main/rscan_test/fcf66d8a-622d-291c-8429-0e1109c6bb26/frame-000097.color.jpg\n",
      "Saved frame_position_numpy to embedding_file:  <_io.TextIOWrapper name='/home/igor/Desktop/Victoria/tisl/tisl_localization_22s_copy-main/rscan_test/fcf66d8a-622d-291c-8429-0e1109c6bb26.txt' mode='a' encoding='UTF-8'>\n",
      "===> Loading data\n",
      "Input image shape: torch.Size([1, 3, 540, 960])\n",
      "===> Building model\n"
     ]
    },
    {
     "name": "stderr",
     "output_type": "stream",
     "text": [
      "/home/igor/anaconda3/lib/python3.9/site-packages/torchvision/models/_utils.py:208: UserWarning: The parameter 'pretrained' is deprecated since 0.13 and will be removed in 0.15, please use 'weights' instead.\n",
      "  warnings.warn(\n",
      "/home/igor/anaconda3/lib/python3.9/site-packages/torchvision/models/_utils.py:223: UserWarning: Arguments other than a weight enum or `None` for 'weights' are deprecated since 0.13 and will be removed in 0.15. The current behavior is equivalent to passing `weights=VGG16_Weights.IMAGENET1K_V1`. You can also use `weights=VGG16_Weights.DEFAULT` to get the most up-to-date weights.\n",
      "  warnings.warn(msg)\n"
     ]
    },
    {
     "name": "stdout",
     "output_type": "stream",
     "text": [
      "NetVLAD setting:\n",
      "num_clusters: 64 dim: 512 vladv2: False\n",
      "=> loading checkpoint 'vgg16_netvlad_checkpoint/checkpoints/checkpoint.pth.tar'\n",
      "=> loaded checkpoint 'vgg16_netvlad_checkpoint/checkpoints/checkpoint.pth.tar' (epoch 25)\n",
      "===> Running evaluation step\n",
      "VLAD encoding: tensor([[ 0.0013, -0.0066,  0.0062,  ...,  0.0087,  0.0075, -0.0043]])\n",
      "VLAD encoding shape: torch.Size([1, 32768])\n",
      "Saved frame_vlad_embedding_pca to embedding_file:  <_io.TextIOWrapper name='/home/igor/Desktop/Victoria/tisl/tisl_localization_22s_copy-main/rscan_test/fcf66d8a-622d-291c-8429-0e1109c6bb26.txt' mode='a' encoding='UTF-8'>\n",
      "path_to_random_frame:  /home/igor/Desktop/Victoria/tisl/tisl_localization_22s_copy-main/rscan_test/fcf66d8a-622d-291c-8429-0e1109c6bb26/frame-000104.color.jpg\n",
      "Saved frame_position_numpy to embedding_file:  <_io.TextIOWrapper name='/home/igor/Desktop/Victoria/tisl/tisl_localization_22s_copy-main/rscan_test/fcf66d8a-622d-291c-8429-0e1109c6bb26.txt' mode='a' encoding='UTF-8'>\n",
      "===> Loading data\n",
      "Input image shape: torch.Size([1, 3, 540, 960])\n",
      "===> Building model\n"
     ]
    },
    {
     "name": "stderr",
     "output_type": "stream",
     "text": [
      "/home/igor/anaconda3/lib/python3.9/site-packages/torchvision/models/_utils.py:208: UserWarning: The parameter 'pretrained' is deprecated since 0.13 and will be removed in 0.15, please use 'weights' instead.\n",
      "  warnings.warn(\n",
      "/home/igor/anaconda3/lib/python3.9/site-packages/torchvision/models/_utils.py:223: UserWarning: Arguments other than a weight enum or `None` for 'weights' are deprecated since 0.13 and will be removed in 0.15. The current behavior is equivalent to passing `weights=VGG16_Weights.IMAGENET1K_V1`. You can also use `weights=VGG16_Weights.DEFAULT` to get the most up-to-date weights.\n",
      "  warnings.warn(msg)\n"
     ]
    },
    {
     "name": "stdout",
     "output_type": "stream",
     "text": [
      "NetVLAD setting:\n",
      "num_clusters: 64 dim: 512 vladv2: False\n",
      "=> loading checkpoint 'vgg16_netvlad_checkpoint/checkpoints/checkpoint.pth.tar'\n",
      "=> loaded checkpoint 'vgg16_netvlad_checkpoint/checkpoints/checkpoint.pth.tar' (epoch 25)\n",
      "===> Running evaluation step\n",
      "VLAD encoding: tensor([[-0.0034, -0.0077,  0.0085,  ...,  0.0035,  0.0063, -0.0034]])\n",
      "VLAD encoding shape: torch.Size([1, 32768])\n",
      "Saved frame_vlad_embedding_pca to embedding_file:  <_io.TextIOWrapper name='/home/igor/Desktop/Victoria/tisl/tisl_localization_22s_copy-main/rscan_test/fcf66d8a-622d-291c-8429-0e1109c6bb26.txt' mode='a' encoding='UTF-8'>\n",
      "path_to_random_frame:  /home/igor/Desktop/Victoria/tisl/tisl_localization_22s_copy-main/rscan_test/fcf66d8a-622d-291c-8429-0e1109c6bb26/frame-000110.color.jpg\n",
      "Saved frame_position_numpy to embedding_file:  <_io.TextIOWrapper name='/home/igor/Desktop/Victoria/tisl/tisl_localization_22s_copy-main/rscan_test/fcf66d8a-622d-291c-8429-0e1109c6bb26.txt' mode='a' encoding='UTF-8'>\n",
      "===> Loading data\n",
      "Input image shape: torch.Size([1, 3, 540, 960])\n",
      "===> Building model\n"
     ]
    },
    {
     "name": "stderr",
     "output_type": "stream",
     "text": [
      "/home/igor/anaconda3/lib/python3.9/site-packages/torchvision/models/_utils.py:208: UserWarning: The parameter 'pretrained' is deprecated since 0.13 and will be removed in 0.15, please use 'weights' instead.\n",
      "  warnings.warn(\n",
      "/home/igor/anaconda3/lib/python3.9/site-packages/torchvision/models/_utils.py:223: UserWarning: Arguments other than a weight enum or `None` for 'weights' are deprecated since 0.13 and will be removed in 0.15. The current behavior is equivalent to passing `weights=VGG16_Weights.IMAGENET1K_V1`. You can also use `weights=VGG16_Weights.DEFAULT` to get the most up-to-date weights.\n",
      "  warnings.warn(msg)\n"
     ]
    },
    {
     "name": "stdout",
     "output_type": "stream",
     "text": [
      "NetVLAD setting:\n",
      "num_clusters: 64 dim: 512 vladv2: False\n",
      "=> loading checkpoint 'vgg16_netvlad_checkpoint/checkpoints/checkpoint.pth.tar'\n",
      "=> loaded checkpoint 'vgg16_netvlad_checkpoint/checkpoints/checkpoint.pth.tar' (epoch 25)\n",
      "===> Running evaluation step\n",
      "VLAD encoding: tensor([[-0.0035, -0.0046, -0.0005,  ...,  0.0019,  0.0055, -0.0050]])\n",
      "VLAD encoding shape: torch.Size([1, 32768])\n",
      "Saved frame_vlad_embedding_pca to embedding_file:  <_io.TextIOWrapper name='/home/igor/Desktop/Victoria/tisl/tisl_localization_22s_copy-main/rscan_test/fcf66d8a-622d-291c-8429-0e1109c6bb26.txt' mode='a' encoding='UTF-8'>\n",
      "path_to_random_frame:  /home/igor/Desktop/Victoria/tisl/tisl_localization_22s_copy-main/rscan_test/fcf66d8a-622d-291c-8429-0e1109c6bb26/frame-000111.color.jpg\n",
      "Saved frame_position_numpy to embedding_file:  <_io.TextIOWrapper name='/home/igor/Desktop/Victoria/tisl/tisl_localization_22s_copy-main/rscan_test/fcf66d8a-622d-291c-8429-0e1109c6bb26.txt' mode='a' encoding='UTF-8'>\n",
      "===> Loading data\n",
      "Input image shape: torch.Size([1, 3, 540, 960])\n",
      "===> Building model\n"
     ]
    },
    {
     "name": "stderr",
     "output_type": "stream",
     "text": [
      "/home/igor/anaconda3/lib/python3.9/site-packages/torchvision/models/_utils.py:208: UserWarning: The parameter 'pretrained' is deprecated since 0.13 and will be removed in 0.15, please use 'weights' instead.\n",
      "  warnings.warn(\n",
      "/home/igor/anaconda3/lib/python3.9/site-packages/torchvision/models/_utils.py:223: UserWarning: Arguments other than a weight enum or `None` for 'weights' are deprecated since 0.13 and will be removed in 0.15. The current behavior is equivalent to passing `weights=VGG16_Weights.IMAGENET1K_V1`. You can also use `weights=VGG16_Weights.DEFAULT` to get the most up-to-date weights.\n",
      "  warnings.warn(msg)\n"
     ]
    },
    {
     "name": "stdout",
     "output_type": "stream",
     "text": [
      "NetVLAD setting:\n",
      "num_clusters: 64 dim: 512 vladv2: False\n",
      "=> loading checkpoint 'vgg16_netvlad_checkpoint/checkpoints/checkpoint.pth.tar'\n",
      "=> loaded checkpoint 'vgg16_netvlad_checkpoint/checkpoints/checkpoint.pth.tar' (epoch 25)\n",
      "===> Running evaluation step\n",
      "VLAD encoding: tensor([[-0.0047, -0.0079,  0.0044,  ...,  0.0030,  0.0063, -0.0050]])\n",
      "VLAD encoding shape: torch.Size([1, 32768])\n",
      "Saved frame_vlad_embedding_pca to embedding_file:  <_io.TextIOWrapper name='/home/igor/Desktop/Victoria/tisl/tisl_localization_22s_copy-main/rscan_test/fcf66d8a-622d-291c-8429-0e1109c6bb26.txt' mode='a' encoding='UTF-8'>\n",
      "path_to_random_frame:  /home/igor/Desktop/Victoria/tisl/tisl_localization_22s_copy-main/rscan_test/fcf66d8a-622d-291c-8429-0e1109c6bb26/frame-000114.color.jpg\n",
      "Saved frame_position_numpy to embedding_file:  <_io.TextIOWrapper name='/home/igor/Desktop/Victoria/tisl/tisl_localization_22s_copy-main/rscan_test/fcf66d8a-622d-291c-8429-0e1109c6bb26.txt' mode='a' encoding='UTF-8'>\n",
      "===> Loading data\n",
      "Input image shape: torch.Size([1, 3, 540, 960])\n",
      "===> Building model\n"
     ]
    },
    {
     "name": "stderr",
     "output_type": "stream",
     "text": [
      "/home/igor/anaconda3/lib/python3.9/site-packages/torchvision/models/_utils.py:208: UserWarning: The parameter 'pretrained' is deprecated since 0.13 and will be removed in 0.15, please use 'weights' instead.\n",
      "  warnings.warn(\n",
      "/home/igor/anaconda3/lib/python3.9/site-packages/torchvision/models/_utils.py:223: UserWarning: Arguments other than a weight enum or `None` for 'weights' are deprecated since 0.13 and will be removed in 0.15. The current behavior is equivalent to passing `weights=VGG16_Weights.IMAGENET1K_V1`. You can also use `weights=VGG16_Weights.DEFAULT` to get the most up-to-date weights.\n",
      "  warnings.warn(msg)\n"
     ]
    },
    {
     "name": "stdout",
     "output_type": "stream",
     "text": [
      "NetVLAD setting:\n",
      "num_clusters: 64 dim: 512 vladv2: False\n",
      "=> loading checkpoint 'vgg16_netvlad_checkpoint/checkpoints/checkpoint.pth.tar'\n",
      "=> loaded checkpoint 'vgg16_netvlad_checkpoint/checkpoints/checkpoint.pth.tar' (epoch 25)\n",
      "===> Running evaluation step\n",
      "VLAD encoding: tensor([[-0.0043,  0.0020,  0.0010,  ...,  0.0061,  0.0033, -0.0019]])\n",
      "VLAD encoding shape: torch.Size([1, 32768])\n",
      "Saved frame_vlad_embedding_pca to embedding_file:  <_io.TextIOWrapper name='/home/igor/Desktop/Victoria/tisl/tisl_localization_22s_copy-main/rscan_test/fcf66d8a-622d-291c-8429-0e1109c6bb26.txt' mode='a' encoding='UTF-8'>\n",
      "path_to_random_frame:  /home/igor/Desktop/Victoria/tisl/tisl_localization_22s_copy-main/rscan_test/fcf66d8a-622d-291c-8429-0e1109c6bb26/frame-000120.color.jpg\n",
      "Saved frame_position_numpy to embedding_file:  <_io.TextIOWrapper name='/home/igor/Desktop/Victoria/tisl/tisl_localization_22s_copy-main/rscan_test/fcf66d8a-622d-291c-8429-0e1109c6bb26.txt' mode='a' encoding='UTF-8'>\n",
      "===> Loading data\n",
      "Input image shape: torch.Size([1, 3, 540, 960])\n",
      "===> Building model\n"
     ]
    },
    {
     "name": "stderr",
     "output_type": "stream",
     "text": [
      "/home/igor/anaconda3/lib/python3.9/site-packages/torchvision/models/_utils.py:208: UserWarning: The parameter 'pretrained' is deprecated since 0.13 and will be removed in 0.15, please use 'weights' instead.\n",
      "  warnings.warn(\n",
      "/home/igor/anaconda3/lib/python3.9/site-packages/torchvision/models/_utils.py:223: UserWarning: Arguments other than a weight enum or `None` for 'weights' are deprecated since 0.13 and will be removed in 0.15. The current behavior is equivalent to passing `weights=VGG16_Weights.IMAGENET1K_V1`. You can also use `weights=VGG16_Weights.DEFAULT` to get the most up-to-date weights.\n",
      "  warnings.warn(msg)\n"
     ]
    },
    {
     "name": "stdout",
     "output_type": "stream",
     "text": [
      "NetVLAD setting:\n",
      "num_clusters: 64 dim: 512 vladv2: False\n",
      "=> loading checkpoint 'vgg16_netvlad_checkpoint/checkpoints/checkpoint.pth.tar'\n",
      "=> loaded checkpoint 'vgg16_netvlad_checkpoint/checkpoints/checkpoint.pth.tar' (epoch 25)\n",
      "===> Running evaluation step\n",
      "VLAD encoding: tensor([[ 0.0037, -0.0093, -0.0006,  ...,  0.0056,  0.0024, -0.0071]])\n",
      "VLAD encoding shape: torch.Size([1, 32768])\n",
      "Saved frame_vlad_embedding_pca to embedding_file:  <_io.TextIOWrapper name='/home/igor/Desktop/Victoria/tisl/tisl_localization_22s_copy-main/rscan_test/fcf66d8a-622d-291c-8429-0e1109c6bb26.txt' mode='a' encoding='UTF-8'>\n",
      "path_to_random_frame:  /home/igor/Desktop/Victoria/tisl/tisl_localization_22s_copy-main/rscan_test/fcf66d8a-622d-291c-8429-0e1109c6bb26/frame-000122.color.jpg\n",
      "Saved frame_position_numpy to embedding_file:  <_io.TextIOWrapper name='/home/igor/Desktop/Victoria/tisl/tisl_localization_22s_copy-main/rscan_test/fcf66d8a-622d-291c-8429-0e1109c6bb26.txt' mode='a' encoding='UTF-8'>\n",
      "===> Loading data\n",
      "Input image shape: torch.Size([1, 3, 540, 960])\n",
      "===> Building model\n"
     ]
    },
    {
     "name": "stderr",
     "output_type": "stream",
     "text": [
      "/home/igor/anaconda3/lib/python3.9/site-packages/torchvision/models/_utils.py:208: UserWarning: The parameter 'pretrained' is deprecated since 0.13 and will be removed in 0.15, please use 'weights' instead.\n",
      "  warnings.warn(\n",
      "/home/igor/anaconda3/lib/python3.9/site-packages/torchvision/models/_utils.py:223: UserWarning: Arguments other than a weight enum or `None` for 'weights' are deprecated since 0.13 and will be removed in 0.15. The current behavior is equivalent to passing `weights=VGG16_Weights.IMAGENET1K_V1`. You can also use `weights=VGG16_Weights.DEFAULT` to get the most up-to-date weights.\n",
      "  warnings.warn(msg)\n"
     ]
    },
    {
     "name": "stdout",
     "output_type": "stream",
     "text": [
      "NetVLAD setting:\n",
      "num_clusters: 64 dim: 512 vladv2: False\n",
      "=> loading checkpoint 'vgg16_netvlad_checkpoint/checkpoints/checkpoint.pth.tar'\n",
      "=> loaded checkpoint 'vgg16_netvlad_checkpoint/checkpoints/checkpoint.pth.tar' (epoch 25)\n",
      "===> Running evaluation step\n",
      "VLAD encoding: tensor([[-0.0018, -0.0062,  0.0115,  ...,  0.0074, -0.0014, -0.0087]])\n",
      "VLAD encoding shape: torch.Size([1, 32768])\n",
      "Saved frame_vlad_embedding_pca to embedding_file:  <_io.TextIOWrapper name='/home/igor/Desktop/Victoria/tisl/tisl_localization_22s_copy-main/rscan_test/fcf66d8a-622d-291c-8429-0e1109c6bb26.txt' mode='a' encoding='UTF-8'>\n",
      "path_to_random_frame:  /home/igor/Desktop/Victoria/tisl/tisl_localization_22s_copy-main/rscan_test/fcf66d8a-622d-291c-8429-0e1109c6bb26/frame-000123.color.jpg\n",
      "Saved frame_position_numpy to embedding_file:  <_io.TextIOWrapper name='/home/igor/Desktop/Victoria/tisl/tisl_localization_22s_copy-main/rscan_test/fcf66d8a-622d-291c-8429-0e1109c6bb26.txt' mode='a' encoding='UTF-8'>\n",
      "===> Loading data\n",
      "Input image shape: torch.Size([1, 3, 540, 960])\n",
      "===> Building model\n"
     ]
    },
    {
     "name": "stderr",
     "output_type": "stream",
     "text": [
      "/home/igor/anaconda3/lib/python3.9/site-packages/torchvision/models/_utils.py:208: UserWarning: The parameter 'pretrained' is deprecated since 0.13 and will be removed in 0.15, please use 'weights' instead.\n",
      "  warnings.warn(\n",
      "/home/igor/anaconda3/lib/python3.9/site-packages/torchvision/models/_utils.py:223: UserWarning: Arguments other than a weight enum or `None` for 'weights' are deprecated since 0.13 and will be removed in 0.15. The current behavior is equivalent to passing `weights=VGG16_Weights.IMAGENET1K_V1`. You can also use `weights=VGG16_Weights.DEFAULT` to get the most up-to-date weights.\n",
      "  warnings.warn(msg)\n"
     ]
    },
    {
     "name": "stdout",
     "output_type": "stream",
     "text": [
      "NetVLAD setting:\n",
      "num_clusters: 64 dim: 512 vladv2: False\n",
      "=> loading checkpoint 'vgg16_netvlad_checkpoint/checkpoints/checkpoint.pth.tar'\n",
      "=> loaded checkpoint 'vgg16_netvlad_checkpoint/checkpoints/checkpoint.pth.tar' (epoch 25)\n",
      "===> Running evaluation step\n",
      "VLAD encoding: tensor([[-0.0006, -0.0044,  0.0109,  ...,  0.0018,  0.0101,  0.0041]])\n",
      "VLAD encoding shape: torch.Size([1, 32768])\n",
      "Saved frame_vlad_embedding_pca to embedding_file:  <_io.TextIOWrapper name='/home/igor/Desktop/Victoria/tisl/tisl_localization_22s_copy-main/rscan_test/fcf66d8a-622d-291c-8429-0e1109c6bb26.txt' mode='a' encoding='UTF-8'>\n",
      "path_to_random_frame:  /home/igor/Desktop/Victoria/tisl/tisl_localization_22s_copy-main/rscan_test/fcf66d8a-622d-291c-8429-0e1109c6bb26/frame-000133.color.jpg\n",
      "Saved frame_position_numpy to embedding_file:  <_io.TextIOWrapper name='/home/igor/Desktop/Victoria/tisl/tisl_localization_22s_copy-main/rscan_test/fcf66d8a-622d-291c-8429-0e1109c6bb26.txt' mode='a' encoding='UTF-8'>\n",
      "===> Loading data\n",
      "Input image shape: torch.Size([1, 3, 540, 960])\n",
      "===> Building model\n"
     ]
    },
    {
     "name": "stderr",
     "output_type": "stream",
     "text": [
      "/home/igor/anaconda3/lib/python3.9/site-packages/torchvision/models/_utils.py:208: UserWarning: The parameter 'pretrained' is deprecated since 0.13 and will be removed in 0.15, please use 'weights' instead.\n",
      "  warnings.warn(\n",
      "/home/igor/anaconda3/lib/python3.9/site-packages/torchvision/models/_utils.py:223: UserWarning: Arguments other than a weight enum or `None` for 'weights' are deprecated since 0.13 and will be removed in 0.15. The current behavior is equivalent to passing `weights=VGG16_Weights.IMAGENET1K_V1`. You can also use `weights=VGG16_Weights.DEFAULT` to get the most up-to-date weights.\n",
      "  warnings.warn(msg)\n"
     ]
    },
    {
     "name": "stdout",
     "output_type": "stream",
     "text": [
      "NetVLAD setting:\n",
      "num_clusters: 64 dim: 512 vladv2: False\n",
      "=> loading checkpoint 'vgg16_netvlad_checkpoint/checkpoints/checkpoint.pth.tar'\n",
      "=> loaded checkpoint 'vgg16_netvlad_checkpoint/checkpoints/checkpoint.pth.tar' (epoch 25)\n",
      "===> Running evaluation step\n",
      "VLAD encoding: tensor([[-0.0017, -0.0076,  0.0026,  ...,  0.0013,  0.0123,  0.0058]])\n",
      "VLAD encoding shape: torch.Size([1, 32768])\n",
      "Saved frame_vlad_embedding_pca to embedding_file:  <_io.TextIOWrapper name='/home/igor/Desktop/Victoria/tisl/tisl_localization_22s_copy-main/rscan_test/fcf66d8a-622d-291c-8429-0e1109c6bb26.txt' mode='a' encoding='UTF-8'>\n",
      "path_to_random_frame:  /home/igor/Desktop/Victoria/tisl/tisl_localization_22s_copy-main/rscan_test/fcf66d8a-622d-291c-8429-0e1109c6bb26/frame-000137.color.jpg\n",
      "Saved frame_position_numpy to embedding_file:  <_io.TextIOWrapper name='/home/igor/Desktop/Victoria/tisl/tisl_localization_22s_copy-main/rscan_test/fcf66d8a-622d-291c-8429-0e1109c6bb26.txt' mode='a' encoding='UTF-8'>\n",
      "===> Loading data\n",
      "Input image shape: torch.Size([1, 3, 540, 960])\n",
      "===> Building model\n"
     ]
    },
    {
     "name": "stderr",
     "output_type": "stream",
     "text": [
      "/home/igor/anaconda3/lib/python3.9/site-packages/torchvision/models/_utils.py:208: UserWarning: The parameter 'pretrained' is deprecated since 0.13 and will be removed in 0.15, please use 'weights' instead.\n",
      "  warnings.warn(\n",
      "/home/igor/anaconda3/lib/python3.9/site-packages/torchvision/models/_utils.py:223: UserWarning: Arguments other than a weight enum or `None` for 'weights' are deprecated since 0.13 and will be removed in 0.15. The current behavior is equivalent to passing `weights=VGG16_Weights.IMAGENET1K_V1`. You can also use `weights=VGG16_Weights.DEFAULT` to get the most up-to-date weights.\n",
      "  warnings.warn(msg)\n"
     ]
    },
    {
     "name": "stdout",
     "output_type": "stream",
     "text": [
      "NetVLAD setting:\n",
      "num_clusters: 64 dim: 512 vladv2: False\n",
      "=> loading checkpoint 'vgg16_netvlad_checkpoint/checkpoints/checkpoint.pth.tar'\n",
      "=> loaded checkpoint 'vgg16_netvlad_checkpoint/checkpoints/checkpoint.pth.tar' (epoch 25)\n",
      "===> Running evaluation step\n",
      "VLAD encoding: tensor([[-0.0015,  0.0049,  0.0007,  ..., -0.0020,  0.0109,  0.0045]])\n",
      "VLAD encoding shape: torch.Size([1, 32768])\n",
      "Saved frame_vlad_embedding_pca to embedding_file:  <_io.TextIOWrapper name='/home/igor/Desktop/Victoria/tisl/tisl_localization_22s_copy-main/rscan_test/fcf66d8a-622d-291c-8429-0e1109c6bb26.txt' mode='a' encoding='UTF-8'>\n",
      "path_to_random_frame:  /home/igor/Desktop/Victoria/tisl/tisl_localization_22s_copy-main/rscan_test/fcf66d8a-622d-291c-8429-0e1109c6bb26/frame-000143.color.jpg\n",
      "Saved frame_position_numpy to embedding_file:  <_io.TextIOWrapper name='/home/igor/Desktop/Victoria/tisl/tisl_localization_22s_copy-main/rscan_test/fcf66d8a-622d-291c-8429-0e1109c6bb26.txt' mode='a' encoding='UTF-8'>\n",
      "===> Loading data\n",
      "Input image shape: torch.Size([1, 3, 540, 960])\n",
      "===> Building model\n"
     ]
    },
    {
     "name": "stderr",
     "output_type": "stream",
     "text": [
      "/home/igor/anaconda3/lib/python3.9/site-packages/torchvision/models/_utils.py:208: UserWarning: The parameter 'pretrained' is deprecated since 0.13 and will be removed in 0.15, please use 'weights' instead.\n",
      "  warnings.warn(\n",
      "/home/igor/anaconda3/lib/python3.9/site-packages/torchvision/models/_utils.py:223: UserWarning: Arguments other than a weight enum or `None` for 'weights' are deprecated since 0.13 and will be removed in 0.15. The current behavior is equivalent to passing `weights=VGG16_Weights.IMAGENET1K_V1`. You can also use `weights=VGG16_Weights.DEFAULT` to get the most up-to-date weights.\n",
      "  warnings.warn(msg)\n"
     ]
    },
    {
     "name": "stdout",
     "output_type": "stream",
     "text": [
      "NetVLAD setting:\n",
      "num_clusters: 64 dim: 512 vladv2: False\n",
      "=> loading checkpoint 'vgg16_netvlad_checkpoint/checkpoints/checkpoint.pth.tar'\n",
      "=> loaded checkpoint 'vgg16_netvlad_checkpoint/checkpoints/checkpoint.pth.tar' (epoch 25)\n",
      "===> Running evaluation step\n",
      "VLAD encoding: tensor([[-0.0014, -0.0106,  0.0081,  ...,  0.0137,  0.0121, -0.0031]])\n",
      "VLAD encoding shape: torch.Size([1, 32768])\n",
      "Saved frame_vlad_embedding_pca to embedding_file:  <_io.TextIOWrapper name='/home/igor/Desktop/Victoria/tisl/tisl_localization_22s_copy-main/rscan_test/fcf66d8a-622d-291c-8429-0e1109c6bb26.txt' mode='a' encoding='UTF-8'>\n",
      "path_to_random_frame:  /home/igor/Desktop/Victoria/tisl/tisl_localization_22s_copy-main/rscan_test/fcf66d8a-622d-291c-8429-0e1109c6bb26/frame-000146.color.jpg\n",
      "Saved frame_position_numpy to embedding_file:  <_io.TextIOWrapper name='/home/igor/Desktop/Victoria/tisl/tisl_localization_22s_copy-main/rscan_test/fcf66d8a-622d-291c-8429-0e1109c6bb26.txt' mode='a' encoding='UTF-8'>\n",
      "===> Loading data\n",
      "Input image shape: torch.Size([1, 3, 540, 960])\n",
      "===> Building model\n"
     ]
    },
    {
     "name": "stderr",
     "output_type": "stream",
     "text": [
      "/home/igor/anaconda3/lib/python3.9/site-packages/torchvision/models/_utils.py:208: UserWarning: The parameter 'pretrained' is deprecated since 0.13 and will be removed in 0.15, please use 'weights' instead.\n",
      "  warnings.warn(\n",
      "/home/igor/anaconda3/lib/python3.9/site-packages/torchvision/models/_utils.py:223: UserWarning: Arguments other than a weight enum or `None` for 'weights' are deprecated since 0.13 and will be removed in 0.15. The current behavior is equivalent to passing `weights=VGG16_Weights.IMAGENET1K_V1`. You can also use `weights=VGG16_Weights.DEFAULT` to get the most up-to-date weights.\n",
      "  warnings.warn(msg)\n"
     ]
    },
    {
     "name": "stdout",
     "output_type": "stream",
     "text": [
      "NetVLAD setting:\n",
      "num_clusters: 64 dim: 512 vladv2: False\n",
      "=> loading checkpoint 'vgg16_netvlad_checkpoint/checkpoints/checkpoint.pth.tar'\n",
      "=> loaded checkpoint 'vgg16_netvlad_checkpoint/checkpoints/checkpoint.pth.tar' (epoch 25)\n",
      "===> Running evaluation step\n",
      "VLAD encoding: tensor([[ 0.0093, -0.0043,  0.0033,  ...,  0.0129,  0.0056, -0.0031]])\n",
      "VLAD encoding shape: torch.Size([1, 32768])\n",
      "Saved frame_vlad_embedding_pca to embedding_file:  <_io.TextIOWrapper name='/home/igor/Desktop/Victoria/tisl/tisl_localization_22s_copy-main/rscan_test/fcf66d8a-622d-291c-8429-0e1109c6bb26.txt' mode='a' encoding='UTF-8'>\n",
      "path_to_random_frame:  /home/igor/Desktop/Victoria/tisl/tisl_localization_22s_copy-main/rscan_test/fcf66d8a-622d-291c-8429-0e1109c6bb26/frame-000152.color.jpg\n",
      "Saved frame_position_numpy to embedding_file:  <_io.TextIOWrapper name='/home/igor/Desktop/Victoria/tisl/tisl_localization_22s_copy-main/rscan_test/fcf66d8a-622d-291c-8429-0e1109c6bb26.txt' mode='a' encoding='UTF-8'>\n",
      "===> Loading data\n",
      "Input image shape: torch.Size([1, 3, 540, 960])\n",
      "===> Building model\n"
     ]
    },
    {
     "name": "stderr",
     "output_type": "stream",
     "text": [
      "/home/igor/anaconda3/lib/python3.9/site-packages/torchvision/models/_utils.py:208: UserWarning: The parameter 'pretrained' is deprecated since 0.13 and will be removed in 0.15, please use 'weights' instead.\n",
      "  warnings.warn(\n",
      "/home/igor/anaconda3/lib/python3.9/site-packages/torchvision/models/_utils.py:223: UserWarning: Arguments other than a weight enum or `None` for 'weights' are deprecated since 0.13 and will be removed in 0.15. The current behavior is equivalent to passing `weights=VGG16_Weights.IMAGENET1K_V1`. You can also use `weights=VGG16_Weights.DEFAULT` to get the most up-to-date weights.\n",
      "  warnings.warn(msg)\n"
     ]
    },
    {
     "name": "stdout",
     "output_type": "stream",
     "text": [
      "NetVLAD setting:\n",
      "num_clusters: 64 dim: 512 vladv2: False\n",
      "=> loading checkpoint 'vgg16_netvlad_checkpoint/checkpoints/checkpoint.pth.tar'\n",
      "=> loaded checkpoint 'vgg16_netvlad_checkpoint/checkpoints/checkpoint.pth.tar' (epoch 25)\n",
      "===> Running evaluation step\n",
      "VLAD encoding: tensor([[ 0.0036, -0.0052,  0.0042,  ...,  0.0058,  0.0132,  0.0010]])\n",
      "VLAD encoding shape: torch.Size([1, 32768])\n",
      "Saved frame_vlad_embedding_pca to embedding_file:  <_io.TextIOWrapper name='/home/igor/Desktop/Victoria/tisl/tisl_localization_22s_copy-main/rscan_test/fcf66d8a-622d-291c-8429-0e1109c6bb26.txt' mode='a' encoding='UTF-8'>\n",
      "path_to_random_frame:  /home/igor/Desktop/Victoria/tisl/tisl_localization_22s_copy-main/rscan_test/fcf66d8a-622d-291c-8429-0e1109c6bb26/frame-000170.color.jpg\n",
      "Saved frame_position_numpy to embedding_file:  <_io.TextIOWrapper name='/home/igor/Desktop/Victoria/tisl/tisl_localization_22s_copy-main/rscan_test/fcf66d8a-622d-291c-8429-0e1109c6bb26.txt' mode='a' encoding='UTF-8'>\n",
      "===> Loading data\n",
      "Input image shape: torch.Size([1, 3, 540, 960])\n",
      "===> Building model\n"
     ]
    },
    {
     "name": "stderr",
     "output_type": "stream",
     "text": [
      "/home/igor/anaconda3/lib/python3.9/site-packages/torchvision/models/_utils.py:208: UserWarning: The parameter 'pretrained' is deprecated since 0.13 and will be removed in 0.15, please use 'weights' instead.\n",
      "  warnings.warn(\n",
      "/home/igor/anaconda3/lib/python3.9/site-packages/torchvision/models/_utils.py:223: UserWarning: Arguments other than a weight enum or `None` for 'weights' are deprecated since 0.13 and will be removed in 0.15. The current behavior is equivalent to passing `weights=VGG16_Weights.IMAGENET1K_V1`. You can also use `weights=VGG16_Weights.DEFAULT` to get the most up-to-date weights.\n",
      "  warnings.warn(msg)\n"
     ]
    },
    {
     "name": "stdout",
     "output_type": "stream",
     "text": [
      "NetVLAD setting:\n",
      "num_clusters: 64 dim: 512 vladv2: False\n",
      "=> loading checkpoint 'vgg16_netvlad_checkpoint/checkpoints/checkpoint.pth.tar'\n",
      "=> loaded checkpoint 'vgg16_netvlad_checkpoint/checkpoints/checkpoint.pth.tar' (epoch 25)\n",
      "===> Running evaluation step\n",
      "VLAD encoding: tensor([[ 0.0013, -0.0016,  0.0002,  ...,  0.0049,  0.0129,  0.0024]])\n",
      "VLAD encoding shape: torch.Size([1, 32768])\n",
      "Saved frame_vlad_embedding_pca to embedding_file:  <_io.TextIOWrapper name='/home/igor/Desktop/Victoria/tisl/tisl_localization_22s_copy-main/rscan_test/fcf66d8a-622d-291c-8429-0e1109c6bb26.txt' mode='a' encoding='UTF-8'>\n",
      "path_to_random_frame:  /home/igor/Desktop/Victoria/tisl/tisl_localization_22s_copy-main/rscan_test/fcf66d8a-622d-291c-8429-0e1109c6bb26/frame-000179.color.jpg\n",
      "Saved frame_position_numpy to embedding_file:  <_io.TextIOWrapper name='/home/igor/Desktop/Victoria/tisl/tisl_localization_22s_copy-main/rscan_test/fcf66d8a-622d-291c-8429-0e1109c6bb26.txt' mode='a' encoding='UTF-8'>\n",
      "===> Loading data\n",
      "Input image shape: torch.Size([1, 3, 540, 960])\n",
      "===> Building model\n"
     ]
    },
    {
     "name": "stderr",
     "output_type": "stream",
     "text": [
      "/home/igor/anaconda3/lib/python3.9/site-packages/torchvision/models/_utils.py:208: UserWarning: The parameter 'pretrained' is deprecated since 0.13 and will be removed in 0.15, please use 'weights' instead.\n",
      "  warnings.warn(\n",
      "/home/igor/anaconda3/lib/python3.9/site-packages/torchvision/models/_utils.py:223: UserWarning: Arguments other than a weight enum or `None` for 'weights' are deprecated since 0.13 and will be removed in 0.15. The current behavior is equivalent to passing `weights=VGG16_Weights.IMAGENET1K_V1`. You can also use `weights=VGG16_Weights.DEFAULT` to get the most up-to-date weights.\n",
      "  warnings.warn(msg)\n"
     ]
    },
    {
     "name": "stdout",
     "output_type": "stream",
     "text": [
      "NetVLAD setting:\n",
      "num_clusters: 64 dim: 512 vladv2: False\n",
      "=> loading checkpoint 'vgg16_netvlad_checkpoint/checkpoints/checkpoint.pth.tar'\n",
      "=> loaded checkpoint 'vgg16_netvlad_checkpoint/checkpoints/checkpoint.pth.tar' (epoch 25)\n",
      "===> Running evaluation step\n",
      "VLAD encoding: tensor([[0.0025, 0.0009, 0.0073,  ..., 0.0062, 0.0061, 0.0064]])\n",
      "VLAD encoding shape: torch.Size([1, 32768])\n",
      "Saved frame_vlad_embedding_pca to embedding_file:  <_io.TextIOWrapper name='/home/igor/Desktop/Victoria/tisl/tisl_localization_22s_copy-main/rscan_test/fcf66d8a-622d-291c-8429-0e1109c6bb26.txt' mode='a' encoding='UTF-8'>\n",
      "path_to_random_frame:  /home/igor/Desktop/Victoria/tisl/tisl_localization_22s_copy-main/rscan_test/fcf66d8a-622d-291c-8429-0e1109c6bb26/frame-000187.color.jpg\n",
      "Saved frame_position_numpy to embedding_file:  <_io.TextIOWrapper name='/home/igor/Desktop/Victoria/tisl/tisl_localization_22s_copy-main/rscan_test/fcf66d8a-622d-291c-8429-0e1109c6bb26.txt' mode='a' encoding='UTF-8'>\n",
      "===> Loading data\n",
      "Input image shape: torch.Size([1, 3, 540, 960])\n",
      "===> Building model\n"
     ]
    },
    {
     "name": "stderr",
     "output_type": "stream",
     "text": [
      "/home/igor/anaconda3/lib/python3.9/site-packages/torchvision/models/_utils.py:208: UserWarning: The parameter 'pretrained' is deprecated since 0.13 and will be removed in 0.15, please use 'weights' instead.\n",
      "  warnings.warn(\n",
      "/home/igor/anaconda3/lib/python3.9/site-packages/torchvision/models/_utils.py:223: UserWarning: Arguments other than a weight enum or `None` for 'weights' are deprecated since 0.13 and will be removed in 0.15. The current behavior is equivalent to passing `weights=VGG16_Weights.IMAGENET1K_V1`. You can also use `weights=VGG16_Weights.DEFAULT` to get the most up-to-date weights.\n",
      "  warnings.warn(msg)\n"
     ]
    },
    {
     "name": "stdout",
     "output_type": "stream",
     "text": [
      "NetVLAD setting:\n",
      "num_clusters: 64 dim: 512 vladv2: False\n",
      "=> loading checkpoint 'vgg16_netvlad_checkpoint/checkpoints/checkpoint.pth.tar'\n",
      "=> loaded checkpoint 'vgg16_netvlad_checkpoint/checkpoints/checkpoint.pth.tar' (epoch 25)\n",
      "===> Running evaluation step\n",
      "VLAD encoding: tensor([[-0.0018,  0.0006, -0.0014,  ...,  0.0025,  0.0133, -0.0056]])\n",
      "VLAD encoding shape: torch.Size([1, 32768])\n",
      "Saved frame_vlad_embedding_pca to embedding_file:  <_io.TextIOWrapper name='/home/igor/Desktop/Victoria/tisl/tisl_localization_22s_copy-main/rscan_test/fcf66d8a-622d-291c-8429-0e1109c6bb26.txt' mode='a' encoding='UTF-8'>\n",
      "path_to_random_frame:  /home/igor/Desktop/Victoria/tisl/tisl_localization_22s_copy-main/rscan_test/fcf66d8a-622d-291c-8429-0e1109c6bb26/frame-000196.color.jpg\n",
      "Saved frame_position_numpy to embedding_file:  <_io.TextIOWrapper name='/home/igor/Desktop/Victoria/tisl/tisl_localization_22s_copy-main/rscan_test/fcf66d8a-622d-291c-8429-0e1109c6bb26.txt' mode='a' encoding='UTF-8'>\n",
      "===> Loading data\n",
      "Input image shape: torch.Size([1, 3, 540, 960])\n",
      "===> Building model\n"
     ]
    },
    {
     "name": "stderr",
     "output_type": "stream",
     "text": [
      "/home/igor/anaconda3/lib/python3.9/site-packages/torchvision/models/_utils.py:208: UserWarning: The parameter 'pretrained' is deprecated since 0.13 and will be removed in 0.15, please use 'weights' instead.\n",
      "  warnings.warn(\n",
      "/home/igor/anaconda3/lib/python3.9/site-packages/torchvision/models/_utils.py:223: UserWarning: Arguments other than a weight enum or `None` for 'weights' are deprecated since 0.13 and will be removed in 0.15. The current behavior is equivalent to passing `weights=VGG16_Weights.IMAGENET1K_V1`. You can also use `weights=VGG16_Weights.DEFAULT` to get the most up-to-date weights.\n",
      "  warnings.warn(msg)\n"
     ]
    },
    {
     "name": "stdout",
     "output_type": "stream",
     "text": [
      "NetVLAD setting:\n",
      "num_clusters: 64 dim: 512 vladv2: False\n",
      "=> loading checkpoint 'vgg16_netvlad_checkpoint/checkpoints/checkpoint.pth.tar'\n",
      "=> loaded checkpoint 'vgg16_netvlad_checkpoint/checkpoints/checkpoint.pth.tar' (epoch 25)\n",
      "===> Running evaluation step\n",
      "VLAD encoding: tensor([[ 0.0112,  0.0027,  0.0029,  ...,  0.0099,  0.0057, -0.0064]])\n",
      "VLAD encoding shape: torch.Size([1, 32768])\n",
      "Saved frame_vlad_embedding_pca to embedding_file:  <_io.TextIOWrapper name='/home/igor/Desktop/Victoria/tisl/tisl_localization_22s_copy-main/rscan_test/fcf66d8a-622d-291c-8429-0e1109c6bb26.txt' mode='a' encoding='UTF-8'>\n",
      "path_to_random_frame:  /home/igor/Desktop/Victoria/tisl/tisl_localization_22s_copy-main/rscan_test/fcf66d8a-622d-291c-8429-0e1109c6bb26/frame-000206.color.jpg\n",
      "Saved frame_position_numpy to embedding_file:  <_io.TextIOWrapper name='/home/igor/Desktop/Victoria/tisl/tisl_localization_22s_copy-main/rscan_test/fcf66d8a-622d-291c-8429-0e1109c6bb26.txt' mode='a' encoding='UTF-8'>\n",
      "===> Loading data\n",
      "Input image shape: torch.Size([1, 3, 540, 960])\n",
      "===> Building model\n"
     ]
    },
    {
     "name": "stderr",
     "output_type": "stream",
     "text": [
      "/home/igor/anaconda3/lib/python3.9/site-packages/torchvision/models/_utils.py:208: UserWarning: The parameter 'pretrained' is deprecated since 0.13 and will be removed in 0.15, please use 'weights' instead.\n",
      "  warnings.warn(\n",
      "/home/igor/anaconda3/lib/python3.9/site-packages/torchvision/models/_utils.py:223: UserWarning: Arguments other than a weight enum or `None` for 'weights' are deprecated since 0.13 and will be removed in 0.15. The current behavior is equivalent to passing `weights=VGG16_Weights.IMAGENET1K_V1`. You can also use `weights=VGG16_Weights.DEFAULT` to get the most up-to-date weights.\n",
      "  warnings.warn(msg)\n"
     ]
    },
    {
     "name": "stdout",
     "output_type": "stream",
     "text": [
      "NetVLAD setting:\n",
      "num_clusters: 64 dim: 512 vladv2: False\n",
      "=> loading checkpoint 'vgg16_netvlad_checkpoint/checkpoints/checkpoint.pth.tar'\n",
      "=> loaded checkpoint 'vgg16_netvlad_checkpoint/checkpoints/checkpoint.pth.tar' (epoch 25)\n",
      "===> Running evaluation step\n",
      "VLAD encoding: tensor([[-0.0050, -0.0001,  0.0006,  ...,  0.0168,  0.0067, -0.0025]])\n",
      "VLAD encoding shape: torch.Size([1, 32768])\n",
      "Saved frame_vlad_embedding_pca to embedding_file:  <_io.TextIOWrapper name='/home/igor/Desktop/Victoria/tisl/tisl_localization_22s_copy-main/rscan_test/fcf66d8a-622d-291c-8429-0e1109c6bb26.txt' mode='a' encoding='UTF-8'>\n",
      "path_to_random_frame:  /home/igor/Desktop/Victoria/tisl/tisl_localization_22s_copy-main/rscan_test/fcf66d8a-622d-291c-8429-0e1109c6bb26/frame-000207.color.jpg\n",
      "Saved frame_position_numpy to embedding_file:  <_io.TextIOWrapper name='/home/igor/Desktop/Victoria/tisl/tisl_localization_22s_copy-main/rscan_test/fcf66d8a-622d-291c-8429-0e1109c6bb26.txt' mode='a' encoding='UTF-8'>\n",
      "===> Loading data\n",
      "Input image shape: torch.Size([1, 3, 540, 960])\n",
      "===> Building model\n"
     ]
    },
    {
     "name": "stderr",
     "output_type": "stream",
     "text": [
      "/home/igor/anaconda3/lib/python3.9/site-packages/torchvision/models/_utils.py:208: UserWarning: The parameter 'pretrained' is deprecated since 0.13 and will be removed in 0.15, please use 'weights' instead.\n",
      "  warnings.warn(\n",
      "/home/igor/anaconda3/lib/python3.9/site-packages/torchvision/models/_utils.py:223: UserWarning: Arguments other than a weight enum or `None` for 'weights' are deprecated since 0.13 and will be removed in 0.15. The current behavior is equivalent to passing `weights=VGG16_Weights.IMAGENET1K_V1`. You can also use `weights=VGG16_Weights.DEFAULT` to get the most up-to-date weights.\n",
      "  warnings.warn(msg)\n"
     ]
    },
    {
     "name": "stdout",
     "output_type": "stream",
     "text": [
      "NetVLAD setting:\n",
      "num_clusters: 64 dim: 512 vladv2: False\n",
      "=> loading checkpoint 'vgg16_netvlad_checkpoint/checkpoints/checkpoint.pth.tar'\n",
      "=> loaded checkpoint 'vgg16_netvlad_checkpoint/checkpoints/checkpoint.pth.tar' (epoch 25)\n",
      "===> Running evaluation step\n",
      "VLAD encoding: tensor([[ 0.0019, -0.0105,  0.0045,  ..., -0.0021,  0.0031, -0.0015]])\n",
      "VLAD encoding shape: torch.Size([1, 32768])\n",
      "Saved frame_vlad_embedding_pca to embedding_file:  <_io.TextIOWrapper name='/home/igor/Desktop/Victoria/tisl/tisl_localization_22s_copy-main/rscan_test/fcf66d8a-622d-291c-8429-0e1109c6bb26.txt' mode='a' encoding='UTF-8'>\n",
      "path_to_random_frame:  /home/igor/Desktop/Victoria/tisl/tisl_localization_22s_copy-main/rscan_test/fcf66d8a-622d-291c-8429-0e1109c6bb26/frame-000208.color.jpg\n",
      "Saved frame_position_numpy to embedding_file:  <_io.TextIOWrapper name='/home/igor/Desktop/Victoria/tisl/tisl_localization_22s_copy-main/rscan_test/fcf66d8a-622d-291c-8429-0e1109c6bb26.txt' mode='a' encoding='UTF-8'>\n",
      "===> Loading data\n",
      "Input image shape: torch.Size([1, 3, 540, 960])\n",
      "===> Building model\n"
     ]
    },
    {
     "name": "stderr",
     "output_type": "stream",
     "text": [
      "/home/igor/anaconda3/lib/python3.9/site-packages/torchvision/models/_utils.py:208: UserWarning: The parameter 'pretrained' is deprecated since 0.13 and will be removed in 0.15, please use 'weights' instead.\n",
      "  warnings.warn(\n",
      "/home/igor/anaconda3/lib/python3.9/site-packages/torchvision/models/_utils.py:223: UserWarning: Arguments other than a weight enum or `None` for 'weights' are deprecated since 0.13 and will be removed in 0.15. The current behavior is equivalent to passing `weights=VGG16_Weights.IMAGENET1K_V1`. You can also use `weights=VGG16_Weights.DEFAULT` to get the most up-to-date weights.\n",
      "  warnings.warn(msg)\n"
     ]
    },
    {
     "name": "stdout",
     "output_type": "stream",
     "text": [
      "NetVLAD setting:\n",
      "num_clusters: 64 dim: 512 vladv2: False\n",
      "=> loading checkpoint 'vgg16_netvlad_checkpoint/checkpoints/checkpoint.pth.tar'\n",
      "=> loaded checkpoint 'vgg16_netvlad_checkpoint/checkpoints/checkpoint.pth.tar' (epoch 25)\n",
      "===> Running evaluation step\n",
      "VLAD encoding: tensor([[-0.0006, -0.0116,  0.0045,  ...,  0.0067,  0.0090,  0.0034]])\n",
      "VLAD encoding shape: torch.Size([1, 32768])\n",
      "Saved frame_vlad_embedding_pca to embedding_file:  <_io.TextIOWrapper name='/home/igor/Desktop/Victoria/tisl/tisl_localization_22s_copy-main/rscan_test/fcf66d8a-622d-291c-8429-0e1109c6bb26.txt' mode='a' encoding='UTF-8'>\n",
      "path_to_random_frame:  /home/igor/Desktop/Victoria/tisl/tisl_localization_22s_copy-main/rscan_test/fcf66d8a-622d-291c-8429-0e1109c6bb26/frame-000211.color.jpg\n",
      "Saved frame_position_numpy to embedding_file:  <_io.TextIOWrapper name='/home/igor/Desktop/Victoria/tisl/tisl_localization_22s_copy-main/rscan_test/fcf66d8a-622d-291c-8429-0e1109c6bb26.txt' mode='a' encoding='UTF-8'>\n",
      "===> Loading data\n",
      "Input image shape: torch.Size([1, 3, 540, 960])\n",
      "===> Building model\n"
     ]
    },
    {
     "name": "stderr",
     "output_type": "stream",
     "text": [
      "/home/igor/anaconda3/lib/python3.9/site-packages/torchvision/models/_utils.py:208: UserWarning: The parameter 'pretrained' is deprecated since 0.13 and will be removed in 0.15, please use 'weights' instead.\n",
      "  warnings.warn(\n",
      "/home/igor/anaconda3/lib/python3.9/site-packages/torchvision/models/_utils.py:223: UserWarning: Arguments other than a weight enum or `None` for 'weights' are deprecated since 0.13 and will be removed in 0.15. The current behavior is equivalent to passing `weights=VGG16_Weights.IMAGENET1K_V1`. You can also use `weights=VGG16_Weights.DEFAULT` to get the most up-to-date weights.\n",
      "  warnings.warn(msg)\n"
     ]
    },
    {
     "name": "stdout",
     "output_type": "stream",
     "text": [
      "NetVLAD setting:\n",
      "num_clusters: 64 dim: 512 vladv2: False\n",
      "=> loading checkpoint 'vgg16_netvlad_checkpoint/checkpoints/checkpoint.pth.tar'\n",
      "=> loaded checkpoint 'vgg16_netvlad_checkpoint/checkpoints/checkpoint.pth.tar' (epoch 25)\n",
      "===> Running evaluation step\n",
      "VLAD encoding: tensor([[ 0.0011,  0.0043, -0.0016,  ...,  0.0043,  0.0049,  0.0002]])\n",
      "VLAD encoding shape: torch.Size([1, 32768])\n",
      "Saved frame_vlad_embedding_pca to embedding_file:  <_io.TextIOWrapper name='/home/igor/Desktop/Victoria/tisl/tisl_localization_22s_copy-main/rscan_test/fcf66d8a-622d-291c-8429-0e1109c6bb26.txt' mode='a' encoding='UTF-8'>\n",
      "path_to_random_frame:  /home/igor/Desktop/Victoria/tisl/tisl_localization_22s_copy-main/rscan_test/fcf66d8a-622d-291c-8429-0e1109c6bb26/frame-000216.color.jpg\n",
      "Saved frame_position_numpy to embedding_file:  <_io.TextIOWrapper name='/home/igor/Desktop/Victoria/tisl/tisl_localization_22s_copy-main/rscan_test/fcf66d8a-622d-291c-8429-0e1109c6bb26.txt' mode='a' encoding='UTF-8'>\n",
      "===> Loading data\n",
      "Input image shape: torch.Size([1, 3, 540, 960])\n",
      "===> Building model\n"
     ]
    },
    {
     "name": "stderr",
     "output_type": "stream",
     "text": [
      "/home/igor/anaconda3/lib/python3.9/site-packages/torchvision/models/_utils.py:208: UserWarning: The parameter 'pretrained' is deprecated since 0.13 and will be removed in 0.15, please use 'weights' instead.\n",
      "  warnings.warn(\n",
      "/home/igor/anaconda3/lib/python3.9/site-packages/torchvision/models/_utils.py:223: UserWarning: Arguments other than a weight enum or `None` for 'weights' are deprecated since 0.13 and will be removed in 0.15. The current behavior is equivalent to passing `weights=VGG16_Weights.IMAGENET1K_V1`. You can also use `weights=VGG16_Weights.DEFAULT` to get the most up-to-date weights.\n",
      "  warnings.warn(msg)\n"
     ]
    },
    {
     "name": "stdout",
     "output_type": "stream",
     "text": [
      "NetVLAD setting:\n",
      "num_clusters: 64 dim: 512 vladv2: False\n",
      "=> loading checkpoint 'vgg16_netvlad_checkpoint/checkpoints/checkpoint.pth.tar'\n",
      "=> loaded checkpoint 'vgg16_netvlad_checkpoint/checkpoints/checkpoint.pth.tar' (epoch 25)\n",
      "===> Running evaluation step\n",
      "VLAD encoding: tensor([[ 0.0063, -0.0056, -0.0010,  ...,  0.0084,  0.0078, -0.0005]])\n",
      "VLAD encoding shape: torch.Size([1, 32768])\n",
      "Saved frame_vlad_embedding_pca to embedding_file:  <_io.TextIOWrapper name='/home/igor/Desktop/Victoria/tisl/tisl_localization_22s_copy-main/rscan_test/fcf66d8a-622d-291c-8429-0e1109c6bb26.txt' mode='a' encoding='UTF-8'>\n",
      "path_to_random_frame:  /home/igor/Desktop/Victoria/tisl/tisl_localization_22s_copy-main/rscan_test/fcf66d8a-622d-291c-8429-0e1109c6bb26/frame-000217.color.jpg\n",
      "Saved frame_position_numpy to embedding_file:  <_io.TextIOWrapper name='/home/igor/Desktop/Victoria/tisl/tisl_localization_22s_copy-main/rscan_test/fcf66d8a-622d-291c-8429-0e1109c6bb26.txt' mode='a' encoding='UTF-8'>\n",
      "===> Loading data\n",
      "Input image shape: torch.Size([1, 3, 540, 960])\n",
      "===> Building model\n"
     ]
    },
    {
     "name": "stderr",
     "output_type": "stream",
     "text": [
      "/home/igor/anaconda3/lib/python3.9/site-packages/torchvision/models/_utils.py:208: UserWarning: The parameter 'pretrained' is deprecated since 0.13 and will be removed in 0.15, please use 'weights' instead.\n",
      "  warnings.warn(\n",
      "/home/igor/anaconda3/lib/python3.9/site-packages/torchvision/models/_utils.py:223: UserWarning: Arguments other than a weight enum or `None` for 'weights' are deprecated since 0.13 and will be removed in 0.15. The current behavior is equivalent to passing `weights=VGG16_Weights.IMAGENET1K_V1`. You can also use `weights=VGG16_Weights.DEFAULT` to get the most up-to-date weights.\n",
      "  warnings.warn(msg)\n"
     ]
    },
    {
     "name": "stdout",
     "output_type": "stream",
     "text": [
      "NetVLAD setting:\n",
      "num_clusters: 64 dim: 512 vladv2: False\n",
      "=> loading checkpoint 'vgg16_netvlad_checkpoint/checkpoints/checkpoint.pth.tar'\n",
      "=> loaded checkpoint 'vgg16_netvlad_checkpoint/checkpoints/checkpoint.pth.tar' (epoch 25)\n",
      "===> Running evaluation step\n",
      "VLAD encoding: tensor([[ 0.0049, -0.0081, -0.0011,  ...,  0.0064,  0.0059,  0.0017]])\n",
      "VLAD encoding shape: torch.Size([1, 32768])\n",
      "Saved frame_vlad_embedding_pca to embedding_file:  <_io.TextIOWrapper name='/home/igor/Desktop/Victoria/tisl/tisl_localization_22s_copy-main/rscan_test/fcf66d8a-622d-291c-8429-0e1109c6bb26.txt' mode='a' encoding='UTF-8'>\n",
      "path_to_random_frame:  /home/igor/Desktop/Victoria/tisl/tisl_localization_22s_copy-main/rscan_test/fcf66d8a-622d-291c-8429-0e1109c6bb26/frame-000218.color.jpg\n",
      "Saved frame_position_numpy to embedding_file:  <_io.TextIOWrapper name='/home/igor/Desktop/Victoria/tisl/tisl_localization_22s_copy-main/rscan_test/fcf66d8a-622d-291c-8429-0e1109c6bb26.txt' mode='a' encoding='UTF-8'>\n",
      "===> Loading data\n",
      "Input image shape: torch.Size([1, 3, 540, 960])\n",
      "===> Building model\n"
     ]
    },
    {
     "name": "stderr",
     "output_type": "stream",
     "text": [
      "/home/igor/anaconda3/lib/python3.9/site-packages/torchvision/models/_utils.py:208: UserWarning: The parameter 'pretrained' is deprecated since 0.13 and will be removed in 0.15, please use 'weights' instead.\n",
      "  warnings.warn(\n",
      "/home/igor/anaconda3/lib/python3.9/site-packages/torchvision/models/_utils.py:223: UserWarning: Arguments other than a weight enum or `None` for 'weights' are deprecated since 0.13 and will be removed in 0.15. The current behavior is equivalent to passing `weights=VGG16_Weights.IMAGENET1K_V1`. You can also use `weights=VGG16_Weights.DEFAULT` to get the most up-to-date weights.\n",
      "  warnings.warn(msg)\n"
     ]
    },
    {
     "name": "stdout",
     "output_type": "stream",
     "text": [
      "NetVLAD setting:\n",
      "num_clusters: 64 dim: 512 vladv2: False\n",
      "=> loading checkpoint 'vgg16_netvlad_checkpoint/checkpoints/checkpoint.pth.tar'\n",
      "=> loaded checkpoint 'vgg16_netvlad_checkpoint/checkpoints/checkpoint.pth.tar' (epoch 25)\n",
      "===> Running evaluation step\n",
      "VLAD encoding: tensor([[ 0.0054, -0.0020, -0.0018,  ...,  0.0028,  0.0061,  0.0019]])\n",
      "VLAD encoding shape: torch.Size([1, 32768])\n",
      "Saved frame_vlad_embedding_pca to embedding_file:  <_io.TextIOWrapper name='/home/igor/Desktop/Victoria/tisl/tisl_localization_22s_copy-main/rscan_test/fcf66d8a-622d-291c-8429-0e1109c6bb26.txt' mode='a' encoding='UTF-8'>\n",
      "processing 0/8\n"
     ]
    },
    {
     "ename": "ValueError",
     "evalue": "Sample larger than population or is negative",
     "output_type": "error",
     "traceback": [
      "\u001b[0;31m---------------------------------------------------------------------------\u001b[0m",
      "\u001b[0;31mValueError\u001b[0m                                Traceback (most recent call last)",
      "Input \u001b[0;32mIn [9]\u001b[0m, in \u001b[0;36m<cell line: 2>\u001b[0;34m()\u001b[0m\n\u001b[1;32m      1\u001b[0m rscan_path \u001b[38;5;241m=\u001b[39m \u001b[38;5;124m'\u001b[39m\u001b[38;5;124m/home/igor/Desktop/Victoria/tisl/tisl_localization_22s_copy-main/rscan_test\u001b[39m\u001b[38;5;124m'\u001b[39m\n\u001b[0;32m----> 2\u001b[0m pathes_to_random_frames \u001b[38;5;241m=\u001b[39m \u001b[43mwrite_into_txt_file_all_files\u001b[49m\u001b[43m(\u001b[49m\u001b[43mrscan_path\u001b[49m\u001b[43m)\u001b[49m\n",
      "Input \u001b[0;32mIn [8]\u001b[0m, in \u001b[0;36mwrite_into_txt_file_all_files\u001b[0;34m(path_to_directory)\u001b[0m\n\u001b[1;32m      7\u001b[0m \u001b[38;5;28mprint\u001b[39m(\u001b[38;5;124mf\u001b[39m\u001b[38;5;124m'\u001b[39m\u001b[38;5;124mprocessing \u001b[39m\u001b[38;5;132;01m{\u001b[39;00mcount\u001b[38;5;132;01m}\u001b[39;00m\u001b[38;5;124m/\u001b[39m\u001b[38;5;132;01m{\u001b[39;00m\u001b[38;5;28mlen\u001b[39m(rscan_subdirectories_list)\u001b[38;5;132;01m}\u001b[39;00m\u001b[38;5;124m'\u001b[39m)\n\u001b[1;32m      8\u001b[0m image_subdirectory \u001b[38;5;241m=\u001b[39m path_to_directory \u001b[38;5;241m+\u001b[39m \u001b[38;5;124m\"\u001b[39m\u001b[38;5;124m/\u001b[39m\u001b[38;5;124m\"\u001b[39m \u001b[38;5;241m+\u001b[39m rscan_subdirectory\n\u001b[0;32m----> 9\u001b[0m pathes_to_random_frames \u001b[38;5;241m=\u001b[39m \u001b[43mget_pathes_to_random_frames\u001b[49m\u001b[43m(\u001b[49m\u001b[43mimage_subdirectory\u001b[49m\u001b[43m)\u001b[49m\n\u001b[1;32m     10\u001b[0m pathes_to_random_frames\u001b[38;5;241m.\u001b[39msort()\n\u001b[1;32m     11\u001b[0m \u001b[38;5;28;01mfor\u001b[39;00m path_to_random_frame \u001b[38;5;129;01min\u001b[39;00m pathes_to_random_frames:\n",
      "Input \u001b[0;32mIn [6]\u001b[0m, in \u001b[0;36mget_pathes_to_random_frames\u001b[0;34m(image_directory)\u001b[0m\n\u001b[1;32m      8\u001b[0m             path_to_frames_list\u001b[38;5;241m.\u001b[39mappend(path_to_the_frame)\n\u001b[1;32m      9\u001b[0m number_of_random_frames \u001b[38;5;241m=\u001b[39m \u001b[38;5;241m50\u001b[39m\n\u001b[0;32m---> 10\u001b[0m pathes_to_random_frames \u001b[38;5;241m=\u001b[39m \u001b[43mrandom\u001b[49m\u001b[38;5;241;43m.\u001b[39;49m\u001b[43msample\u001b[49m\u001b[43m(\u001b[49m\u001b[43mpath_to_frames_list\u001b[49m\u001b[43m,\u001b[49m\u001b[43m \u001b[49m\u001b[43mnumber_of_random_frames\u001b[49m\u001b[43m)\u001b[49m\n\u001b[1;32m     11\u001b[0m \u001b[38;5;28;01mreturn\u001b[39;00m pathes_to_random_frames\n",
      "File \u001b[0;32m~/anaconda3/lib/python3.9/random.py:449\u001b[0m, in \u001b[0;36mRandom.sample\u001b[0;34m(self, population, k, counts)\u001b[0m\n\u001b[1;32m    447\u001b[0m randbelow \u001b[38;5;241m=\u001b[39m \u001b[38;5;28mself\u001b[39m\u001b[38;5;241m.\u001b[39m_randbelow\n\u001b[1;32m    448\u001b[0m \u001b[38;5;28;01mif\u001b[39;00m \u001b[38;5;129;01mnot\u001b[39;00m \u001b[38;5;241m0\u001b[39m \u001b[38;5;241m<\u001b[39m\u001b[38;5;241m=\u001b[39m k \u001b[38;5;241m<\u001b[39m\u001b[38;5;241m=\u001b[39m n:\n\u001b[0;32m--> 449\u001b[0m     \u001b[38;5;28;01mraise\u001b[39;00m \u001b[38;5;167;01mValueError\u001b[39;00m(\u001b[38;5;124m\"\u001b[39m\u001b[38;5;124mSample larger than population or is negative\u001b[39m\u001b[38;5;124m\"\u001b[39m)\n\u001b[1;32m    450\u001b[0m result \u001b[38;5;241m=\u001b[39m [\u001b[38;5;28;01mNone\u001b[39;00m] \u001b[38;5;241m*\u001b[39m k\n\u001b[1;32m    451\u001b[0m setsize \u001b[38;5;241m=\u001b[39m \u001b[38;5;241m21\u001b[39m        \u001b[38;5;66;03m# size of a small set minus size of an empty list\u001b[39;00m\n",
      "\u001b[0;31mValueError\u001b[0m: Sample larger than population or is negative"
     ]
    }
   ],
   "source": [
    "rscan_path = '/home/igor/Desktop/Victoria/tisl/tisl_localization_22s_copy-main/rscan_test'\n",
    "pathes_to_random_frames = write_into_txt_file_all_files(rscan_path)"
   ]
  },
  {
   "cell_type": "code",
   "execution_count": 10,
   "id": "11177546",
   "metadata": {},
   "outputs": [],
   "source": [
    "pca_reload = pk.load(open(\"pca2.pkl\",'rb'))"
   ]
  },
  {
   "cell_type": "code",
   "execution_count": null,
   "id": "8eb1dde2",
   "metadata": {},
   "outputs": [],
   "source": []
  },
  {
   "cell_type": "code",
   "execution_count": 11,
   "id": "22b798e7",
   "metadata": {},
   "outputs": [
    {
     "ename": "NameError",
     "evalue": "name 'pathes_to_random_frames' is not defined",
     "output_type": "error",
     "traceback": [
      "\u001b[0;31m---------------------------------------------------------------------------\u001b[0m",
      "\u001b[0;31mNameError\u001b[0m                                 Traceback (most recent call last)",
      "Input \u001b[0;32mIn [11]\u001b[0m, in \u001b[0;36m<cell line: 1>\u001b[0;34m()\u001b[0m\n\u001b[0;32m----> 1\u001b[0m test_dir_1 \u001b[38;5;241m=\u001b[39m \u001b[43mpathes_to_random_frames\u001b[49m[\u001b[38;5;241m0\u001b[39m]\n\u001b[1;32m      2\u001b[0m test_dir_1\n",
      "\u001b[0;31mNameError\u001b[0m: name 'pathes_to_random_frames' is not defined"
     ]
    }
   ],
   "source": [
    "test_dir_1 = pathes_to_random_frames[0]\n",
    "test_dir_1"
   ]
  },
  {
   "cell_type": "code",
   "execution_count": 15,
   "id": "4ead2393",
   "metadata": {
    "scrolled": true
   },
   "outputs": [
    {
     "ename": "NameError",
     "evalue": "name 'pathes_to_random_frames' is not defined",
     "output_type": "error",
     "traceback": [
      "\u001b[0;31m---------------------------------------------------------------------------\u001b[0m",
      "\u001b[0;31mNameError\u001b[0m                                 Traceback (most recent call last)",
      "Input \u001b[0;32mIn [15]\u001b[0m, in \u001b[0;36m<cell line: 1>\u001b[0;34m()\u001b[0m\n\u001b[0;32m----> 1\u001b[0m test_dir_1 \u001b[38;5;241m=\u001b[39m \u001b[43mpathes_to_random_frames\u001b[49m[\u001b[38;5;241m0\u001b[39m]\n\u001b[1;32m      2\u001b[0m test_random_image_1 \u001b[38;5;241m=\u001b[39m Image\u001b[38;5;241m.\u001b[39mopen(test_dir_1)\n\u001b[1;32m      3\u001b[0m test_random_image_1_vlad \u001b[38;5;241m=\u001b[39m VLAD_for_single_image(test_random_image_1)\n",
      "\u001b[0;31mNameError\u001b[0m: name 'pathes_to_random_frames' is not defined"
     ]
    }
   ],
   "source": [
    "test_dir_1 = pathes_to_random_frames[0]\n",
    "test_random_image_1 = Image.open(test_dir_1)\n",
    "test_random_image_1_vlad = VLAD_for_single_image(test_random_image_1)\n",
    "test_random_image_1_vlad_pca = pca_reload.transform(test_random_image_1_vlad)\n",
    "test_random_image_1_vlad_pca"
   ]
  },
  {
   "cell_type": "code",
   "execution_count": null,
   "id": "3453e794",
   "metadata": {},
   "outputs": [],
   "source": [
    "test_dir_1"
   ]
  },
  {
   "cell_type": "code",
   "execution_count": null,
   "id": "560d580f",
   "metadata": {},
   "outputs": [],
   "source": [
    "test_dir_2 = pathes_to_random_frames[1]\n",
    "test_random_image_2 = Image.open(test_dir_2)\n",
    "test_random_image_2_vlad = VLAD_for_single_image(test_random_image_2)\n",
    "test_random_image_2_vlad_pca = pca_reload.transform(test_random_image_2_vlad)\n",
    "test_random_image_2_vlad_pca"
   ]
  },
  {
   "cell_type": "code",
   "execution_count": null,
   "id": "71b0f57a",
   "metadata": {},
   "outputs": [],
   "source": [
    "test_dir_2"
   ]
  },
  {
   "cell_type": "code",
   "execution_count": null,
   "id": "0c2b9612",
   "metadata": {},
   "outputs": [],
   "source": [
    "test_dir_3 = pathes_to_random_frames[2]\n",
    "test_random_image_3 = Image.open(test_dir_3)\n",
    "test_random_image_3_vlad = VLAD_for_single_image(test_random_image_3)\n",
    "test_random_image_3_vlad_pca = pca_reload.transform(test_random_image_3_vlad)\n",
    "test_random_image_3_vlad_pca"
   ]
  },
  {
   "cell_type": "code",
   "execution_count": null,
   "id": "575f95f8",
   "metadata": {},
   "outputs": [],
   "source": [
    "test_dir_3"
   ]
  },
  {
   "cell_type": "code",
   "execution_count": null,
   "id": "91a1a052",
   "metadata": {},
   "outputs": [],
   "source": []
  },
  {
   "cell_type": "code",
   "execution_count": null,
   "id": "d9a5fbc5",
   "metadata": {},
   "outputs": [],
   "source": []
  },
  {
   "cell_type": "code",
   "execution_count": null,
   "id": "a32ca5b7",
   "metadata": {},
   "outputs": [],
   "source": []
  },
  {
   "cell_type": "code",
   "execution_count": null,
   "id": "e1aa6da2",
   "metadata": {},
   "outputs": [],
   "source": []
  },
  {
   "cell_type": "code",
   "execution_count": null,
   "id": "b953f785",
   "metadata": {},
   "outputs": [],
   "source": []
  },
  {
   "cell_type": "code",
   "execution_count": null,
   "id": "a8a6e3c0",
   "metadata": {},
   "outputs": [],
   "source": []
  }
 ],
 "metadata": {
  "celltoolbar": "无",
  "kernelspec": {
   "display_name": "Python 3 (ipykernel)",
   "language": "python",
   "name": "python3"
  },
  "language_info": {
   "codemirror_mode": {
    "name": "ipython",
    "version": 3
   },
   "file_extension": ".py",
   "mimetype": "text/x-python",
   "name": "python",
   "nbconvert_exporter": "python",
   "pygments_lexer": "ipython3",
   "version": "3.9.12"
  }
 },
 "nbformat": 4,
 "nbformat_minor": 5
}
